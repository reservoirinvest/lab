{
 "cells": [
  {
   "cell_type": "code",
   "execution_count": 88,
   "metadata": {},
   "outputs": [],
   "source": [
    "# Margin, lots and price extraction\n",
    "\n",
    "# STATUS: Incomplete\n",
    "\n",
    "import requests\n",
    "import datetime\n",
    "import pandas as pd\n",
    "\n",
    "#******         Paths and variables         ****\n",
    "#_______________________________________________\n",
    "\n",
    "datapath = r'./zdata/'\n",
    "\n",
    "#******     Streamline pickled option symbols     ****\n",
    "#_____________________________________________________\n",
    "\n",
    "df_ib_options = pd.read_pickle(datapath+'df_nse_options.pkl')\n",
    "\n",
    "# ***** Get list with Mlots + Margin% from 5paisa\n",
    "paisaurl = \"https://www.5paisa.com/5pit/spma.asp\"\n",
    "df_paisa = pd.read_html(paisaurl, header=0)[1].drop_duplicates(subset='Symbol')\n",
    "\n",
    "df_paisa1 = df_paisa[['Symbol', 'Mlot', 'TotMgn%']].sort_values('Symbol').reset_index(drop=True)\n",
    "\n",
    "# Rename Symbol and Margin fields\n",
    "df_paisa1 = df_paisa1.rename(columns={'Symbol': 'nseSymbol', 'TotMgn%': 'marginpct'})\n",
    "\n",
    "# Convert columns to numeric and make margin to pct\n",
    "df_paisa1 = df_paisa1.apply(pd.to_numeric, errors='ignore')\n",
    "df_paisa1.marginpct = df_paisa1.marginpct.div(100)\n",
    "\n",
    "# Dataframe lookup between nseSymbol and ibSymbol\n",
    "df_ib_nse = pd.concat([pd.read_pickle(datapath+'df_nse_eq_symbols.pkl'), \n",
    "            pd.read_pickle(datapath+'df_nse_idx_symbols.pkl')]).\\\n",
    "            reset_index(drop=True)[['ibSymbol','nseSymbol']]\n",
    "\n",
    "# Merge to get the ibSymbol\n",
    "df_paisa2 = df_paisa1.merge(df_ib_nse, on='nseSymbol')"
   ]
  },
  {
   "cell_type": "code",
   "execution_count": 91,
   "metadata": {},
   "outputs": [],
   "source": [
    "# Make a dataframe from unique df_options\n",
    "df_ib_options1 = pd.DataFrame(df_ib_options.nseSymbol.unique(), columns=['nseSymbol'])"
   ]
  },
  {
   "cell_type": "code",
   "execution_count": 94,
   "metadata": {},
   "outputs": [],
   "source": [
    "# Extend Mlot and marginpct to it\n",
    "df_ib_options2 = df_ib_options1.merge(df_paisa2, on='nseSymbol', how='left')"
   ]
  },
  {
   "cell_type": "code",
   "execution_count": 96,
   "metadata": {},
   "outputs": [
    {
     "data": {
      "text/html": [
       "<div>\n",
       "<style scoped>\n",
       "    .dataframe tbody tr th:only-of-type {\n",
       "        vertical-align: middle;\n",
       "    }\n",
       "\n",
       "    .dataframe tbody tr th {\n",
       "        vertical-align: top;\n",
       "    }\n",
       "\n",
       "    .dataframe thead th {\n",
       "        text-align: right;\n",
       "    }\n",
       "</style>\n",
       "<table border=\"1\" class=\"dataframe\">\n",
       "  <thead>\n",
       "    <tr style=\"text-align: right;\">\n",
       "      <th></th>\n",
       "      <th>nseSymbol</th>\n",
       "      <th>Mlot</th>\n",
       "      <th>marginpct</th>\n",
       "      <th>ibSymbol</th>\n",
       "    </tr>\n",
       "  </thead>\n",
       "  <tbody>\n",
       "    <tr>\n",
       "      <th>10</th>\n",
       "      <td>ARVIND</td>\n",
       "      <td>NaN</td>\n",
       "      <td>NaN</td>\n",
       "      <td>NaN</td>\n",
       "    </tr>\n",
       "  </tbody>\n",
       "</table>\n",
       "</div>"
      ],
      "text/plain": [
       "   nseSymbol  Mlot  marginpct ibSymbol\n",
       "10    ARVIND   NaN        NaN      NaN"
      ]
     },
     "execution_count": 96,
     "metadata": {},
     "output_type": "execute_result"
    }
   ],
   "source": [
    "df_ib_options2[df_ib_options2.ibSymbol.isnull()]"
   ]
  },
  {
   "cell_type": "code",
   "execution_count": null,
   "metadata": {},
   "outputs": [],
   "source": []
  }
 ],
 "metadata": {
  "kernelspec": {
   "display_name": "Python 3",
   "language": "python",
   "name": "python3"
  },
  "language_info": {
   "codemirror_mode": {
    "name": "ipython",
    "version": 3
   },
   "file_extension": ".py",
   "mimetype": "text/x-python",
   "name": "python",
   "nbconvert_exporter": "python",
   "pygments_lexer": "ipython3",
   "version": "3.6.6"
  }
 },
 "nbformat": 4,
 "nbformat_minor": 2
}
