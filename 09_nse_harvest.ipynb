{
 "cells": [
  {
   "cell_type": "markdown",
   "metadata": {},
   "source": [
    "# Logic\n",
    "\n",
    "## Inputs\n",
    "* Get positions with cost\n",
    "* Get openorders\n",
    "* Get current market price and last-day's low price\n",
    "\n",
    "## Processing\n",
    "### Compute price to close\n",
    "* Get the DTE\n",
    "* Compute _price-to-close_ as minumum of *quadratic equation* and last-day's low\n",
    "* Quadratic equation is:\n",
    "$103.6008 - 3.63457*x + 0.03454677*x*x$\n",
    "\n",
    "### At the beginning of every trading day\n",
    "* For every symbol in position, estimate the _price-to-close_\n",
    "* Cancel all openorders\n",
    "* Create open orders with _price-to-close_\n",
    "\n",
    "### Logic to do the market is open\n",
    "* Save openorder contracts\n",
    "* Save filled contracts\n",
    "* Save openpositions"
   ]
  },
  {
   "cell_type": "code",
   "execution_count": 1,
   "metadata": {},
   "outputs": [],
   "source": [
    "# Harvesting program\n",
    "# STATUS: Completed\n",
    "# Runtime: 10 mins\n",
    "\n",
    "#***          Start ib_insync (run once)       *****\n",
    "#___________________________________________________\n",
    "\n",
    "from ib_insync import *\n",
    "util.startLoop()\n",
    "ib=IB().connect('127.0.0.1', 7496, clientId=9) # kavi TWS live\n",
    "# ib=IB().connect('127.0.0.1', 4001, clientId=9) # kavi IBG live"
   ]
  },
  {
   "cell_type": "code",
   "execution_count": 4,
   "metadata": {},
   "outputs": [
    {
     "name": "stderr",
     "output_type": "stream",
     "text": [
      "WARNING:ib_insync.client:Started to throttle requests\n",
      "WARNING:ib_insync.client:Stopped to throttle requests\n"
     ]
    },
    {
     "name": "stdout",
     "output_type": "stream",
     "text": [
      "Wall time: 2.23 s\n"
     ]
    }
   ],
   "source": [
    "%%time\n",
    "import pandas as pd\n",
    "import numpy as np\n",
    "import datetime\n",
    "\n",
    "#******         Paths and variables         ****\n",
    "#_______________________________________________\n",
    "\n",
    "datapath = r'./zdata/'\n",
    "market = 'NSE'\n",
    "\n",
    "#......     Get the positions   .......\n",
    "p = ib.positions()\n",
    "\n",
    "df_positions = pd.DataFrame([(i.contract.conId, i.position, i.avgCost) for i in p], \n",
    "             columns=['conId', 'position', 'avgCost'])\n",
    "\n",
    "\n",
    "#.....     Get the contracts   .......\n",
    "contracts = [Contract(conId=i.contract.conId, exchange='NSE') for i in p]\n",
    "qual_contracts = ib.qualifyContracts(*contracts)\n",
    "\n",
    "# make dataframe of qualified contracts\n",
    "df_c = util.df([(c['Contract']) for c in util.tree(qual_contracts)])\n",
    "\n",
    "# to put contracts as a new column in the dataframe, capture it\n",
    "df_c1 = pd.DataFrame([c for c in qual_contracts])\n",
    "\n",
    "df_contracts = pd.concat([df_c, df_c1], axis=1)\n",
    "\n",
    "#.....   Get yesterday's ohlc   ........\n",
    "hist_data = [ib.reqHistoricalData(contract=c, endDateTime='', durationStr='1 D', \n",
    "                      barSizeSetting='1 day', whatToShow='BID', useRTH=True) \n",
    "for i in range(0, len(qual_contracts), 50)\n",
    "                    for c in qual_contracts[i:i+50]]"
   ]
  },
  {
   "cell_type": "code",
   "execution_count": 50,
   "metadata": {},
   "outputs": [
    {
     "ename": "SyntaxError",
     "evalue": "invalid syntax (<ipython-input-50-d3f48cf60662>, line 1)",
     "output_type": "error",
     "traceback": [
      "\u001b[1;36m  File \u001b[1;32m\"<ipython-input-50-d3f48cf60662>\"\u001b[1;36m, line \u001b[1;32m1\u001b[0m\n\u001b[1;33m    [x for x in hist_data if x != [] else 0]\u001b[0m\n\u001b[1;37m                                        ^\u001b[0m\n\u001b[1;31mSyntaxError\u001b[0m\u001b[1;31m:\u001b[0m invalid syntax\n"
     ]
    }
   ],
   "source": [
    "[x for x in hist_data if x != [] else 0]"
   ]
  },
  {
   "cell_type": "code",
   "execution_count": 56,
   "metadata": {},
   "outputs": [
    {
     "name": "stdout",
     "output_type": "stream",
     "text": [
      "2018-12-04 0.05 0.25 0.05 0.25 -1.0\n",
      "2018-12-04 0.1 0.15 0.1 0.1 -1.0\n",
      "2018-12-04 0.05 0.1 0.05 0.05 -1.0\n",
      "2018-12-04 0.3 2.2 0.3 1.6 -1.0\n",
      "2018-12-04 0.1 0.1 0.1 0.1 -1.0\n",
      "2018-12-04 0.1 0.1 0.1 0.1 -1.0\n",
      "2018-12-04 10.15 15.9 10.15 10.85 -1.0\n",
      "nan\n",
      "nan\n",
      "2018-12-04 0.3 0.45 0.3 0.35 -1.0\n",
      "nan\n",
      "2018-12-04 0.15 3.5 0.15 3.5 -1.0\n",
      "2018-12-04 0.05 0.45 0.05 0.15 -1.0\n",
      "2018-12-04 0.05 1.2 0.05 1.2 -1.0\n",
      "2018-12-04 0.05 0.4 0.05 0.2 -1.0\n",
      "2018-12-04 0.05 0.1 0.05 0.1 -1.0\n",
      "2018-12-04 0.05 1.5 0.05 1.25 -1.0\n",
      "2018-12-04 0.15 0.15 0.1 0.1 -1.0\n",
      "2018-12-04 0.2 0.9 0.2 0.25 -1.0\n",
      "2018-12-04 0.05 0.2 0.05 0.15 -1.0\n",
      "2018-12-04 0.15 0.2 0.15 0.2 -1.0\n",
      "2018-12-04 4.25 6.9 4.25 6.2 -1.0\n",
      "2018-12-04 2.75 5.8 2.75 5.5 -1.0\n",
      "2018-12-04 0.5 0.9 0.5 0.65 -1.0\n",
      "2018-12-04 0.2 0.3 0.2 0.2 -1.0\n",
      "2018-12-04 2.65 8.65 2.65 6.0 -1.0\n",
      "2018-12-04 0.2 0.6 0.2 0.5 -1.0\n",
      "2018-12-04 0.15 3.2 0.15 3.2 -1.0\n",
      "2018-12-04 0.15 0.3 0.15 0.15 -1.0\n",
      "2018-12-04 1.45 5.45 1.45 3.4 -1.0\n",
      "2018-12-04 0.2 0.5 0.2 0.35 -1.0\n",
      "2018-12-04 0.45 3.5 0.45 1.65 -1.0\n",
      "2018-12-04 0.15 0.35 0.15 0.25 -1.0\n",
      "2018-12-04 0.4 1.35 0.4 1.15 -1.0\n",
      "2018-12-04 0.25 0.45 0.25 0.4 -1.0\n",
      "2018-12-04 0.05 0.05 0.05 0.05 -1.0\n",
      "2018-12-04 5.55 7.3 5.55 6.3 -1.0\n",
      "2018-12-04 0.6 1.0 0.6 0.6 -1.0\n",
      "2018-12-04 0.1 0.15 0.1 0.15 -1.0\n",
      "2018-12-04 1.75 2.45 1.75 1.95 -1.0\n",
      "2018-12-04 1.25 4.0 1.25 3.0 -1.0\n",
      "2018-12-04 0.25 1.5 0.25 1.4 -1.0\n",
      "2018-12-04 0.25 1.0 0.25 1.0 -1.0\n",
      "2018-12-04 1.1 3.1 1.1 3.0 -1.0\n",
      "2018-12-04 1.25 1.7 1.25 1.5 -1.0\n",
      "2018-12-04 0.1 0.1 0.1 0.1 -1.0\n",
      "2018-12-04 0.1 0.25 0.1 0.25 -1.0\n",
      "2018-12-04 0.05 0.2 0.05 0.2 -1.0\n",
      "2018-12-04 0.05 0.05 0.05 0.05 -1.0\n",
      "2018-12-04 3.25 4.5 3.25 3.9 -1.0\n",
      "2018-12-04 0.15 0.8 0.15 0.5 -1.0\n",
      "2018-12-04 0.1 0.15 0.1 0.15 -1.0\n",
      "2018-12-04 0.1 0.15 0.1 0.15 -1.0\n",
      "2018-12-04 1.7 2.3 1.7 1.95 -1.0\n",
      "2018-12-04 0.05 0.2 0.05 0.2 -1.0\n",
      "2018-12-04 0.9 1.7 0.9 0.95 -1.0\n",
      "2018-12-04 0.75 3.9 0.75 2.25 -1.0\n",
      "2018-12-04 0.1 0.15 0.1 0.15 -1.0\n",
      "2018-12-04 0.75 2.75 0.75 1.8 -1.0\n",
      "2018-12-04 0.1 0.2 0.1 0.15 -1.0\n",
      "2018-12-04 1.05 3.05 0.65 1.25 -1.0\n",
      "2018-12-04 0.8 1.8 0.8 1.65 -1.0\n",
      "2018-12-04 0.45 1.45 0.45 1.45 -1.0\n",
      "2018-12-04 0.8 2.3 0.25 0.5 -1.0\n",
      "2018-12-04 0.3 0.45 0.3 0.45 -1.0\n",
      "2018-12-04 0.2 0.5 0.2 0.2 -1.0\n",
      "2018-12-04 0.1 0.6 0.1 0.55 -1.0\n",
      "2018-12-04 0.8 1.0 0.8 1.0 -1.0\n",
      "2018-12-04 0.25 1.0 0.25 0.55 -1.0\n",
      "2018-12-04 0.5 1.25 0.5 0.8 -1.0\n",
      "2018-12-04 0.1 0.1 0.1 0.1 -1.0\n",
      "2018-12-04 0.2 0.25 0.2 0.2 -1.0\n",
      "2018-12-04 0.4 2.2 0.4 2.15 -1.0\n",
      "2018-12-04 0.15 3.4 0.15 3.4 -1.0\n",
      "2018-12-04 0.15 0.2 0.15 0.2 -1.0\n",
      "2018-12-04 0.3 0.65 0.3 0.4 -1.0\n",
      "2018-12-04 8.1 13.8 7.3 13.7 -1.0\n",
      "2018-12-04 0.15 3.3 0.15 3.3 -1.0\n",
      "2018-12-04 1.05 1.15 1.05 1.15 -1.0\n",
      "2018-12-04 3.4 6.8 1.85 2.5 -1.0\n",
      "2018-12-04 0.25 0.4 0.25 0.35 -1.0\n",
      "2018-12-04 10.2 16.25 10.2 12.9 -1.0\n",
      "2018-12-04 1.7 1.7 1.7 1.7 -1.0\n",
      "2018-12-04 0.15 1.1 0.15 0.65 -1.0\n",
      "2018-12-04 0.2 0.7 0.2 0.2 -1.0\n",
      "2018-12-04 0.4 0.5 0.4 0.5 -1.0\n",
      "2018-12-04 0.3 0.6 0.3 0.6 -1.0\n",
      "2018-12-04 11.0 14.05 11.0 11.5 -1.0\n",
      "2018-12-04 3.75 4.4 3.75 4.4 -1.0\n",
      "2018-12-04 0.1 0.1 0.1 0.1 -1.0\n",
      "2018-12-04 6.0 9.2 6.0 7.55 -1.0\n",
      "2018-12-04 1.05 1.8 1.0 1.35 -1.0\n",
      "2018-12-04 2.5 4.0 2.5 4.0 -1.0\n",
      "2018-12-04 1.05 1.4 1.05 1.35 -1.0\n",
      "2018-12-04 0.15 0.15 0.1 0.1 -1.0\n",
      "2018-12-04 1.0 4.0 1.0 3.55 -1.0\n",
      "2018-12-04 0.05 0.05 0.05 0.05 -1.0\n",
      "2018-12-04 0.05 0.05 0.05 0.05 -1.0\n",
      "2018-12-04 0.3 0.85 0.3 0.8 -1.0\n",
      "2018-12-04 0.4 0.5 0.4 0.5 -1.0\n",
      "2018-12-04 0.2 0.35 0.2 0.3 -1.0\n",
      "2018-12-04 0.5 1.1 0.5 1.1 -1.0\n",
      "nan\n",
      "2018-12-04 0.5 3.3 0.5 1.55 -1.0\n",
      "2018-12-04 0.5 2.4 0.5 2.15 -1.0\n",
      "2018-12-04 0.4 0.75 0.35 0.7 -1.0\n",
      "2018-12-04 0.25 1.0 0.25 1.0 -1.0\n",
      "2018-12-04 1.05 3.15 1.05 3.15 -1.0\n",
      "2018-12-04 0.5 0.6 0.5 0.6 -1.0\n",
      "2018-12-04 0.05 0.15 0.05 0.15 -1.0\n",
      "2018-12-04 0.1 1.1 0.1 0.55 -1.0\n",
      "2018-12-04 0.8 2.4 0.8 2.4 -1.0\n",
      "2018-12-04 1.05 5.0 1.05 3.5 -1.0\n",
      "2018-12-04 14.5 18.35 7.9 10.15 -1.0\n",
      "2018-12-04 0.35 0.5 0.35 0.5 -1.0\n",
      "2018-12-04 0.45 0.6 0.45 0.6 -1.0\n",
      "2018-12-04 0.4 1.2 0.4 1.2 -1.0\n",
      "2018-12-04 0.15 0.15 0.15 0.15 -1.0\n",
      "2018-12-04 0.05 0.1 0.05 0.1 -1.0\n",
      "2018-12-04 8.1 9.5 8.1 9.5 -1.0\n",
      "2018-12-04 0.1 0.1 0.1 0.1 -1.0\n",
      "2018-12-04 0.05 0.05 0.05 0.05 -1.0\n",
      "2018-12-04 0.2 1.3 0.2 0.6 -1.0\n",
      "2018-12-04 0.4 0.85 0.4 0.85 -1.0\n",
      "2018-12-04 0.05 0.15 0.05 0.15 -1.0\n",
      "2018-12-04 0.1 0.15 0.1 0.1 -1.0\n",
      "2018-12-04 0.25 0.4 0.25 0.4 -1.0\n",
      "2018-12-04 6.9 10.8 6.9 9.0 -1.0\n",
      "2018-12-04 3.1 3.1 3.1 3.1 -1.0\n",
      "2018-12-04 1.2 1.8 1.1 1.4 -1.0\n",
      "2018-12-04 1.45 4.3 1.45 4.1 -1.0\n",
      "2018-12-04 6.0 14.0 6.0 12.0 -1.0\n",
      "2018-12-04 29.1 53.0 29.1 43.0 -1.0\n",
      "2018-12-04 0.2 1.05 0.2 1.05 -1.0\n",
      "2018-12-04 0.15 0.25 0.15 0.25 -1.0\n",
      "2018-12-04 2.0 3.2 1.35 2.2 -1.0\n",
      "2018-12-04 0.55 3.05 0.55 3.0 -1.0\n",
      "2018-12-04 3.85 15.05 3.85 13.0 -1.0\n",
      "2018-12-04 0.15 0.3 0.15 0.3 -1.0\n",
      "2018-12-04 0.1 0.25 0.1 0.25 -1.0\n",
      "2018-12-04 0.2 1.2 0.2 0.6 -1.0\n",
      "2018-12-04 0.1 0.15 0.1 0.15 -1.0\n",
      "2018-12-04 0.05 0.1 0.05 0.1 -1.0\n",
      "2018-12-04 2.15 5.3 2.15 5.1 -1.0\n",
      "2018-12-04 0.25 0.6 0.25 0.4 -1.0\n",
      "2018-12-04 0.1 0.5 0.1 0.25 -1.0\n",
      "2018-12-04 0.05 0.1 0.05 0.1 -1.0\n",
      "2018-12-04 0.3 0.5 0.3 0.5 -1.0\n",
      "nan\n",
      "2018-12-04 0.25 1.1 0.25 0.8 -1.0\n",
      "2018-12-04 0.15 0.15 0.15 0.15 -1.0\n",
      "2018-12-04 0.2 0.25 0.2 0.2 -1.0\n",
      "2018-12-04 10.0 12.2 9.55 9.85 -1.0\n",
      "2018-12-04 0.15 0.2 0.15 0.2 -1.0\n",
      "2018-12-04 0.05 0.1 0.05 0.1 -1.0\n",
      "2018-12-04 0.2 0.7 0.2 0.7 -1.0\n",
      "2018-12-04 0.4 1.15 0.4 0.65 -1.0\n",
      "2018-12-04 0.35 0.35 0.35 0.35 -1.0\n",
      "2018-12-04 0.25 0.5 0.25 0.45 -1.0\n",
      "2018-12-04 1.2 2.1 1.2 1.25 -1.0\n",
      "2018-12-04 0.1 0.2 0.1 0.2 -1.0\n",
      "2018-12-04 0.1 0.15 0.1 0.1 -1.0\n",
      "2018-12-04 0.1 0.1 0.1 0.1 -1.0\n",
      "2018-12-04 1.1 3.05 1.1 2.4 -1.0\n",
      "2018-12-04 0.35 1.1 0.35 1.1 -1.0\n",
      "2018-12-04 0.1 0.35 0.1 0.15 -1.0\n",
      "2018-12-04 0.1 0.1 0.1 0.1 -1.0\n",
      "2018-12-04 0.15 0.2 0.15 0.15 -1.0\n",
      "2018-12-04 0.5 1.4 0.5 1.0 -1.0\n",
      "2018-12-04 0.1 0.3 0.1 0.3 -1.0\n",
      "2018-12-04 0.25 0.35 0.25 0.3 -1.0\n",
      "2018-12-04 0.35 0.55 0.35 0.35 -1.0\n",
      "2018-12-04 0.6 1.5 0.55 1.05 -1.0\n",
      "2018-12-04 1.1 3.65 1.1 3.4 -1.0\n"
     ]
    }
   ],
   "source": [
    "for x in hist_data:\n",
    "    if x != []:\n",
    "        for h in x:\n",
    "            print(h.date, h.open, h.high, h.low, h.close, h.average)\n",
    "    else:\n",
    "        print(np.nan)"
   ]
  },
  {
   "cell_type": "code",
   "execution_count": 62,
   "metadata": {},
   "outputs": [
    {
     "ename": "SyntaxError",
     "evalue": "invalid syntax (<ipython-input-62-a102c1684bf7>, line 3)",
     "output_type": "error",
     "traceback": [
      "\u001b[1;36m  File \u001b[1;32m\"<ipython-input-62-a102c1684bf7>\"\u001b[1;36m, line \u001b[1;32m3\u001b[0m\n\u001b[1;33m    for h in x\u001b[0m\n\u001b[1;37m      ^\u001b[0m\n\u001b[1;31mSyntaxError\u001b[0m\u001b[1;31m:\u001b[0m invalid syntax\n"
     ]
    }
   ],
   "source": [
    "[((h.date, h.open, h.high, h.low, h.close, h.average) \n",
    " if x != [] \n",
    " for h in x \n",
    " else np.nan)\n",
    " for x in hist_data]\n"
   ]
  },
  {
   "cell_type": "code",
   "execution_count": 44,
   "metadata": {},
   "outputs": [],
   "source": [
    "df_hist = pd.DataFrame(pd.Series(hist_data),columns=['history'])"
   ]
  },
  {
   "cell_type": "code",
   "execution_count": 49,
   "metadata": {},
   "outputs": [
    {
     "name": "stdout",
     "output_type": "stream",
     "text": [
      "2018-12-04 0.05 0.25 0.05 0.25 -1.0\n",
      "2018-12-04 0.1 0.15 0.1 0.1 -1.0\n",
      "2018-12-04 0.05 0.1 0.05 0.05 -1.0\n",
      "2018-12-04 0.3 2.2 0.3 1.6 -1.0\n",
      "2018-12-04 0.1 0.1 0.1 0.1 -1.0\n",
      "2018-12-04 0.1 0.1 0.1 0.1 -1.0\n",
      "2018-12-04 10.15 15.9 10.15 10.85 -1.0\n"
     ]
    },
    {
     "ename": "IndexError",
     "evalue": "list index out of range",
     "output_type": "error",
     "traceback": [
      "\u001b[1;31m---------------------------------------------------------------------------\u001b[0m",
      "\u001b[1;31mIndexError\u001b[0m                                Traceback (most recent call last)",
      "\u001b[1;32m<ipython-input-49-b6d6e1775fd3>\u001b[0m in \u001b[0;36m<module>\u001b[1;34m\u001b[0m\n\u001b[1;32m----> 1\u001b[1;33m \u001b[1;33m[\u001b[0m\u001b[0mprint\u001b[0m\u001b[1;33m(\u001b[0m\u001b[0mh\u001b[0m\u001b[1;33m[\u001b[0m\u001b[1;36m0\u001b[0m\u001b[1;33m]\u001b[0m\u001b[1;33m.\u001b[0m\u001b[0mdate\u001b[0m\u001b[1;33m,\u001b[0m \u001b[0mh\u001b[0m\u001b[1;33m[\u001b[0m\u001b[1;36m0\u001b[0m\u001b[1;33m]\u001b[0m\u001b[1;33m.\u001b[0m\u001b[0mopen\u001b[0m\u001b[1;33m,\u001b[0m \u001b[0mh\u001b[0m\u001b[1;33m[\u001b[0m\u001b[1;36m0\u001b[0m\u001b[1;33m]\u001b[0m\u001b[1;33m.\u001b[0m\u001b[0mhigh\u001b[0m\u001b[1;33m,\u001b[0m \u001b[0mh\u001b[0m\u001b[1;33m[\u001b[0m\u001b[1;36m0\u001b[0m\u001b[1;33m]\u001b[0m\u001b[1;33m.\u001b[0m\u001b[0mlow\u001b[0m\u001b[1;33m,\u001b[0m \u001b[0mh\u001b[0m\u001b[1;33m[\u001b[0m\u001b[1;36m0\u001b[0m\u001b[1;33m]\u001b[0m\u001b[1;33m.\u001b[0m\u001b[0mclose\u001b[0m\u001b[1;33m,\u001b[0m \u001b[0mh\u001b[0m\u001b[1;33m[\u001b[0m\u001b[1;36m0\u001b[0m\u001b[1;33m]\u001b[0m\u001b[1;33m.\u001b[0m\u001b[0maverage\u001b[0m\u001b[1;33m)\u001b[0m \u001b[1;32mfor\u001b[0m \u001b[0mh\u001b[0m \u001b[1;32min\u001b[0m \u001b[0mdf_hist\u001b[0m\u001b[1;33m.\u001b[0m\u001b[0mhistory\u001b[0m\u001b[1;33m]\u001b[0m\u001b[1;33m\u001b[0m\u001b[0m\n\u001b[0m",
      "\u001b[1;32m<ipython-input-49-b6d6e1775fd3>\u001b[0m in \u001b[0;36m<listcomp>\u001b[1;34m(.0)\u001b[0m\n\u001b[1;32m----> 1\u001b[1;33m \u001b[1;33m[\u001b[0m\u001b[0mprint\u001b[0m\u001b[1;33m(\u001b[0m\u001b[0mh\u001b[0m\u001b[1;33m[\u001b[0m\u001b[1;36m0\u001b[0m\u001b[1;33m]\u001b[0m\u001b[1;33m.\u001b[0m\u001b[0mdate\u001b[0m\u001b[1;33m,\u001b[0m \u001b[0mh\u001b[0m\u001b[1;33m[\u001b[0m\u001b[1;36m0\u001b[0m\u001b[1;33m]\u001b[0m\u001b[1;33m.\u001b[0m\u001b[0mopen\u001b[0m\u001b[1;33m,\u001b[0m \u001b[0mh\u001b[0m\u001b[1;33m[\u001b[0m\u001b[1;36m0\u001b[0m\u001b[1;33m]\u001b[0m\u001b[1;33m.\u001b[0m\u001b[0mhigh\u001b[0m\u001b[1;33m,\u001b[0m \u001b[0mh\u001b[0m\u001b[1;33m[\u001b[0m\u001b[1;36m0\u001b[0m\u001b[1;33m]\u001b[0m\u001b[1;33m.\u001b[0m\u001b[0mlow\u001b[0m\u001b[1;33m,\u001b[0m \u001b[0mh\u001b[0m\u001b[1;33m[\u001b[0m\u001b[1;36m0\u001b[0m\u001b[1;33m]\u001b[0m\u001b[1;33m.\u001b[0m\u001b[0mclose\u001b[0m\u001b[1;33m,\u001b[0m \u001b[0mh\u001b[0m\u001b[1;33m[\u001b[0m\u001b[1;36m0\u001b[0m\u001b[1;33m]\u001b[0m\u001b[1;33m.\u001b[0m\u001b[0maverage\u001b[0m\u001b[1;33m)\u001b[0m \u001b[1;32mfor\u001b[0m \u001b[0mh\u001b[0m \u001b[1;32min\u001b[0m \u001b[0mdf_hist\u001b[0m\u001b[1;33m.\u001b[0m\u001b[0mhistory\u001b[0m\u001b[1;33m]\u001b[0m\u001b[1;33m\u001b[0m\u001b[0m\n\u001b[0m",
      "\u001b[1;31mIndexError\u001b[0m: list index out of range"
     ]
    }
   ],
   "source": [
    "[print(h[0].date, h[0].open, h[0].high, h[0].low, h[0].close, h[0].average) for h in df_hist.history]"
   ]
  },
  {
   "cell_type": "code",
   "execution_count": null,
   "metadata": {},
   "outputs": [],
   "source": [
    "# make yesterday's dataframe\n",
    "df_yesterday = pd.DataFrame([(h[0].date, h[0].open, h[0].high, h[0].low, h[0].close, h[0].average, h[0].volume) \n",
    " for h in hist_data])\n",
    "cols=['D', 'O', 'H', 'L', 'C', 'Avg', 'Vol']"
   ]
  },
  {
   "cell_type": "code",
   "execution_count": null,
   "metadata": {},
   "outputs": [],
   "source": [
    "df_yesterday.columns = cols\n",
    "\n",
    "#.....    Merge the dataframes and get target price  ....\n",
    "df1 = pd.concat([df_positions, df_yesterday], axis=1)"
   ]
  },
  {
   "cell_type": "code",
   "execution_count": 18,
   "metadata": {},
   "outputs": [
    {
     "ename": "NameError",
     "evalue": "name 'df_yesterday' is not defined",
     "output_type": "error",
     "traceback": [
      "\u001b[1;31m---------------------------------------------------------------------------\u001b[0m",
      "\u001b[1;31mNameError\u001b[0m                                 Traceback (most recent call last)",
      "\u001b[1;32m<ipython-input-18-e3a3bc923cf6>\u001b[0m in \u001b[0;36m<module>\u001b[1;34m\u001b[0m\n\u001b[1;32m----> 1\u001b[1;33m \u001b[0mdf_yesterday\u001b[0m\u001b[1;33m\u001b[0m\u001b[0m\n\u001b[0m",
      "\u001b[1;31mNameError\u001b[0m: name 'df_yesterday' is not defined"
     ]
    }
   ],
   "source": [
    "df_yesterday"
   ]
  },
  {
   "cell_type": "code",
   "execution_count": 15,
   "metadata": {},
   "outputs": [
    {
     "ename": "IndexError",
     "evalue": "list index out of range",
     "output_type": "error",
     "traceback": [
      "\u001b[1;31m---------------------------------------------------------------------------\u001b[0m",
      "\u001b[1;31mIndexError\u001b[0m                                Traceback (most recent call last)",
      "\u001b[1;32m<ipython-input-15-163404a3756b>\u001b[0m in \u001b[0;36m<module>\u001b[1;34m\u001b[0m\n\u001b[0;32m      1\u001b[0m \u001b[1;31m# make yesterday's dataframe\u001b[0m\u001b[1;33m\u001b[0m\u001b[1;33m\u001b[0m\u001b[0m\n\u001b[0;32m      2\u001b[0m df_yesterday = pd.DataFrame([(h[0].date, h[0].open, h[0].high, h[0].low, h[0].close, h[0].average, h[0].volume) \n\u001b[1;32m----> 3\u001b[1;33m  for h in hist_data])\n\u001b[0m\u001b[0;32m      4\u001b[0m \u001b[0mcols\u001b[0m\u001b[1;33m=\u001b[0m\u001b[1;33m[\u001b[0m\u001b[1;34m'D'\u001b[0m\u001b[1;33m,\u001b[0m \u001b[1;34m'O'\u001b[0m\u001b[1;33m,\u001b[0m \u001b[1;34m'H'\u001b[0m\u001b[1;33m,\u001b[0m \u001b[1;34m'L'\u001b[0m\u001b[1;33m,\u001b[0m \u001b[1;34m'C'\u001b[0m\u001b[1;33m,\u001b[0m \u001b[1;34m'Avg'\u001b[0m\u001b[1;33m,\u001b[0m \u001b[1;34m'Vol'\u001b[0m\u001b[1;33m]\u001b[0m\u001b[1;33m\u001b[0m\u001b[0m\n\u001b[0;32m      5\u001b[0m \u001b[1;33m\u001b[0m\u001b[0m\n",
      "\u001b[1;32m<ipython-input-15-163404a3756b>\u001b[0m in \u001b[0;36m<listcomp>\u001b[1;34m(.0)\u001b[0m\n\u001b[0;32m      1\u001b[0m \u001b[1;31m# make yesterday's dataframe\u001b[0m\u001b[1;33m\u001b[0m\u001b[1;33m\u001b[0m\u001b[0m\n\u001b[0;32m      2\u001b[0m df_yesterday = pd.DataFrame([(h[0].date, h[0].open, h[0].high, h[0].low, h[0].close, h[0].average, h[0].volume) \n\u001b[1;32m----> 3\u001b[1;33m  for h in hist_data])\n\u001b[0m\u001b[0;32m      4\u001b[0m \u001b[0mcols\u001b[0m\u001b[1;33m=\u001b[0m\u001b[1;33m[\u001b[0m\u001b[1;34m'D'\u001b[0m\u001b[1;33m,\u001b[0m \u001b[1;34m'O'\u001b[0m\u001b[1;33m,\u001b[0m \u001b[1;34m'H'\u001b[0m\u001b[1;33m,\u001b[0m \u001b[1;34m'L'\u001b[0m\u001b[1;33m,\u001b[0m \u001b[1;34m'C'\u001b[0m\u001b[1;33m,\u001b[0m \u001b[1;34m'Avg'\u001b[0m\u001b[1;33m,\u001b[0m \u001b[1;34m'Vol'\u001b[0m\u001b[1;33m]\u001b[0m\u001b[1;33m\u001b[0m\u001b[0m\n\u001b[0;32m      5\u001b[0m \u001b[1;33m\u001b[0m\u001b[0m\n",
      "\u001b[1;31mIndexError\u001b[0m: list index out of range"
     ]
    }
   ],
   "source": [
    "df2 = df1.merge(df_contracts,how='left', on='conId')"
   ]
  },
  {
   "cell_type": "code",
   "execution_count": 14,
   "metadata": {},
   "outputs": [
    {
     "ename": "NameError",
     "evalue": "name 'df2' is not defined",
     "output_type": "error",
     "traceback": [
      "\u001b[1;31m---------------------------------------------------------------------------\u001b[0m",
      "\u001b[1;31mNameError\u001b[0m                                 Traceback (most recent call last)",
      "\u001b[1;32m<ipython-input-14-2068723f1203>\u001b[0m in \u001b[0;36m<module>\u001b[1;34m\u001b[0m\n\u001b[1;32m----> 1\u001b[1;33m \u001b[0mdf2\u001b[0m\u001b[1;33m\u001b[0m\u001b[0m\n\u001b[0m",
      "\u001b[1;31mNameError\u001b[0m: name 'df2' is not defined"
     ]
    }
   ],
   "source": [
    "df2"
   ]
  },
  {
   "cell_type": "code",
   "execution_count": 2,
   "metadata": {},
   "outputs": [
    {
     "name": "stderr",
     "output_type": "stream",
     "text": [
      "WARNING:ib_insync.client:Started to throttle requests\n",
      "WARNING:ib_insync.client:Stopped to throttle requests\n",
      "ERROR:ib_insync.wrapper:Error 162, reqId 1435: Historical Market Data Service error message:HMDS query returned no data: MOTHERSUMI18DEC126.65PE@NSE Bid, contract: Contract(secType='OPT', conId=335436941, symbol='MOTHERSUM', lastTradeDateOrContractMonth='20181227', strike=126.65, right='P', multiplier='1', exchange='NSE', currency='INR', localSymbol='MOTHERSUMI18DEC126.65PE', tradingClass='MOTHERSUMI')\n",
      "ERROR:ib_insync.wrapper:Error 162, reqId 1436: Historical Market Data Service error message:HMDS query returned no data: RAMCOCEM18DEC530PE@NSE Bid, contract: Contract(secType='OPT', conId=335437965, symbol='RAMCOCEM', lastTradeDateOrContractMonth='20181227', strike=530.0, right='P', multiplier='1', exchange='NSE', currency='INR', localSymbol='RAMCOCEM18DEC530PE', tradingClass='RAMCOCEM')\n",
      "ERROR:ib_insync.wrapper:Error 162, reqId 1438: Historical Market Data Service error message:HMDS query returned no data: MOTHERSUMI18DEC123.35PE@NSE Bid, contract: Contract(secType='OPT', conId=335436935, symbol='MOTHERSUM', lastTradeDateOrContractMonth='20181227', strike=123.35, right='P', multiplier='1', exchange='NSE', currency='INR', localSymbol='MOTHERSUMI18DEC123.35PE', tradingClass='MOTHERSUMI')\n",
      "ERROR:ib_insync.wrapper:Error 162, reqId 1530: Historical Market Data Service error message:HMDS query returned no data: RCOM18DEC9PE@NSE Bid, contract: Contract(secType='OPT', conId=335383983, symbol='RCOM', lastTradeDateOrContractMonth='20181227', strike=9.0, right='P', multiplier='1', exchange='NSE', currency='INR', localSymbol='RCOM18DEC9PE', tradingClass='RCOM')\n",
      "ERROR:ib_insync.wrapper:Error 162, reqId 1576: Historical Market Data Service error message:HMDS query returned no data: MARUTI18DEC6000PE@NSE Bid, contract: Contract(secType='OPT', conId=335366437, symbol='MARUTI', lastTradeDateOrContractMonth='20181227', strike=6000.0, right='P', multiplier='1', exchange='NSE', currency='INR', localSymbol='MARUTI18DEC6000PE', tradingClass='MARUTI')\n"
     ]
    },
    {
     "ename": "IndexError",
     "evalue": "list index out of range",
     "output_type": "error",
     "traceback": [
      "\u001b[1;31m---------------------------------------------------------------------------\u001b[0m",
      "\u001b[1;31mIndexError\u001b[0m                                Traceback (most recent call last)",
      "\u001b[1;32m<timed exec>\u001b[0m in \u001b[0;36m<module>\u001b[1;34m\u001b[0m\n",
      "\u001b[1;32m<timed exec>\u001b[0m in \u001b[0;36m<listcomp>\u001b[1;34m(.0)\u001b[0m\n",
      "\u001b[1;31mIndexError\u001b[0m: list index out of range"
     ]
    }
   ],
   "source": [
    "# get the DTE\n",
    "df2['DTE'] = (pd.to_datetime(df2.lastTradeDateOrContractMonth) - datetime.datetime.now()).dt.days\n",
    "\n",
    "# get expected price from DTE\n",
    "def get_expPct(x):\n",
    "    '''Gets the expected price percentage from DTE\n",
    "    Assumes max DTE to be 30 days\n",
    "    Arg: (x) as float\n",
    "    Returns: expPrice as float\n",
    "    Ref: http://interactiveds.com.au/software/Linest-poly.xls\n",
    "    '''\n",
    "    if x > 30:\n",
    "        x = 30  # Forces the max DTE to be 30\n",
    "    \n",
    "    expPrice = 103.6008 - 3.63457*x + 0.03454677*x*x\n",
    "    return expPrice/100\n",
    "\n",
    "df2['expPrice'] = df2.DTE.apply(get_expPct)*df2.avgCost\n",
    "\n",
    "# Set target price to be lower than yesterday's low and expPrice\n",
    "# ...rounded to 0.05\n",
    "df2['tgtPrice'] = df2[['L', 'expPrice']].min(axis=1).apply(lambda x: round(x*2,1)/2)\n",
    "\n",
    "df2['order'] = [LimitOrder(action='BUY',totalQuantity=-position, lmtPrice=tgt_price)\n",
    "            for position, tgt_price in zip(df2.position, df2.tgtPrice)]"
   ]
  },
  {
   "cell_type": "code",
   "execution_count": null,
   "metadata": {},
   "outputs": [],
   "source": [
    "#------------------------------------------------\n",
    "# WARNING: THIS SECTION PLACES CLOSING TRADES\n",
    "#________________________________________________"
   ]
  },
  {
   "cell_type": "code",
   "execution_count": null,
   "metadata": {},
   "outputs": [],
   "source": [
    "# ....    Cancel all openorders   .....\n",
    "cancels = ib.reqGlobalCancel()"
   ]
  },
  {
   "cell_type": "code",
   "execution_count": null,
   "metadata": {},
   "outputs": [],
   "source": [
    "# ....   Place closing trades    .....\n",
    "closingTrade = [ib.placeOrder(contract, order) for contract, order in zip(df2.contract, df2.order)]"
   ]
  },
  {
   "cell_type": "code",
   "execution_count": null,
   "metadata": {},
   "outputs": [],
   "source": [
    "# Write closed orders placed to file\n",
    "x  =  datapath + datetime.datetime.now().strftime(\"%Y%m%d_%H%M%S\") + \"_closing_orders.xlsx\"\n",
    "writer = pd.ExcelWriter(x)\n",
    "df2.to_excel(writer, 'all-options', index=False, header=1)\n",
    "writer.save()"
   ]
  },
  {
   "cell_type": "code",
   "execution_count": 3,
   "metadata": {},
   "outputs": [
    {
     "ename": "NameError",
     "evalue": "name 'df2' is not defined",
     "output_type": "error",
     "traceback": [
      "\u001b[1;31m---------------------------------------------------------------------------\u001b[0m",
      "\u001b[1;31mNameError\u001b[0m                                 Traceback (most recent call last)",
      "\u001b[1;32m<ipython-input-3-2068723f1203>\u001b[0m in \u001b[0;36m<module>\u001b[1;34m\u001b[0m\n\u001b[1;32m----> 1\u001b[1;33m \u001b[0mdf2\u001b[0m\u001b[1;33m\u001b[0m\u001b[0m\n\u001b[0m",
      "\u001b[1;31mNameError\u001b[0m: name 'df2' is not defined"
     ]
    }
   ],
   "source": [
    "df2"
   ]
  },
  {
   "cell_type": "code",
   "execution_count": null,
   "metadata": {},
   "outputs": [],
   "source": []
  }
 ],
 "metadata": {
  "kernelspec": {
   "display_name": "Python 3",
   "language": "python",
   "name": "python3"
  },
  "language_info": {
   "codemirror_mode": {
    "name": "ipython",
    "version": 3
   },
   "file_extension": ".py",
   "mimetype": "text/x-python",
   "name": "python",
   "nbconvert_exporter": "python",
   "pygments_lexer": "ipython3",
   "version": "3.6.6"
  }
 },
 "nbformat": 4,
 "nbformat_minor": 2
}
