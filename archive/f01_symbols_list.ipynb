{
 "cells": [
  {
   "cell_type": "code",
   "execution_count": null,
   "metadata": {},
   "outputs": [],
   "source": [
    "# Extract symbols list of option scrips from NSE\n",
    "\n",
    "# STATUS: Abandoned\n",
    "\n",
    "# The url of NSE generates the list of scrips using javascript. \n",
    "# Have not been able to generate the output from python to scrape the table. "
   ]
  },
  {
   "cell_type": "code",
   "execution_count": 28,
   "metadata": {},
   "outputs": [
    {
     "data": {
      "text/plain": [
       "'<!DOCTYPE html PUBLIC \"-//W3C//DTD XHTML 1.0 Transitional//EN\" \"http://www.w3.org/TR/xhtml1/DTD/xhtml1-transitional.dtd\"><html lang=\"en\" xml:lang=\"en\" xmlns=\"http://www.w3.org/1999/xhtml\"><head><meta http-equiv=\"Content-Type\" content=\"text/html; charset=utf-8\" /><title>NSE - National Stock Exchange of India Ltd.</title><link href=\"/common/css/style.css\" rel=\"stylesheet\" type=\"text/css\" /><script type=\"text/javascript\">var page=[\"eqder_luui\",\"products\"];</script><script type=\"text/javascript\" src=\"/common/js/jquery-1.4.4.min.js\"></script><link rel=\"stylesheet\" href=\"/jqueryui/themes/base/jquery.ui.all.css\"/><script src=\"/jqueryui/ui/minified/jquery.ui.core.min.js\"></script><script src=\"/jqueryui/ui/minified/jquery.ui.widget.min.js\"></script><script src=\"/jqueryui/ui/minified/jquery.ui.datepicker.min.js\"></script><script language=\"javascript\" src=\"/js/wdm_turnover.js\"></script><script language=\"javascript\" src=\"/js/validateWDMGrowth.js\"></script><script language=\"javascript\" src=\"/js/ipo/jppast_issue_yr.js\"></script><script type=\"text/javascript\" src=\"/common/js/mainNav.js\"></script><script type=\"text/javascript\" src=\"/common/js/js.js\"></script><link rel=\"shortcut icon\" type=\"image/x-icon\" href=\"/common/images/favicon.ico\" /></head><body><div id=\"container\"> \\t<!--Wrapper Start-->\\t<div id=\"wrapper\"> \\t\\t\\t\\t<!--Main Menu Start-->\\t\\t<div id=\"main_menu\"></div>\\t\\t<!--Main Menu End--> \\t</div>\\t<div class=\"clear\"></div>\\t<!--Wrapper End--> \\t<!-- Content Big Start -->\\t<div class=\"content_big\">\\t\\t<div class=\"black_overlay\" style=\"display:none\"></div>\\t\\t<div id=\"wrapper_btm\"> \\t\\t\\t<!-- Main Content Start -->\\t\\t\\t<div class=\"main_content\">\\t\\t        <div id=\"breadcrumb\"></div><!-- Changed by indigo as on 15/02/2011 -->\\t\\t\\t\\t<div class=\"lhs_nav\" id=\"subMenu\"></div>\\t\\t\\t\\t<div class=\"content\">\\t\\t\\t\\t\\t<h2></h2>\\t\\t\\t\\t\\t<div class=\"archives\">\\t\\t\\t\\t\\t\\t<p><div style=\"display:none\" id=\"backLink\"><h4><a class=\"backPage\"  href=\"/products/content/derivatives/equities/fo_underlying_home.htm\">Back</a></h4></div>\\t\\t\\t\\t\\t</p>\\t\\t\\t\\t\\t\\t<div  id=\"replacetext\" class=\"tabular-data-historic\"  style=\"width:100%\"></div>\\t\\t\\t\\t\\t\\t\\t\\t\\t</div>\\t\\t\\t</div>\\t\\t\\t\\t\\t\\t\\t<div class=\"clear\"></div>\\t\\t\\t</div>\\t\\t\\t<!-- Main Content End --> \\t\\t\\t<!--Footer Start-->\\t\\t\\t<div id=\"footer\">\\t\\t\\t</div>\\t\\t\\t<!--Footer End-->\\t\\t\\t<div class=\"clear\"></div>\\t\\t</div>\\t\\t<!--Wrapper Bottom End--> \\t</div>\\t<!--Content Big End--> </div><div class=\"footer_nav_main\">\\t<div id=\"footer_nav\">\\t</div></div><script>function loadUnderlyingList(url1){\\t$.ajax({\\t\\turl: url1,\\t\\tsuccess : function(data, textStatus, XMLHttpRequest) {\\t\\t//\\talert(data);\\t\\t\\t$(\\'#replacetext\\').html(data);\\t\\t\\t$(\\'tr:even\\').addClass(\"alt\");\\t\\t\\t\\t\\t\\t\\t\\t}\\t});\\t$(\\'#backLink\\').show();}$(document).ready(function(){\\t\\t//alert(\"Hi<><><><><><><>\");\\t\\tloadUnderlyingList(\\'/products/content/derivatives/equities/fo_underlyinglist.htm\\');\\t\\t$(\\'#backLink\\').hide();\\t\\t\\t});</script></body></html>'"
      ]
     },
     "execution_count": 28,
     "metadata": {},
     "output_type": "execute_result"
    }
   ],
   "source": [
    "from urllib.request import Request, urlopen\n",
    "import json\n",
    "\n",
    "url = 'https://www.nseindia.com/products/content/derivatives/equities/fo_underlying_home.htm'\n",
    "\n",
    "header = {\n",
    "  \"User-Agent\": \"Mozilla/5.0 (X11; Linux x86_64) AppleWebKit/537.36 (KHTML, like Gecko) Chrome/50.0.2661.75 Safari/537.36\",\n",
    "  \"X-Requested-With\": \"XMLHttpRequest\"\n",
    "}\n",
    "\n",
    "req = Request(url, headers={'User-Agent': 'Mozilla/5.0'})\n",
    "webpage = urlopen(req).read().decode(\"utf-8\").replace('\\n', '')\n",
    "webpage"
   ]
  },
  {
   "cell_type": "code",
   "execution_count": 29,
   "metadata": {},
   "outputs": [
    {
     "ename": "NameError",
     "evalue": "name 'payload' is not defined",
     "output_type": "error",
     "traceback": [
      "\u001b[1;31m---------------------------------------------------------------------------\u001b[0m",
      "\u001b[1;31mNameError\u001b[0m                                 Traceback (most recent call last)",
      "\u001b[1;32m<ipython-input-29-d1a7c704488c>\u001b[0m in \u001b[0;36m<module>\u001b[1;34m\u001b[0m\n\u001b[1;32m----> 1\u001b[1;33m \u001b[0mrequests\u001b[0m\u001b[1;33m.\u001b[0m\u001b[0mpost\u001b[0m\u001b[1;33m(\u001b[0m\u001b[0murl\u001b[0m\u001b[1;33m,\u001b[0m \u001b[0mdata\u001b[0m\u001b[1;33m=\u001b[0m\u001b[0mpayload\u001b[0m\u001b[1;33m,\u001b[0m \u001b[0mheaders\u001b[0m\u001b[1;33m=\u001b[0m\u001b[0mrequest_headers\u001b[0m\u001b[1;33m)\u001b[0m\u001b[1;33m\u001b[0m\u001b[0m\n\u001b[0m",
      "\u001b[1;31mNameError\u001b[0m: name 'payload' is not defined"
     ]
    }
   ],
   "source": [
    "requests.post(url, data=payload, headers=request_headers)"
   ]
  },
  {
   "cell_type": "code",
   "execution_count": null,
   "metadata": {},
   "outputs": [],
   "source": [
    "import bs4 as bs\n",
    "import requests\n",
    "import urllib.request\n",
    "\n",
    "url = 'https://www.nseindia.com/products/content/derivatives/equities/fo_underlying_home.htm'\n",
    "\n",
    "header = {\n",
    "  \"User-Agent\": \"Mozilla/5.0 (X11; Linux x86_64) AppleWebKit/537.36 (KHTML, like Gecko) Chrome/50.0.2661.75 Safari/537.36\",\n",
    "  \"X-Requested-With\": \"XMLHttpRequest\"\n",
    "}\n",
    "\n",
    "source = requests.get(url, headers=header)\n",
    "soup = bs.BeautifulSoup(source, 'html-parser')\n",
    "soup"
   ]
  },
  {
   "cell_type": "code",
   "execution_count": null,
   "metadata": {},
   "outputs": [],
   "source": []
  },
  {
   "cell_type": "code",
   "execution_count": 26,
   "metadata": {},
   "outputs": [
    {
     "data": {
      "text/plain": [
       "<!DOCTYPE html PUBLIC \"-//W3C//DTD XHTML 1.0 Transitional//EN\" \"http://www.w3.org/TR/xhtml1/DTD/xhtml1-transitional.dtd\">\n",
       "<html lang=\"en\" xml:lang=\"en\" xmlns=\"http://www.w3.org/1999/xhtml\"><head><meta content=\"text/html; charset=utf-8\" http-equiv=\"Content-Type\"/><title>NSE - National Stock Exchange of India Ltd.</title><link href=\"/common/css/style.css\" rel=\"stylesheet\" type=\"text/css\"/><script type=\"text/javascript\">var page=[\"eqder_luui\",\"products\"];</script><script src=\"/common/js/jquery-1.4.4.min.js\" type=\"text/javascript\"></script><link href=\"/jqueryui/themes/base/jquery.ui.all.css\" rel=\"stylesheet\"/><script src=\"/jqueryui/ui/minified/jquery.ui.core.min.js\"></script><script src=\"/jqueryui/ui/minified/jquery.ui.widget.min.js\"></script><script src=\"/jqueryui/ui/minified/jquery.ui.datepicker.min.js\"></script><script language=\"javascript\" src=\"/js/wdm_turnover.js\"></script><script language=\"javascript\" src=\"/js/validateWDMGrowth.js\"></script><script language=\"javascript\" src=\"/js/ipo/jppast_issue_yr.js\"></script><script src=\"/common/js/mainNav.js\" type=\"text/javascript\"></script><script src=\"/common/js/js.js\" type=\"text/javascript\"></script><link href=\"/common/images/favicon.ico\" rel=\"shortcut icon\" type=\"image/x-icon\"/></head><body><div id=\"container\"> <!--Wrapper Start--> <div id=\"wrapper\"> <!--Main Menu Start--> <div id=\"main_menu\"></div> <!--Main Menu End--> </div> <div class=\"clear\"></div> <!--Wrapper End--> <!-- Content Big Start --> <div class=\"content_big\"> <div class=\"black_overlay\" style=\"display:none\"></div> <div id=\"wrapper_btm\"> <!-- Main Content Start --> <div class=\"main_content\"> <div id=\"breadcrumb\"></div><!-- Changed by indigo as on 15/02/2011 --> <div class=\"lhs_nav\" id=\"subMenu\"></div> <div class=\"content\"> <h2></h2> <div class=\"archives\"> <p></p><div id=\"backLink\" style=\"display:none\"><h4><a class=\"backPage\" href=\"/products/content/derivatives/equities/fo_underlying_home.htm\">Back</a></h4></div> <div class=\"tabular-data-historic\" id=\"replacetext\" style=\"width:100%\"></div> </div> </div> <div class=\"clear\"></div> </div> <!-- Main Content End --> <!--Footer Start--> <div id=\"footer\"> </div> <!--Footer End--> <div class=\"clear\"></div> </div> <!--Wrapper Bottom End--> </div> <!--Content Big End--> </div><div class=\"footer_nav_main\"> <div id=\"footer_nav\"> </div></div><script>function loadUnderlyingList(url1){\t$.ajax({\t\turl: url1,\t\tsuccess : function(data, textStatus, XMLHttpRequest) {\t\t//\talert(data);\t\t\t$('#replacetext').html(data);\t\t\t$('tr:even').addClass(\"alt\");\t\t\t\t\t\t\t\t}\t});\t$('#backLink').show();}$(document).ready(function(){\t\t//alert(\"Hi<><><><><><><>\");\t\tloadUnderlyingList('/products/content/derivatives/equities/fo_underlyinglist.htm');\t\t$('#backLink').hide();\t\t\t});</script></body></html>"
      ]
     },
     "execution_count": 26,
     "metadata": {},
     "output_type": "execute_result"
    }
   ],
   "source": [
    "bs.BeautifulSoup(webpage, 'lxml')"
   ]
  },
  {
   "cell_type": "code",
   "execution_count": null,
   "metadata": {},
   "outputs": [],
   "source": []
  },
  {
   "cell_type": "code",
   "execution_count": 4,
   "metadata": {},
   "outputs": [
    {
     "data": {
      "text/plain": [
       "'\\n<!DOCTYPE html PUBLIC \"-//W3C//DTD XHTML 1.0 Transitional//EN\" \"http://www.w3.org/TR/xhtml1/DTD/xhtml1-transitional.dtd\">\\n<html lang=\"en\" xml:lang=\"en\" xmlns=\"http://www.w3.org/1999/xhtml\">\\n<head>\\n<meta http-equiv=\"Content-Type\" content=\"text/html; charset=utf-8\" />\\n<title>NSE - National Stock Exchange of India Ltd.</title>\\n<link href=\"/common/css/style.css\" rel=\"stylesheet\" type=\"text/css\" />\\n\\n\\n<script type=\"text/javascript\">\\nvar page=[\"eqder_luui\",\"products\"];\\n</script>\\n<script type=\"text/javascript\" src=\"/common/js/jquery-1.4.4.min.js\"></script>\\n<link rel=\"stylesheet\" href=\"/jqueryui/themes/base/jquery.ui.all.css\"/>\\n<script src=\"/jqueryui/ui/minified/jquery.ui.core.min.js\"></script>\\n<script src=\"/jqueryui/ui/minified/jquery.ui.widget.min.js\"></script>\\n<script src=\"/jqueryui/ui/minified/jquery.ui.datepicker.min.js\"></script>\\n<script language=\"javascript\" src=\"/js/wdm_turnover.js\"></script>\\n<script language=\"javascript\" src=\"/js/validateWDMGrowth.js\"></script>\\n<script language=\"javascript\" src=\"/js/ipo/jppast_issue_yr.js\"></script>\\n<script type=\"text/javascript\" src=\"/common/js/mainNav.js\"></script>\\n<script type=\"text/javascript\" src=\"/common/js/js.js\"></script>\\n<link rel=\"shortcut icon\" type=\"image/x-icon\" href=\"/common/images/favicon.ico\" />\\n<script>bazadebezolkohpepadr=\"1946140336\"</script><script type=\"text/javascript\" src=\"https://www.nseindia.com/akam/10/73ffbd0c\" defer></script></head>\\n<body>\\n<div id=\"container\"> \\n\\t<!--Wrapper Start-->\\n\\t<div id=\"wrapper\"> \\n\\t\\t\\n\\t\\t<!--Main Menu Start-->\\n\\t\\t<div id=\"main_menu\"></div>\\n\\t\\t<!--Main Menu End--> \\n\\t</div>\\n\\t<div class=\"clear\"></div>\\n\\t<!--Wrapper End--> \\n\\t<!-- Content Big Start -->\\n\\t<div class=\"content_big\">\\n\\t\\t<div class=\"black_overlay\" style=\"display:none\"></div>\\n\\t\\t<div id=\"wrapper_btm\"> \\n\\t\\t\\t<!-- Main Content Start -->\\n\\t\\t\\t<div class=\"main_content\">\\n\\t\\t        <div id=\"breadcrumb\"></div><!-- Changed by indigo as on 15/02/2011 -->\\n\\t\\t\\t\\t<div class=\"lhs_nav\" id=\"subMenu\"></div>\\n\\t\\t\\t\\t<div class=\"content\">\\n\\t\\t\\t\\t\\t<h2></h2>\\n\\t\\t\\t\\t\\t<div class=\"archives\">\\n\\t\\t\\t\\t\\t\\t<p><div style=\"display:none\" id=\"backLink\"><h4><a class=\"backPage\"  href=\"/products/content/derivatives/equities/fo_underlying_home.htm\">Back</a></h4></div>\\n\\t\\t\\t\\t\\t</p>\\n\\t\\t\\t\\t\\t\\t<div  id=\"replacetext\" class=\"tabular-data-historic\"  style=\"width:100%\"></div>\\n\\t\\t\\t\\t\\t\\n\\t\\t\\t\\t</div>\\n\\t\\t\\t</div>\\n\\t\\t\\t\\n\\t\\t\\t\\t<div class=\"clear\"></div>\\n\\t\\t\\t</div>\\n\\t\\t\\t<!-- Main Content End --> \\n\\t\\t\\t<!--Footer Start-->\\n\\t\\t\\t<div id=\"footer\">\\n\\t\\t\\t</div>\\n\\t\\t\\t<!--Footer End-->\\n\\t\\t\\t<div class=\"clear\"></div>\\n\\t\\t</div>\\n\\t\\t<!--Wrapper Bottom End--> \\n\\t</div>\\n\\t<!--Content Big End--> \\n</div>\\n<div class=\"footer_nav_main\">\\n\\t<div id=\"footer_nav\">\\n\\t</div>\\n</div>\\n\\n<script>\\n\\nfunction loadUnderlyingList(url1)\\n{\\n\\t$.ajax({\\n\\t\\turl: url1,\\n\\t\\tsuccess : function(data, textStatus, XMLHttpRequest) {\\n\\t\\t//\\talert(data);\\n\\t\\t\\t$(\\'#replacetext\\').html(data);\\n\\t\\t\\t$(\\'tr:even\\').addClass(\"alt\");\\n\\t\\t\\t\\t\\t\\t\\n\\t\\t}\\n\\t});\\n\\t$(\\'#backLink\\').show();\\n}\\n\\n$(document).ready(function(){\\n\\t\\t//alert(\"Hi<><><><><><><>\");\\n\\t\\tloadUnderlyingList(\\'/products/content/derivatives/equities/fo_underlyinglist.htm\\');\\n\\t\\t$(\\'#backLink\\').hide();\\n\\t\\t\\n\\t});\\n\\n\\n</script>\\n\\n\\n\\n\\n<noscript><img src=\"https://www.nseindia.com/akam/10/pixel_73ffbd0c?a=dD0xMzEyYjIxMjVlZWE5MjA2NzQ0NTBhMGVmOGVhZTc3YTdhM2Y5YWQ2JmpzPW9mZg==\" style=\"visibility: hidden; position: absolute; left: -999px; top: -999px;\" /></noscript></body>\\n</html>\\n'"
      ]
     },
     "execution_count": 4,
     "metadata": {},
     "output_type": "execute_result"
    }
   ],
   "source": [
    "import requests\n",
    "\n",
    "url = 'https://www.nseindia.com/products/content/derivatives/equities/fo_underlying_home.htm'\n",
    "\n",
    "header = {\n",
    "  \"User-Agent\": \"Mozilla/5.0 (X11; Linux x86_64) AppleWebKit/537.36 (KHTML, like Gecko) Chrome/50.0.2661.75 Safari/537.36\",\n",
    "  \"X-Requested-With\": \"XMLHttpRequest\"\n",
    "}\n",
    "\n",
    "r = requests.get(url, headers=header)\n",
    "r.text"
   ]
  },
  {
   "cell_type": "code",
   "execution_count": 9,
   "metadata": {},
   "outputs": [
    {
     "data": {
      "text/plain": [
       "<Response [200]>"
      ]
     },
     "execution_count": 9,
     "metadata": {},
     "output_type": "execute_result"
    }
   ],
   "source": [
    "source"
   ]
  },
  {
   "cell_type": "code",
   "execution_count": 9,
   "metadata": {},
   "outputs": [],
   "source": [
    "from bs4 import BeautifulSoup\n",
    "soup = BeautifulSoup(r.text, 'html.parser')"
   ]
  },
  {
   "cell_type": "code",
   "execution_count": 6,
   "metadata": {},
   "outputs": [],
   "source": [
    "from urllib.request import Request, urlopen\n",
    "\n",
    "req = Request(url, headers={'User-Agent': 'Mozilla/5.0'})\n",
    "webpage = urlopen(req).read()"
   ]
  },
  {
   "cell_type": "code",
   "execution_count": 7,
   "metadata": {},
   "outputs": [
    {
     "data": {
      "text/plain": [
       "b'\\n<!DOCTYPE html PUBLIC \"-//W3C//DTD XHTML 1.0 Transitional//EN\" \"http://www.w3.org/TR/xhtml1/DTD/xhtml1-transitional.dtd\">\\n<html lang=\"en\" xml:lang=\"en\" xmlns=\"http://www.w3.org/1999/xhtml\">\\n<head>\\n<meta http-equiv=\"Content-Type\" content=\"text/html; charset=utf-8\" />\\n<title>NSE - National Stock Exchange of India Ltd.</title>\\n<link href=\"/common/css/style.css\" rel=\"stylesheet\" type=\"text/css\" />\\n\\n\\n<script type=\"text/javascript\">\\nvar page=[\"eqder_luui\",\"products\"];\\n</script>\\n<script type=\"text/javascript\" src=\"/common/js/jquery-1.4.4.min.js\"></script>\\n<link rel=\"stylesheet\" href=\"/jqueryui/themes/base/jquery.ui.all.css\"/>\\n<script src=\"/jqueryui/ui/minified/jquery.ui.core.min.js\"></script>\\n<script src=\"/jqueryui/ui/minified/jquery.ui.widget.min.js\"></script>\\n<script src=\"/jqueryui/ui/minified/jquery.ui.datepicker.min.js\"></script>\\n<script language=\"javascript\" src=\"/js/wdm_turnover.js\"></script>\\n<script language=\"javascript\" src=\"/js/validateWDMGrowth.js\"></script>\\n<script language=\"javascript\" src=\"/js/ipo/jppast_issue_yr.js\"></script>\\n<script type=\"text/javascript\" src=\"/common/js/mainNav.js\"></script>\\n<script type=\"text/javascript\" src=\"/common/js/js.js\"></script>\\n<link rel=\"shortcut icon\" type=\"image/x-icon\" href=\"/common/images/favicon.ico\" />\\n</head>\\n<body>\\n<div id=\"container\"> \\n\\t<!--Wrapper Start-->\\n\\t<div id=\"wrapper\"> \\n\\t\\t\\n\\t\\t<!--Main Menu Start-->\\n\\t\\t<div id=\"main_menu\"></div>\\n\\t\\t<!--Main Menu End--> \\n\\t</div>\\n\\t<div class=\"clear\"></div>\\n\\t<!--Wrapper End--> \\n\\t<!-- Content Big Start -->\\n\\t<div class=\"content_big\">\\n\\t\\t<div class=\"black_overlay\" style=\"display:none\"></div>\\n\\t\\t<div id=\"wrapper_btm\"> \\n\\t\\t\\t<!-- Main Content Start -->\\n\\t\\t\\t<div class=\"main_content\">\\n\\t\\t        <div id=\"breadcrumb\"></div><!-- Changed by indigo as on 15/02/2011 -->\\n\\t\\t\\t\\t<div class=\"lhs_nav\" id=\"subMenu\"></div>\\n\\t\\t\\t\\t<div class=\"content\">\\n\\t\\t\\t\\t\\t<h2></h2>\\n\\t\\t\\t\\t\\t<div class=\"archives\">\\n\\t\\t\\t\\t\\t\\t<p><div style=\"display:none\" id=\"backLink\"><h4><a class=\"backPage\"  href=\"/products/content/derivatives/equities/fo_underlying_home.htm\">Back</a></h4></div>\\n\\t\\t\\t\\t\\t</p>\\n\\t\\t\\t\\t\\t\\t<div  id=\"replacetext\" class=\"tabular-data-historic\"  style=\"width:100%\"></div>\\n\\t\\t\\t\\t\\t\\n\\t\\t\\t\\t</div>\\n\\t\\t\\t</div>\\n\\t\\t\\t\\n\\t\\t\\t\\t<div class=\"clear\"></div>\\n\\t\\t\\t</div>\\n\\t\\t\\t<!-- Main Content End --> \\n\\t\\t\\t<!--Footer Start-->\\n\\t\\t\\t<div id=\"footer\">\\n\\t\\t\\t</div>\\n\\t\\t\\t<!--Footer End-->\\n\\t\\t\\t<div class=\"clear\"></div>\\n\\t\\t</div>\\n\\t\\t<!--Wrapper Bottom End--> \\n\\t</div>\\n\\t<!--Content Big End--> \\n</div>\\n<div class=\"footer_nav_main\">\\n\\t<div id=\"footer_nav\">\\n\\t</div>\\n</div>\\n\\n<script>\\n\\nfunction loadUnderlyingList(url1)\\n{\\n\\t$.ajax({\\n\\t\\turl: url1,\\n\\t\\tsuccess : function(data, textStatus, XMLHttpRequest) {\\n\\t\\t//\\talert(data);\\n\\t\\t\\t$(\\'#replacetext\\').html(data);\\n\\t\\t\\t$(\\'tr:even\\').addClass(\"alt\");\\n\\t\\t\\t\\t\\t\\t\\n\\t\\t}\\n\\t});\\n\\t$(\\'#backLink\\').show();\\n}\\n\\n$(document).ready(function(){\\n\\t\\t//alert(\"Hi<><><><><><><>\");\\n\\t\\tloadUnderlyingList(\\'/products/content/derivatives/equities/fo_underlyinglist.htm\\');\\n\\t\\t$(\\'#backLink\\').hide();\\n\\t\\t\\n\\t});\\n\\n\\n</script>\\n\\n\\n\\n\\n</body>\\n</html>\\n'"
      ]
     },
     "execution_count": 7,
     "metadata": {},
     "output_type": "execute_result"
    }
   ],
   "source": [
    "webpage"
   ]
  },
  {
   "cell_type": "code",
   "execution_count": 14,
   "metadata": {},
   "outputs": [
    {
     "ename": "ModuleNotFoundError",
     "evalue": "No module named 'ghost'",
     "output_type": "error",
     "traceback": [
      "\u001b[1;31m---------------------------------------------------------------------------\u001b[0m",
      "\u001b[1;31mModuleNotFoundError\u001b[0m                       Traceback (most recent call last)",
      "\u001b[1;32m<ipython-input-14-0855cf79395e>\u001b[0m in \u001b[0;36m<module>\u001b[1;34m\u001b[0m\n\u001b[1;32m----> 1\u001b[1;33m \u001b[1;32mfrom\u001b[0m \u001b[0mghost\u001b[0m \u001b[1;32mimport\u001b[0m \u001b[0mGhost\u001b[0m\u001b[1;33m\u001b[0m\u001b[0m\n\u001b[0m\u001b[0;32m      2\u001b[0m \u001b[0mghost\u001b[0m \u001b[1;33m=\u001b[0m \u001b[0mGhost\u001b[0m\u001b[1;33m(\u001b[0m\u001b[1;33m)\u001b[0m\u001b[1;33m\u001b[0m\u001b[0m\n\u001b[0;32m      3\u001b[0m \u001b[0mpage\u001b[0m\u001b[1;33m,\u001b[0m \u001b[0mresources\u001b[0m \u001b[1;33m=\u001b[0m \u001b[0mghost\u001b[0m\u001b[1;33m.\u001b[0m\u001b[0mopen\u001b[0m\u001b[1;33m(\u001b[0m\u001b[1;34m'http://academic.research.microsoft.com/Search?query=lander'\u001b[0m\u001b[1;33m)\u001b[0m\u001b[1;33m\u001b[0m\u001b[0m\n\u001b[0;32m      4\u001b[0m result, resources = ghost.evaluate(\n\u001b[0;32m      5\u001b[0m     \"document.getElementsByClassName('inline-text-org');\")\n",
      "\u001b[1;31mModuleNotFoundError\u001b[0m: No module named 'ghost'"
     ]
    }
   ],
   "source": [
    "from ghost import Ghost\n",
    "ghost = Ghost()\n",
    "page, resources = ghost.open('http://academic.research.microsoft.com/Search?query=lander')\n",
    "result, resources = ghost.evaluate(\n",
    "    \"document.getElementsByClassName('inline-text-org');\")"
   ]
  },
  {
   "cell_type": "code",
   "execution_count": 64,
   "metadata": {},
   "outputs": [
    {
     "data": {
      "text/plain": [
       "<div class=\"tabular-data-historic\" id=\"replacetext\" style=\"width:100%\"></div>"
      ]
     },
     "execution_count": 64,
     "metadata": {},
     "output_type": "execute_result"
    }
   ],
   "source": [
    "# Generate list of NSE option equity and index stocks\n",
    "\n",
    "import requests\n",
    "from bs4 import BeautifulSoup\n",
    "import json\n",
    "\n",
    "url = 'https://www.nseindia.com/products/content/derivatives/equities/fo_underlying_home.htm'\n",
    "\n",
    "headers = {'User-Agent': 'Mozilla/5.0'}\n",
    "\n",
    "response = requests.get(url, headers=headers)\n",
    "\n",
    "soup = BeautifulSoup(response.content, 'html.parser')\n",
    "soup.find(id='replacetext')"
   ]
  },
  {
   "cell_type": "code",
   "execution_count": 67,
   "metadata": {},
   "outputs": [],
   "source": [
    "urlbase = \"https://www.nseindia.com/live_market/dynaContent/live_watch/\"\n",
    "bandurl = urlbase + \"get_quote/GetQuote.jsp?symbol=\"+'ACC'"
   ]
  },
  {
   "cell_type": "code",
   "execution_count": 68,
   "metadata": {},
   "outputs": [
    {
     "data": {
      "text/plain": [
       "'https://www.nseindia.com/live_market/dynaContent/live_watch/get_quote/GetQuote.jsp?symbol=ACC'"
      ]
     },
     "execution_count": 68,
     "metadata": {},
     "output_type": "execute_result"
    }
   ],
   "source": [
    "bandurl"
   ]
  },
  {
   "cell_type": "code",
   "execution_count": 40,
   "metadata": {},
   "outputs": [],
   "source": [
    "#******         Paths and variables         ****\n",
    "#_______________________________________________\n",
    "\n",
    "datapath = r'./zdata/'\n",
    "\n",
    "\n",
    "\n",
    "page = requests.get(url, headers=headers)"
   ]
  },
  {
   "cell_type": "code",
   "execution_count": 42,
   "metadata": {},
   "outputs": [
    {
     "data": {
      "text/plain": [
       "b'\\n<!DOCTYPE html PUBLIC \"-//W3C//DTD XHTML 1.0 Transitional//EN\" \"http://www.w3.org/TR/xhtml1/DTD/xhtml1-transitional.dtd\">\\n<html lang=\"en\" xml:lang=\"en\" xmlns=\"http://www.w3.org/1999/xhtml\">\\n<head>\\n<meta http-equiv=\"Content-Type\" content=\"text/html; charset=utf-8\" />\\n<title>NSE - National Stock Exchange of India Ltd.</title>\\n<link href=\"/common/css/style.css\" rel=\"stylesheet\" type=\"text/css\" />\\n\\n\\n<script type=\"text/javascript\">\\nvar page=[\"eqder_luui\",\"products\"];\\n</script>\\n<script type=\"text/javascript\" src=\"/common/js/jquery-1.4.4.min.js\"></script>\\n<link rel=\"stylesheet\" href=\"/jqueryui/themes/base/jquery.ui.all.css\"/>\\n<script src=\"/jqueryui/ui/minified/jquery.ui.core.min.js\"></script>\\n<script src=\"/jqueryui/ui/minified/jquery.ui.widget.min.js\"></script>\\n<script src=\"/jqueryui/ui/minified/jquery.ui.datepicker.min.js\"></script>\\n<script language=\"javascript\" src=\"/js/wdm_turnover.js\"></script>\\n<script language=\"javascript\" src=\"/js/validateWDMGrowth.js\"></script>\\n<script language=\"javascript\" src=\"/js/ipo/jppast_issue_yr.js\"></script>\\n<script type=\"text/javascript\" src=\"/common/js/mainNav.js\"></script>\\n<script type=\"text/javascript\" src=\"/common/js/js.js\"></script>\\n<link rel=\"shortcut icon\" type=\"image/x-icon\" href=\"/common/images/favicon.ico\" />\\n<script>bazadebezolkohpepadr=\"2064827320\"</script><script type=\"text/javascript\" src=\"https://www.nseindia.com/akam/10/7b12c1e6\" defer></script></head>\\n<body>\\n<div id=\"container\"> \\n\\t<!--Wrapper Start-->\\n\\t<div id=\"wrapper\"> \\n\\t\\t\\n\\t\\t<!--Main Menu Start-->\\n\\t\\t<div id=\"main_menu\"></div>\\n\\t\\t<!--Main Menu End--> \\n\\t</div>\\n\\t<div class=\"clear\"></div>\\n\\t<!--Wrapper End--> \\n\\t<!-- Content Big Start -->\\n\\t<div class=\"content_big\">\\n\\t\\t<div class=\"black_overlay\" style=\"display:none\"></div>\\n\\t\\t<div id=\"wrapper_btm\"> \\n\\t\\t\\t<!-- Main Content Start -->\\n\\t\\t\\t<div class=\"main_content\">\\n\\t\\t        <div id=\"breadcrumb\"></div><!-- Changed by indigo as on 15/02/2011 -->\\n\\t\\t\\t\\t<div class=\"lhs_nav\" id=\"subMenu\"></div>\\n\\t\\t\\t\\t<div class=\"content\">\\n\\t\\t\\t\\t\\t<h2></h2>\\n\\t\\t\\t\\t\\t<div class=\"archives\">\\n\\t\\t\\t\\t\\t\\t<p><div style=\"display:none\" id=\"backLink\"><h4><a class=\"backPage\"  href=\"/products/content/derivatives/equities/fo_underlying_home.htm\">Back</a></h4></div>\\n\\t\\t\\t\\t\\t</p>\\n\\t\\t\\t\\t\\t\\t<div  id=\"replacetext\" class=\"tabular-data-historic\"  style=\"width:100%\"></div>\\n\\t\\t\\t\\t\\t\\n\\t\\t\\t\\t</div>\\n\\t\\t\\t</div>\\n\\t\\t\\t\\n\\t\\t\\t\\t<div class=\"clear\"></div>\\n\\t\\t\\t</div>\\n\\t\\t\\t<!-- Main Content End --> \\n\\t\\t\\t<!--Footer Start-->\\n\\t\\t\\t<div id=\"footer\">\\n\\t\\t\\t</div>\\n\\t\\t\\t<!--Footer End-->\\n\\t\\t\\t<div class=\"clear\"></div>\\n\\t\\t</div>\\n\\t\\t<!--Wrapper Bottom End--> \\n\\t</div>\\n\\t<!--Content Big End--> \\n</div>\\n<div class=\"footer_nav_main\">\\n\\t<div id=\"footer_nav\">\\n\\t</div>\\n</div>\\n\\n<script>\\n\\nfunction loadUnderlyingList(url1)\\n{\\n\\t$.ajax({\\n\\t\\turl: url1,\\n\\t\\tsuccess : function(data, textStatus, XMLHttpRequest) {\\n\\t\\t//\\talert(data);\\n\\t\\t\\t$(\\'#replacetext\\').html(data);\\n\\t\\t\\t$(\\'tr:even\\').addClass(\"alt\");\\n\\t\\t\\t\\t\\t\\t\\n\\t\\t}\\n\\t});\\n\\t$(\\'#backLink\\').show();\\n}\\n\\n$(document).ready(function(){\\n\\t\\t//alert(\"Hi<><><><><><><>\");\\n\\t\\tloadUnderlyingList(\\'/products/content/derivatives/equities/fo_underlyinglist.htm\\');\\n\\t\\t$(\\'#backLink\\').hide();\\n\\t\\t\\n\\t});\\n\\n\\n</script>\\n\\n\\n\\n\\n<noscript><img src=\"https://www.nseindia.com/akam/10/pixel_7b12c1e6?a=dD0wMGUyMzFiM2M1NjhlZTY0OTZiYTY3OGM5NTEwZGU1ZWExY2I4MmQwJmpzPW9mZg==\" style=\"visibility: hidden; position: absolute; left: -999px; top: -999px;\" /></noscript></body>\\n</html>\\n'"
      ]
     },
     "execution_count": 42,
     "metadata": {},
     "output_type": "execute_result"
    }
   ],
   "source": [
    "page.content"
   ]
  },
  {
   "cell_type": "code",
   "execution_count": 35,
   "metadata": {},
   "outputs": [
    {
     "data": {
      "text/plain": [
       "[]"
      ]
     },
     "execution_count": 35,
     "metadata": {},
     "output_type": "execute_result"
    }
   ],
   "source": [
    "doc = lh.fromstring(page.content)\n",
    "tblpath = '//div[@id=\"replacetext\"]/table'\n",
    "# tblpath= \"//*[@id='replacetext']\"\n",
    "\n",
    "doc.xpath(tblpath)"
   ]
  }
 ],
 "metadata": {
  "kernelspec": {
   "display_name": "Python 3",
   "language": "python",
   "name": "python3"
  },
  "language_info": {
   "codemirror_mode": {
    "name": "ipython",
    "version": 3
   },
   "file_extension": ".py",
   "mimetype": "text/x-python",
   "name": "python",
   "nbconvert_exporter": "python",
   "pygments_lexer": "ipython3",
   "version": "3.6.6"
  }
 },
 "nbformat": 4,
 "nbformat_minor": 2
}
