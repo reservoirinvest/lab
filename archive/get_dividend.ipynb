{
 "cells": [
  {
   "cell_type": "code",
   "execution_count": 4,
   "metadata": {},
   "outputs": [],
   "source": [
    "# Sample program for to get dividend\n",
    "from ib_insync import *\n",
    "util.startLoop()\n",
    "# ib=IB().connect('127.0.0.1', 7496, clientId=9) # kavi tws live\n",
    "ib = IB().connect('127.0.0.1', 4001, clientId=10) # kavi IBG live"
   ]
  },
  {
   "cell_type": "code",
   "execution_count": 5,
   "metadata": {},
   "outputs": [
    {
     "data": {
      "text/plain": [
       "(15.0, 1537.25, 1490.0)"
      ]
     },
     "execution_count": 5,
     "metadata": {},
     "output_type": "execute_result"
    }
   ],
   "source": [
    "#... Get the scrip\n",
    "symbol = 'ACC'\n",
    "contract = Stock('ACC', 'NSE')\n",
    "ib.qualifyContracts(contract)\n",
    "\n",
    "#...Get underlying price and dividend (for Black-Scholes-Merton)\n",
    "# dividends are in genericTickList=456\n",
    "ticker = ib.reqMktData(contract=contract, genericTickList=456)\n",
    "while ticker.close != ticker.close:\n",
    "    ib.sleep(0.01)\n",
    "undPrice = ticker.close\n",
    "dividend = ticker.dividends.past12Months\n",
    "\n",
    "#... Alternative code to get the price from historical bar data \n",
    "# Last second's bar of historical with realtime updates\n",
    "undPrice1 = ib.reqHistoricalData(contract=contract, endDateTime='', \n",
    "                     durationStr='60 S', barSizeSetting='1 secs', \n",
    "                     whatToShow='TRADES', useRTH=True, \n",
    "                     formatDate=1, keepUpToDate=True)[-1].close\n",
    "\n",
    "ib.disconnect()\n",
    "(dividend, undPrice, undPrice1)"
   ]
  },
  {
   "cell_type": "code",
   "execution_count": null,
   "metadata": {},
   "outputs": [],
   "source": []
  }
 ],
 "metadata": {
  "kernelspec": {
   "display_name": "Python 3",
   "language": "python",
   "name": "python3"
  },
  "language_info": {
   "codemirror_mode": {
    "name": "ipython",
    "version": 3
   },
   "file_extension": ".py",
   "mimetype": "text/x-python",
   "name": "python",
   "nbconvert_exporter": "python",
   "pygments_lexer": "ipython3",
   "version": "3.7.1"
  }
 },
 "nbformat": 4,
 "nbformat_minor": 2
}
