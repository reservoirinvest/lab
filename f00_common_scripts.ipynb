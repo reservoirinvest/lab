{
 "cells": [
  {
   "cell_type": "markdown",
   "metadata": {},
   "source": [
    "# Purpose\n",
    "This is a repository of common scripts re-used in programs and funcitions\n",
    "\n",
    "## Run ib_sync"
   ]
  },
  {
   "cell_type": "raw",
   "metadata": {},
   "source": [
    "#***          Start ib_insync (run once)       *****\n",
    "#_______________________________________________\n",
    "\n",
    "from ib_insync import *\n",
    "util.startLoop()\n",
    "# ib=IB().connect('127.0.0.1', 7496, clientId=3) # kavi TWS live\n",
    "ib=IB().connect('127.0.0.1', 4001, clientId=2) # kavi IBG live"
   ]
  },
  {
   "cell_type": "markdown",
   "metadata": {},
   "source": [
    "## Paths and Variables"
   ]
  },
  {
   "cell_type": "raw",
   "metadata": {},
   "source": [
    "#******         Paths and variables         ****\n",
    "#_______________________________________________\n",
    "\n",
    "datapath = r'./zdata/'\n",
    "market = 'NSE'\n"
   ]
  },
  {
   "cell_type": "markdown",
   "metadata": {},
   "source": [
    "## Error catching in list comprehension"
   ]
  },
  {
   "cell_type": "raw",
   "metadata": {},
   "source": [
    "#******   Error catch in list comprehension  ****\n",
    "#________________________________________________\n",
    "\n",
    "def catch(func, handle=lambda e : e, *args, **kwargs):\n",
    "    '''List comprehension error catcher'''\n",
    "    try:\n",
    "        return func(*args, **kwargs)\n",
    "    except Exception as e:\n",
    "        pass"
   ]
  },
  {
   "cell_type": "code",
   "execution_count": null,
   "metadata": {},
   "outputs": [],
   "source": []
  }
 ],
 "metadata": {
  "kernelspec": {
   "display_name": "Python 3",
   "language": "python",
   "name": "python3"
  },
  "language_info": {
   "codemirror_mode": {
    "name": "ipython",
    "version": 3
   },
   "file_extension": ".py",
   "mimetype": "text/x-python",
   "name": "python",
   "nbconvert_exporter": "python",
   "pygments_lexer": "ipython3",
   "version": "3.6.6"
  }
 },
 "nbformat": 4,
 "nbformat_minor": 2
}
