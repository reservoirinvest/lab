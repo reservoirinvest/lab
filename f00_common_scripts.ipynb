{
 "cells": [
  {
   "cell_type": "markdown",
   "metadata": {},
   "source": [
    "# Purpose\n",
    "This is a repository of common scripts re-used in programs and funcitions\n",
    "\n",
    "## Run ib_sync"
   ]
  },
  {
   "cell_type": "code",
   "execution_count": 2,
   "metadata": {},
   "outputs": [],
   "source": [
    "#***          Start ib_insync (run once)       *****\n",
    "#_______________________________________________\n",
    "\n",
    "from ib_insync import *\n",
    "util.startLoop()\n",
    "ib = IB().connect('127.0.0.1', 7496, clientId=3) # kavi tws live\n",
    "# ib = IB().connect('127.0.0.1', 4001, clientId=0) # kavi IBG live\n",
    "# ib = IB().connect('127.0.0.1', 7499, clientId=1) # kavi tws paper-trade\n",
    "# ib = IB().connect('127.0.0.1', 4004, clientId=2) # kavi IBG paper-trade\n"
   ]
  },
  {
   "cell_type": "markdown",
   "metadata": {},
   "source": [
    "## Paths and Variables"
   ]
  },
  {
   "cell_type": "code",
   "execution_count": 3,
   "metadata": {},
   "outputs": [],
   "source": [
    "#******         Paths and variables         ****\n",
    "#_______________________________________________\n",
    "\n",
    "datapath = r'./zdata/'"
   ]
  },
  {
   "cell_type": "markdown",
   "metadata": {},
   "source": [
    "## Error catching in list comprehension"
   ]
  },
  {
   "cell_type": "raw",
   "metadata": {},
   "source": [
    "#******   Error catch in list comprehension  ****\n",
    "#________________________________________________\n",
    "\n",
    "def catch(func, handle=lambda e : e, *args, **kwargs):\n",
    "    '''List comprehension error catcher'''\n",
    "    try:\n",
    "        return func(*args, **kwargs)\n",
    "    except Exception as e:\n",
    "        pass"
   ]
  },
  {
   "cell_type": "markdown",
   "metadata": {},
   "source": [
    "# Get Price for NSE\n",
    "This function gets price for NSE scrips from IBKR"
   ]
  },
  {
   "cell_type": "code",
   "execution_count": 5,
   "metadata": {},
   "outputs": [
    {
     "data": {
      "text/plain": [
       "[Stock(conId=44652000, symbol='RELIANCE', exchange='NSE', primaryExchange='NSE', currency='INR', localSymbol='RELIANCE', tradingClass='RELIANCE')]"
      ]
     },
     "execution_count": 5,
     "metadata": {},
     "output_type": "execute_result"
    }
   ],
   "source": [
    "symbol = 'RELIANCE'\n",
    "exchange = 'NSE'\n",
    "\n",
    "contract = Stock(symbol=symbol, exchange=exchange)\n",
    "ib.qualifyContracts(contract)"
   ]
  },
  {
   "cell_type": "code",
   "execution_count": null,
   "metadata": {},
   "outputs": [],
   "source": [
    "i\n",
    "contract = Stock('TSLA', 'SMART', 'USD')\n",
    "\n",
    "dt = ''\n",
    "barsList = []\n",
    "while True:\n",
    "    bars = ib.reqHistoricalData(\n",
    "        contract,\n",
    "        endDateTime=dt,\n",
    "        durationStr='10 D',\n",
    "        barSizeSetting='1 min',\n",
    "        whatToShow='MIDPOINT',\n",
    "        useRTH=True,\n",
    "        formatDate=1)\n",
    "    if not bars:\n",
    "        break\n",
    "    barsList.append(bars)\n",
    "    dt = bars[0].date\n",
    "    print(dt)\n",
    "\n",
    "# save to CSV file\n",
    "allBars = [b for bars in reversed(barsList) for b in bars]\n",
    "df = util.df(allBars)\n",
    "df.to_csv(contract.symbol + '.csv')"
   ]
  },
  {
   "cell_type": "code",
   "execution_count": 23,
   "metadata": {},
   "outputs": [
    {
     "name": "stdout",
     "output_type": "stream",
     "text": [
      "Help on module ib_insync.util in ib_insync:\n",
      "\n",
      "NAME\n",
      "    ib_insync.util\n",
      "\n",
      "CLASSES\n",
      "    builtins.object\n",
      "        RootLogFilter\n",
      "        timeit\n",
      "    \n",
      "    class RootLogFilter(builtins.object)\n",
      "     |  Methods defined here:\n",
      "     |  \n",
      "     |  __init__(self, ibapiLevel=40)\n",
      "     |      Initialize self.  See help(type(self)) for accurate signature.\n",
      "     |  \n",
      "     |  filter(self, record)\n",
      "     |  \n",
      "     |  ----------------------------------------------------------------------\n",
      "     |  Data descriptors defined here:\n",
      "     |  \n",
      "     |  __dict__\n",
      "     |      dictionary for instance variables (if defined)\n",
      "     |  \n",
      "     |  __weakref__\n",
      "     |      list of weak references to the object (if defined)\n",
      "    \n",
      "    class timeit(builtins.object)\n",
      "     |  Context manager for timing.\n",
      "     |  \n",
      "     |  Methods defined here:\n",
      "     |  \n",
      "     |  __enter__(self)\n",
      "     |  \n",
      "     |  __exit__(self, *_args)\n",
      "     |  \n",
      "     |  __init__(self, title='Run')\n",
      "     |      Initialize self.  See help(type(self)) for accurate signature.\n",
      "     |  \n",
      "     |  ----------------------------------------------------------------------\n",
      "     |  Data descriptors defined here:\n",
      "     |  \n",
      "     |  __dict__\n",
      "     |      dictionary for instance variables (if defined)\n",
      "     |  \n",
      "     |  __weakref__\n",
      "     |      list of weak references to the object (if defined)\n",
      "\n",
      "FUNCTIONS\n",
      "    allowCtrlC()\n",
      "        Allow Control-C to end program.\n",
      "    \n",
      "    barplot(bars, title='', upColor='blue', downColor='red')\n",
      "        Create candlestick plot for the given bars. The bars can be given as\n",
      "        a DataFrame or as a list of bar objects.\n",
      "    \n",
      "    df(objs, labels=None)\n",
      "        Create pandas DataFrame from the sequence of same-type objects.\n",
      "        When a list of labels is given then only retain those labels and\n",
      "        drop the rest.\n",
      "    \n",
      "    formatIBDatetime(dt)\n",
      "        Format date or datetime to string that IB uses.\n",
      "    \n",
      "    formatSI(n)\n",
      "        Format the integer or float n to 3 significant digits + SI prefix.\n",
      "    \n",
      "    isNan(x:float)\n",
      "        Not a number test.\n",
      "    \n",
      "    logToConsole(level=20, ibapiLevel=40)\n",
      "        Create a log handler that logs to the console.\n",
      "    \n",
      "    logToFile(path, level=20, ibapiLevel=40)\n",
      "        Create a log handler that logs to the given file.\n",
      "    \n",
      "    parseIBDatetime(s)\n",
      "        Parse string in IB date or datetime format to datetime.\n",
      "    \n",
      "    patchAsyncio()\n",
      "        Patch asyncio to use pure Python implementation of Future and Task,\n",
      "        to deal with nested event loops in syncAwait.\n",
      "    \n",
      "    run(*awaitables:List[collections.abc.Awaitable], timeout=None)\n",
      "        By default run the event loop forever.\n",
      "        \n",
      "        When awaitables (like Tasks, Futures or coroutines) are given then\n",
      "        run the event loop until each has completed and return their results.\n",
      "        \n",
      "        An optional timeout (in seconds) can be given that will raise\n",
      "        asyncio.TimeoutError if the awaitables are not ready within the\n",
      "        timeout period.\n",
      "    \n",
      "    schedule(time, callback, *args)\n",
      "        Schedule the callback to be run at the given time with\n",
      "        the given arguments.\n",
      "    \n",
      "    sleep(secs:float=0.02) -> True\n",
      "        Wait for the given amount of seconds while everything still keeps\n",
      "        processing in the background. Never use time.sleep().\n",
      "    \n",
      "    startLoop()\n",
      "        Use asyncio event loop for Jupyter notebooks.\n",
      "    \n",
      "    syncAwait(future)\n",
      "        Synchronously wait until future is done, accounting for the possibility\n",
      "        that the event loop is already running.\n",
      "    \n",
      "    timeRange(start:datetime.time, end:datetime.time, step:float) -> Iterator[datetime.datetime]\n",
      "        Iterator that waits periodically until certain time points are\n",
      "        reached while yielding those time points.\n",
      "        \n",
      "        The startTime and dateTime parameters can be specified as\n",
      "        datetime.datetime, or as datetime.time in which case today\n",
      "        is used as the date.\n",
      "        \n",
      "        The step parameter is the number of seconds of each period.\n",
      "    \n",
      "    tree(obj)\n",
      "        Convert object to a tree of lists, dicts and simple values.\n",
      "        The result can be serialized to JSON.\n",
      "    \n",
      "    useQt()\n",
      "        Integrate asyncio and Qt loops:\n",
      "        Let the Qt event loop spin the asyncio event loop\n",
      "        (does not work with nested event loops in Windows)\n",
      "    \n",
      "    waitUntil(t:datetime.time) -> True\n",
      "        Wait until the given time t is reached.\n",
      "        \n",
      "        The time can be specified as datetime.datetime,\n",
      "        or as datetime.time in which case today is used as the date.\n",
      "\n",
      "FILE\n",
      "    c:\\users\\user\\miniconda3\\lib\\site-packages\\ib_insync\\util.py\n",
      "\n",
      "\n"
     ]
    }
   ],
   "source": [
    "help(util)"
   ]
  },
  {
   "cell_type": "code",
   "execution_count": 24,
   "metadata": {},
   "outputs": [],
   "source": [
    "ib.reqAccountSummary()"
   ]
  },
  {
   "cell_type": "code",
   "execution_count": 32,
   "metadata": {},
   "outputs": [
    {
     "data": {
      "text/plain": [
       "datetime.datetime(2018, 12, 1, 15, 45, 27, tzinfo=datetime.timezone.utc)"
      ]
     },
     "execution_count": 32,
     "metadata": {},
     "output_type": "execute_result"
    }
   ],
   "source": [
    "ib.reqCurrentTime()"
   ]
  },
  {
   "cell_type": "code",
   "execution_count": null,
   "metadata": {},
   "outputs": [],
   "source": []
  }
 ],
 "metadata": {
  "kernelspec": {
   "display_name": "Python 3",
   "language": "python",
   "name": "python3"
  },
  "language_info": {
   "codemirror_mode": {
    "name": "ipython",
    "version": 3
   },
   "file_extension": ".py",
   "mimetype": "text/x-python",
   "name": "python",
   "nbconvert_exporter": "python",
   "pygments_lexer": "ipython3",
   "version": "3.6.6"
  }
 },
 "nbformat": 4,
 "nbformat_minor": 2
}
