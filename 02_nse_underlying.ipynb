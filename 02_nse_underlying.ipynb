{
 "cells": [
  {
   "cell_type": "code",
   "execution_count": 73,
   "metadata": {},
   "outputs": [],
   "source": [
    "# Underlying details extracted from nse\n",
    "\n",
    "import pandas as pd\n",
    "import requests\n",
    "from bs4 import BeautifulSoup as bs4\n",
    "import json\n",
    "\n",
    "#******        Flags and Variables        ***\n",
    "#_______________________________________________\n",
    "\n",
    "load_from_pickle = True   # For underlying symbol list\n",
    "\n",
    "\n",
    "#******   Error catch in list comprehension  ****\n",
    "#________________________________________________\n",
    "\n",
    "def catch(func, handle=lambda e : e, *args, **kwargs):\n",
    "    '''List comprehension error catcher'''\n",
    "    try:\n",
    "        return func(*args, **kwargs)\n",
    "    except Exception as e:\n",
    "        pass\n",
    "    \n",
    "# get / make the symbols list\n",
    "if load_from_pickle:\n",
    "    symbols = pd.read_pickle('./zdata/nse_equity_options.pkl').Symbol.unique()\n",
    "else:\n",
    "    symbols = list(pd.read_csv('./zdata/nse_equity_symbols.csv'))\n",
    "\n",
    "def get_underlying(symbol):\n",
    "    \n",
    "    '''Gets the underlying data\n",
    "    Arg: (symbol as string)\n",
    "    Returns: df as dataframe'''\n",
    "\n",
    "    # URLs\n",
    "    url_base1 = \"https://www.nseindia.com/live_market/dynaContent/live_watch/\"\n",
    "    url = url_base + \"get_quote/GetQuote.jsp?symbol=\"+symbol\n",
    "\n",
    "    page = requests.get(url).text\n",
    "\n",
    "    # soup out the json dict\n",
    "    bs_nse = bs4(page, 'html.parser')\n",
    "    json_nse = json.loads(bs_nse.find(id='responseDiv').text.strip())\n",
    "\n",
    "    df = pd.DataFrame.from_dict(json_nse['data'][0], orient='index').T\n",
    "    \n",
    "    return df\n",
    "\n",
    "nse_underlyings = [catch(lambda: get_underlying(symbol)) for symbol in symbols[:2]]\n",
    "\n",
    "df_nse_und = pd.concat(nse_underlyings).set_index('symbol')\n",
    "\n",
    "# clean up the commas and dashes\n",
    "df_nse_und1 = df_nse_und.replace(',|-' , '', regex=True)"
   ]
  },
  {
   "cell_type": "code",
   "execution_count": null,
   "metadata": {},
   "outputs": [],
   "source": []
  },
  {
   "cell_type": "code",
   "execution_count": 133,
   "metadata": {},
   "outputs": [],
   "source": [
    "# convert column dates to datetime.date format\n",
    "\n",
    "filtin = ['Date', 'dt']\n",
    "filtout = ['isExDateFlag']\n",
    "date_columns_mask = df_nse_und1.columns.str.contains('|'.join(filtin)) | (df_nse_und1.columns.str.contains('|'.join(filtout)))\n",
    "date_column_list = df_nse_und1.loc[:, date_columns_mask].columns.tolist()\n",
    "date_column_list = [item for item in date_column_list if item not in 'isExDateFlag']\n"
   ]
  },
  {
   "cell_type": "code",
   "execution_count": 134,
   "metadata": {},
   "outputs": [
    {
     "data": {
      "text/plain": [
       "['bcEndDate',\n",
       " 'exDate',\n",
       " 'bcStartDate',\n",
       " 'cm_adj_high_dt',\n",
       " 'secDate',\n",
       " 'ndEndDate',\n",
       " 'recordDate',\n",
       " 'cm_adj_low_dt',\n",
       " 'ndStartDate']"
      ]
     },
     "execution_count": 134,
     "metadata": {},
     "output_type": "execute_result"
    }
   ],
   "source": [
    "date_column_list"
   ]
  },
  {
   "cell_type": "code",
   "execution_count": null,
   "metadata": {},
   "outputs": [],
   "source": [
    "df = df_nse_und1.loc[:, ['bcEndDate', 'exDate']].set_index(range(len(df_nse_und1)))\n",
    "pd.to_datetime(df_nse_und1.loc[:, df], format='%d%B%y', errors='coerce')"
   ]
  },
  {
   "cell_type": "code",
   "execution_count": 100,
   "metadata": {},
   "outputs": [
    {
     "data": {
      "text/plain": [
       "Index(['bcEndDate', 'exDate', 'bcStartDate', 'cm_adj_high_dt', 'secDate',\n",
       "       'ndEndDate', 'recordDate', 'cm_adj_low_dt', 'ndStartDate',\n",
       "       'isExDateFlag'],\n",
       "      dtype='object')"
      ]
     },
     "execution_count": 100,
     "metadata": {},
     "output_type": "execute_result"
    }
   ],
   "source": [
    "df_nse_und1.loc[:, date_columns].columns"
   ]
  },
  {
   "cell_type": "code",
   "execution_count": null,
   "metadata": {},
   "outputs": [],
   "source": []
  }
 ],
 "metadata": {
  "kernelspec": {
   "display_name": "Python 3",
   "language": "python",
   "name": "python3"
  },
  "language_info": {
   "codemirror_mode": {
    "name": "ipython",
    "version": 3
   },
   "file_extension": ".py",
   "mimetype": "text/x-python",
   "name": "python",
   "nbconvert_exporter": "python",
   "pygments_lexer": "ipython3",
   "version": "3.6.5"
  }
 },
 "nbformat": 4,
 "nbformat_minor": 2
}
