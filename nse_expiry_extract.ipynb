{
 "cells": [
  {
   "cell_type": "code",
   "execution_count": 59,
   "metadata": {},
   "outputs": [],
   "source": [
    "# Expiries and Symbols extract from NSE\n",
    "import requests\n",
    "import lxml.html as lh\n",
    "import datetime as dt\n",
    "import pandas as pd\n",
    "import re\n",
    "\n",
    "url = \"https://www.nseindia.com/marketinfo/companyTracker/mtOptionKeys.jsp?companySymbol=ACC&indexSymbol=NIFTY&series=EQ&instrument=OPTSTK&date=-\"\n",
    "page = requests.get(url)\n",
    "doc = lh.fromstring(page.content)\n",
    "\n",
    "the_path= \"//form\"   # Get the form content. There are two forms\n",
    "expiries = doc.xpath(the_path)[0].text_content() # 0 has the expiry date\n",
    "\n",
    "strip_chars = [ord('\\n'), ord('\\xa0'), ord('\\t')] # characters to be stripped\n",
    "char_table = {s: ' ' for s in strip_chars} # table for translate to locate the chars\n",
    "\n",
    "sym_exp = expiries.translate(char_table).split()\n",
    "symbol = sym_exp[2].strip('()') # Remove round () from the 3rd element\n",
    "\n",
    "\n",
    "# Get the expiries only from the table\n",
    "expiry = [sym_exp[k+i] \n",
    " for k, v in enumerate(sym_exp) \n",
    " if v == '--Select--' \n",
    " for i in range(len(sym_exp) - k)][1:]\n",
    "\n",
    "# Convert to datetime\n",
    "expiry_dt = [dt.datetime.strptime(date, \"%d%b%Y\").date() for date in expiry]"
   ]
  },
  {
   "cell_type": "code",
   "execution_count": 63,
   "metadata": {},
   "outputs": [],
   "source": [
    "tbl_path = \"//tr\"\n",
    "tr_elements = doc.xpath(tbl_path)"
   ]
  },
  {
   "cell_type": "code",
   "execution_count": 68,
   "metadata": {},
   "outputs": [],
   "source": [
    "# Option table is contained in rows of length 21\n",
    "opt_table = [t for t in tr_elements if len(t) == 21]\n",
    "tbl_head = [i.text_content() for i in opt_table[0]] "
   ]
  },
  {
   "cell_type": "code",
   "execution_count": 69,
   "metadata": {},
   "outputs": [],
   "source": [
    "tbl_head1 = ['cQuote',\n",
    " 'cOI',\n",
    " 'cCOI',\n",
    " 'cLTP',\n",
    " 'cNetChg',\n",
    " 'cVolume',\n",
    " 'cBidQty',\n",
    " 'cBidPrice',\n",
    " 'cOfferPrice',\n",
    " 'cOfferQty',\n",
    " 'Strike Price',\n",
    " 'pBidQty',\n",
    " 'pBidPrice',\n",
    " 'pOfferPrice',\n",
    " 'pOfferQty',\n",
    " 'pVolume',\n",
    " 'pNetChg',\n",
    " 'pLTP',\n",
    " 'pOI',\n",
    " 'pCOI',\n",
    " 'pQuote']"
   ]
  },
  {
   "cell_type": "code",
   "execution_count": 90,
   "metadata": {},
   "outputs": [],
   "source": [
    "import re\n",
    "def takenum(s):\n",
    "    '''Takes numeric only and removes everything else'''\n",
    "    try:\n",
    "        return float(re.findall(\"[-+]?\\d*\\.\\d+|\\d+\", s)[0])\n",
    "    except IndexError:\n",
    "        np.nan"
   ]
  },
  {
   "cell_type": "code",
   "execution_count": 91,
   "metadata": {},
   "outputs": [
    {
     "ename": "TypeError",
     "evalue": "zip argument #3 must support iteration",
     "output_type": "error",
     "traceback": [
      "\u001b[1;31m---------------------------------------------------------------------------\u001b[0m",
      "\u001b[1;31mTypeError\u001b[0m                                 Traceback (most recent call last)",
      "\u001b[1;32m<ipython-input-91-fee362e34f2b>\u001b[0m in \u001b[0;36m<module>\u001b[1;34m()\u001b[0m\n\u001b[0;32m      3\u001b[0m         \u001b[1;32mfor\u001b[0m \u001b[0mm\u001b[0m\u001b[1;33m,\u001b[0m \u001b[0mn\u001b[0m \u001b[1;32min\u001b[0m \u001b[0menumerate\u001b[0m\u001b[1;33m(\u001b[0m\u001b[0mv\u001b[0m\u001b[1;33m)\u001b[0m\u001b[1;33m:\u001b[0m\u001b[1;33m\u001b[0m\u001b[0m\n\u001b[0;32m      4\u001b[0m \u001b[1;31m#             print({symbol+':'+{expiry_dt+':'+{v[10]+':'+{tbl_head1[m]+':'+}}}})\u001b[0m\u001b[1;33m\u001b[0m\u001b[1;33m\u001b[0m\u001b[0m\n\u001b[1;32m----> 5\u001b[1;33m             \u001b[0mx\u001b[0m \u001b[1;33m=\u001b[0m \u001b[0mzip\u001b[0m\u001b[1;33m(\u001b[0m\u001b[1;33m[\u001b[0m\u001b[0msymbol\u001b[0m\u001b[1;33m]\u001b[0m\u001b[1;33m,\u001b[0m \u001b[0mexpiry_dt\u001b[0m\u001b[1;33m,\u001b[0m \u001b[0mtakenum\u001b[0m\u001b[1;33m(\u001b[0m\u001b[0mv\u001b[0m\u001b[1;33m[\u001b[0m\u001b[1;36m10\u001b[0m\u001b[1;33m]\u001b[0m\u001b[1;33m.\u001b[0m\u001b[0mtext_content\u001b[0m\u001b[1;33m(\u001b[0m\u001b[1;33m)\u001b[0m\u001b[1;33m)\u001b[0m\u001b[1;33m)\u001b[0m\u001b[1;33m\u001b[0m\u001b[0m\n\u001b[0m",
      "\u001b[1;31mTypeError\u001b[0m: zip argument #3 must support iteration"
     ]
    }
   ],
   "source": [
    "for e in expiry_dt:    \n",
    "    for k, v in enumerate(opt_table[1:]):\n",
    "        for m, n in enumerate(v):\n",
    "#             print({symbol+':'+{expiry_dt+':'+{v[10]+':'+{tbl_head1[m]+':'+}}}})\n",
    "            x = zip([symbol], expiry_dt, lambda x: takenum(v[10].text_content())"
   ]
  },
  {
   "cell_type": "code",
   "execution_count": 92,
   "metadata": {},
   "outputs": [
    {
     "data": {
      "text/plain": [
       "[]"
      ]
     },
     "execution_count": 92,
     "metadata": {},
     "output_type": "execute_result"
    }
   ],
   "source": [
    "[i for i in x]"
   ]
  },
  {
   "cell_type": "code",
   "execution_count": null,
   "metadata": {},
   "outputs": [],
   "source": []
  }
 ],
 "metadata": {
  "kernelspec": {
   "display_name": "Python 3",
   "language": "python",
   "name": "python3"
  },
  "language_info": {
   "codemirror_mode": {
    "name": "ipython",
    "version": 3
   },
   "file_extension": ".py",
   "mimetype": "text/x-python",
   "name": "python",
   "nbconvert_exporter": "python",
   "pygments_lexer": "ipython3",
   "version": "3.6.5"
  }
 },
 "nbformat": 4,
 "nbformat_minor": 2
}
