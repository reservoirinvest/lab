{
 "cells": [
  {
   "cell_type": "code",
   "execution_count": 1,
   "metadata": {},
   "outputs": [],
   "source": [
    "# Program places orders\n",
    "\n",
    "# STATUS: Incomplete\n",
    "\n",
    "#***          Start ib_insync (run once)       *****\n",
    "#___________________________________________________\n",
    "\n",
    "from ib_insync import *\n",
    "util.startLoop()\n",
    "ib=IB().connect('127.0.0.1', 7496, clientId=1) # kavi TWS live\n",
    "# ib=IB().connect('127.0.0.1', 4001, clientId=1) # kavi IBG live"
   ]
  },
  {
   "cell_type": "code",
   "execution_count": 9,
   "metadata": {},
   "outputs": [],
   "source": [
    "import pandas as pd\n",
    "import datetime\n",
    "\n",
    "#******         Paths and variables         ****\n",
    "#_______________________________________________\n",
    "\n",
    "datapath = r'./zdata/'\n",
    "base_rom = 10    # 90% RoM atleast\n",
    "\n",
    "df_orders = pd.read_pickle(datapath+'df_orders.pkl')\n",
    "\n",
    "# Filter for puts below strike threshold\n",
    "df_orders = df_orders[df_orders.Strike <= df_orders.Threshold]\n",
    "\n",
    "# Filter out the top Return on Margin trades\n",
    "df_orders1 = df_orders[df_orders.RoM >= base_rom].reset_index(drop=True)\n",
    "df_orders1 = df_orders1.sort_values('RoM', ascending=False)\n",
    "\n",
    "# Compute margin for the trade\n",
    "df_orders1['Margin'] = df_orders1.marginpct*df_orders1.Mlot*df_orders1.Strike"
   ]
  },
  {
   "cell_type": "code",
   "execution_count": 10,
   "metadata": {},
   "outputs": [],
   "source": [
    "# Filter only the trades expiring in this month\n",
    "# df = df_orders1[df_orders1.DTE == df_orders1.DTE.min()].reset_index(drop=True)\n",
    "df = df_orders1"
   ]
  },
  {
   "cell_type": "code",
   "execution_count": 11,
   "metadata": {},
   "outputs": [
    {
     "data": {
      "text/plain": [
       "115"
      ]
     },
     "execution_count": 11,
     "metadata": {},
     "output_type": "execute_result"
    }
   ],
   "source": [
    "# sorted(df_orders1.ibSymbol.unique())\n",
    "len(df)"
   ]
  },
  {
   "cell_type": "code",
   "execution_count": 12,
   "metadata": {},
   "outputs": [
    {
     "data": {
      "text/plain": [
       "8360520.0255"
      ]
     },
     "execution_count": 12,
     "metadata": {},
     "output_type": "execute_result"
    }
   ],
   "source": [
    "# total margin\n",
    "df.Margin.sum()"
   ]
  },
  {
   "cell_type": "code",
   "execution_count": 13,
   "metadata": {},
   "outputs": [],
   "source": [
    "# Sort by Symbol for easy reference in Excel\n",
    "df.sort_values(by='ibSymbol').to_excel(datapath+'temp.xlsx', index=None, freeze_panes=(1,1))"
   ]
  },
  {
   "cell_type": "code",
   "execution_count": 14,
   "metadata": {},
   "outputs": [
    {
     "name": "stderr",
     "output_type": "stream",
     "text": [
      "WARNING:ib_insync.client:Started to throttle requests\n",
      "WARNING:ib_insync.client:Stopped to throttle requests\n",
      "ERROR:ib_insync.wrapper:Error 388, reqId 2822: Order size 4,500 is smaller than the minimum required size of 7,000.\n",
      "WARNING:ib_insync.wrapper:Canceled order: Trade(contract=Option(conId=339356384, symbol='MRPL', lastTradeDateOrContractMonth='20190131', strike=60.0, right='P', multiplier='1', exchange='NSE', currency='INR', localSymbol='MRPL19JAN60PE', tradingClass='MRPL'), order=LimitOrder(softDollarTier=2600451317656: =,, orderId=2822, action='SELL', totalQuantity=4500, lmtPrice=2.9), orderStatus=OrderStatus(status='Cancelled'), fills=[], log=[TradeLogEntry(time=datetime.datetime(2018, 12, 16, 23, 56, 36, 365640, tzinfo=datetime.timezone.utc), status='PendingSubmit', message=''), TradeLogEntry(time=datetime.datetime(2018, 12, 16, 23, 56, 40, 414471, tzinfo=datetime.timezone.utc), status='Cancelled', message='Error 388, reqId 2822: Order size 4,500 is smaller than the minimum required size of 7,000.')])\n",
      "ERROR:ib_insync.wrapper:Error 388, reqId 2821: Order size 8,500 is smaller than the minimum required size of 13,000.\n",
      "WARNING:ib_insync.wrapper:Canceled order: Trade(contract=Option(conId=339359530, symbol='TV18BRDCS', lastTradeDateOrContractMonth='20190131', strike=28.0, right='P', multiplier='1', exchange='NSE', currency='INR', localSymbol='TV18BRDCST19JAN28PE', tradingClass='TV18BRDCST'), order=LimitOrder(softDollarTier=2600451317656: =,, orderId=2821, action='SELL', totalQuantity=8500, lmtPrice=1.7), orderStatus=OrderStatus(status='Cancelled'), fills=[], log=[TradeLogEntry(time=datetime.datetime(2018, 12, 16, 23, 56, 36, 365640, tzinfo=datetime.timezone.utc), status='PendingSubmit', message=''), TradeLogEntry(time=datetime.datetime(2018, 12, 16, 23, 56, 40, 416466, tzinfo=datetime.timezone.utc), status='Cancelled', message='Error 388, reqId 2821: Order size 8,500 is smaller than the minimum required size of 13,000.')])\n",
      "ERROR:ib_insync.wrapper:Error 388, reqId 2878: Order size 8,500 is smaller than the minimum required size of 13,000.\n",
      "WARNING:ib_insync.wrapper:Canceled order: Trade(contract=Option(conId=339359547, symbol='TV18BRDCS', lastTradeDateOrContractMonth='20190131', strike=30.0, right='P', multiplier='1', exchange='NSE', currency='INR', localSymbol='TV18BRDCST19JAN30PE', tradingClass='TV18BRDCST'), order=LimitOrder(softDollarTier=2600451317656: =,, orderId=2878, action='SELL', totalQuantity=8500, lmtPrice=0.25), orderStatus=OrderStatus(status='Cancelled'), fills=[], log=[TradeLogEntry(time=datetime.datetime(2018, 12, 16, 23, 56, 36, 388579, tzinfo=datetime.timezone.utc), status='PendingSubmit', message=''), TradeLogEntry(time=datetime.datetime(2018, 12, 16, 23, 56, 40, 425442, tzinfo=datetime.timezone.utc), status='Cancelled', message='Error 388, reqId 2878: Order size 8,500 is smaller than the minimum required size of 13,000.')])\n",
      "ERROR:ib_insync.wrapper:Error 388, reqId 2820: Order size 34,000 is smaller than the minimum required size of 55,000.\n",
      "WARNING:ib_insync.wrapper:Canceled order: Trade(contract=Option(conId=339381169, symbol='JPASSOCIA', lastTradeDateOrContractMonth='20190131', strike=5.0, right='P', multiplier='1', exchange='NSE', currency='INR', localSymbol='JPASSOCIAT19JAN5PE', tradingClass='JPASSOCIAT'), order=LimitOrder(softDollarTier=2600451317656: =,, orderId=2820, action='SELL', totalQuantity=34000, lmtPrice=0.45), orderStatus=OrderStatus(status='Cancelled'), fills=[], log=[TradeLogEntry(time=datetime.datetime(2018, 12, 16, 23, 56, 36, 364644, tzinfo=datetime.timezone.utc), status='PendingSubmit', message=''), TradeLogEntry(time=datetime.datetime(2018, 12, 16, 23, 56, 40, 431426, tzinfo=datetime.timezone.utc), status='Cancelled', message='Error 388, reqId 2820: Order size 34,000 is smaller than the minimum required size of 55,000.')])\n",
      "ERROR:ib_insync.wrapper:Error 388, reqId 2823: Order size 4,500 is smaller than the minimum required size of 4,700.\n",
      "WARNING:ib_insync.wrapper:Canceled order: Trade(contract=Option(conId=339365960, symbol='GSFC', lastTradeDateOrContractMonth='20190131', strike=85.0, right='P', multiplier='1', exchange='NSE', currency='INR', localSymbol='GSFC19JAN85PE', tradingClass='GSFC'), order=LimitOrder(softDollarTier=2600451317656: =,, orderId=2823, action='SELL', totalQuantity=4500, lmtPrice=3.75), orderStatus=OrderStatus(status='Cancelled'), fills=[], log=[TradeLogEntry(time=datetime.datetime(2018, 12, 16, 23, 56, 36, 366637, tzinfo=datetime.timezone.utc), status='PendingSubmit', message=''), TradeLogEntry(time=datetime.datetime(2018, 12, 16, 23, 56, 40, 431426, tzinfo=datetime.timezone.utc), status='Cancelled', message='Error 388, reqId 2823: Order size 4,500 is smaller than the minimum required size of 4,700.')])\n",
      "ERROR:ib_insync.wrapper:Error 388, reqId 2826: Order size 7,000 is smaller than the minimum required size of 12,000.\n",
      "WARNING:ib_insync.wrapper:Canceled order: Trade(contract=Option(conId=339358841, symbol='SREINFRA', lastTradeDateOrContractMonth='20190131', strike=20.0, right='P', multiplier='1', exchange='NSE', currency='INR', localSymbol='SREINFRA19JAN20PE', tradingClass='SREINFRA'), order=LimitOrder(softDollarTier=2600451317656: =,, orderId=2826, action='SELL', totalQuantity=7000, lmtPrice=1.2), orderStatus=OrderStatus(status='Cancelled'), fills=[], log=[TradeLogEntry(time=datetime.datetime(2018, 12, 16, 23, 56, 36, 368633, tzinfo=datetime.timezone.utc), status='PendingSubmit', message=''), TradeLogEntry(time=datetime.datetime(2018, 12, 16, 23, 56, 40, 487276, tzinfo=datetime.timezone.utc), status='Cancelled', message='Error 388, reqId 2826: Order size 7,000 is smaller than the minimum required size of 12,000.')])\n",
      "ERROR:ib_insync.wrapper:Error 388, reqId 2828: Order size 7,000 is smaller than the minimum required size of 12,000.\n",
      "WARNING:ib_insync.wrapper:Canceled order: Trade(contract=Option(conId=339358851, symbol='SREINFRA', lastTradeDateOrContractMonth='20190131', strike=22.5, right='P', multiplier='1', exchange='NSE', currency='INR', localSymbol='SREINFRA19JAN22.5PE', tradingClass='SREINFRA'), order=LimitOrder(softDollarTier=2600451317656: =,, orderId=2828, action='SELL', totalQuantity=7000, lmtPrice=0.85), orderStatus=OrderStatus(status='Cancelled'), fills=[], log=[TradeLogEntry(time=datetime.datetime(2018, 12, 16, 23, 56, 36, 369631, tzinfo=datetime.timezone.utc), status='PendingSubmit', message=''), TradeLogEntry(time=datetime.datetime(2018, 12, 16, 23, 56, 40, 493261, tzinfo=datetime.timezone.utc), status='Cancelled', message='Error 388, reqId 2828: Order size 7,000 is smaller than the minimum required size of 12,000.')])\n",
      "ERROR:ib_insync.wrapper:Error 388, reqId 2835: Order size 13,000 is smaller than the minimum required size of 16,000.\n",
      "WARNING:ib_insync.wrapper:Canceled order: Trade(contract=Option(conId=339368306, symbol='RPOWER', lastTradeDateOrContractMonth='20190131', strike=22.0, right='P', multiplier='1', exchange='NSE', currency='INR', localSymbol='RPOWER19JAN22PE', tradingClass='RPOWER'), order=LimitOrder(softDollarTier=2600451317656: =,, orderId=2835, action='SELL', totalQuantity=13000, lmtPrice=0.4), orderStatus=OrderStatus(status='Cancelled'), fills=[], log=[TradeLogEntry(time=datetime.datetime(2018, 12, 16, 23, 56, 36, 372622, tzinfo=datetime.timezone.utc), status='PendingSubmit', message=''), TradeLogEntry(time=datetime.datetime(2018, 12, 16, 23, 56, 40, 641863, tzinfo=datetime.timezone.utc), status='Cancelled', message='Error 388, reqId 2835: Order size 13,000 is smaller than the minimum required size of 16,000.')])\n",
      "ERROR:ib_insync.wrapper:Error 388, reqId 2856: Order size 13,000 is smaller than the minimum required size of 16,000.\n",
      "WARNING:ib_insync.wrapper:Canceled order: Trade(contract=Option(conId=339368297, symbol='RPOWER', lastTradeDateOrContractMonth='20190131', strike=21.0, right='P', multiplier='1', exchange='NSE', currency='INR', localSymbol='RPOWER19JAN21PE', tradingClass='RPOWER'), order=LimitOrder(softDollarTier=2600451317656: =,, orderId=2856, action='SELL', totalQuantity=13000, lmtPrice=0.25), orderStatus=OrderStatus(status='Cancelled'), fills=[], log=[TradeLogEntry(time=datetime.datetime(2018, 12, 16, 23, 56, 36, 380601, tzinfo=datetime.timezone.utc), status='PendingSubmit', message=''), TradeLogEntry(time=datetime.datetime(2018, 12, 16, 23, 56, 40, 643858, tzinfo=datetime.timezone.utc), status='Cancelled', message='Error 388, reqId 2856: Order size 13,000 is smaller than the minimum required size of 16,000.')])\n"
     ]
    },
    {
     "name": "stderr",
     "output_type": "stream",
     "text": [
      "ERROR:ib_insync.wrapper:Error 388, reqId 2877: Order size 13,000 is smaller than the minimum required size of 16,000.\n",
      "WARNING:ib_insync.wrapper:Canceled order: Trade(contract=Option(conId=339368291, symbol='RPOWER', lastTradeDateOrContractMonth='20190131', strike=20.0, right='P', multiplier='1', exchange='NSE', currency='INR', localSymbol='RPOWER19JAN20PE', tradingClass='RPOWER'), order=LimitOrder(softDollarTier=2600451317656: =,, orderId=2877, action='SELL', totalQuantity=13000, lmtPrice=0.2), orderStatus=OrderStatus(status='Cancelled'), fills=[], log=[TradeLogEntry(time=datetime.datetime(2018, 12, 16, 23, 56, 36, 387585, tzinfo=datetime.timezone.utc), status='PendingSubmit', message=''), TradeLogEntry(time=datetime.datetime(2018, 12, 16, 23, 56, 40, 643858, tzinfo=datetime.timezone.utc), status='Cancelled', message='Error 388, reqId 2877: Order size 13,000 is smaller than the minimum required size of 16,000.')])\n",
      "ERROR:ib_insync.wrapper:Error 388, reqId 2837: Order size 2,800 is smaller than the minimum required size of 3,800.\n",
      "WARNING:ib_insync.wrapper:Canceled order: Trade(contract=Option(conId=339350697, symbol='TATAMTRDV', lastTradeDateOrContractMonth='20190131', strike=75.0, right='P', multiplier='1', exchange='NSE', currency='INR', localSymbol='TATAMTRDVR19JAN75PE', tradingClass='TATAMTRDVR'), order=LimitOrder(softDollarTier=2600451317656: =,, orderId=2837, action='SELL', totalQuantity=2800, lmtPrice=1.3), orderStatus=OrderStatus(status='Cancelled'), fills=[], log=[TradeLogEntry(time=datetime.datetime(2018, 12, 16, 23, 56, 36, 373619, tzinfo=datetime.timezone.utc), status='PendingSubmit', message=''), TradeLogEntry(time=datetime.datetime(2018, 12, 16, 23, 56, 40, 649842, tzinfo=datetime.timezone.utc), status='Cancelled', message='Error 388, reqId 2837: Order size 2,800 is smaller than the minimum required size of 3,800.')])\n",
      "ERROR:ib_insync.wrapper:Error 388, reqId 2843: Order size 1,700 is smaller than the minimum required size of 2,000.\n",
      "WARNING:ib_insync.wrapper:Canceled order: Trade(contract=Option(conId=339333042, symbol='INFRATEL', lastTradeDateOrContractMonth='20190131', strike=235.0, right='P', multiplier='1', exchange='NSE', currency='INR', localSymbol='INFRATEL19JAN235PE', tradingClass='INFRATEL'), order=LimitOrder(softDollarTier=2600451317656: =,, orderId=2843, action='SELL', totalQuantity=1700, lmtPrice=3.05), orderStatus=OrderStatus(status='Cancelled'), fills=[], log=[TradeLogEntry(time=datetime.datetime(2018, 12, 16, 23, 56, 36, 376610, tzinfo=datetime.timezone.utc), status='PendingSubmit', message=''), TradeLogEntry(time=datetime.datetime(2018, 12, 16, 23, 56, 40, 974945, tzinfo=datetime.timezone.utc), status='Cancelled', message='Error 388, reqId 2843: Order size 1,700 is smaller than the minimum required size of 2,000.')])\n",
      "ERROR:ib_insync.wrapper:Error 388, reqId 2849: Order size 5,500 is smaller than the minimum required size of 7,000.\n",
      "WARNING:ib_insync.wrapper:Canceled order: Trade(contract=Option(conId=339346680, symbol='PNB', lastTradeDateOrContractMonth='20190131', strike=55.0, right='P', multiplier='1', exchange='NSE', currency='INR', localSymbol='PNB19JAN55PE', tradingClass='PNB'), order=LimitOrder(softDollarTier=2600451317656: =,, orderId=2849, action='SELL', totalQuantity=5500, lmtPrice=0.75), orderStatus=OrderStatus(status='Cancelled'), fills=[], log=[TradeLogEntry(time=datetime.datetime(2018, 12, 16, 23, 56, 36, 378605, tzinfo=datetime.timezone.utc), status='PendingSubmit', message=''), TradeLogEntry(time=datetime.datetime(2018, 12, 16, 23, 56, 41, 39774, tzinfo=datetime.timezone.utc), status='Cancelled', message='Error 388, reqId 2849: Order size 5,500 is smaller than the minimum required size of 7,000.')])\n",
      "ERROR:ib_insync.wrapper:Error 388, reqId 2912: Order size 5,500 is smaller than the minimum required size of 7,000.\n",
      "WARNING:ib_insync.wrapper:Canceled order: Trade(contract=Option(conId=339346674, symbol='PNB', lastTradeDateOrContractMonth='20190131', strike=52.5, right='P', multiplier='1', exchange='NSE', currency='INR', localSymbol='PNB19JAN52.5PE', tradingClass='PNB'), order=LimitOrder(softDollarTier=2600451317656: =,, orderId=2912, action='SELL', totalQuantity=5500, lmtPrice=0.3), orderStatus=OrderStatus(status='Cancelled'), fills=[], log=[TradeLogEntry(time=datetime.datetime(2018, 12, 16, 23, 56, 36, 405537, tzinfo=datetime.timezone.utc), status='PendingSubmit', message=''), TradeLogEntry(time=datetime.datetime(2018, 12, 16, 23, 56, 41, 41766, tzinfo=datetime.timezone.utc), status='Cancelled', message='Error 388, reqId 2912: Order size 5,500 is smaller than the minimum required size of 7,000.')])\n",
      "ERROR:ib_insync.wrapper:Error 388, reqId 2854: Order size 28,000 is smaller than the minimum required size of 34,000.\n",
      "WARNING:ib_insync.wrapper:Canceled order: Trade(contract=Option(conId=339381043, symbol='RCOM', lastTradeDateOrContractMonth='20190131', strike=9.0, right='P', multiplier='1', exchange='NSE', currency='INR', localSymbol='RCOM19JAN9PE', tradingClass='RCOM'), order=LimitOrder(softDollarTier=2600451317656: =,, orderId=2854, action='SELL', totalQuantity=28000, lmtPrice=0.2), orderStatus=OrderStatus(status='Cancelled'), fills=[], log=[TradeLogEntry(time=datetime.datetime(2018, 12, 16, 23, 56, 36, 379605, tzinfo=datetime.timezone.utc), status='PendingSubmit', message=''), TradeLogEntry(time=datetime.datetime(2018, 12, 16, 23, 56, 41, 59719, tzinfo=datetime.timezone.utc), status='Cancelled', message='Error 388, reqId 2854: Order size 28,000 is smaller than the minimum required size of 34,000.')])\n",
      "ERROR:ib_insync.wrapper:Error 388, reqId 2855: Order size 2,400 is smaller than the minimum required size of 2,850.\n",
      "WARNING:ib_insync.wrapper:Canceled order: Trade(contract=Option(conId=339331163, symbol='MOTHERSUM', lastTradeDateOrContractMonth='20190131', strike=136.65, right='P', multiplier='1', exchange='NSE', currency='INR', localSymbol='MOTHERSUMI19JAN136.65PE', tradingClass='MOTHERSUMI'), order=LimitOrder(softDollarTier=2600451317656: =,, orderId=2855, action='SELL', totalQuantity=2400, lmtPrice=1.5), orderStatus=OrderStatus(status='Cancelled'), fills=[], log=[TradeLogEntry(time=datetime.datetime(2018, 12, 16, 23, 56, 36, 380601, tzinfo=datetime.timezone.utc), status='PendingSubmit', message=''), TradeLogEntry(time=datetime.datetime(2018, 12, 16, 23, 56, 41, 61713, tzinfo=datetime.timezone.utc), status='Cancelled', message='Error 388, reqId 2855: Order size 2,400 is smaller than the minimum required size of 2,850.')])\n",
      "ERROR:ib_insync.wrapper:Error 388, reqId 2868: Order size 2,400 is smaller than the minimum required size of 2,850.\n",
      "WARNING:ib_insync.wrapper:Canceled order: Trade(contract=Option(conId=339331153, symbol='MOTHERSUM', lastTradeDateOrContractMonth='20190131', strike=133.35, right='P', multiplier='1', exchange='NSE', currency='INR', localSymbol='MOTHERSUMI19JAN133.35PE', tradingClass='MOTHERSUMI'), order=LimitOrder(softDollarTier=2600451317656: =,, orderId=2868, action='SELL', totalQuantity=2400, lmtPrice=1.2999999999999998), orderStatus=OrderStatus(status='Cancelled'), fills=[], log=[TradeLogEntry(time=datetime.datetime(2018, 12, 16, 23, 56, 36, 384598, tzinfo=datetime.timezone.utc), status='PendingSubmit', message=''), TradeLogEntry(time=datetime.datetime(2018, 12, 16, 23, 56, 41, 61713, tzinfo=datetime.timezone.utc), status='Cancelled', message='Error 388, reqId 2868: Order size 2,400 is smaller than the minimum required size of 2,850.')])\n",
      "ERROR:ib_insync.wrapper:Error 388, reqId 2873: Order size 2,400 is smaller than the minimum required size of 2,850.\n",
      "WARNING:ib_insync.wrapper:Canceled order: Trade(contract=Option(conId=339969176, symbol='MOTHERSUM', lastTradeDateOrContractMonth='20190131', strike=135.0, right='P', multiplier='1', exchange='NSE', currency='INR', localSymbol='MOTHERSUMI19JAN135PE', tradingClass='MOTHERSUMI'), order=LimitOrder(softDollarTier=2600451317656: =,, orderId=2873, action='SELL', totalQuantity=2400, lmtPrice=1.25), orderStatus=OrderStatus(status='Cancelled'), fills=[], log=[TradeLogEntry(time=datetime.datetime(2018, 12, 16, 23, 56, 36, 386585, tzinfo=datetime.timezone.utc), status='PendingSubmit', message=''), TradeLogEntry(time=datetime.datetime(2018, 12, 16, 23, 56, 41, 61713, tzinfo=datetime.timezone.utc), status='Cancelled', message='Error 388, reqId 2873: Order size 2,400 is smaller than the minimum required size of 2,850.')])\n"
     ]
    },
    {
     "name": "stderr",
     "output_type": "stream",
     "text": [
      "ERROR:ib_insync.wrapper:Error 388, reqId 2899: Order size 2,400 is smaller than the minimum required size of 2,850.\n",
      "WARNING:ib_insync.wrapper:Canceled order: Trade(contract=Option(conId=339331146, symbol='MOTHERSUM', lastTradeDateOrContractMonth='20190131', strike=130.0, right='P', multiplier='1', exchange='NSE', currency='INR', localSymbol='MOTHERSUMI19JAN130PE', tradingClass='MOTHERSUMI'), order=LimitOrder(softDollarTier=2600451317656: =,, orderId=2899, action='SELL', totalQuantity=2400, lmtPrice=0.8), orderStatus=OrderStatus(status='Cancelled'), fills=[], log=[TradeLogEntry(time=datetime.datetime(2018, 12, 16, 23, 56, 36, 398552, tzinfo=datetime.timezone.utc), status='PendingSubmit', message=''), TradeLogEntry(time=datetime.datetime(2018, 12, 16, 23, 56, 41, 68701, tzinfo=datetime.timezone.utc), status='Cancelled', message='Error 388, reqId 2899: Order size 2,400 is smaller than the minimum required size of 2,850.')])\n",
      "ERROR:ib_insync.wrapper:Error 388, reqId 2865: Order size 4,950 is smaller than the minimum required size of 6,000.\n",
      "WARNING:ib_insync.wrapper:Canceled order: Trade(contract=Option(conId=339362760, symbol='BEL', lastTradeDateOrContractMonth='20190131', strike=70.0, right='P', multiplier='1', exchange='NSE', currency='INR', localSymbol='BEL19JAN70PE', tradingClass='BEL'), order=LimitOrder(softDollarTier=2600451317656: =,, orderId=2865, action='SELL', totalQuantity=4950, lmtPrice=0.65), orderStatus=OrderStatus(status='Cancelled'), fills=[], log=[TradeLogEntry(time=datetime.datetime(2018, 12, 16, 23, 56, 36, 383591, tzinfo=datetime.timezone.utc), status='PendingSubmit', message=''), TradeLogEntry(time=datetime.datetime(2018, 12, 16, 23, 56, 41, 417690, tzinfo=datetime.timezone.utc), status='Cancelled', message='Error 388, reqId 2865: Order size 4,950 is smaller than the minimum required size of 6,000.')])\n",
      "ERROR:ib_insync.wrapper:Error 388, reqId 2924: Order size 4,950 is smaller than the minimum required size of 6,000.\n",
      "WARNING:ib_insync.wrapper:Canceled order: Trade(contract=Option(conId=339362754, symbol='BEL', lastTradeDateOrContractMonth='20190131', strike=67.5, right='P', multiplier='1', exchange='NSE', currency='INR', localSymbol='BEL19JAN67.5PE', tradingClass='BEL'), order=LimitOrder(softDollarTier=2600451317656: =,, orderId=2924, action='SELL', totalQuantity=4950, lmtPrice=0.3), orderStatus=OrderStatus(status='Cancelled'), fills=[], log=[TradeLogEntry(time=datetime.datetime(2018, 12, 16, 23, 56, 36, 414510, tzinfo=datetime.timezone.utc), status='PendingSubmit', message=''), TradeLogEntry(time=datetime.datetime(2018, 12, 16, 23, 56, 41, 419685, tzinfo=datetime.timezone.utc), status='Cancelled', message='Error 388, reqId 2924: Order size 4,950 is smaller than the minimum required size of 6,000.')])\n",
      "ERROR:ib_insync.wrapper:Error 388, reqId 2869: Order size 11,000 is smaller than the minimum required size of 12,000.\n",
      "WARNING:ib_insync.wrapper:Canceled order: Trade(contract=Option(conId=339349769, symbol='IDFCBANK', lastTradeDateOrContractMonth='20190131', strike=30.0, right='P', multiplier='1', exchange='NSE', currency='INR', localSymbol='IDFCBANK19JAN30PE', tradingClass='IDFCBANK'), order=LimitOrder(softDollarTier=2600451317656: =,, orderId=2869, action='SELL', totalQuantity=11000, lmtPrice=0.3), orderStatus=OrderStatus(status='Cancelled'), fills=[], log=[TradeLogEntry(time=datetime.datetime(2018, 12, 16, 23, 56, 36, 385589, tzinfo=datetime.timezone.utc), status='PendingSubmit', message=''), TradeLogEntry(time=datetime.datetime(2018, 12, 16, 23, 56, 41, 419685, tzinfo=datetime.timezone.utc), status='Cancelled', message='Error 388, reqId 2869: Order size 11,000 is smaller than the minimum required size of 12,000.')])\n",
      "ERROR:ib_insync.wrapper:Error 388, reqId 2875: Order size 9,000 is smaller than the minimum required size of 15,000.\n",
      "WARNING:ib_insync.wrapper:Canceled order: Trade(contract=Option(conId=339343379, symbol='SYNDIBANK', lastTradeDateOrContractMonth='20190131', strike=27.0, right='P', multiplier='1', exchange='NSE', currency='INR', localSymbol='SYNDIBANK19JAN27PE', tradingClass='SYNDIBANK'), order=LimitOrder(softDollarTier=2600451317656: =,, orderId=2875, action='SELL', totalQuantity=9000, lmtPrice=0.25), orderStatus=OrderStatus(status='Cancelled'), fills=[], log=[TradeLogEntry(time=datetime.datetime(2018, 12, 16, 23, 56, 36, 387585, tzinfo=datetime.timezone.utc), status='PendingSubmit', message=''), TradeLogEntry(time=datetime.datetime(2018, 12, 16, 23, 56, 41, 463567, tzinfo=datetime.timezone.utc), status='Cancelled', message='Error 388, reqId 2875: Order size 9,000 is smaller than the minimum required size of 15,000.')])\n",
      "ERROR:ib_insync.wrapper:Error 388, reqId 2880: Order size 6,000 is smaller than the minimum required size of 8,000.\n",
      "WARNING:ib_insync.wrapper:Canceled order: Trade(contract=Option(conId=339335328, symbol='NBCC', lastTradeDateOrContractMonth='20190131', strike=42.5, right='P', multiplier='1', exchange='NSE', currency='INR', localSymbol='NBCC19JAN42.5PE', tradingClass='NBCC'), order=LimitOrder(softDollarTier=2600451317656: =,, orderId=2880, action='SELL', totalQuantity=6000, lmtPrice=0.35), orderStatus=OrderStatus(status='Cancelled'), fills=[], log=[TradeLogEntry(time=datetime.datetime(2018, 12, 16, 23, 56, 36, 389579, tzinfo=datetime.timezone.utc), status='PendingSubmit', message=''), TradeLogEntry(time=datetime.datetime(2018, 12, 16, 23, 56, 41, 488501, tzinfo=datetime.timezone.utc), status='Cancelled', message='Error 388, reqId 2880: Order size 6,000 is smaller than the minimum required size of 8,000.')])\n",
      "ERROR:ib_insync.wrapper:Error 388, reqId 2900: Order size 6,000 is smaller than the minimum required size of 8,000.\n",
      "WARNING:ib_insync.wrapper:Canceled order: Trade(contract=Option(conId=339335321, symbol='NBCC', lastTradeDateOrContractMonth='20190131', strike=40.0, right='P', multiplier='1', exchange='NSE', currency='INR', localSymbol='NBCC19JAN40PE', tradingClass='NBCC'), order=LimitOrder(softDollarTier=2600451317656: =,, orderId=2900, action='SELL', totalQuantity=6000, lmtPrice=0.25), orderStatus=OrderStatus(status='Cancelled'), fills=[], log=[TradeLogEntry(time=datetime.datetime(2018, 12, 16, 23, 56, 36, 399552, tzinfo=datetime.timezone.utc), status='PendingSubmit', message=''), TradeLogEntry(time=datetime.datetime(2018, 12, 16, 23, 56, 41, 490496, tzinfo=datetime.timezone.utc), status='Cancelled', message='Error 388, reqId 2900: Order size 6,000 is smaller than the minimum required size of 8,000.')])\n",
      "ERROR:ib_insync.wrapper:Error 388, reqId 2892: Order size 3,500 is smaller than the minimum required size of 4,100.\n",
      "WARNING:ib_insync.wrapper:Canceled order: Trade(contract=Option(conId=339340562, symbol='ENGINERSI', lastTradeDateOrContractMonth='20190131', strike=100.0, right='P', multiplier='1', exchange='NSE', currency='INR', localSymbol='ENGINERSIN19JAN100PE', tradingClass='ENGINERSIN'), order=LimitOrder(softDollarTier=2600451317656: =,, orderId=2892, action='SELL', totalQuantity=3500, lmtPrice=0.65), orderStatus=OrderStatus(status='Cancelled'), fills=[], log=[TradeLogEntry(time=datetime.datetime(2018, 12, 16, 23, 56, 36, 395560, tzinfo=datetime.timezone.utc), status='PendingSubmit', message=''), TradeLogEntry(time=datetime.datetime(2018, 12, 16, 23, 56, 41, 555321, tzinfo=datetime.timezone.utc), status='Cancelled', message='Error 388, reqId 2892: Order size 3,500 is smaller than the minimum required size of 4,100.')])\n",
      "ERROR:ib_insync.wrapper:Error 388, reqId 2896: Order size 500 is smaller than the minimum required size of 550.\n",
      "WARNING:ib_insync.wrapper:Canceled order: Trade(contract=Option(conId=339384387, symbol='SIEMENS', lastTradeDateOrContractMonth='20190131', strike=840.0, right='P', multiplier='1', exchange='NSE', currency='INR', localSymbol='SIEMENS19JAN840PE', tradingClass='SIEMENS'), order=LimitOrder(softDollarTier=2600451317656: =,, orderId=2896, action='SELL', totalQuantity=500, lmtPrice=5.050000000000001), orderStatus=OrderStatus(status='Cancelled'), fills=[], log=[TradeLogEntry(time=datetime.datetime(2018, 12, 16, 23, 56, 36, 396560, tzinfo=datetime.timezone.utc), status='PendingSubmit', message=''), TradeLogEntry(time=datetime.datetime(2018, 12, 16, 23, 56, 41, 563300, tzinfo=datetime.timezone.utc), status='Cancelled', message='Error 388, reqId 2896: Order size 500 is smaller than the minimum required size of 550.')])\n"
     ]
    },
    {
     "name": "stderr",
     "output_type": "stream",
     "text": [
      "ERROR:ib_insync.wrapper:Error 388, reqId 2903: Order size 7,000 is smaller than the minimum required size of 12,000.\n",
      "WARNING:ib_insync.wrapper:Canceled order: Trade(contract=Option(conId=339361432, symbol='IDEA', lastTradeDateOrContractMonth='20190131', strike=29.0, right='P', multiplier='1', exchange='NSE', currency='INR', localSymbol='IDEA19JAN29PE', tradingClass='IDEA'), order=LimitOrder(softDollarTier=2600451317656: =,, orderId=2903, action='SELL', totalQuantity=7000, lmtPrice=0.2), orderStatus=OrderStatus(status='Cancelled'), fills=[], log=[TradeLogEntry(time=datetime.datetime(2018, 12, 16, 23, 56, 36, 401544, tzinfo=datetime.timezone.utc), status='PendingSubmit', message=''), TradeLogEntry(time=datetime.datetime(2018, 12, 16, 23, 56, 41, 563300, tzinfo=datetime.timezone.utc), status='Cancelled', message='Error 388, reqId 2903: Order size 7,000 is smaller than the minimum required size of 12,000.')])\n",
      "ERROR:ib_insync.wrapper:Error 388, reqId 2904: Order size 7,000 is smaller than the minimum required size of 12,000.\n",
      "WARNING:ib_insync.wrapper:Canceled order: Trade(contract=Option(conId=339361426, symbol='IDEA', lastTradeDateOrContractMonth='20190131', strike=28.0, right='P', multiplier='1', exchange='NSE', currency='INR', localSymbol='IDEA19JAN28PE', tradingClass='IDEA'), order=LimitOrder(softDollarTier=2600451317656: =,, orderId=2904, action='SELL', totalQuantity=7000, lmtPrice=0.2), orderStatus=OrderStatus(status='Cancelled'), fills=[], log=[TradeLogEntry(time=datetime.datetime(2018, 12, 16, 23, 56, 36, 401544, tzinfo=datetime.timezone.utc), status='PendingSubmit', message=''), TradeLogEntry(time=datetime.datetime(2018, 12, 16, 23, 56, 41, 567290, tzinfo=datetime.timezone.utc), status='Cancelled', message='Error 388, reqId 2904: Order size 7,000 is smaller than the minimum required size of 12,000.')])\n",
      "ERROR:ib_insync.wrapper:Error 388, reqId 2905: Order size 7,000 is smaller than the minimum required size of 12,000.\n",
      "WARNING:ib_insync.wrapper:Canceled order: Trade(contract=Option(conId=339361417, symbol='IDEA', lastTradeDateOrContractMonth='20190131', strike=27.0, right='P', multiplier='1', exchange='NSE', currency='INR', localSymbol='IDEA19JAN27PE', tradingClass='IDEA'), order=LimitOrder(softDollarTier=2600451317656: =,, orderId=2905, action='SELL', totalQuantity=7000, lmtPrice=0.2), orderStatus=OrderStatus(status='Cancelled'), fills=[], log=[TradeLogEntry(time=datetime.datetime(2018, 12, 16, 23, 56, 36, 402543, tzinfo=datetime.timezone.utc), status='PendingSubmit', message=''), TradeLogEntry(time=datetime.datetime(2018, 12, 16, 23, 56, 41, 567290, tzinfo=datetime.timezone.utc), status='Cancelled', message='Error 388, reqId 2905: Order size 7,000 is smaller than the minimum required size of 12,000.')])\n",
      "ERROR:ib_insync.wrapper:Error 388, reqId 2910: Order size 4,500 is smaller than the minimum required size of 4,700.\n",
      "WARNING:ib_insync.wrapper:Canceled order: Trade(contract=Option(conId=344167017, symbol='KTKBANK', lastTradeDateOrContractMonth='20190131', strike=90.0, right='P', multiplier='1', exchange='NSE', currency='INR', localSymbol='KTKBANK19JAN90PE', tradingClass='KTKBANK'), order=LimitOrder(softDollarTier=2600451317656: =,, orderId=2910, action='SELL', totalQuantity=4500, lmtPrice=0.44999999999999996), orderStatus=OrderStatus(status='Cancelled'), fills=[], log=[TradeLogEntry(time=datetime.datetime(2018, 12, 16, 23, 56, 36, 404540, tzinfo=datetime.timezone.utc), status='PendingSubmit', message=''), TradeLogEntry(time=datetime.datetime(2018, 12, 16, 23, 56, 41, 853960, tzinfo=datetime.timezone.utc), status='Cancelled', message='Error 388, reqId 2910: Order size 4,500 is smaller than the minimum required size of 4,700.')])\n",
      "ERROR:ib_insync.wrapper:Error 388, reqId 2920: Order size 1,700 is smaller than the minimum required size of 2,000.\n",
      "WARNING:ib_insync.wrapper:Canceled order: Trade(contract=Option(conId=339333027, symbol='INFRATEL', lastTradeDateOrContractMonth='20190131', strike=225.0, right='P', multiplier='1', exchange='NSE', currency='INR', localSymbol='INFRATEL19JAN225PE', tradingClass='INFRATEL'), order=LimitOrder(softDollarTier=2600451317656: =,, orderId=2920, action='SELL', totalQuantity=1700, lmtPrice=0.9500000000000001), orderStatus=OrderStatus(status='Cancelled'), fills=[], log=[TradeLogEntry(time=datetime.datetime(2018, 12, 16, 23, 56, 36, 413513, tzinfo=datetime.timezone.utc), status='PendingSubmit', message=''), TradeLogEntry(time=datetime.datetime(2018, 12, 16, 23, 56, 46, 702184, tzinfo=datetime.timezone.utc), status='Cancelled', message='Error 388, reqId 2920: Order size 1,700 is smaller than the minimum required size of 2,000.')])\n",
      "ERROR:ib_insync.wrapper:Error 388, reqId 2926: Order size 2,400 is smaller than the minimum required size of 2,850.\n",
      "WARNING:ib_insync.wrapper:Canceled order: Trade(contract=Option(conId=339331122, symbol='MOTHERSUM', lastTradeDateOrContractMonth='20190131', strike=120.0, right='P', multiplier='1', exchange='NSE', currency='INR', localSymbol='MOTHERSUMI19JAN120PE', tradingClass='MOTHERSUMI'), order=LimitOrder(softDollarTier=2600451317656: =,, orderId=2926, action='SELL', totalQuantity=2400, lmtPrice=0.6), orderStatus=OrderStatus(status='Cancelled'), fills=[], log=[TradeLogEntry(time=datetime.datetime(2018, 12, 16, 23, 56, 36, 415507, tzinfo=datetime.timezone.utc), status='PendingSubmit', message=''), TradeLogEntry(time=datetime.datetime(2018, 12, 16, 23, 56, 46, 710162, tzinfo=datetime.timezone.utc), status='Cancelled', message='Error 388, reqId 2926: Order size 2,400 is smaller than the minimum required size of 2,850.')])\n",
      "ERROR:ib_insync.wrapper:Error 388, reqId 2927: Order size 5,500 is smaller than the minimum required size of 7,000.\n",
      "WARNING:ib_insync.wrapper:Canceled order: Trade(contract=Option(conId=339346665, symbol='PNB', lastTradeDateOrContractMonth='20190131', strike=50.0, right='P', multiplier='1', exchange='NSE', currency='INR', localSymbol='PNB19JAN50PE', tradingClass='PNB'), order=LimitOrder(softDollarTier=2600451317656: =,, orderId=2927, action='SELL', totalQuantity=5500, lmtPrice=0.25), orderStatus=OrderStatus(status='Cancelled'), fills=[], log=[TradeLogEntry(time=datetime.datetime(2018, 12, 16, 23, 56, 36, 415507, tzinfo=datetime.timezone.utc), status='PendingSubmit', message=''), TradeLogEntry(time=datetime.datetime(2018, 12, 16, 23, 56, 46, 716146, tzinfo=datetime.timezone.utc), status='Cancelled', message='Error 388, reqId 2927: Order size 5,500 is smaller than the minimum required size of 7,000.')])\n",
      "ERROR:ib_insync.wrapper:Error 388, reqId 2928: Order size 2,800 is smaller than the minimum required size of 3,400.\n",
      "WARNING:ib_insync.wrapper:Canceled order: Trade(contract=Option(conId=339364354, symbol='CASTROLIN', lastTradeDateOrContractMonth='20190131', strike=130.0, right='P', multiplier='1', exchange='NSE', currency='INR', localSymbol='CASTROLIND19JAN130PE', tradingClass='CASTROLIND'), order=LimitOrder(softDollarTier=2600451317656: =,, orderId=2928, action='SELL', totalQuantity=2800, lmtPrice=0.5), orderStatus=OrderStatus(status='Cancelled'), fills=[], log=[TradeLogEntry(time=datetime.datetime(2018, 12, 16, 23, 56, 36, 415507, tzinfo=datetime.timezone.utc), status='PendingSubmit', message=''), TradeLogEntry(time=datetime.datetime(2018, 12, 16, 23, 56, 47, 41137, tzinfo=datetime.timezone.utc), status='Cancelled', message='Error 388, reqId 2928: Order size 2,800 is smaller than the minimum required size of 3,400.')])\n",
      "ERROR:ib_insync.wrapper:Error 388, reqId 2929: Order size 900 is smaller than the minimum required size of 1,100.\n",
      "WARNING:ib_insync.wrapper:Canceled order: Trade(contract=Option(conId=339387256, symbol='REPCOHOME', lastTradeDateOrContractMonth='20190131', strike=260.0, right='P', multiplier='1', exchange='NSE', currency='INR', localSymbol='REPCOHOME19JAN260PE', tradingClass='REPCOHOME'), order=LimitOrder(softDollarTier=2600451317656: =,, orderId=2929, action='SELL', totalQuantity=900, lmtPrice=1.2), orderStatus=OrderStatus(status='Cancelled'), fills=[], log=[TradeLogEntry(time=datetime.datetime(2018, 12, 16, 23, 56, 36, 415507, tzinfo=datetime.timezone.utc), status='PendingSubmit', message=''), TradeLogEntry(time=datetime.datetime(2018, 12, 16, 23, 56, 47, 43354, tzinfo=datetime.timezone.utc), status='Cancelled', message='Error 388, reqId 2929: Order size 900 is smaller than the minimum required size of 1,100.')])\n"
     ]
    }
   ],
   "source": [
    "#------------------------------------------------\n",
    "#####    WARNING: THIS PLACES THE TRADE  #######\n",
    "#________________________________________________\n",
    "\n",
    "limitTrade = [ib.placeOrder(contract, order) \n",
    "              for contract, order in zip(df.Contract, df.Orders)]"
   ]
  },
  {
   "cell_type": "markdown",
   "metadata": {},
   "source": [
    "#------------------------------------------------\n",
    "#####         Code to cancel all trades    ############\n",
    "#________________________________________________\n",
    "cancel = ib.reqGlobalCancel()\n"
   ]
  },
  {
   "cell_type": "code",
   "execution_count": 15,
   "metadata": {},
   "outputs": [],
   "source": [
    "# Put placed orders to a dataframe\n",
    "df_orders_placed = pd.DataFrame(limitTrade)"
   ]
  },
  {
   "cell_type": "code",
   "execution_count": 16,
   "metadata": {},
   "outputs": [],
   "source": [
    "# Write orders placed to file\n",
    "x  =  datapath + datetime.datetime.now().strftime(\"%Y%m%d_%H%M%S\") + \"_orders_placed.xlsx\"\n",
    "writer = pd.ExcelWriter(x)\n",
    "df_orders_placed.to_excel(writer, 'all-options', index=False, header=None)\n",
    "writer.save()"
   ]
  },
  {
   "cell_type": "code",
   "execution_count": null,
   "metadata": {},
   "outputs": [],
   "source": [
    "ib.disconnect()"
   ]
  },
  {
   "cell_type": "code",
   "execution_count": null,
   "metadata": {},
   "outputs": [],
   "source": [
    "list(df_orders)"
   ]
  },
  {
   "cell_type": "code",
   "execution_count": null,
   "metadata": {},
   "outputs": [],
   "source": [
    "df.head()"
   ]
  },
  {
   "cell_type": "code",
   "execution_count": null,
   "metadata": {},
   "outputs": [],
   "source": []
  }
 ],
 "metadata": {
  "kernelspec": {
   "display_name": "Python 3",
   "language": "python",
   "name": "python3"
  },
  "language_info": {
   "codemirror_mode": {
    "name": "ipython",
    "version": 3
   },
   "file_extension": ".py",
   "mimetype": "text/x-python",
   "name": "python",
   "nbconvert_exporter": "python",
   "pygments_lexer": "ipython3",
   "version": "3.6.6"
  }
 },
 "nbformat": 4,
 "nbformat_minor": 2
}
