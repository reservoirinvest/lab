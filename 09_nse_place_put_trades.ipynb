{
 "cells": [
  {
   "cell_type": "code",
   "execution_count": 13,
   "metadata": {},
   "outputs": [],
   "source": [
    "# Program places orders\n",
    "\n",
    "# STATUS: Incomplete\n",
    "\n",
    "#***          Start ib_insync (run once)       *****\n",
    "#___________________________________________________\n",
    "\n",
    "from ib_insync import *\n",
    "util.startLoop()\n",
    "# ib=IB().connect('127.0.0.1', 7496, clientId=1) # kavi TWS live\n",
    "ib=IB().connect('127.0.0.1', 4001, clientId=1) # kavi IBG live"
   ]
  },
  {
   "cell_type": "code",
   "execution_count": 14,
   "metadata": {},
   "outputs": [],
   "source": [
    "import pandas as pd\n",
    "import datetime\n",
    "\n",
    "#******         Paths and variables         ****\n",
    "#_______________________________________________\n",
    "\n",
    "datapath = r'./zdata/'\n",
    "base_rom = 20    # 90% RoM atleast\n",
    "\n",
    "df_orders = pd.read_pickle(datapath+'df_orders.pkl')\n",
    "\n",
    "# Filter for puts below strike threshold\n",
    "df_orders = df_orders[df_orders.Strike <= df_orders.Threshold]\n",
    "\n",
    "# Filter out the top Return on Margin trades\n",
    "df_orders1 = df_orders[df_orders.RoM >= base_rom].reset_index(drop=True)\n",
    "df_orders1 = df_orders1.sort_values('RoM', ascending=False)\n",
    "\n",
    "# Compute margin for the trade\n",
    "df_orders1['Margin'] = df_orders1.marginpct*df_orders1.Mlot*df_orders1.Strike"
   ]
  },
  {
   "cell_type": "code",
   "execution_count": 15,
   "metadata": {},
   "outputs": [],
   "source": [
    "# Filter only the trades expiring in this month\n",
    "# df = df_orders1[df_orders1.DTE == df_orders1.DTE.min()].reset_index(drop=True)\n",
    "df = df_orders1"
   ]
  },
  {
   "cell_type": "code",
   "execution_count": null,
   "metadata": {},
   "outputs": [],
   "source": [
    "# sorted(df_orders1.ibSymbol.unique())\n",
    "df.Expiry.min()"
   ]
  },
  {
   "cell_type": "code",
   "execution_count": null,
   "metadata": {},
   "outputs": [],
   "source": [
    "# total margin\n",
    "df.Margin.sum()"
   ]
  },
  {
   "cell_type": "code",
   "execution_count": 16,
   "metadata": {},
   "outputs": [
    {
     "data": {
      "text/plain": [
       "11"
      ]
     },
     "execution_count": 16,
     "metadata": {},
     "output_type": "execute_result"
    }
   ],
   "source": [
    "len(df)"
   ]
  },
  {
   "cell_type": "code",
   "execution_count": null,
   "metadata": {},
   "outputs": [],
   "source": [
    "# Sort by Symbol for easy reference in Excel\n",
    "df.sort_values(by='ibSymbol').to_excel(datapath+'temp.xlsx', index=None, freeze_panes=(1,1))"
   ]
  },
  {
   "cell_type": "code",
   "execution_count": null,
   "metadata": {},
   "outputs": [],
   "source": [
    "df.ibSymbol.unique()"
   ]
  },
  {
   "cell_type": "code",
   "execution_count": null,
   "metadata": {},
   "outputs": [],
   "source": []
  },
  {
   "cell_type": "code",
   "execution_count": 17,
   "metadata": {},
   "outputs": [
    {
     "name": "stderr",
     "output_type": "stream",
     "text": [
      "Error 388, reqId 68: Order size 8,500 is smaller than the minimum required size of 13,000.\n",
      "Canceled order: Trade(contract=Option(conId=339359530, symbol='TV18BRDCS', lastTradeDateOrContractMonth='20190131', strike=28.0, right='P', multiplier='1', exchange='NSE', currency='INR', localSymbol='TV18BRDCST19JAN28PE', tradingClass='TV18BRDCST'), order=LimitOrder(softDollarTier=2505990946264: Name: , Value: , DisplayName: , orderId=68, clientId=1, action='SELL', totalQuantity=8500, lmtPrice=4.25), orderStatus=OrderStatus(status='Cancelled'), fills=[], log=[TradeLogEntry(time=datetime.datetime(2018, 12, 18, 1, 34, 40, 892448, tzinfo=datetime.timezone.utc), status='PendingSubmit', message=''), TradeLogEntry(time=datetime.datetime(2018, 12, 18, 1, 34, 40, 903475, tzinfo=datetime.timezone.utc), status='Cancelled', message='Error 388, reqId 68: Order size 8,500 is smaller than the minimum required size of 13,000.')])\n",
      "Error 388, reqId 69: Order size 7,000 is smaller than the minimum required size of 12,000.\n",
      "Canceled order: Trade(contract=Option(conId=339358841, symbol='SREINFRA', lastTradeDateOrContractMonth='20190131', strike=20.0, right='P', multiplier='1', exchange='NSE', currency='INR', localSymbol='SREINFRA19JAN20PE', tradingClass='SREINFRA'), order=LimitOrder(softDollarTier=2505990946264: Name: , Value: , DisplayName: , orderId=69, clientId=1, action='SELL', totalQuantity=7000, lmtPrice=3.0), orderStatus=OrderStatus(status='Cancelled'), fills=[], log=[TradeLogEntry(time=datetime.datetime(2018, 12, 18, 1, 34, 40, 893449, tzinfo=datetime.timezone.utc), status='PendingSubmit', message=''), TradeLogEntry(time=datetime.datetime(2018, 12, 18, 1, 34, 40, 903475, tzinfo=datetime.timezone.utc), status='Cancelled', message='Error 388, reqId 69: Order size 7,000 is smaller than the minimum required size of 12,000.')])\n",
      "Error 388, reqId 75: Order size 11,000 is smaller than the minimum required size of 12,000.\n",
      "Canceled order: Trade(contract=Option(conId=339349769, symbol='IDFCBANK', lastTradeDateOrContractMonth='20190131', strike=30.0, right='P', multiplier='1', exchange='NSE', currency='INR', localSymbol='IDFCBANK19JAN30PE', tradingClass='IDFCBANK'), order=LimitOrder(softDollarTier=2505990946264: Name: , Value: , DisplayName: , orderId=75, clientId=1, action='SELL', totalQuantity=11000, lmtPrice=0.75), orderStatus=OrderStatus(status='Cancelled'), fills=[], log=[TradeLogEntry(time=datetime.datetime(2018, 12, 18, 1, 34, 40, 897459, tzinfo=datetime.timezone.utc), status='PendingSubmit', message=''), TradeLogEntry(time=datetime.datetime(2018, 12, 18, 1, 34, 40, 930548, tzinfo=datetime.timezone.utc), status='Cancelled', message='Error 388, reqId 75: Order size 11,000 is smaller than the minimum required size of 12,000.')])\n",
      "Error 388, reqId 77: Order size 13,000 is smaller than the minimum required size of 16,000.\n",
      "Canceled order: Trade(contract=Option(conId=339368291, symbol='RPOWER', lastTradeDateOrContractMonth='20190131', strike=20.0, right='P', multiplier='1', exchange='NSE', currency='INR', localSymbol='RPOWER19JAN20PE', tradingClass='RPOWER'), order=LimitOrder(softDollarTier=2505990946264: Name: , Value: , DisplayName: , orderId=77, clientId=1, action='SELL', totalQuantity=13000, lmtPrice=0.5), orderStatus=OrderStatus(status='Cancelled'), fills=[], log=[TradeLogEntry(time=datetime.datetime(2018, 12, 18, 1, 34, 40, 898462, tzinfo=datetime.timezone.utc), status='PendingSubmit', message=''), TradeLogEntry(time=datetime.datetime(2018, 12, 18, 1, 34, 40, 941576, tzinfo=datetime.timezone.utc), status='Cancelled', message='Error 388, reqId 77: Order size 13,000 is smaller than the minimum required size of 16,000.')])\n"
     ]
    }
   ],
   "source": [
    "#------------------------------------------------\n",
    "#####    WARNING: THIS PLACES THE TRADE  #######\n",
    "#________________________________________________\n",
    "\n",
    "limitTrade = [ib.placeOrder(contract, order) \n",
    "              for contract, order in zip(df.Contract, df.Orders)]"
   ]
  },
  {
   "cell_type": "markdown",
   "metadata": {},
   "source": [
    "#------------------------------------------------\n",
    "#####         Code to cancel all trades    ############\n",
    "#________________________________________________\n",
    "cancel = ib.reqGlobalCancel()\n"
   ]
  },
  {
   "cell_type": "code",
   "execution_count": null,
   "metadata": {},
   "outputs": [],
   "source": [
    "limitTrade"
   ]
  },
  {
   "cell_type": "code",
   "execution_count": 20,
   "metadata": {},
   "outputs": [],
   "source": [
    "# Put placed orders to a dataframe\n",
    "df_orders_placed = pd.DataFrame(limitTrade)"
   ]
  },
  {
   "cell_type": "code",
   "execution_count": 21,
   "metadata": {},
   "outputs": [],
   "source": [
    "# Write orders placed to file\n",
    "x  =  datapath + datetime.datetime.now().strftime(\"%Y%m%d_%H%M%S\") + \"_orders_placed.xlsx\"\n",
    "writer = pd.ExcelWriter(x)\n",
    "df_orders_placed.to_excel(writer, 'all-options', index=False, header=None)\n",
    "writer.save()"
   ]
  },
  {
   "cell_type": "code",
   "execution_count": 18,
   "metadata": {},
   "outputs": [],
   "source": [
    "ib.disconnect()"
   ]
  },
  {
   "cell_type": "code",
   "execution_count": null,
   "metadata": {},
   "outputs": [],
   "source": [
    "list(df_orders)"
   ]
  },
  {
   "cell_type": "code",
   "execution_count": null,
   "metadata": {},
   "outputs": [],
   "source": [
    "df.head()"
   ]
  },
  {
   "cell_type": "code",
   "execution_count": null,
   "metadata": {},
   "outputs": [],
   "source": []
  }
 ],
 "metadata": {
  "kernelspec": {
   "display_name": "Python 3",
   "language": "python",
   "name": "python3"
  },
  "language_info": {
   "codemirror_mode": {
    "name": "ipython",
    "version": 3
   },
   "file_extension": ".py",
   "mimetype": "text/x-python",
   "name": "python",
   "nbconvert_exporter": "python",
   "pygments_lexer": "ipython3",
   "version": "3.7.1"
  }
 },
 "nbformat": 4,
 "nbformat_minor": 2
}
