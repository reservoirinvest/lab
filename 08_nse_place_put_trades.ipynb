{
 "cells": [
  {
   "cell_type": "code",
   "execution_count": null,
   "metadata": {},
   "outputs": [],
   "source": [
    "# Program places orders\n",
    "\n",
    "# STATUS: Incomplete\n",
    "\n",
    "#***          Start ib_insync (run once)       *****\n",
    "#___________________________________________________\n",
    "\n",
    "from ib_insync import *\n",
    "util.startLoop()\n",
    "ib=IB().connect('127.0.0.1', 7496, clientId=1) # kavi TWS live\n",
    "# ib=IB().connect('127.0.0.1', 4001, clientId=1) # kavi IBG live"
   ]
  },
  {
   "cell_type": "code",
   "execution_count": 73,
   "metadata": {},
   "outputs": [],
   "source": [
    "import pandas as pd\n",
    "import datetime\n",
    "\n",
    "#******         Paths and variables         ****\n",
    "#_______________________________________________\n",
    "\n",
    "datapath = r'./zdata/'\n",
    "base_rom = 1.25    #90% RoM atleast\n",
    "\n",
    "df_orders = pd.read_pickle(datapath+'df_orders.pkl')\n",
    "\n",
    "# For puts place orders for strikes below threshold\n",
    "df_orders = df_orders[df_orders.Strike <= df_orders.Threshold]\n",
    "\n",
    "# Filter out the top Return on Margin trades\n",
    "df_orders1 = df_orders[df_orders.RoM >= base_rom].reset_index(drop=True)"
   ]
  },
  {
   "cell_type": "code",
   "execution_count": 77,
   "metadata": {},
   "outputs": [],
   "source": [
    "df_orders1.sort_values('ibSymbol').to_excel(datapath+'temp.xlsx')"
   ]
  },
  {
   "cell_type": "markdown",
   "metadata": {},
   "source": [
    "#------------------------------------------------\n",
    "#####    WARNING: THIS PLACES THE TRADE  #######\n",
    "#________________________________________________\n",
    "\n",
    "limitTrade = [ib.placeOrder(contract, order) \n",
    "              for contract, order in zip(df_orders1.Contract, df_orders1.Orders)]"
   ]
  },
  {
   "cell_type": "markdown",
   "metadata": {},
   "source": [
    "#------------------------------------------------\n",
    "#####         Code to cancel all trades    ############\n",
    "#________________________________________________\n",
    "cancel = ib.reqGlobalCancel()\n"
   ]
  },
  {
   "cell_type": "code",
   "execution_count": 80,
   "metadata": {},
   "outputs": [],
   "source": [
    "# Put placed orders to a dataframe\n",
    "df_orders_placed = pd.DataFrame(limitTrade)"
   ]
  },
  {
   "cell_type": "code",
   "execution_count": 81,
   "metadata": {},
   "outputs": [],
   "source": [
    "# Write orders placed to file\n",
    "x  =  datapath + datetime.datetime.now().strftime(\"%Y%m%d_%H%M%S\") + \"_orders_placed.xlsx\"\n",
    "writer = pd.ExcelWriter(x)\n",
    "df_orders_placed.to_excel(writer, 'all-options', index=False, header=None)\n",
    "writer.save()"
   ]
  },
  {
   "cell_type": "code",
   "execution_count": 82,
   "metadata": {},
   "outputs": [],
   "source": [
    "ib.disconnect()"
   ]
  },
  {
   "cell_type": "code",
   "execution_count": null,
   "metadata": {},
   "outputs": [],
   "source": []
  }
 ],
 "metadata": {
  "kernelspec": {
   "display_name": "Python 3",
   "language": "python",
   "name": "python3"
  },
  "language_info": {
   "codemirror_mode": {
    "name": "ipython",
    "version": 3
   },
   "file_extension": ".py",
   "mimetype": "text/x-python",
   "name": "python",
   "nbconvert_exporter": "python",
   "pygments_lexer": "ipython3",
   "version": "3.6.6"
  }
 },
 "nbformat": 4,
 "nbformat_minor": 2
}
