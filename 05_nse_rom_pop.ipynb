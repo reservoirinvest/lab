{
 "cells": [
  {
   "cell_type": "code",
   "execution_count": 1,
   "metadata": {},
   "outputs": [],
   "source": [
    "# Assembling RoM and PoP for option chains\n",
    "\n",
    "# STATUS: Incomplete\n",
    "\n",
    "import pandas as pd\n",
    "import datetime\n",
    "from scipy.stats import norm\n",
    "import numpy as np\n",
    "import math\n",
    "\n",
    "\n",
    "#******         Paths and variables         ****\n",
    "#_______________________________________________\n",
    "\n",
    "datapath = r'./zdata/'\n",
    "today = datetime.datetime.now().date()\n",
    "\n",
    "#*****            Set up the Limits         ****\n",
    "#_______________________________________________\n",
    "\n",
    "# Standard Deviation limits\n",
    "call_probability = 0.97  # for Calls\n",
    "put_probability = 0.95   # for Puts\n",
    "sd_days = 252 # no of days for the standard deviation\n",
    "\n",
    "call_sd = norm.ppf(1-(1-call_probability)/2)\n",
    "put_sd = norm.ppf(1-(1-put_probability)/2)\n",
    "\n",
    "# Read the pickles\n",
    "df_ohlc = pd.read_pickle(datapath+'df_ohlc.pkl')\n",
    "df_options = pd.read_pickle(datapath+'df_nse_options.pkl')\n",
    "df_nse_ib = pd.read_pickle(datapath+ 'df_underlying.pkl')\n",
    "\n",
    "#******      Get the Annual Standard Deviations  ****\n",
    "#____________________________________________________\n",
    "\n",
    "# get the max and min of ohlc for each date\n",
    "df_ohlc['maxp'] = df_ohlc.loc[:, ['O', 'H', 'L', 'C']].max(1) # Max price for calls\n",
    "df_ohlc['minp'] = df_ohlc.loc[:, ['O', 'H', 'L', 'C']].min(1) # Min price for puts\n",
    "\n",
    "# Compute the annual standard deviation for calls and puts\n",
    "df_cSD = df_ohlc[(df_ohlc.D > df_ohlc.D.max()- \\\n",
    "         datetime.timedelta(days=sd_days))].groupby('ibSymbol') \\\n",
    "        ['ibSymbol', 'maxp'].std(ddof=0).rename(columns={'maxp': 'cASD'})\n",
    "\n",
    "df_pSD = df_ohlc[(df_ohlc.D > df_ohlc.D.max()- \\\n",
    "         datetime.timedelta(days=sd_days))].groupby('ibSymbol') \\\n",
    "        ['ibSymbol', 'minp'].std(ddof=0).rename(columns={'minp': 'pASD'})\n",
    "\n",
    "df_aSD = df_ohlc[(df_ohlc.D > df_ohlc.D.max()- \\\n",
    "         datetime.timedelta(days=sd_days))].groupby('ibSymbol') \\\n",
    "        ['ibSymbol', 'C'].std(ddof=0).rename(columns={'C': 'ASD'})\n",
    "\n",
    "df_SD = pd.concat(objs=[df_aSD, df_cSD, df_pSD], axis=1).reset_index()"
   ]
  },
  {
   "cell_type": "code",
   "execution_count": 58,
   "metadata": {},
   "outputs": [],
   "source": [
    "# Convert Expiry column into datetime\n",
    "df_options.Expiry = pd.to_datetime(df_options.Expiry)\n",
    "\n",
    "# get the days to expiry for the options\n",
    "df_options['DTE'] = (df_options.Expiry - datetime.datetime.now()).dt.days\n",
    "\n",
    "# Determine put or call - option type\n",
    "df_options['Type'] = np.where(df_options.Strike > df_options.undPrice, 'c', 'p')"
   ]
  },
  {
   "cell_type": "code",
   "execution_count": 3,
   "metadata": {},
   "outputs": [],
   "source": [
    "# Compute risk-free rate (r) from 91 day T-bills\n",
    "rate_url = 'https://rbi.org.in/home.aspx'\n",
    "\n",
    "li = pd.read_html(rate_url)\n",
    "li_df = li[4].rename(columns = {0: 'Cat', 1: 'Values'})\n",
    "li_val = li_df.loc[li_df.Cat == '91 day T-bills', 'Values']\n",
    "r = float((str(li_val).split('\\n')[0].split('%')[0].split(' ')[-1:])[0])/100"
   ]
  },
  {
   "cell_type": "code",
   "execution_count": 4,
   "metadata": {},
   "outputs": [],
   "source": [
    "#*****      European Black-Scholes     ******\n",
    "#____________________________________________\n",
    "\n",
    "# Ref: https://github.com/dedwards25/Python_Option_Pricing/blob/master/GBS.ipynb\n",
    "\n",
    "def get_eu_bs(option_type, fs, x, t, r, v, b=0):\n",
    "    '''Gets the Black-Scholes option prices and deltas\n",
    "    Args:\n",
    "       (option_type): 'p' for put | 'c' for call\n",
    "       (fs): underlying price in float\n",
    "       (x): strike price in float\n",
    "       (t): time to expiration in int days\n",
    "       (r): risk-free-rate in float\n",
    "       (b): cost-of-carry or dividend in float. Default = 0\n",
    "       (v): implied volatility or annual standard deviation in float\n",
    "    Returns:\n",
    "       (value, delta, gamma, theta, vega, rho) tuple\n",
    "    '''\n",
    "     # -----------\n",
    "    # Create preliminary calculations\n",
    "    t__sqrt = math.sqrt(t)\n",
    "    d1 = (math.log(fs / x) + (b + (v * v) / 2) * t) / (v * t__sqrt)\n",
    "    d2 = d1 - v * t__sqrt\n",
    "\n",
    "    if option_type == \"c\":\n",
    "        # it's a call\n",
    "        value = fs * math.exp((b - r) * t) * norm.cdf(d1) - x * math.exp(-r * t) * norm.cdf(d2)\n",
    "        delta = math.exp((b - r) * t) * norm.cdf(d1)\n",
    "        gamma = math.exp((b - r) * t) * norm.pdf(d1) / (fs * v * t__sqrt)\n",
    "        theta = -(fs * v * math.exp((b - r) * t) * norm.pdf(d1)) / (2 * t__sqrt) - (b - r) * fs * math.exp(\n",
    "            (b - r) * t) * norm.cdf(d1) - r * x * math.exp(-r * t) * norm.cdf(d2)\n",
    "        vega = math.exp((b - r) * t) * fs * t__sqrt * norm.pdf(d1)\n",
    "        rho = x * t * math.exp(-r * t) * norm.cdf(d2)\n",
    "    else:\n",
    "        # it's a put\n",
    "        value = x * math.exp(-r * t) * norm.cdf(-d2) - (fs * math.exp((b - r) * t) * norm.cdf(-d1))\n",
    "        delta = -math.exp((b - r) * t) * norm.cdf(-d1)\n",
    "        gamma = math.exp((b - r) * t) * norm.pdf(d1) / (fs * v * t__sqrt)\n",
    "        theta = -(fs * v * math.exp((b - r) * t) * norm.pdf(d1)) / (2 * t__sqrt) + (b - r) * fs * math.exp(\n",
    "            (b - r) * t) * norm.cdf(-d1) + r * x * math.exp(-r * t) * norm.cdf(-d2)\n",
    "        vega = math.exp((b - r) * t) * fs * t__sqrt * norm.pdf(d1)\n",
    "        rho = -x * t * math.exp(-r * t) * norm.cdf(-d2)\n",
    "    \n",
    "    return (value, delta, gamma, theta, vega, rho)\n",
    "\n",
    "# Add ibSymbol, margin, lots and standard deviations to df_options\n",
    "df_nse_ib = pd.read_pickle(datapath+ 'df_underlying.pkl') # Link between nse and ib symbols\n",
    "\n",
    "df = df_options.merge(df_nse_ib, on='nseSymbol').merge(df_SD, on='ibSymbol')\n",
    "\n",
    "# Add risk-free rate \n",
    "df['Rate'] = r"
   ]
  },
  {
   "cell_type": "code",
   "execution_count": 5,
   "metadata": {
    "scrolled": true
   },
   "outputs": [
    {
     "data": {
      "text/plain": [
       "(54.88116360940265,\n",
       " 0.5488116360940265,\n",
       " 6.053567152093668e-237,\n",
       " 3.292869816564159,\n",
       " 1.2506669736225516e-230,\n",
       " 1.2096543316569679e-231)"
      ]
     },
     "execution_count": 5,
     "metadata": {},
     "output_type": "execute_result"
    }
   ],
   "source": [
    "get_eu_bs(option_type='c', fs=100, x=88, t=10, r=0.06, v=20.66, b=0)"
   ]
  },
  {
   "cell_type": "code",
   "execution_count": 65,
   "metadata": {},
   "outputs": [
    {
     "data": {
      "text/plain": [
       "['nseSymbol',\n",
       " 'Expiry',\n",
       " 'Strike',\n",
       " 'undPrice',\n",
       " 'cOI',\n",
       " 'cChnginOI',\n",
       " 'cVolume',\n",
       " 'cIV',\n",
       " 'cLTP',\n",
       " 'cNetChng',\n",
       " 'cBidQty',\n",
       " 'cBidPrice',\n",
       " 'cAskPrice',\n",
       " 'cAskQty',\n",
       " 'pBidQty',\n",
       " 'pBidPrice',\n",
       " 'pAskPrice',\n",
       " 'pAskQty',\n",
       " 'pNetChng',\n",
       " 'pLTP',\n",
       " 'pIV',\n",
       " 'pVolume',\n",
       " 'pChnginOI',\n",
       " 'pOI',\n",
       " 'DTE',\n",
       " 'Type',\n",
       " 'Mlot',\n",
       " 'marginpct',\n",
       " 'ibSymbol',\n",
       " 'ASD',\n",
       " 'cASD',\n",
       " 'pASD',\n",
       " 'Rate']"
      ]
     },
     "execution_count": 65,
     "metadata": {},
     "output_type": "execute_result"
    }
   ],
   "source": [
    "list(df)"
   ]
  },
  {
   "cell_type": "code",
   "execution_count": 67,
   "metadata": {
    "scrolled": true
   },
   "outputs": [],
   "source": [
    "df1 = df.loc[:, ['nseSymbol', 'Type', 'undPrice', 'Strike', 'DTE', 'Rate', 'ASD']]\n",
    "df1.DTE = pd.to_numeric(df1.DTE)"
   ]
  },
  {
   "cell_type": "code",
   "execution_count": 16,
   "metadata": {},
   "outputs": [],
   "source": [
    "# Compute the bsm\n",
    "# Add Model value and Delta (PoP)\n",
    "# Compute RoM "
   ]
  },
  {
   "cell_type": "code",
   "execution_count": 80,
   "metadata": {},
   "outputs": [
    {
     "data": {
      "text/plain": [
       "['ACC', 'p', 1439.15, 1140.0, 29, 0.068121, 107.43938469592979]"
      ]
     },
     "execution_count": 80,
     "metadata": {},
     "output_type": "execute_result"
    }
   ],
   "source": [
    "list(df1.loc[32])"
   ]
  },
  {
   "cell_type": "code",
   "execution_count": 91,
   "metadata": {},
   "outputs": [
    {
     "data": {
      "text/plain": [
       "(1870.6964297759525, 0.17552040061699686, 0.0, 112.24178578655716, 0.0, 0.0)"
      ]
     },
     "execution_count": 91,
     "metadata": {},
     "output_type": "execute_result"
    }
   ],
   "source": [
    "get_eu_bs('c', 10658, 10550, 29, 0.06, 0.2087*10658)"
   ]
  },
  {
   "cell_type": "code",
   "execution_count": null,
   "metadata": {},
   "outputs": [],
   "source": [
    "np.vectorize(get_eu_bs(option_type=df.Type, fs=df.undPrice, x=df.Strike, t=df.DTE, r=df.Rate, v=df.ASD, b=0))"
   ]
  },
  {
   "cell_type": "code",
   "execution_count": null,
   "metadata": {},
   "outputs": [],
   "source": [
    "df.apply(lambda x: get_eu_bs(x.Type, x.undPrice, x.Strike, x.DTE, x.Rate, x.ASD))"
   ]
  },
  {
   "cell_type": "code",
   "execution_count": null,
   "metadata": {},
   "outputs": [],
   "source": []
  }
 ],
 "metadata": {
  "kernelspec": {
   "display_name": "Python 3",
   "language": "python",
   "name": "python3"
  },
  "language_info": {
   "codemirror_mode": {
    "name": "ipython",
    "version": 3
   },
   "file_extension": ".py",
   "mimetype": "text/x-python",
   "name": "python",
   "nbconvert_exporter": "python",
   "pygments_lexer": "ipython3",
   "version": "3.6.6"
  }
 },
 "nbformat": 4,
 "nbformat_minor": 2
}
