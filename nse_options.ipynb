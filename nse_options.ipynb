{
 "cells": [
  {
   "cell_type": "code",
   "execution_count": 1,
   "metadata": {},
   "outputs": [
    {
     "data": {
      "text/plain": [
       "<IB connected to 127.0.0.1:4004 clientId=2>"
      ]
     },
     "execution_count": 1,
     "metadata": {},
     "output_type": "execute_result"
    }
   ],
   "source": [
    "import numpy as np\n",
    "import pandas as pd\n",
    "from datetime import datetime\n",
    "from itertools import product\n",
    "\n",
    "from ib_insync import *\n",
    "util.startLoop()\n",
    "\n",
    "ib=IB()\n",
    "ib.connect('127.0.0.1', 4004, clientId=2)"
   ]
  },
  {
   "cell_type": "code",
   "execution_count": 2,
   "metadata": {},
   "outputs": [],
   "source": [
    "# Get the options list\n",
    "\n",
    "options_url1 = \"https://www.interactivebrokers.co.in/en/index.php?f=2222&exch=nse&showcategories=OPTGRP&p=&cc=&limit=100&page=1\"\n",
    "options_url2 = \"https://www.interactivebrokers.co.in/en/index.php?f=2222&exch=nse&showcategories=OPTGRP&p=&cc=&limit=100&page=2\"\n",
    "nse = pd.concat([pd.read_html(options_url1, header=0)[2], \n",
    "                         pd.read_html(options_url2, header=0)[2]], \n",
    "                        sort=True).reset_index(drop=True)\n",
    "\n",
    "nse = nse.iloc[:, [1, 2, 3]]\n",
    "nse.columns = ['iSymbol', 'Desc', 'Symbol']"
   ]
  },
  {
   "cell_type": "code",
   "execution_count": 3,
   "metadata": {},
   "outputs": [],
   "source": [
    "# Note multipliers are not correct for NSE!. So get them !!!\n",
    "# Get the list of Equity and Index Option scrips\n",
    "paisaurl = \"https://www.5paisa.com/5pit/spma.asp\"\n",
    "paisa = pd.read_html(paisaurl, header=0)[1]          # It's the second table in the url\n",
    "\n",
    "# Replace & for M&M, L&T, etc. This is not needed for IBKR\n",
    "mask = paisa.loc[paisa.Symbol.str.contains(\"&\"), \"Symbol\"]\n",
    "paisa.loc[paisa.Symbol.isin(mask), \"Symbol\"] = mask.str.replace(\"&\", \"\")\n",
    "\n",
    "nse_options = pd.merge(nse, paisa[['Symbol', 'Mlot']], on=\"Symbol\", how='left')\n",
    "nse_options[\"Exchange\"] = 'NSE'"
   ]
  },
  {
   "cell_type": "code",
   "execution_count": 22,
   "metadata": {},
   "outputs": [],
   "source": [
    "# List of nse indexes (extracted from error!)\n",
    "idx_list = [\"BANKNIFTY\", \"NIFTY50\", \"NSEFTSE\", \"USDINR\"]\n",
    "stock_list = nse_options.loc[~nse_options.iSymbol.isin(idx_list), :]"
   ]
  },
  {
   "cell_type": "code",
   "execution_count": 23,
   "metadata": {},
   "outputs": [
    {
     "name": "stderr",
     "output_type": "stream",
     "text": [
      "WARNING:ib_insync.client:Started to throttle requests\n",
      "WARNING:ib_insync.client:Stopped to throttle requests\n"
     ]
    },
    {
     "data": {
      "text/plain": [
       "[Stock(conId=44652144, symbol='ACC', exchange='NSE', primaryExchange='NSE', currency='INR', localSymbol='ACC', tradingClass='ACC'),\n",
       " Stock(conId=56986798, symbol='ADANIENT', exchange='NSE', primaryExchange='NSE', currency='INR', localSymbol='ADANIENT', tradingClass='ADANIENT'),\n",
       " Stock(conId=79403918, symbol='ADANIPORT', exchange='NSE', primaryExchange='NSE', currency='INR', localSymbol='ADANIPORTS', tradingClass='ADANIPORT'),\n",
       " Stock(conId=113744943, symbol='AMARAJABA', exchange='NSE', primaryExchange='NSE', currency='INR', localSymbol='AMARAJABAT', tradingClass='AMARAJABA'),\n",
       " Stock(conId=44652129, symbol='AMBUJACEM', exchange='NSE', primaryExchange='NSE', currency='INR', localSymbol='AMBUJACEM', tradingClass='AMBUJACEM'),\n",
       " Stock(conId=78607402, symbol='APOLLOHOS', exchange='NSE', primaryExchange='NSE', currency='INR', localSymbol='APOLLOHOSP', tradingClass='APOLLOHOS'),\n",
       " Stock(conId=56988336, symbol='APOLLOTYR', exchange='NSE', primaryExchange='NSE', currency='INR', localSymbol='APOLLOTYRE', tradingClass='APOLLOTYR'),\n",
       " Stock(conId=56988374, symbol='ARVIND', exchange='NSE', primaryExchange='NSE', currency='INR', localSymbol='ARVIND', tradingClass='ARVIND'),\n",
       " Stock(conId=56988221, symbol='ASHOKLEY', exchange='NSE', primaryExchange='NSE', currency='INR', localSymbol='ASHOKLEY', tradingClass='ASHOKLEY'),\n",
       " Stock(conId=132214022, symbol='ASIANPAIN', exchange='NSE', primaryExchange='NSE', currency='INR', localSymbol='ASIANPAINT', tradingClass='ASIANPAIN'),\n",
       " Stock(conId=83937139, symbol='AUROPHARM', exchange='NSE', primaryExchange='NSE', currency='INR', localSymbol='AUROPHARMA', tradingClass='AUROPHARM'),\n",
       " Stock(conId=162089869, symbol='AXISBANK', exchange='NSE', primaryExchange='NSE', currency='INR', localSymbol='AXISBANK', tradingClass='AXISBANK'),\n",
       " Stock(conId=56987980, symbol='BAJAJ-AUT', exchange='NSE', primaryExchange='NSE', currency='INR', localSymbol='BAJAJ-AUTO', tradingClass='BAJAJ-AUT'),\n",
       " Stock(conId=56987991, symbol='BAJAJFINS', exchange='NSE', primaryExchange='NSE', currency='INR', localSymbol='BAJAJFINSV', tradingClass='BAJAJFINS'),\n",
       " Stock(conId=247227232, symbol='BAJFINANC', exchange='NSE', primaryExchange='NSE', currency='INR', localSymbol='BAJFINANCE', tradingClass='BAJFINANC'),\n",
       " Stock(conId=81899870, symbol='BALKRISIN', exchange='NSE', primaryExchange='NSE', currency='INR', localSymbol='BALKRISIND', tradingClass='BALKRISIN'),\n",
       " Stock(conId=180222138, symbol='BANKBAROD', exchange='NSE', primaryExchange='NSE', currency='INR', localSymbol='BANKBARODA', tradingClass='BANKBAROD'),\n",
       " Stock(conId=56988052, symbol='BANKINDIA', exchange='NSE', primaryExchange='NSE', currency='INR', localSymbol='BANKINDIA', tradingClass='BANKINDIA'),\n",
       " Stock(conId=208706811, symbol='BATAINDIA', exchange='NSE', primaryExchange='NSE', currency='INR', localSymbol='BATAINDIA', tradingClass='BATAINDIA'),\n",
       " Stock(conId=269577540, symbol='BEL', exchange='NSE', primaryExchange='NSE', currency='INR', localSymbol='BEL', tradingClass='BEL'),\n",
       " Stock(conId=77953834, symbol='BHARATFIN', exchange='NSE', primaryExchange='NSE', currency='INR', localSymbol='BHARATFIN', tradingClass='BHARATFIN'),\n",
       " Stock(conId=56987929, symbol='BHARATFOR', exchange='NSE', primaryExchange='NSE', currency='INR', localSymbol='BHARATFORG', tradingClass='BHARATFOR'),\n",
       " Stock(conId=64769335, symbol='BHARTIART', exchange='NSE', primaryExchange='NSE', currency='INR', localSymbol='BHARTIARTL', tradingClass='BHARTIART'),\n",
       " Stock(conId=95441327, symbol='BHEL', exchange='NSE', primaryExchange='NSE', currency='INR', localSymbol='BHEL', tradingClass='BHEL'),\n",
       " Stock(conId=56987974, symbol='BIOCON', exchange='NSE', primaryExchange='NSE', currency='INR', localSymbol='BIOCON', tradingClass='BIOCON'),\n",
       " Stock(conId=56988066, symbol='BOSCHLTD', exchange='NSE', primaryExchange='NSE', currency='INR', localSymbol='BOSCHLTD', tradingClass='BOSCHLTD'),\n",
       " Stock(conId=44652160, symbol='BPCL', exchange='NSE', primaryExchange='NSE', currency='INR', localSymbol='BPCL', tradingClass='BPCL'),\n",
       " Stock(conId=78724752, symbol='BRITANNIA', exchange='NSE', primaryExchange='NSE', currency='INR', localSymbol='BRITANNIA', tradingClass='BRITANNIA'),\n",
       " Stock(conId=208509801, symbol='CADILAHC', exchange='NSE', primaryExchange='NSE', currency='INR', localSymbol='CADILAHC', tradingClass='CADILAHC'),\n",
       " Stock(conId=56985302, symbol='CANBK', exchange='NSE', primaryExchange='NSE', currency='INR', localSymbol='CANBK', tradingClass='CANBK'),\n",
       " Stock(conId=56983523, symbol='CAPF', exchange='NSE', primaryExchange='NSE', currency='INR', localSymbol='CAPF', tradingClass='CAPF'),\n",
       " Stock(conId=146063895, symbol='CASTROLIN', exchange='NSE', primaryExchange='NSE', currency='INR', localSymbol='CASTROLIND', tradingClass='CASTROLIN'),\n",
       " Stock(conId=56985342, symbol='CEATLTD', exchange='NSE', primaryExchange='NSE', currency='INR', localSymbol='CEATLTD', tradingClass='CEATLTD'),\n",
       " Stock(conId=56985354, symbol='CENTURYTE', exchange='NSE', primaryExchange='NSE', currency='INR', localSymbol='CENTURYTEX', tradingClass='CENTURYTE'),\n",
       " Stock(conId=56985359, symbol='CESC', exchange='NSE', primaryExchange='NSE', currency='INR', localSymbol='CESC', tradingClass='CESC'),\n",
       " Stock(conId=56985332, symbol='CHOLAFIN', exchange='NSE', primaryExchange='NSE', currency='INR', localSymbol='CHOLAFIN', tradingClass='CHOLAFIN'),\n",
       " Stock(conId=44652139, symbol='CIPLA', exchange='NSE', primaryExchange='NSE', currency='INR', localSymbol='CIPLA', tradingClass='CIPLA'),\n",
       " Stock(conId=80626626, symbol='COALINDIA', exchange='NSE', primaryExchange='NSE', currency='INR', localSymbol='COALINDIA', tradingClass='COALINDIA'),\n",
       " Stock(conId=56985419, symbol='COLPAL', exchange='NSE', primaryExchange='NSE', currency='INR', localSymbol='COLPAL', tradingClass='COLPAL'),\n",
       " Stock(conId=322790806, symbol='CONCOR', exchange='NSE', primaryExchange='NSE', currency='INR', localSymbol='CONCOR', tradingClass='CONCOR'),\n",
       " Stock(conId=56985045, symbol='CUMMINSIN', exchange='NSE', primaryExchange='NSE', currency='INR', localSymbol='CUMMINSIND', tradingClass='CUMMINSIN'),\n",
       " Stock(conId=44652199, symbol='DABUR', exchange='NSE', primaryExchange='NSE', currency='INR', localSymbol='DABUR', tradingClass='DABUR'),\n",
       " Stock(conId=83386668, symbol='DALMIABHA', exchange='NSE', primaryExchange='NSE', currency='INR', localSymbol='DALMIABHA', tradingClass='DALMIABHA'),\n",
       " Stock(conId=56984051, symbol='DHFL', exchange='NSE', primaryExchange='NSE', currency='INR', localSymbol='DHFL', tradingClass='DHFL'),\n",
       " Stock(conId=56984081, symbol='DISHTV', exchange='NSE', primaryExchange='NSE', currency='INR', localSymbol='DISHTV', tradingClass='DISHTV'),\n",
       " Stock(conId=56984084, symbol='DIVISLAB', exchange='NSE', primaryExchange='NSE', currency='INR', localSymbol='DIVISLAB', tradingClass='DIVISLAB'),\n",
       " Stock(conId=49982064, symbol='DLF', exchange='NSE', primaryExchange='NSE', currency='INR', localSymbol='DLF', tradingClass='DLF'),\n",
       " Stock(conId=44652180, symbol='DRREDDY', exchange='NSE', primaryExchange='NSE', currency='INR', localSymbol='DRREDDY', tradingClass='DRREDDY'),\n",
       " Stock(conId=56984334, symbol='EICHERMOT', exchange='NSE', primaryExchange='NSE', currency='INR', localSymbol='EICHERMOT', tradingClass='EICHERMOT'),\n",
       " Stock(conId=75044888, symbol='ENGINERSI', exchange='NSE', primaryExchange='NSE', currency='INR', localSymbol='ENGINERSIN', tradingClass='ENGINERSI'),\n",
       " Stock(conId=230865250, symbol='EQUITAS', exchange='NSE', primaryExchange='NSE', currency='INR', localSymbol='EQUITAS', tradingClass='EQUITAS'),\n",
       " Stock(conId=56984411, symbol='ESCORTS', exchange='NSE', primaryExchange='NSE', currency='INR', localSymbol='ESCORTS', tradingClass='ESCORTS'),\n",
       " Stock(conId=56985401, symbol='EXIDEIND', exchange='NSE', primaryExchange='NSE', currency='INR', localSymbol='EXIDEIND', tradingClass='EXIDEIND'),\n",
       " Stock(conId=136316474, symbol='FEDERALBN', exchange='NSE', primaryExchange='NSE', currency='INR', localSymbol='FEDERALBNK', tradingClass='FEDERALBN'),\n",
       " Stock(conId=44652084, symbol='GAIL', exchange='NSE', primaryExchange='NSE', currency='INR', localSymbol='GAIL', tradingClass='GAIL'),\n",
       " Stock(conId=56986291, symbol='GLENMARK', exchange='NSE', primaryExchange='NSE', currency='INR', localSymbol='GLENMARK', tradingClass='GLENMARK'),\n",
       " Stock(conId=69237773, symbol='GMRINFRA', exchange='NSE', primaryExchange='NSE', currency='INR', localSymbol='GMRINFRA', tradingClass='GMRINFRA'),\n",
       " Stock(conId=56986171, symbol='GODREJCP', exchange='NSE', primaryExchange='NSE', currency='INR', localSymbol='GODREJCP', tradingClass='GODREJCP'),\n",
       " Stock(conId=250071842, symbol='GRASIM', exchange='NSE', primaryExchange='NSE', currency='INR', localSymbol='GRASIM', tradingClass='GRASIM'),\n",
       " Stock(conId=164667099, symbol='HAVELLS', exchange='NSE', primaryExchange='NSE', currency='INR', localSymbol='HAVELLS', tradingClass='HAVELLS'),\n",
       " Stock(conId=44652094, symbol='HCLTECH', exchange='NSE', primaryExchange='NSE', currency='INR', localSymbol='HCLTECH', tradingClass='HCLTECH'),\n",
       " Stock(conId=77975259, symbol='HDFC', exchange='NSE', primaryExchange='NSE', currency='INR', localSymbol='HDFC', tradingClass='HDFC'),\n",
       " Stock(conId=90825534, symbol='HDFCBANK', exchange='NSE', primaryExchange='NSE', currency='INR', localSymbol='HDFCBANK', tradingClass='HDFCBANK'),\n",
       " Stock(conId=44652149, symbol='HEROMOTOC', exchange='NSE', primaryExchange='NSE', currency='INR', localSymbol='HEROMOTOCO', tradingClass='HEROMOTOC'),\n",
       " Stock(conId=44652119, symbol='HINDALCO', exchange='NSE', primaryExchange='NSE', currency='INR', localSymbol='HINDALCO', tradingClass='HINDALCO'),\n",
       " Stock(conId=44652194, symbol='HINDPETRO', exchange='NSE', primaryExchange='NSE', currency='INR', localSymbol='HINDPETRO', tradingClass='HINDPETRO'),\n",
       " Stock(conId=44652060, symbol='HINDUNILV', exchange='NSE', primaryExchange='NSE', currency='INR', localSymbol='HINDUNILVR', tradingClass='HINDUNILV'),\n",
       " Stock(conId=84948060, symbol='HINDZINC', exchange='NSE', primaryExchange='NSE', currency='INR', localSymbol='HINDZINC', tradingClass='HINDZINC'),\n",
       " Stock(conId=125585152, symbol='IBULHSGFI', exchange='NSE', primaryExchange='NSE', currency='INR', localSymbol='IBULHSGFIN', tradingClass='IBULHSGFI'),\n",
       " Stock(conId=175596029, symbol='ICICIBANK', exchange='NSE', primaryExchange='NSE', currency='INR', localSymbol='ICICIBANK', tradingClass='ICICIBANK'),\n",
       " Stock(conId=249453974, symbol='ICICIPRUL', exchange='NSE', primaryExchange='NSE', currency='INR', localSymbol='ICICIPRULI', tradingClass='ICICIPRUL'),\n",
       " Stock(conId=50486121, symbol='IDEA', exchange='NSE', primaryExchange='NSE', currency='INR', localSymbol='IDEA', tradingClass='IDEA'),\n",
       " Stock(conId=56985600, symbol='IDFC', exchange='NSE', primaryExchange='NSE', currency='INR', localSymbol='IDFC', tradingClass='IDFC'),\n",
       " Stock(conId=209462790, symbol='IDFCBANK', exchange='NSE', primaryExchange='NSE', currency='INR', localSymbol='IDFCBANK', tradingClass='IDFCBANK'),\n",
       " Stock(conId=294350643, symbol='IGL', exchange='NSE', primaryExchange='NSE', currency='INR', localSymbol='IGL', tradingClass='IGL'),\n",
       " Stock(conId=56985582, symbol='INDIACEM', exchange='NSE', primaryExchange='NSE', currency='INR', localSymbol='INDIACEM', tradingClass='INDIACEM'),\n",
       " Stock(conId=56985685, symbol='INDIANB', exchange='NSE', primaryExchange='NSE', currency='INR', localSymbol='INDIANB', tradingClass='INDIANB'),\n",
       " Stock(conId=212126639, symbol='INDIGO', exchange='NSE', primaryExchange='NSE', currency='INR', localSymbol='INDIGO', tradingClass='INDIGO'),\n",
       " Stock(conId=56985651, symbol='INDUSINDB', exchange='NSE', primaryExchange='NSE', currency='INR', localSymbol='INDUSINDBK', tradingClass='INDUSINDB'),\n",
       " Stock(conId=287232453, symbol='INFIBEAM', exchange='NSE', primaryExchange='NSE', currency='INR', localSymbol='INFIBEAM', tradingClass='INFIBEAM'),\n",
       " Stock(conId=119707173, symbol='INFRATEL', exchange='NSE', primaryExchange='NSE', currency='INR', localSymbol='INFRATEL', tradingClass='INFRATEL'),\n",
       " Stock(conId=44652017, symbol='INFY', exchange='NSE', primaryExchange='NSE', currency='INR', localSymbol='INFY', tradingClass='INFY'),\n",
       " Stock(conId=56985747, symbol='IOC', exchange='NSE', primaryExchange='NSE', currency='INR', localSymbol='IOC', tradingClass='IOC'),\n",
       " Stock(conId=56985795, symbol='IRB', exchange='NSE', primaryExchange='NSE', currency='INR', localSymbol='IRB', tradingClass='IRB'),\n",
       " Stock(conId=44652040, symbol='ITC', exchange='NSE', primaryExchange='NSE', currency='INR', localSymbol='ITC', tradingClass='ITC'),\n",
       " Stock(conId=56984184, symbol='JETAIRWAY', exchange='NSE', primaryExchange='NSE', currency='INR', localSymbol='JETAIRWAYS', tradingClass='JETAIRWAY'),\n",
       " Stock(conId=56984268, symbol='JINDALSTE', exchange='NSE', primaryExchange='NSE', currency='INR', localSymbol='JINDALSTEL', tradingClass='JINDALSTE'),\n",
       " Stock(conId=80423707, symbol='JISLJALEQ', exchange='NSE', primaryExchange='NSE', currency='INR', localSymbol='JISLJALEQS', tradingClass='JISLJALEQ'),\n",
       " Stock(conId=261024709, symbol='JSWSTEEL', exchange='NSE', primaryExchange='NSE', currency='INR', localSymbol='JSWSTEEL', tradingClass='JSWSTEEL'),\n",
       " Stock(conId=72513009, symbol='JUBLFOOD', exchange='NSE', primaryExchange='NSE', currency='INR', localSymbol='JUBLFOOD', tradingClass='JUBLFOOD'),\n",
       " Stock(conId=250071823, symbol='KAJARIACE', exchange='NSE', primaryExchange='NSE', currency='INR', localSymbol='KAJARIACER', tradingClass='KAJARIACE'),\n",
       " Stock(conId=78743661, symbol='KOTAKBANK', exchange='NSE', primaryExchange='NSE', currency='INR', localSymbol='KOTAKBANK', tradingClass='KOTAKBANK'),\n",
       " Stock(conId=56984959, symbol='KTKBANK', exchange='NSE', primaryExchange='NSE', currency='INR', localSymbol='KTKBANK', tradingClass='KTKBANK'),\n",
       " Stock(conId=82450876, symbol='LICHSGFIN', exchange='NSE', primaryExchange='NSE', currency='INR', localSymbol='LICHSGFIN', tradingClass='LICHSGFIN'),\n",
       " Stock(conId=44652051, symbol='LT', exchange='NSE', primaryExchange='NSE', currency='INR', localSymbol='LT', tradingClass='LT'),\n",
       " Stock(conId=78429379, symbol='LUPIN', exchange='NSE', primaryExchange='NSE', currency='INR', localSymbol='LUPIN', tradingClass='LUPIN'),\n",
       " Stock(conId=74960455, symbol='MANAPPURA', exchange='NSE', primaryExchange='NSE', currency='INR', localSymbol='MANAPPURAM', tradingClass='MANAPPURA'),\n",
       " Stock(conId=56987333, symbol='MARICO', exchange='NSE', primaryExchange='NSE', currency='INR', localSymbol='MARICO', tradingClass='MARICO'),\n",
       " Stock(conId=44652108, symbol='MARUTI', exchange='NSE', primaryExchange='NSE', currency='INR', localSymbol='MARUTI', tradingClass='MARUTI'),\n",
       " Stock(conId=321318372, symbol='MCDOWELL-', exchange='NSE', primaryExchange='NSE', currency='INR', localSymbol='MCDOWELL-N', tradingClass='MCDOWELL-'),\n",
       " Stock(conId=103853702, symbol='MCX', exchange='NSE', primaryExchange='NSE', currency='INR', localSymbol='MCX', tradingClass='MCX'),\n",
       " Stock(conId=56987139, symbol='MFSL', exchange='NSE', primaryExchange='NSE', currency='INR', localSymbol='MFSL', tradingClass='MFSL'),\n",
       " Stock(conId=56987628, symbol='MINDTREE', exchange='NSE', primaryExchange='NSE', currency='INR', localSymbol='MINDTREE', tradingClass='MINDTREE'),\n",
       " Stock(conId=56987580, symbol='MOTHERSUM', exchange='NSE', primaryExchange='NSE', currency='INR', localSymbol='MOTHERSUMI', tradingClass='MOTHERSUM'),\n",
       " Stock(conId=56987338, symbol='MRF', exchange='NSE', primaryExchange='NSE', currency='INR', localSymbol='MRF', tradingClass='MRF'),\n",
       " Stock(conId=87790418, symbol='MUTHOOTFI', exchange='NSE', primaryExchange='NSE', currency='INR', localSymbol='MUTHOOTFIN', tradingClass='MUTHOOTFI'),\n",
       " Stock(conId=85433002, symbol='NATIONALU', exchange='NSE', primaryExchange='NSE', currency='INR', localSymbol='NATIONALUM', tradingClass='NATIONALU'),\n",
       " Stock(conId=315530281, symbol='NBCC', exchange='NSE', primaryExchange='NSE', currency='INR', localSymbol='NBCC', tradingClass='NBCC'),\n",
       " Stock(conId=56984639, symbol='NCC', exchange='NSE', primaryExchange='NSE', currency='INR', localSymbol='NCC', tradingClass='NCC'),\n",
       " Stock(conId=64687316, symbol='NESTLEIND', exchange='NSE', primaryExchange='NSE', currency='INR', localSymbol='NESTLEIND', tradingClass='NESTLEIND'),\n",
       " Stock(conId=56984653, symbol='NMDC', exchange='NSE', primaryExchange='NSE', currency='INR', localSymbol='NMDC', tradingClass='NMDC'),\n",
       " Stock(conId=49982069, symbol='NTPC', exchange='NSE', primaryExchange='NSE', currency='INR', localSymbol='NTPC', tradingClass='NTPC'),\n",
       " Stock(conId=83845926, symbol='ONGC', exchange='NSE', primaryExchange='NSE', currency='INR', localSymbol='ONGC', tradingClass='ONGC'),\n",
       " Stock(conId=56986688, symbol='PAGEIND', exchange='NSE', primaryExchange='NSE', currency='INR', localSymbol='PAGEIND', tradingClass='PAGEIND'),\n",
       " Stock(conId=119653211, symbol='PCJEWELLE', exchange='NSE', primaryExchange='NSE', currency='INR', localSymbol='PCJEWELLER', tradingClass='PCJEWELLE'),\n",
       " Stock(conId=56986920, symbol='PEL', exchange='NSE', primaryExchange='NSE', currency='INR', localSymbol='PEL', tradingClass='PEL'),\n",
       " Stock(conId=56986960, symbol='PETRONET', exchange='NSE', primaryExchange='NSE', currency='INR', localSymbol='PETRONET', tradingClass='PETRONET'),\n",
       " Stock(conId=56986985, symbol='PFC', exchange='NSE', primaryExchange='NSE', currency='INR', localSymbol='PFC', tradingClass='PFC'),\n",
       " Stock(conId=56986764, symbol='PIDILITIN', exchange='NSE', primaryExchange='NSE', currency='INR', localSymbol='PIDILITIND', tradingClass='PIDILITIN'),\n",
       " Stock(conId=176235422, symbol='PNB', exchange='NSE', primaryExchange='NSE', currency='INR', localSymbol='PNB', tradingClass='PNB'),\n",
       " Stock(conId=50486118, symbol='POWERGRID', exchange='NSE', primaryExchange='NSE', currency='INR', localSymbol='POWERGRID', tradingClass='POWERGRID'),\n",
       " Stock(conId=56984932, symbol='RAYMOND', exchange='NSE', primaryExchange='NSE', currency='INR', localSymbol='RAYMOND', tradingClass='RAYMOND'),\n",
       " Stock(conId=246723708, symbol='RBLBANK', exchange='NSE', primaryExchange='NSE', currency='INR', localSymbol='RBLBANK', tradingClass='RBLBANK'),\n",
       " Stock(conId=56984788, symbol='RECLTD', exchange='NSE', primaryExchange='NSE', currency='INR', localSymbol='RECLTD', tradingClass='RECLTD'),\n",
       " Stock(conId=56984773, symbol='RELCAPITA', exchange='NSE', primaryExchange='NSE', currency='INR', localSymbol='RELCAPITAL', tradingClass='RELCAPITA'),\n",
       " Stock(conId=44652000, symbol='RELIANCE', exchange='NSE', primaryExchange='NSE', currency='INR', localSymbol='RELIANCE', tradingClass='RELIANCE'),\n",
       " Stock(conId=44652170, symbol='RELINFRA', exchange='NSE', primaryExchange='NSE', currency='INR', localSymbol='RELINFRA', tradingClass='RELINFRA'),\n",
       " Stock(conId=44652045, symbol='SAIL', exchange='NSE', primaryExchange='NSE', currency='INR', localSymbol='SAIL', tradingClass='SAIL'),\n",
       " Stock(conId=173418084, symbol='SBIN', exchange='NSE', primaryExchange='NSE', currency='INR', localSymbol='SBIN', tradingClass='SBIN'),\n",
       " Stock(conId=56989171, symbol='SHREECEM', exchange='NSE', primaryExchange='NSE', currency='INR', localSymbol='SHREECEM', tradingClass='SHREECEM'),\n",
       " Stock(conId=79403920, symbol='SOUTHBANK', exchange='NSE', primaryExchange='NSE', currency='INR', localSymbol='SOUTHBANK', tradingClass='SOUTHBANK'),\n",
       " Stock(conId=56988999, symbol='SRTRANSFI', exchange='NSE', primaryExchange='NSE', currency='INR', localSymbol='SRTRANSFIN', tradingClass='SRTRANSFI'),\n",
       " Stock(conId=56989252, symbol='STAR', exchange='NSE', primaryExchange='NSE', currency='INR', localSymbol='STAR', tradingClass='STAR'),\n",
       " Stock(conId=81351036, symbol='SUNPHARMA', exchange='NSE', primaryExchange='NSE', currency='INR', localSymbol='SUNPHARMA', tradingClass='SUNPHARMA'),\n",
       " Stock(conId=56989289, symbol='SUNTV', exchange='NSE', primaryExchange='NSE', currency='INR', localSymbol='SUNTV', tradingClass='SUNTV'),\n",
       " Stock(conId=51687627, symbol='SUZLON', exchange='NSE', primaryExchange='NSE', currency='INR', localSymbol='SUZLON', tradingClass='SUZLON'),\n",
       " Stock(conId=56986895, symbol='TATACHEM', exchange='NSE', primaryExchange='NSE', currency='INR', localSymbol='TATACHEM', tradingClass='TATACHEM'),\n",
       " Stock(conId=44652159, symbol='TATACOMM', exchange='NSE', primaryExchange='NSE', currency='INR', localSymbol='TATACOMM', tradingClass='TATACOMM'),\n",
       " Stock(conId=56985222, symbol='TATAELXSI', exchange='NSE', primaryExchange='NSE', currency='INR', localSymbol='TATAELXSI', tradingClass='TATAELXSI'),\n",
       " Stock(conId=76814483, symbol='TATAGLOBA', exchange='NSE', primaryExchange='NSE', currency='INR', localSymbol='TATAGLOBAL', tradingClass='TATAGLOBA'),\n",
       " Stock(conId=94127580, symbol='TATAMOTOR', exchange='NSE', primaryExchange='NSE', currency='INR', localSymbol='TATAMOTORS', tradingClass='TATAMOTOR'),\n",
       " Stock(conId=94127589, symbol='TATAMTRDV', exchange='NSE', primaryExchange='NSE', currency='INR', localSymbol='TATAMTRDVR', tradingClass='TATAMTRDV'),\n",
       " Stock(conId=95168502, symbol='TATAPOWER', exchange='NSE', primaryExchange='NSE', currency='INR', localSymbol='TATAPOWER', tradingClass='TATAPOWER'),\n",
       " Stock(conId=44652069, symbol='TATASTEEL', exchange='NSE', primaryExchange='NSE', currency='INR', localSymbol='TATASTEEL', tradingClass='TATASTEEL'),\n",
       " Stock(conId=44652015, symbol='TCS', exchange='NSE', primaryExchange='NSE', currency='INR', localSymbol='TCS', tradingClass='TCS'),\n",
       " Stock(conId=187395599, symbol='TECHM', exchange='NSE', primaryExchange='NSE', currency='INR', localSymbol='TECHM', tradingClass='TECHM'),\n",
       " Stock(conId=90181242, symbol='TITAN', exchange='NSE', primaryExchange='NSE', currency='INR', localSymbol='TITAN', tradingClass='TITAN'),\n",
       " Stock(conId=56986878, symbol='TORNTPHAR', exchange='NSE', primaryExchange='NSE', currency='INR', localSymbol='TORNTPHARM', tradingClass='TORNTPHAR'),\n",
       " Stock(conId=56986838, symbol='TVSMOTOR', exchange='NSE', primaryExchange='NSE', currency='INR', localSymbol='TVSMOTOR', tradingClass='TVSMOTOR'),\n",
       " Stock(conId=233076295, symbol='UJJIVAN', exchange='NSE', primaryExchange='NSE', currency='INR', localSymbol='UJJIVAN', tradingClass='UJJIVAN'),\n",
       " Stock(conId=56983383, symbol='ULTRACEMC', exchange='NSE', primaryExchange='NSE', currency='INR', localSymbol='ULTRACEMCO', tradingClass='ULTRACEMC'),\n",
       " Stock(conId=56983358, symbol='UNIONBANK', exchange='NSE', primaryExchange='NSE', currency='INR', localSymbol='UNIONBANK', tradingClass='UNIONBANK'),\n",
       " Stock(conId=56983369, symbol='UPL', exchange='NSE', primaryExchange='NSE', currency='INR', localSymbol='UPL', tradingClass='UPL'),\n",
       " Stock(conId=56988951, symbol='VEDL', exchange='NSE', primaryExchange='NSE', currency='INR', localSymbol='VEDL', tradingClass='VEDL'),\n",
       " Stock(conId=56983785, symbol='VOLTAS', exchange='NSE', primaryExchange='NSE', currency='INR', localSymbol='VOLTAS', tradingClass='VOLTAS'),\n",
       " Stock(conId=44652030, symbol='WIPRO', exchange='NSE', primaryExchange='NSE', currency='INR', localSymbol='WIPRO', tradingClass='WIPRO'),\n",
       " Stock(conId=289165584, symbol='YESBANK', exchange='NSE', primaryExchange='NSE', currency='INR', localSymbol='YESBANK', tradingClass='YESBANK'),\n",
       " Stock(conId=44652165, symbol='ZEEL', exchange='NSE', primaryExchange='NSE', currency='INR', localSymbol='ZEEL', tradingClass='ZEEL')]"
      ]
     },
     "execution_count": 23,
     "metadata": {},
     "output_type": "execute_result"
    }
   ],
   "source": [
    "# Get the Stocks qualified\n",
    "stocks = [Stock(symbol=x, exchange='NSE') for x in stock_list.iSymbol]\n",
    "qual_stock = ib.qualifyContracts(*stocks)"
   ]
  },
  {
   "cell_type": "code",
   "execution_count": 33,
   "metadata": {},
   "outputs": [],
   "source": [
    "# Get ALL expirations and strikes for the Stocks. Takes about 10 mins!!!\n",
    "contracts = [(i.symbol, '', i.secType, i.conId) for i in qual_stock]\n",
    "contracts_p = [ib.reqSecDefOptParams(*p) for p in contracts]"
   ]
  },
  {
   "cell_type": "code",
   "execution_count": 34,
   "metadata": {},
   "outputs": [
    {
     "data": {
      "text/plain": [
       "[[OptionChain(exchange='NSE', underlyingConId=44652144, tradingClass='ACC', multiplier='1', expirations={'20180927', '20180830', '20181025'}, strikes={1280.0, 1920.0, 900.0, 1540.0, 1160.0, 1800.0, 1420.0, 1040.0, 1680.0, 1300.0, 1940.0, 920.0, 1560.0, 1180.0, 1820.0, 1440.0, 1660.0, 1060.0, 1700.0, 1320.0, 940.0, 1580.0, 1200.0, 1840.0, 1460.0, 1080.0, 1720.0, 1340.0, 960.0, 1600.0, 1220.0, 1860.0, 1480.0, 1100.0, 1740.0, 1360.0, 980.0, 1620.0, 1240.0, 1880.0, 860.0, 1500.0, 1120.0, 1760.0, 1380.0, 1000.0, 1640.0, 1260.0, 1900.0, 880.0, 1520.0, 1140.0, 1780.0, 1400.0, 1020.0})],\n",
       " [OptionChain(exchange='NSE', underlyingConId=56986798, tradingClass='ADANIENT', multiplier='1', expirations={'20180927', '20180830', '20181025'}, strikes={130.0, 260.0, 135.0, 140.0, 145.0, 20.0, 150.0, 155.0, 30.0, 160.0, 165.0, 40.0, 170.0, 45.0, 175.0, 50.0, 180.0, 55.0, 185.0, 60.0, 190.0, 65.0, 195.0, 70.0, 200.0, 75.0, 205.0, 80.0, 210.0, 85.0, 215.0, 90.0, 220.0, 95.0, 225.0, 100.0, 230.0, 105.0, 235.0, 110.0, 240.0, 115.0, 245.0, 120.0, 250.0, 125.0, 255.0})],\n",
       " [OptionChain(exchange='NSE', underlyingConId=79403918, tradingClass='ADANIPORTS', multiplier='1', expirations={'20180927', '20180830', '20181025'}, strikes={260.0, 390.0, 520.0, 270.0, 400.0, 530.0, 280.0, 410.0, 540.0, 290.0, 420.0, 550.0, 300.0, 430.0, 560.0, 310.0, 440.0, 320.0, 450.0, 200.0, 330.0, 460.0, 210.0, 340.0, 470.0, 220.0, 350.0, 480.0, 230.0, 360.0, 490.0, 240.0, 370.0, 500.0, 250.0, 380.0, 510.0})],\n",
       " [OptionChain(exchange='NSE', underlyingConId=113744943, tradingClass='AMARAJABAT', multiplier='1', expirations={'20180927', '20180830', '20181025'}, strikes={640.0, 900.0, 520.0, 1160.0, 780.0, 400.0, 1040.0, 660.0, 920.0, 540.0, 800.0, 420.0, 1060.0, 680.0, 940.0, 560.0, 820.0, 440.0, 1080.0, 700.0, 960.0, 580.0, 840.0, 460.0, 1100.0, 720.0, 980.0, 600.0, 860.0, 480.0, 1120.0, 740.0, 1000.0, 620.0, 880.0, 500.0, 1140.0, 760.0, 1020.0})],\n",
       " [OptionChain(exchange='NSE', underlyingConId=44652129, tradingClass='AMBUJACEM', multiplier='1', expirations={'20180927', '20180830', '20181025'}, strikes={130.0, 260.0, 135.0, 265.0, 140.0, 270.0, 145.0, 275.0, 150.0, 280.0, 155.0, 285.0, 160.0, 290.0, 165.0, 295.0, 170.0, 300.0, 175.0, 305.0, 180.0, 310.0, 185.0, 315.0, 190.0, 320.0, 195.0, 200.0, 205.0, 210.0, 215.0, 220.0, 95.0, 225.0, 100.0, 230.0, 105.0, 235.0, 110.0, 240.0, 115.0, 245.0, 120.0, 250.0, 125.0, 255.0})],\n",
       " [OptionChain(exchange='NSE', underlyingConId=78607402, tradingClass='APOLLOHOSP', multiplier='1', expirations={'20180927', '20180830', '20181025'}, strikes={640.0, 1280.0, 900.0, 1400.0, 520.0, 1160.0, 780.0, 1420.0, 1040.0, 660.0, 1300.0, 920.0, 540.0, 1180.0, 800.0, 1440.0, 1060.0, 680.0, 1320.0, 940.0, 560.0, 1200.0, 820.0, 1460.0, 1080.0, 700.0, 1340.0, 960.0, 580.0, 1220.0, 840.0, 1480.0, 1100.0, 720.0, 1360.0, 980.0, 600.0, 1240.0, 860.0, 1120.0, 740.0, 1380.0, 1000.0, 620.0, 1260.0, 880.0, 1140.0, 760.0, 1020.0})],\n",
       " [OptionChain(exchange='NSE', underlyingConId=56988336, tradingClass='APOLLOTYRE', multiplier='1', expirations={'20180927', '20180830', '20181025'}, strikes={385.0, 260.0, 390.0, 265.0, 395.0, 140.0, 270.0, 400.0, 275.0, 150.0, 280.0, 155.0, 285.0, 160.0, 290.0, 165.0, 295.0, 170.0, 300.0, 175.0, 305.0, 180.0, 310.0, 185.0, 315.0, 190.0, 320.0, 195.0, 325.0, 200.0, 330.0, 205.0, 335.0, 210.0, 340.0, 215.0, 345.0, 220.0, 350.0, 225.0, 355.0, 230.0, 360.0, 235.0, 365.0, 240.0, 370.0, 245.0, 375.0, 250.0, 380.0, 255.0})],\n",
       " [OptionChain(exchange='NSE', underlyingConId=56988374, tradingClass='ARVIND', multiplier='1', expirations={'20180927', '20180830', '20181025'}, strikes={260.0, 390.0, 520.0, 270.0, 400.0, 530.0, 280.0, 410.0, 540.0, 290.0, 420.0, 550.0, 300.0, 430.0, 560.0, 310.0, 440.0, 570.0, 320.0, 450.0, 580.0, 330.0, 460.0, 590.0, 210.0, 340.0, 470.0, 600.0, 220.0, 350.0, 480.0, 610.0, 230.0, 360.0, 490.0, 240.0, 370.0, 500.0, 250.0, 380.0, 510.0})],\n",
       " [OptionChain(exchange='NSE', underlyingConId=56988221, tradingClass='ASHOKLEY', multiplier='1', expirations={'20180927', '20180830', '20181025'}, strikes={130.0, 135.0, 140.0, 145.0, 150.0, 155.0, 160.0, 165.0, 170.0, 45.0, 175.0, 50.0, 180.0, 55.0, 185.0, 60.0, 190.0, 65.0, 195.0, 70.0, 200.0, 75.0, 205.0, 80.0, 210.0, 85.0, 90.0, 95.0, 100.0, 105.0, 110.0, 115.0, 120.0, 125.0})],\n",
       " [OptionChain(exchange='NSE', underlyingConId=132214022, tradingClass='ASIANPAINT', multiplier='1', expirations={'20180927', '20180830', '20181025'}, strikes={1280.0, 900.0, 1540.0, 1160.0, 1800.0, 1420.0, 1040.0, 1680.0, 1300.0, 920.0, 1560.0, 1180.0, 1820.0, 1440.0, 1660.0, 1060.0, 1700.0, 1320.0, 940.0, 1580.0, 1200.0, 1840.0, 1460.0, 1080.0, 1720.0, 1340.0, 960.0, 1600.0, 1220.0, 1860.0, 1480.0, 1100.0, 1740.0, 1360.0, 980.0, 1620.0, 1240.0, 860.0, 1500.0, 1120.0, 1760.0, 1380.0, 1000.0, 1640.0, 1260.0, 880.0, 1520.0, 1140.0, 1780.0, 1400.0, 1020.0})],\n",
       " [OptionChain(exchange='NSE', underlyingConId=83937139, tradingClass='AUROPHARMA', multiplier='1', expirations={'20180927', '20180830', '20181025'}, strikes={640.0, 770.0, 900.0, 390.0, 520.0, 650.0, 780.0, 400.0, 530.0, 660.0, 790.0, 280.0, 410.0, 540.0, 670.0, 800.0, 420.0, 550.0, 680.0, 810.0, 300.0, 430.0, 560.0, 690.0, 820.0, 440.0, 570.0, 700.0, 320.0, 450.0, 580.0, 710.0, 840.0, 330.0, 460.0, 590.0, 720.0, 340.0, 470.0, 600.0, 730.0, 860.0, 350.0, 480.0, 610.0, 740.0, 360.0, 490.0, 620.0, 750.0, 880.0, 370.0, 500.0, 630.0, 760.0, 380.0, 510.0})],\n",
       " [OptionChain(exchange='NSE', underlyingConId=162089869, tradingClass='AXISBANK', multiplier='1', expirations={'20180927', '20180830', '20181025'}, strikes={640.0, 770.0, 390.0, 520.0, 650.0, 400.0, 530.0, 660.0, 410.0, 540.0, 670.0, 420.0, 550.0, 680.0, 300.0, 430.0, 560.0, 690.0, 310.0, 440.0, 570.0, 700.0, 320.0, 450.0, 580.0, 710.0, 330.0, 460.0, 590.0, 720.0, 340.0, 470.0, 600.0, 730.0, 350.0, 480.0, 610.0, 740.0, 360.0, 490.0, 620.0, 750.0, 370.0, 500.0, 630.0, 760.0, 380.0, 510.0})],\n",
       " [OptionChain(exchange='NSE', underlyingConId=56987980, tradingClass='BAJAJ-AUTO', multiplier='1', expirations={'20180927', '20180830', '20181025'}, strikes={3200.0, 2050.0, 4100.0, 2950.0, 1800.0, 3850.0, 2700.0, 3600.0, 2450.0, 3350.0, 2200.0, 3100.0, 1950.0, 4000.0, 2850.0, 1700.0, 3750.0, 2600.0, 3500.0, 2350.0, 3250.0, 2100.0, 4150.0, 3000.0, 1850.0, 3900.0, 2750.0, 1600.0, 3650.0, 2500.0, 3400.0, 2250.0, 3150.0, 2000.0, 4050.0, 2900.0, 1750.0, 3800.0, 2650.0, 3550.0, 2400.0, 3300.0, 2150.0, 3050.0, 1900.0, 3950.0, 2800.0, 1650.0, 3700.0, 2550.0, 3450.0, 2300.0})],\n",
       " [OptionChain(exchange='NSE', underlyingConId=56987991, tradingClass='BAJAJFINSV', multiplier='1', expirations={'20180927', '20180830', '20181025'}, strikes={6400.0, 4100.0, 7300.0, 5000.0, 8200.0, 5900.0, 6800.0, 4500.0, 7700.0, 5400.0, 8600.0, 6300.0, 4000.0, 7200.0, 4900.0, 8100.0, 5800.0, 9000.0, 6700.0, 4400.0, 7600.0, 5300.0, 8500.0, 6200.0, 3900.0, 7100.0, 4800.0, 8000.0, 5700.0, 8900.0, 6600.0, 4300.0, 7500.0, 7800.0, 5200.0, 8400.0, 6100.0, 3800.0, 7000.0, 4700.0, 7900.0, 5600.0, 8800.0, 6500.0, 4200.0, 7400.0, 5100.0, 8300.0, 6000.0, 3700.0, 6900.0, 8700.0, 4600.0, 5500.0})],\n",
       " [OptionChain(exchange='NSE', underlyingConId=247227232, tradingClass='BAJFINANCE', multiplier='1', expirations={'20180927', '20180830', '20181025'}, strikes={3200.0, 2050.0, 2950.0, 1800.0, 2700.0, 1550.0, 3600.0, 2450.0, 1300.0, 3350.0, 2200.0, 3100.0, 1950.0, 2850.0, 1700.0, 3750.0, 2600.0, 1450.0, 3500.0, 2350.0, 3250.0, 2100.0, 3000.0, 1850.0, 2750.0, 1600.0, 3650.0, 2500.0, 1350.0, 3400.0, 2250.0, 3150.0, 2000.0, 2900.0, 1750.0, 2650.0, 1500.0, 3550.0, 2400.0, 1250.0, 3300.0, 2150.0, 3050.0, 1900.0, 2800.0, 1650.0, 3700.0, 2550.0, 1400.0, 3450.0, 2300.0})],\n",
       " [OptionChain(exchange='NSE', underlyingConId=81899870, tradingClass='BALKRISIND', multiplier='1', expirations={'20180927', '20180830', '20181025'}, strikes={1280.0, 900.0, 1400.0, 1540.0, 1160.0, 650.0, 780.0, 1420.0, 1550.0, 1040.0, 660.0, 1300.0, 920.0, 1050.0, 1180.0, 800.0, 1440.0, 1060.0, 1700.0, 550.0, 680.0, 1320.0, 1450.0, 940.0, 1200.0, 820.0, 1460.0, 950.0, 1080.0, 700.0, 1340.0, 960.0, 1600.0, 1220.0, 1350.0, 840.0, 1480.0, 1100.0, 720.0, 1360.0, 850.0, 980.0, 1750.0, 600.0, 1240.0, 860.0, 1500.0, 1120.0, 1250.0, 740.0, 1380.0, 1000.0, 1260.0, 750.0, 880.0, 1520.0, 1650.0, 500.0, 1140.0, 760.0, 1020.0, 1150.0})],\n",
       " [OptionChain(exchange='NSE', underlyingConId=180222138, tradingClass='BANKBARODA', multiplier='1', expirations={'20180927', '20180830', '20181025'}, strikes={130.0, 135.0, 140.0, 145.0, 150.0, 155.0, 160.0, 165.0, 170.0, 175.0, 180.0, 55.0, 185.0, 60.0, 190.0, 65.0, 195.0, 70.0, 200.0, 75.0, 205.0, 80.0, 210.0, 85.0, 215.0, 90.0, 95.0, 100.0, 105.0, 110.0, 115.0, 120.0, 125.0})],\n",
       " [OptionChain(exchange='NSE', underlyingConId=56988052, tradingClass='BANKINDIA', multiplier='1', expirations={'20180927', '20180830', '20181025'}, strikes={130.0, 135.0, 140.0, 145.0, 150.0, 155.0, 30.0, 35.0, 40.0, 45.0, 50.0, 55.0, 60.0, 65.0, 70.0, 75.0, 80.0, 85.0, 90.0, 95.0, 100.0, 105.0, 110.0, 115.0, 120.0, 125.0})],\n",
       " [OptionChain(exchange='NSE', underlyingConId=208706811, tradingClass='BATAINDIA', multiplier='1', expirations={'20180927', '20180830', '20181025'}, strikes={640.0, 900.0, 520.0, 1160.0, 780.0, 1040.0, 660.0, 920.0, 540.0, 1180.0, 800.0, 420.0, 1060.0, 680.0, 940.0, 560.0, 1200.0, 820.0, 440.0, 1080.0, 700.0, 960.0, 580.0, 1220.0, 840.0, 460.0, 1100.0, 720.0, 980.0, 600.0, 1240.0, 860.0, 480.0, 1120.0, 740.0, 1000.0, 620.0, 880.0, 500.0, 1140.0, 760.0, 1020.0})],\n",
       " [OptionChain(exchange='NSE', underlyingConId=269577540, tradingClass='BEL', multiplier='1', expirations={'20180927', '20180830', '20181025'}, strikes={130.0, 132.5, 135.0, 137.5, 140.0, 142.5, 145.0, 147.5, 150.0, 152.5, 155.0, 157.5, 160.0, 162.5, 165.0, 167.5, 170.0, 45.0, 47.5, 175.0, 50.0, 52.5, 180.0, 55.0, 57.5, 60.0, 62.5, 65.0, 67.5, 70.0, 72.5, 75.0, 77.5, 80.0, 82.5, 85.0, 87.5, 90.0, 92.5, 95.0, 97.5, 100.0, 102.5, 105.0, 107.5, 110.0, 112.5, 115.0, 117.5, 120.0, 122.5, 125.0, 127.5})],\n",
       " [OptionChain(exchange='NSE', underlyingConId=77953834, tradingClass='BHARATFIN', multiplier='1', expirations={'20180927', '20180830', '20181025'}, strikes={1280.0, 900.0, 1400.0, 1540.0, 1160.0, 780.0, 1420.0, 1040.0, 1300.0, 920.0, 1560.0, 1180.0, 800.0, 1440.0, 1060.0, 1320.0, 940.0, 1580.0, 1200.0, 820.0, 1460.0, 1080.0, 1340.0, 960.0, 1600.0, 1220.0, 840.0, 1480.0, 1100.0, 1360.0, 980.0, 1620.0, 1240.0, 860.0, 1500.0, 1120.0, 740.0, 1380.0, 1000.0, 1260.0, 880.0, 1520.0, 1140.0, 760.0, 1020.0})],\n",
       " [OptionChain(exchange='NSE', underlyingConId=56987929, tradingClass='BHARATFORG', multiplier='1', expirations={'20180927', '20180830', '20181025'}, strikes={640.0, 900.0, 520.0, 780.0, 400.0, 660.0, 280.0, 920.0, 540.0, 800.0, 420.0, 680.0, 300.0, 940.0, 560.0, 820.0, 440.0, 700.0, 320.0, 960.0, 580.0, 840.0, 460.0, 720.0, 340.0, 980.0, 600.0, 860.0, 480.0, 740.0, 360.0, 620.0, 880.0, 500.0, 760.0, 380.0})],\n",
       " [OptionChain(exchange='NSE', underlyingConId=64769335, tradingClass='BHARTIARTL', multiplier='1', expirations={'20180927', '20180830', '20181025'}, strikes={260.0, 390.0, 520.0, 270.0, 400.0, 530.0, 280.0, 410.0, 540.0, 290.0, 420.0, 550.0, 300.0, 430.0, 560.0, 180.0, 310.0, 440.0, 570.0, 190.0, 320.0, 450.0, 200.0, 330.0, 460.0, 210.0, 340.0, 470.0, 220.0, 350.0, 480.0, 230.0, 360.0, 490.0, 240.0, 370.0, 500.0, 250.0, 380.0, 510.0})],\n",
       " [OptionChain(exchange='NSE', underlyingConId=95441327, tradingClass='BHEL', multiplier='1', expirations={'20180927', '20180830', '20181025'}, strikes={35.0, 37.5, 40.0, 42.5, 45.0, 47.5, 50.0, 52.5, 55.0, 57.5, 60.0, 62.5, 65.0, 67.5, 70.0, 72.5, 75.0, 77.5, 80.0, 82.5, 85.0, 87.5, 90.0, 92.5, 95.0, 97.5, 100.0, 102.5, 105.0, 107.5, 110.0, 112.5, 115.0, 117.5})],\n",
       " [OptionChain(exchange='NSE', underlyingConId=56987974, tradingClass='BIOCON', multiplier='1', expirations={'20180927', '20180830', '20181025'}, strikes={640.0, 900.0, 520.0, 780.0, 400.0, 660.0, 280.0, 920.0, 540.0, 800.0, 420.0, 680.0, 300.0, 560.0, 820.0, 440.0, 700.0, 320.0, 580.0, 840.0, 460.0, 720.0, 340.0, 600.0, 860.0, 480.0, 740.0, 360.0, 620.0, 880.0, 500.0, 760.0, 380.0})],\n",
       " [OptionChain(exchange='NSE', underlyingConId=56988066, tradingClass='BOSCHLTD', multiplier='1', expirations={'20180927', '20180830', '20181025'}, strikes={16000.0, 21250.0, 15750.0, 21000.0, 15500.0, 20750.0, 15250.0, 20500.0, 15000.0, 20250.0, 14750.0, 20000.0, 14500.0, 19750.0, 14250.0, 19500.0, 14000.0, 19250.0, 13750.0, 19000.0, 13500.0, 18750.0, 24000.0, 13250.0, 18500.0, 23750.0, 13000.0, 18250.0, 23500.0, 12750.0, 18000.0, 23250.0, 12500.0, 17750.0, 23000.0, 12250.0, 17500.0, 22750.0, 17250.0, 22500.0, 17000.0, 22250.0, 16750.0, 22000.0, 16500.0, 21750.0, 16250.0, 21500.0})],\n",
       " [OptionChain(exchange='NSE', underlyingConId=44652160, tradingClass='BPCL', multiplier='1', expirations={'20180927', '20180830', '20181025'}, strikes={260.0, 390.0, 520.0, 270.0, 400.0, 530.0, 280.0, 410.0, 540.0, 290.0, 420.0, 550.0, 300.0, 430.0, 560.0, 180.0, 310.0, 440.0, 570.0, 190.0, 320.0, 450.0, 580.0, 200.0, 330.0, 460.0, 590.0, 210.0, 340.0, 470.0, 600.0, 220.0, 350.0, 480.0, 610.0, 230.0, 360.0, 490.0, 620.0, 240.0, 370.0, 500.0, 630.0, 250.0, 380.0, 510.0})],\n",
       " [OptionChain(exchange='NSE', underlyingConId=78724752, tradingClass='BRITANNIA', multiplier='1', expirations={'20180927', '20180830', '20181025'}, strikes={6400.0, 4100.0, 7300.0, 5000.0, 8200.0, 5900.0, 6800.0, 4500.0, 7700.0, 5400.0, 6300.0, 4000.0, 7200.0, 4900.0, 8100.0, 5800.0, 6700.0, 4400.0, 7600.0, 5300.0, 8500.0, 6200.0, 3900.0, 7100.0, 4800.0, 8000.0, 5700.0, 6600.0, 4300.0, 7500.0, 7800.0, 5200.0, 8400.0, 6100.0, 3800.0, 7000.0, 4700.0, 7900.0, 5600.0, 6500.0, 4200.0, 7400.0, 5100.0, 8300.0, 6000.0, 6900.0, 4600.0, 5500.0})],\n",
       " [OptionChain(exchange='NSE', underlyingConId=208509801, tradingClass='CADILAHC', multiplier='1', expirations={'20180927', '20180830', '20181025'}, strikes={260.0, 390.0, 520.0, 270.0, 400.0, 530.0, 280.0, 410.0, 540.0, 290.0, 420.0, 550.0, 300.0, 430.0, 560.0, 180.0, 310.0, 440.0, 570.0, 190.0, 320.0, 450.0, 200.0, 330.0, 460.0, 210.0, 340.0, 470.0, 220.0, 350.0, 480.0, 230.0, 360.0, 490.0, 240.0, 370.0, 500.0, 250.0, 380.0, 510.0})],\n",
       " [OptionChain(exchange='NSE', underlyingConId=56985302, tradingClass='CANBK', multiplier='1', expirations={'20180927', '20180830', '20181025'}, strikes={130.0, 260.0, 390.0, 140.0, 270.0, 400.0, 150.0, 280.0, 410.0, 160.0, 290.0, 170.0, 300.0, 180.0, 310.0, 190.0, 320.0, 200.0, 330.0, 210.0, 340.0, 220.0, 350.0, 100.0, 230.0, 360.0, 110.0, 240.0, 370.0, 120.0, 250.0, 380.0})],\n",
       " [OptionChain(exchange='NSE', underlyingConId=56983523, tradingClass='CAPF', multiplier='1', expirations={'20180927', '20180830', '20181025'}, strikes={640.0, 260.0, 520.0, 780.0, 400.0, 660.0, 280.0, 540.0, 800.0, 420.0, 680.0, 300.0, 560.0, 820.0, 440.0, 700.0, 320.0, 580.0, 840.0, 460.0, 720.0, 340.0, 600.0, 860.0, 480.0, 740.0, 360.0, 620.0, 240.0, 880.0, 500.0, 760.0, 380.0})],\n",
       " [OptionChain(exchange='NSE', underlyingConId=146063895, tradingClass='CASTROLIND', multiplier='1', expirations={'20180927', '20180830', '20181025'}, strikes={130.0, 260.0, 135.0, 265.0, 140.0, 270.0, 145.0, 275.0, 150.0, 155.0, 160.0, 165.0, 170.0, 175.0, 180.0, 185.0, 190.0, 195.0, 200.0, 205.0, 80.0, 210.0, 85.0, 215.0, 90.0, 220.0, 95.0, 225.0, 100.0, 230.0, 105.0, 235.0, 110.0, 240.0, 115.0, 245.0, 120.0, 250.0, 125.0, 255.0})],\n",
       " [OptionChain(exchange='NSE', underlyingConId=56985342, tradingClass='CEATLTD', multiplier='1', expirations={'20180927', '20180830', '20181025'}, strikes={1280.0, 2050.0, 900.0, 1540.0, 1160.0, 1800.0, 650.0, 1420.0, 1550.0, 1040.0, 1680.0, 1300.0, 920.0, 1560.0, 1050.0, 1180.0, 1950.0, 800.0, 1440.0, 1660.0, 1060.0, 1700.0, 550.0, 1320.0, 1450.0, 940.0, 1580.0, 1200.0, 1460.0, 2100.0, 950.0, 1080.0, 1720.0, 1850.0, 700.0, 1340.0, 960.0, 1600.0, 1220.0, 1350.0, 840.0, 1480.0, 1100.0, 1740.0, 1360.0, 2000.0, 850.0, 980.0, 1620.0, 1750.0, 600.0, 1240.0, 860.0, 1500.0, 1120.0, 1760.0, 1250.0, 1380.0, 1000.0, 1640.0, 1260.0, 1900.0, 750.0, 880.0, 1520.0, 1650.0, 1140.0, 1780.0, 1400.0, 1020.0, 1150.0})],\n",
       " [OptionChain(exchange='NSE', underlyingConId=56985354, tradingClass='CENTURYTEX', multiplier='1', expirations={'20180927', '20180830', '20181025'}, strikes={640.0, 1280.0, 900.0, 1400.0, 520.0, 1160.0, 650.0, 780.0, 400.0, 1040.0, 660.0, 1300.0, 920.0, 1050.0, 540.0, 1180.0, 800.0, 1060.0, 550.0, 680.0, 1320.0, 1450.0, 940.0, 560.0, 1200.0, 820.0, 950.0, 440.0, 1080.0, 700.0, 1340.0, 960.0, 450.0, 580.0, 1220.0, 1350.0, 840.0, 460.0, 1100.0, 720.0, 850.0, 980.0, 600.0, 1240.0, 860.0, 480.0, 1120.0, 1250.0, 740.0, 1000.0, 620.0, 1260.0, 750.0, 880.0, 500.0, 1140.0, 760.0, 1020.0, 1150.0})],\n",
       " [OptionChain(exchange='NSE', underlyingConId=56985359, tradingClass='CESC', multiplier='1', expirations={'20180927', '20180830', '20181025'}, strikes={640.0, 1280.0, 900.0, 1400.0, 520.0, 1160.0, 780.0, 1420.0, 1040.0, 660.0, 1300.0, 920.0, 540.0, 1180.0, 800.0, 1440.0, 1060.0, 680.0, 1320.0, 940.0, 560.0, 1200.0, 820.0, 1080.0, 700.0, 1340.0, 960.0, 580.0, 1220.0, 840.0, 1100.0, 720.0, 1360.0, 980.0, 600.0, 1240.0, 860.0, 480.0, 1120.0, 740.0, 1380.0, 1000.0, 620.0, 1260.0, 880.0, 500.0, 1140.0, 760.0, 1020.0})],\n",
       " [OptionChain(exchange='NSE', underlyingConId=56985332, tradingClass='CHOLAFIN', multiplier='1', expirations={'20180927', '20180830', '20181025'}, strikes={2050.0, 900.0, 1800.0, 1550.0, 1300.0, 2200.0, 1050.0, 1950.0, 800.0, 1700.0, 1450.0, 1200.0, 2100.0, 950.0, 1850.0, 1600.0, 1350.0, 2250.0, 1100.0, 2000.0, 850.0, 1750.0, 1500.0, 1250.0, 2150.0, 1000.0, 1900.0, 750.0, 1650.0, 1400.0, 2300.0, 1150.0})],\n",
       " [OptionChain(exchange='NSE', underlyingConId=44652139, tradingClass='CIPLA', multiplier='1', expirations={'20180927', '20180830', '20181025'}, strikes={640.0, 770.0, 900.0, 390.0, 520.0, 650.0, 780.0, 400.0, 530.0, 660.0, 790.0, 920.0, 410.0, 540.0, 670.0, 800.0, 420.0, 550.0, 680.0, 810.0, 430.0, 560.0, 690.0, 820.0, 440.0, 570.0, 700.0, 320.0, 450.0, 580.0, 710.0, 840.0, 330.0, 460.0, 590.0, 720.0, 340.0, 470.0, 600.0, 730.0, 860.0, 350.0, 480.0, 610.0, 740.0, 360.0, 490.0, 620.0, 750.0, 880.0, 370.0, 500.0, 630.0, 760.0, 380.0, 510.0})],\n",
       " [OptionChain(exchange='NSE', underlyingConId=80626626, tradingClass='COALINDIA', multiplier='1', expirations={'20180927', '20180830', '20181025'}, strikes={385.0, 260.0, 390.0, 265.0, 395.0, 270.0, 275.0, 280.0, 285.0, 160.0, 290.0, 165.0, 295.0, 170.0, 300.0, 175.0, 305.0, 180.0, 310.0, 185.0, 315.0, 190.0, 320.0, 195.0, 325.0, 200.0, 330.0, 205.0, 335.0, 210.0, 340.0, 215.0, 345.0, 220.0, 350.0, 225.0, 355.0, 230.0, 360.0, 235.0, 365.0, 240.0, 370.0, 245.0, 375.0, 250.0, 380.0, 255.0})],\n",
       " [OptionChain(exchange='NSE', underlyingConId=56985419, tradingClass='COLPAL', multiplier='1', expirations={'20180927', '20180830', '20181025'}, strikes={1280.0, 900.0, 1400.0, 1540.0, 1160.0, 780.0, 1420.0, 1040.0, 1300.0, 920.0, 1560.0, 1180.0, 800.0, 1440.0, 1660.0, 1060.0, 680.0, 1320.0, 940.0, 1580.0, 1200.0, 820.0, 1460.0, 1080.0, 700.0, 1340.0, 960.0, 1600.0, 1220.0, 840.0, 1480.0, 1100.0, 720.0, 1360.0, 980.0, 1620.0, 1240.0, 860.0, 1500.0, 1120.0, 740.0, 1380.0, 1000.0, 1640.0, 1260.0, 880.0, 1520.0, 1140.0, 760.0, 1020.0})],\n",
       " [OptionChain(exchange='NSE', underlyingConId=322790806, tradingClass='CONCOR', multiplier='1', expirations={'20180927', '20180830', '20181025'}, strikes={640.0, 770.0, 260.0, 900.0, 520.0, 650.0, 780.0, 1020.0, 400.0, 1040.0, 530.0, 660.0, 790.0, 280.0, 920.0, 410.0, 540.0, 670.0, 800.0, 420.0, 1060.0, 550.0, 680.0, 810.0, 300.0, 940.0, 430.0, 560.0, 690.0, 820.0, 440.0, 1080.0, 570.0, 700.0, 830.0, 320.0, 960.0, 450.0, 580.0, 710.0, 840.0, 460.0, 590.0, 720.0, 850.0, 340.0, 980.0, 470.0, 600.0, 730.0, 220.0, 860.0, 480.0, 610.0, 740.0, 870.0, 360.0, 1000.0, 490.0, 620.0, 750.0, 240.0, 880.0, 500.0, 630.0, 760.0, 890.0, 380.0, 510.0})],\n",
       " [OptionChain(exchange='NSE', underlyingConId=56985045, tradingClass='CUMMINSIND', multiplier='1', expirations={'20180927', '20180830', '20181025'}, strikes={640.0, 900.0, 520.0, 780.0, 1020.0, 400.0, 660.0, 920.0, 540.0, 800.0, 420.0, 680.0, 940.0, 560.0, 820.0, 440.0, 700.0, 960.0, 580.0, 840.0, 460.0, 720.0, 340.0, 980.0, 600.0, 860.0, 480.0, 740.0, 360.0, 1000.0, 620.0, 880.0, 500.0, 760.0, 380.0})],\n",
       " [OptionChain(exchange='NSE', underlyingConId=44652199, tradingClass='DABUR', multiplier='1', expirations={'20180927', '20180830', '20181025'}, strikes={385.0, 515.0, 390.0, 520.0, 265.0, 395.0, 270.0, 400.0, 275.0, 405.0, 280.0, 410.0, 285.0, 415.0, 290.0, 420.0, 295.0, 425.0, 300.0, 430.0, 305.0, 435.0, 310.0, 440.0, 315.0, 445.0, 320.0, 450.0, 325.0, 455.0, 330.0, 460.0, 335.0, 465.0, 340.0, 470.0, 345.0, 475.0, 350.0, 480.0, 355.0, 485.0, 360.0, 490.0, 365.0, 495.0, 370.0, 500.0, 375.0, 505.0, 380.0, 510.0})],\n",
       " [OptionChain(exchange='NSE', underlyingConId=83386668, tradingClass='DALMIABHA', multiplier='1', expirations={'20180927', '20180830', '20181025'}, strikes={3200.0, 1800.0, 2700.0, 3600.0, 1300.0, 2200.0, 3100.0, 1700.0, 2600.0, 3500.0, 1200.0, 2100.0, 3000.0, 3900.0, 1600.0, 2500.0, 3400.0, 1100.0, 2000.0, 2900.0, 3800.0, 1500.0, 2400.0, 3300.0, 1900.0, 2800.0, 3700.0, 1400.0, 2300.0})],\n",
       " [OptionChain(exchange='NSE', underlyingConId=56984051, tradingClass='DHFL', multiplier='1', expirations={'20180927', '20180830', '20181025'}, strikes={640.0, 900.0, 520.0, 780.0, 400.0, 660.0, 920.0, 540.0, 800.0, 420.0, 680.0, 300.0, 560.0, 820.0, 440.0, 700.0, 320.0, 580.0, 840.0, 460.0, 720.0, 340.0, 600.0, 860.0, 480.0, 740.0, 360.0, 620.0, 880.0, 500.0, 760.0, 380.0})],\n",
       " [OptionChain(exchange='NSE', underlyingConId=56984081, tradingClass='DISHTV', multiplier='1', expirations={'20180927', '20180830', '20181025'}, strikes={35.0, 37.5, 40.0, 42.5, 45.0, 47.5, 50.0, 52.5, 55.0, 57.5, 60.0, 62.5, 65.0, 67.5, 70.0, 72.5, 75.0, 77.5, 80.0, 82.5, 85.0, 87.5, 90.0, 92.5, 95.0, 97.5, 100.0, 102.5, 105.0})],\n",
       " [OptionChain(exchange='NSE', underlyingConId=56984084, tradingClass='DIVISLAB', multiplier='1', expirations={'20180927', '20180830', '20181025'}, strikes={640.0, 1280.0, 900.0, 1400.0, 1540.0, 1160.0, 780.0, 1420.0, 1040.0, 660.0, 1300.0, 920.0, 1560.0, 1180.0, 800.0, 1440.0, 1060.0, 680.0, 1320.0, 940.0, 1200.0, 820.0, 1460.0, 1080.0, 700.0, 1340.0, 960.0, 1220.0, 840.0, 1480.0, 1100.0, 720.0, 1360.0, 980.0, 600.0, 1240.0, 860.0, 1500.0, 1120.0, 740.0, 1380.0, 1000.0, 620.0, 1260.0, 880.0, 1520.0, 1140.0, 760.0, 1020.0})],\n",
       " [OptionChain(exchange='NSE', underlyingConId=49982064, tradingClass='DLF', multiplier='1', expirations={'20180927', '20180830', '20181025'}, strikes={130.0, 260.0, 135.0, 265.0, 140.0, 270.0, 145.0, 275.0, 150.0, 280.0, 155.0, 160.0, 290.0, 165.0, 170.0, 300.0, 175.0, 180.0, 310.0, 185.0, 190.0, 195.0, 200.0, 205.0, 210.0, 215.0, 90.0, 220.0, 95.0, 225.0, 100.0, 230.0, 105.0, 235.0, 110.0, 240.0, 115.0, 245.0, 120.0, 250.0, 125.0, 255.0})],\n",
       " [OptionChain(exchange='NSE', underlyingConId=44652180, tradingClass='DRREDDY', multiplier='1', expirations={'20180927', '20180830', '20181025'}, strikes={3200.0, 2050.0, 2950.0, 1800.0, 2700.0, 1550.0, 2450.0, 1300.0, 3350.0, 2200.0, 1050.0, 3100.0, 1950.0, 2850.0, 1700.0, 2600.0, 1450.0, 2350.0, 1200.0, 3250.0, 2100.0, 3000.0, 1850.0, 2750.0, 1600.0, 2500.0, 1350.0, 2250.0, 1100.0, 3150.0, 2000.0, 2900.0, 1750.0, 2650.0, 1500.0, 2400.0, 1250.0, 3300.0, 2150.0, 3050.0, 1900.0, 2800.0, 1650.0, 2550.0, 1400.0, 2300.0, 1150.0})],\n",
       " [OptionChain(exchange='NSE', underlyingConId=56984334, tradingClass='EICHERMOT', multiplier='1', expirations={'20180927', '20180830', '20181025'}, strikes={32000.0, 26500.0, 31750.0, 26250.0, 31500.0, 26000.0, 31250.0, 25750.0, 31000.0, 25500.0, 30750.0, 25250.0, 30500.0, 35750.0, 25000.0, 30250.0, 35500.0, 24750.0, 30000.0, 35250.0, 24500.0, 29750.0, 35000.0, 24250.0, 29500.0, 34750.0, 24000.0, 29250.0, 34500.0, 23750.0, 29000.0, 34250.0, 23500.0, 28750.0, 34000.0, 23250.0, 28500.0, 33750.0, 23000.0, 28250.0, 33500.0, 22750.0, 28000.0, 33250.0, 22500.0, 27750.0, 33000.0, 22250.0, 27500.0, 32750.0, 22000.0, 27250.0, 32500.0, 27000.0, 32250.0, 26750.0})],\n",
       " [OptionChain(exchange='NSE', underlyingConId=75044888, tradingClass='ENGINERSIN', multiplier='1', expirations={'20180927', '20180830', '20181025'}, strikes={130.0, 132.5, 135.0, 137.5, 140.0, 142.5, 145.0, 147.5, 150.0, 152.5, 155.0, 157.5, 160.0, 162.5, 165.0, 167.5, 170.0, 172.5, 175.0, 177.5, 180.0, 182.5, 55.0, 185.0, 60.0, 190.0, 65.0, 195.0, 70.0, 72.5, 200.0, 75.0, 77.5, 205.0, 80.0, 82.5, 85.0, 87.5, 90.0, 92.5, 95.0, 97.5, 100.0, 102.5, 105.0, 107.5, 110.0, 112.5, 115.0, 117.5, 120.0, 122.5, 125.0, 127.5})],\n",
       " [OptionChain(exchange='NSE', underlyingConId=230865250, tradingClass='EQUITAS', multiplier='1', expirations={'20180927', '20180830', '20181025'}, strikes={130.0, 135.0, 140.0, 145.0, 150.0, 155.0, 160.0, 165.0, 170.0, 175.0, 180.0, 185.0, 190.0, 195.0, 200.0, 75.0, 205.0, 80.0, 210.0, 85.0, 215.0, 90.0, 220.0, 95.0, 225.0, 100.0, 105.0, 110.0, 115.0, 120.0, 125.0})],\n",
       " [OptionChain(exchange='NSE', underlyingConId=56984411, tradingClass='ESCORTS', multiplier='1', expirations={'20180927', '20180830', '20181025'}, strikes={640.0, 1280.0, 900.0, 520.0, 1160.0, 780.0, 1040.0, 660.0, 1300.0, 920.0, 540.0, 1180.0, 800.0, 420.0, 1060.0, 680.0, 1320.0, 940.0, 560.0, 1200.0, 820.0, 440.0, 1080.0, 700.0, 960.0, 580.0, 1220.0, 840.0, 460.0, 1100.0, 720.0, 980.0, 600.0, 1240.0, 860.0, 480.0, 1120.0, 740.0, 1000.0, 620.0, 1260.0, 880.0, 500.0, 1140.0, 760.0, 1020.0})],\n",
       " [OptionChain(exchange='NSE', underlyingConId=56985401, tradingClass='EXIDEIND', multiplier='1', expirations={'20180927', '20180830', '20181025'}, strikes={260.0, 265.0, 270.0, 275.0, 150.0, 280.0, 155.0, 285.0, 160.0, 290.0, 165.0, 295.0, 170.0, 300.0, 175.0, 305.0, 180.0, 310.0, 185.0, 315.0, 190.0, 320.0, 195.0, 325.0, 200.0, 330.0, 205.0, 335.0, 210.0, 340.0, 215.0, 345.0, 220.0, 350.0, 225.0, 355.0, 230.0, 360.0, 235.0, 365.0, 240.0, 370.0, 245.0, 375.0, 250.0, 380.0, 255.0})],\n",
       " [OptionChain(exchange='NSE', underlyingConId=136316474, tradingClass='FEDERALBNK', multiplier='1', expirations={'20180927', '20180830', '20181025'}, strikes={40.0, 42.5, 45.0, 47.5, 50.0, 52.5, 55.0, 57.5, 60.0, 62.5, 65.0, 67.5, 70.0, 72.5, 75.0, 77.5, 80.0, 82.5, 85.0, 87.5, 90.0, 92.5, 95.0, 97.5, 100.0, 102.5, 105.0, 107.5, 110.0, 112.5, 115.0, 117.5, 120.0, 122.5, 125.0, 127.5})],\n",
       " [OptionChain(exchange='NSE', underlyingConId=44652084, tradingClass='GAIL', multiplier='1', expirations={'20180927', '20180830', '20181025'}, strikes={260.0, 390.0, 520.0, 270.0, 400.0, 530.0, 150.0, 280.0, 410.0, 160.0, 290.0, 420.0, 170.0, 300.0, 430.0, 180.0, 310.0, 440.0, 190.0, 320.0, 450.0, 200.0, 330.0, 460.0, 210.0, 340.0, 470.0, 220.0, 350.0, 480.0, 230.0, 360.0, 490.0, 240.0, 370.0, 500.0, 250.0, 380.0, 510.0})],\n",
       " [OptionChain(exchange='NSE', underlyingConId=56986291, tradingClass='GLENMARK', multiplier='1', expirations={'20180927', '20180830', '20181025'}, strikes={640.0, 770.0, 390.0, 520.0, 650.0, 780.0, 400.0, 530.0, 660.0, 790.0, 410.0, 540.0, 670.0, 800.0, 420.0, 550.0, 680.0, 430.0, 560.0, 690.0, 820.0, 440.0, 570.0, 700.0, 320.0, 450.0, 580.0, 710.0, 840.0, 330.0, 460.0, 590.0, 720.0, 340.0, 470.0, 600.0, 730.0, 350.0, 480.0, 610.0, 740.0, 360.0, 490.0, 620.0, 750.0, 370.0, 500.0, 630.0, 760.0, 380.0, 510.0})],\n",
       " [OptionChain(exchange='NSE', underlyingConId=69237773, tradingClass='GMRINFRA', multiplier='1', expirations={'20180927', '20180830', '20181025'}, strikes={32.5, 2.5, 35.0, 5.0, 37.5, 7.5, 40.0, 10.0, 42.5, 12.5, 15.0, 17.5, 20.0, 22.5, 25.0, 27.5, 30.0})],\n",
       " [OptionChain(exchange='NSE', underlyingConId=56986171, tradingClass='GODREJCP', multiplier='1', expirations={'20180927', '20180830', '20181025'}, strikes={1280.0, 900.0, 1400.0, 1540.0, 1160.0, 780.0, 1420.0, 1040.0, 1680.0, 1300.0, 920.0, 1560.0, 1180.0, 800.0, 1440.0, 1660.0, 1060.0, 1700.0, 1320.0, 940.0, 1580.0, 1200.0, 820.0, 1460.0, 1080.0, 1720.0, 1340.0, 960.0, 1600.0, 1220.0, 840.0, 1480.0, 1100.0, 1740.0, 1360.0, 980.0, 1620.0, 1240.0, 860.0, 1500.0, 1120.0, 1760.0, 740.0, 1380.0, 1000.0, 1640.0, 1260.0, 880.0, 1520.0, 1140.0, 760.0, 1020.0})],\n",
       " [OptionChain(exchange='NSE', underlyingConId=250071842, tradingClass='GRASIM', multiplier='1', expirations={'20180927', '20180830', '20181025'}, strikes={640.0, 1280.0, 900.0, 1400.0, 520.0, 1160.0, 780.0, 1420.0, 1040.0, 660.0, 1300.0, 920.0, 540.0, 1180.0, 800.0, 1440.0, 1060.0, 680.0, 1320.0, 940.0, 560.0, 1200.0, 820.0, 1080.0, 700.0, 1340.0, 960.0, 580.0, 1220.0, 840.0, 1100.0, 720.0, 1360.0, 980.0, 600.0, 1240.0, 860.0, 1120.0, 740.0, 1380.0, 1000.0, 620.0, 1260.0, 880.0, 1140.0, 760.0, 1020.0})],\n",
       " [OptionChain(exchange='NSE', underlyingConId=164667099, tradingClass='HAVELLS', multiplier='1', expirations={'20180927', '20180830', '20181025'}, strikes={640.0, 770.0, 390.0, 520.0, 650.0, 780.0, 400.0, 530.0, 660.0, 790.0, 410.0, 540.0, 670.0, 800.0, 420.0, 550.0, 680.0, 810.0, 430.0, 560.0, 690.0, 820.0, 440.0, 570.0, 700.0, 830.0, 320.0, 450.0, 580.0, 710.0, 330.0, 460.0, 590.0, 720.0, 340.0, 470.0, 600.0, 730.0, 350.0, 480.0, 610.0, 740.0, 360.0, 490.0, 620.0, 750.0, 370.0, 500.0, 630.0, 760.0, 380.0, 510.0})],\n",
       " [OptionChain(exchange='NSE', underlyingConId=44652094, tradingClass='HCLTECH', multiplier='1', expirations={'20180927', '20180830', '20181025'}, strikes={640.0, 1280.0, 900.0, 1400.0, 520.0, 1160.0, 780.0, 1040.0, 660.0, 1300.0, 920.0, 540.0, 1180.0, 800.0, 1060.0, 680.0, 1320.0, 940.0, 560.0, 1200.0, 820.0, 1080.0, 700.0, 1340.0, 960.0, 580.0, 1220.0, 840.0, 1100.0, 720.0, 1360.0, 980.0, 600.0, 1240.0, 860.0, 480.0, 1120.0, 740.0, 1380.0, 1000.0, 620.0, 1260.0, 880.0, 500.0, 1140.0, 760.0, 1020.0})],\n",
       " [OptionChain(exchange='NSE', underlyingConId=77975259, tradingClass='HDFC', multiplier='1', expirations={'20180927', '20180830', '20181025'}, strikes={1920.0, 2050.0, 1540.0, 2180.0, 1800.0, 2440.0, 2060.0, 2700.0, 1550.0, 1680.0, 2320.0, 2450.0, 1300.0, 1940.0, 1560.0, 2040.0, 1050.0, 2200.0, 1820.0, 1950.0, 2080.0, 1700.0, 2340.0, 1960.0, 2600.0, 1450.0, 1580.0, 2220.0, 2350.0, 1200.0, 1840.0, 2100.0, 2300.0, 1720.0, 2360.0, 1850.0, 1980.0, 1600.0, 2240.0, 1860.0, 2500.0, 1350.0, 1480.0, 2120.0, 2250.0, 1100.0, 1740.0, 2380.0, 2000.0, 1620.0, 2260.0, 1750.0, 1880.0, 2650.0, 1500.0, 2140.0, 1760.0, 2400.0, 1250.0, 2020.0, 2150.0, 1000.0, 1640.0, 2280.0, 1900.0, 1520.0, 2160.0, 1650.0, 1780.0, 2420.0, 2550.0, 1400.0, 1660.0, 1150.0})],\n",
       " [OptionChain(exchange='NSE', underlyingConId=90825534, tradingClass='HDFCBANK', multiplier='1', expirations={'20180927', '20180830', '20181025'}, strikes={1920.0, 2560.0, 2180.0, 1800.0, 2440.0, 2060.0, 1680.0, 2320.0, 1940.0, 2580.0, 2200.0, 1820.0, 2460.0, 2080.0, 1700.0, 2340.0, 1960.0, 2600.0, 2220.0, 1840.0, 2480.0, 2100.0, 2300.0, 1720.0, 2360.0, 1980.0, 2240.0, 1860.0, 2500.0, 2120.0, 1740.0, 2380.0, 2000.0, 1620.0, 2260.0, 1880.0, 2520.0, 2140.0, 1760.0, 2400.0, 2020.0, 1640.0, 2280.0, 1900.0, 2540.0, 2160.0, 1780.0, 2420.0, 2040.0, 1660.0})],\n",
       " [OptionChain(exchange='NSE', underlyingConId=44652149, tradingClass='HEROMOTOCO', multiplier='1', expirations={'20180927', '20180830', '20181025'}, strikes={3200.0, 4100.0, 2950.0, 3850.0, 2700.0, 3600.0, 2450.0, 4500.0, 3350.0, 2200.0, 4250.0, 3100.0, 4000.0, 2850.0, 3750.0, 2600.0, 4650.0, 3500.0, 2350.0, 4400.0, 3250.0, 2100.0, 4150.0, 3000.0, 3900.0, 2750.0, 3650.0, 2500.0, 4550.0, 3400.0, 2250.0, 4300.0, 3150.0, 4050.0, 2900.0, 3800.0, 2650.0, 4700.0, 3550.0, 2400.0, 4450.0, 3300.0, 2150.0, 4200.0, 3050.0, 3950.0, 2800.0, 3700.0, 2550.0, 4600.0, 3450.0, 2300.0, 4350.0})],\n",
       " [OptionChain(exchange='NSE', underlyingConId=44652119, tradingClass='HINDALCO', multiplier='1', expirations={'20180927', '20180830', '20181025'}, strikes={130.0, 260.0, 135.0, 265.0, 140.0, 270.0, 145.0, 275.0, 150.0, 280.0, 155.0, 285.0, 160.0, 290.0, 165.0, 295.0, 170.0, 300.0, 175.0, 305.0, 180.0, 310.0, 185.0, 315.0, 190.0, 320.0, 195.0, 325.0, 200.0, 330.0, 205.0, 335.0, 210.0, 340.0, 215.0, 220.0, 225.0, 100.0, 230.0, 235.0, 110.0, 240.0, 245.0, 120.0, 250.0, 255.0})],\n",
       " [OptionChain(exchange='NSE', underlyingConId=44652194, tradingClass='HINDPETRO', multiplier='1', expirations={'20180927', '20180830', '20181025'}, strikes={130.0, 260.0, 390.0, 140.0, 270.0, 400.0, 150.0, 280.0, 410.0, 160.0, 290.0, 420.0, 170.0, 300.0, 430.0, 180.0, 310.0, 440.0, 190.0, 320.0, 450.0, 200.0, 330.0, 460.0, 210.0, 340.0, 470.0, 220.0, 350.0, 480.0, 230.0, 360.0, 110.0, 240.0, 370.0, 120.0, 250.0, 380.0})],\n",
       " [OptionChain(exchange='NSE', underlyingConId=44652060, tradingClass='HINDUNILVR', multiplier='1', expirations={'20180927', '20180830', '20181025'}, strikes={1280.0, 1920.0, 1540.0, 1160.0, 1800.0, 1420.0, 2060.0, 1680.0, 1300.0, 1940.0, 1560.0, 2040.0, 1180.0, 1820.0, 1440.0, 2080.0, 1700.0, 1320.0, 1960.0, 1580.0, 1200.0, 1840.0, 1460.0, 2100.0, 1720.0, 1340.0, 1980.0, 1600.0, 1220.0, 1860.0, 1480.0, 2120.0, 1740.0, 1360.0, 2000.0, 1620.0, 1240.0, 1880.0, 1500.0, 2140.0, 1760.0, 1380.0, 2020.0, 1640.0, 1260.0, 1900.0, 1520.0, 2160.0, 1780.0, 1400.0, 1660.0})],\n",
       " [OptionChain(exchange='NSE', underlyingConId=84948060, tradingClass='HINDZINC', multiplier='1', expirations={'20180927', '20180830', '20181025'}, strikes={130.0, 260.0, 390.0, 265.0, 140.0, 270.0, 400.0, 275.0, 150.0, 280.0, 410.0, 285.0, 160.0, 290.0, 420.0, 165.0, 295.0, 170.0, 300.0, 430.0, 175.0, 305.0, 180.0, 310.0, 440.0, 185.0, 315.0, 190.0, 320.0, 195.0, 325.0, 200.0, 330.0, 205.0, 335.0, 210.0, 340.0, 215.0, 345.0, 220.0, 350.0, 225.0, 355.0, 230.0, 360.0, 235.0, 365.0, 240.0, 370.0, 245.0, 375.0, 250.0, 380.0, 255.0})],\n",
       " [OptionChain(exchange='NSE', underlyingConId=125585152, tradingClass='IBULHSGFIN', multiplier='1', expirations={'20180927', '20180830', '20181025'}, strikes={1280.0, 900.0, 1400.0, 1540.0, 1160.0, 650.0, 780.0, 1420.0, 1550.0, 1040.0, 1680.0, 1300.0, 920.0, 1560.0, 1050.0, 1180.0, 800.0, 1440.0, 1660.0, 1060.0, 1700.0, 1320.0, 1450.0, 940.0, 1580.0, 1200.0, 820.0, 1460.0, 950.0, 1080.0, 1720.0, 700.0, 1340.0, 960.0, 1600.0, 1220.0, 1350.0, 840.0, 1480.0, 1100.0, 1740.0, 720.0, 1360.0, 850.0, 980.0, 1620.0, 1750.0, 1240.0, 860.0, 1500.0, 1120.0, 1250.0, 740.0, 1380.0, 1000.0, 1640.0, 1260.0, 750.0, 880.0, 1520.0, 1650.0, 1140.0, 760.0, 1020.0, 1150.0})],\n",
       " [OptionChain(exchange='NSE', underlyingConId=175596029, tradingClass='ICICIBANK', multiplier='1', expirations={'20180927', '20180830', '20181025'}, strikes={260.0, 390.0, 140.0, 270.0, 400.0, 150.0, 280.0, 410.0, 160.0, 290.0, 420.0, 170.0, 300.0, 430.0, 180.0, 310.0, 190.0, 320.0, 200.0, 330.0, 210.0, 340.0, 220.0, 350.0, 230.0, 360.0, 240.0, 370.0, 250.0, 380.0})],\n",
       " [OptionChain(exchange='NSE', underlyingConId=249453974, tradingClass='ICICIPRULI', multiplier='1', expirations={'20180927', '20180830', '20181025'}, strikes={260.0, 390.0, 520.0, 270.0, 400.0, 530.0, 280.0, 410.0, 540.0, 290.0, 420.0, 550.0, 300.0, 430.0, 560.0, 310.0, 440.0, 570.0, 190.0, 320.0, 450.0, 580.0, 200.0, 330.0, 460.0, 210.0, 340.0, 470.0, 220.0, 350.0, 480.0, 230.0, 360.0, 490.0, 240.0, 370.0, 500.0, 250.0, 380.0, 510.0})],\n",
       " [OptionChain(exchange='NSE', underlyingConId=50486121, tradingClass='IDEA', multiplier='1', expirations={'20180927', '20180830', '20181025'}, strikes={20.0, 22.5, 25.0, 27.5, 30.0, 32.5, 35.0, 37.5, 40.0, 42.5, 45.0, 47.5, 50.0, 52.5, 55.0, 57.5, 60.0, 62.5, 65.0, 67.5, 70.0, 72.5, 75.0, 77.5, 80.0, 82.5, 85.0, 87.5, 90.0, 92.5, 95.0, 97.5, 100.0})],\n",
       " [OptionChain(exchange='NSE', underlyingConId=56985600, tradingClass='IDFC', multiplier='1', expirations={'20180927', '20180830', '20181025'}, strikes={17.5, 20.0, 22.5, 25.0, 27.5, 30.0, 32.5, 35.0, 37.5, 40.0, 42.5, 45.0, 47.5, 50.0, 52.5, 55.0, 57.5, 60.0, 62.5, 65.0, 67.5, 70.0, 72.5, 75.0})],\n",
       " [OptionChain(exchange='NSE', underlyingConId=209462790, tradingClass='IDFCBANK', multiplier='1', expirations={'20180927', '20180830', '20181025'}, strikes={10.0, 12.5, 15.0, 17.5, 20.0, 22.5, 25.0, 27.5, 30.0, 32.5, 35.0, 37.5, 40.0, 42.5, 45.0, 47.5, 50.0, 52.5, 55.0, 57.5, 60.0, 62.5, 65.0, 67.5, 70.0})],\n",
       " [OptionChain(exchange='NSE', underlyingConId=294350643, tradingClass='IGL', multiplier='1', expirations={'20180927', '20180830', '20181025'}, strikes={385.0, 130.0, 260.0, 390.0, 265.0, 395.0, 140.0, 270.0, 400.0, 145.0, 275.0, 405.0, 150.0, 280.0, 155.0, 285.0, 160.0, 290.0, 165.0, 295.0, 170.0, 300.0, 175.0, 305.0, 180.0, 310.0, 185.0, 315.0, 190.0, 320.0, 195.0, 325.0, 200.0, 330.0, 205.0, 335.0, 210.0, 340.0, 215.0, 345.0, 220.0, 350.0, 225.0, 355.0, 230.0, 360.0, 235.0, 365.0, 240.0, 370.0, 245.0, 375.0, 250.0, 380.0, 255.0})],\n",
       " [OptionChain(exchange='NSE', underlyingConId=56985582, tradingClass='INDIACEM', multiplier='1', expirations={'20180927', '20180830', '20181025'}, strikes={130.0, 135.0, 140.0, 145.0, 150.0, 155.0, 160.0, 165.0, 170.0, 175.0, 50.0, 180.0, 55.0, 185.0, 60.0, 190.0, 65.0, 70.0, 75.0, 80.0, 85.0, 90.0, 95.0, 100.0, 105.0, 110.0, 115.0, 120.0, 125.0})],\n",
       " [OptionChain(exchange='NSE', underlyingConId=56985685, tradingClass='INDIANB', multiplier='1', expirations={'20180927', '20180830', '20181025'}, strikes={260.0, 390.0, 270.0, 400.0, 280.0, 410.0, 290.0, 420.0, 170.0, 300.0, 430.0, 180.0, 310.0, 440.0, 190.0, 320.0, 450.0, 200.0, 330.0, 460.0, 210.0, 340.0, 470.0, 220.0, 350.0, 480.0, 230.0, 360.0, 490.0, 240.0, 370.0, 500.0, 250.0, 380.0})],\n",
       " [OptionChain(exchange='NSE', underlyingConId=212126639, tradingClass='INDIGO', multiplier='1', expirations={'20180927', '20180830', '20181025'}, strikes={900.0, 650.0, 1550.0, 1300.0, 1050.0, 800.0, 1700.0, 550.0, 1450.0, 1200.0, 950.0, 700.0, 1600.0, 450.0, 1350.0, 1100.0, 850.0, 1750.0, 600.0, 1500.0, 1250.0, 1000.0, 750.0, 1650.0, 500.0, 1400.0, 1150.0})],\n",
       " [OptionChain(exchange='NSE', underlyingConId=56985651, tradingClass='INDUSINDBK', multiplier='1', expirations={'20180927', '20180830', '20181025'}, strikes={1920.0, 2050.0, 1540.0, 2180.0, 1800.0, 2060.0, 2700.0, 1550.0, 1680.0, 2320.0, 2450.0, 1300.0, 1940.0, 1560.0, 2040.0, 2200.0, 1820.0, 1950.0, 2080.0, 1700.0, 2340.0, 1960.0, 2600.0, 1450.0, 1580.0, 2220.0, 2350.0, 1200.0, 1840.0, 2100.0, 2300.0, 1720.0, 2360.0, 1850.0, 1980.0, 2750.0, 1600.0, 2240.0, 1860.0, 2500.0, 1350.0, 1480.0, 2120.0, 2250.0, 1100.0, 1740.0, 2380.0, 2000.0, 1620.0, 2260.0, 1750.0, 1880.0, 2650.0, 1500.0, 2140.0, 1760.0, 2400.0, 1250.0, 2020.0, 2150.0, 1640.0, 2280.0, 1900.0, 1520.0, 2160.0, 1650.0, 2800.0, 1780.0, 2550.0, 1400.0, 1660.0, 1150.0})],\n",
       " [OptionChain(exchange='NSE', underlyingConId=287232453, tradingClass='INFIBEAM', multiplier='1', expirations={'20180927', '20180830', '20181025'}, strikes={130.0, 260.0, 135.0, 140.0, 270.0, 145.0, 150.0, 155.0, 160.0, 165.0, 170.0, 175.0, 50.0, 180.0, 185.0, 60.0, 190.0, 195.0, 70.0, 200.0, 205.0, 80.0, 210.0, 85.0, 215.0, 90.0, 220.0, 95.0, 225.0, 100.0, 230.0, 105.0, 235.0, 110.0, 240.0, 115.0, 245.0, 120.0, 250.0, 125.0, 255.0})],\n",
       " [OptionChain(exchange='NSE', underlyingConId=119707173, tradingClass='INFRATEL', multiplier='1', expirations={'20180927', '20180830', '20181025'}, strikes={385.0, 260.0, 390.0, 265.0, 395.0, 140.0, 270.0, 400.0, 275.0, 405.0, 150.0, 280.0, 410.0, 285.0, 415.0, 160.0, 290.0, 420.0, 295.0, 170.0, 300.0, 430.0, 305.0, 180.0, 310.0, 440.0, 185.0, 315.0, 190.0, 320.0, 195.0, 325.0, 200.0, 330.0, 205.0, 335.0, 210.0, 340.0, 215.0, 345.0, 220.0, 350.0, 225.0, 355.0, 230.0, 360.0, 235.0, 365.0, 240.0, 370.0, 245.0, 375.0, 250.0, 380.0, 255.0})],\n",
       " [OptionChain(exchange='NSE', underlyingConId=44652017, tradingClass='INFY', multiplier='1', expirations={'20180927', '20180830', '20181025'}, strikes={1280.0, 900.0, 1540.0, 1160.0, 1420.0, 1040.0, 1680.0, 1300.0, 920.0, 1560.0, 1180.0, 1440.0, 1660.0, 1060.0, 1700.0, 1320.0, 940.0, 1580.0, 1200.0, 820.0, 1460.0, 1080.0, 1720.0, 1340.0, 960.0, 1600.0, 1220.0, 840.0, 1480.0, 1100.0, 1740.0, 1360.0, 980.0, 1620.0, 1240.0, 860.0, 1500.0, 1120.0, 1760.0, 1380.0, 1000.0, 1640.0, 1260.0, 880.0, 1520.0, 1140.0, 1780.0, 1400.0, 1020.0})],\n",
       " [OptionChain(exchange='NSE', underlyingConId=56985747, tradingClass='IOC', multiplier='1', expirations={'20180927', '20180830', '20181025'}, strikes={130.0, 135.0, 140.0, 145.0, 150.0, 155.0, 160.0, 165.0, 170.0, 175.0, 180.0, 185.0, 190.0, 195.0, 200.0, 75.0, 205.0, 80.0, 210.0, 85.0, 215.0, 90.0, 220.0, 95.0, 225.0, 100.0, 230.0, 105.0, 235.0, 110.0, 240.0, 115.0, 245.0, 120.0, 250.0, 125.0, 255.0})],\n",
       " [OptionChain(exchange='NSE', underlyingConId=56985795, tradingClass='IRB', multiplier='1', expirations={'20180927', '20180830', '20181025'}, strikes={130.0, 260.0, 135.0, 265.0, 140.0, 270.0, 145.0, 275.0, 150.0, 280.0, 155.0, 285.0, 160.0, 290.0, 165.0, 295.0, 170.0, 300.0, 175.0, 305.0, 180.0, 310.0, 185.0, 315.0, 190.0, 320.0, 195.0, 325.0, 200.0, 330.0, 205.0, 210.0, 215.0, 90.0, 220.0, 225.0, 100.0, 230.0, 235.0, 110.0, 240.0, 245.0, 120.0, 250.0, 125.0, 255.0})],\n",
       " [OptionChain(exchange='NSE', underlyingConId=44652040, tradingClass='ITC', multiplier='1', expirations={'20180927', '20180830', '20181025'}, strikes={385.0, 260.0, 390.0, 265.0, 395.0, 270.0, 400.0, 275.0, 405.0, 280.0, 285.0, 160.0, 290.0, 165.0, 295.0, 170.0, 300.0, 175.0, 305.0, 180.0, 310.0, 185.0, 315.0, 190.0, 320.0, 195.0, 325.0, 200.0, 330.0, 205.0, 335.0, 210.0, 340.0, 215.0, 345.0, 220.0, 350.0, 225.0, 355.0, 230.0, 360.0, 235.0, 365.0, 240.0, 370.0, 245.0, 375.0, 250.0, 380.0, 255.0})],\n",
       " [OptionChain(exchange='NSE', underlyingConId=56984184, tradingClass='JETAIRWAYS', multiplier='1', expirations={'20180927', '20180830', '20181025'}, strikes={640.0, 260.0, 520.0, 140.0, 400.0, 660.0, 280.0, 540.0, 160.0, 420.0, 40.0, 680.0, 300.0, 560.0, 180.0, 440.0, 60.0, 700.0, 320.0, 580.0, 200.0, 460.0, 80.0, 720.0, 340.0, 600.0, 220.0, 480.0, 100.0, 740.0, 360.0, 620.0, 240.0, 500.0, 120.0, 380.0})],\n",
       " [OptionChain(exchange='NSE', underlyingConId=56984268, tradingClass='JINDALSTEL', multiplier='1', expirations={'20180927', '20180830', '20181025'}, strikes={130.0, 260.0, 140.0, 270.0, 150.0, 280.0, 160.0, 290.0, 170.0, 300.0, 180.0, 310.0, 190.0, 320.0, 200.0, 330.0, 80.0, 210.0, 340.0, 90.0, 220.0, 350.0, 100.0, 230.0, 110.0, 240.0, 120.0, 250.0})],\n",
       " [OptionChain(exchange='NSE', underlyingConId=80423707, tradingClass='JISLJALEQS', multiplier='1', expirations={'20180927', '20180830', '20181025'}, strikes={130.0, 135.0, 140.0, 145.0, 150.0, 155.0, 35.0, 37.5, 40.0, 42.5, 45.0, 47.5, 50.0, 52.5, 55.0, 57.5, 60.0, 62.5, 65.0, 67.5, 70.0, 72.5, 75.0, 77.5, 80.0, 82.5, 85.0, 87.5, 90.0, 92.5, 95.0, 97.5, 100.0, 102.5, 105.0, 107.5, 110.0, 112.5, 115.0, 117.5, 120.0, 122.5, 125.0})],\n",
       " [OptionChain(exchange='NSE', underlyingConId=261024709, tradingClass='JSWSTEEL', multiplier='1', expirations={'20180927', '20180830', '20181025'}, strikes={260.0, 390.0, 270.0, 400.0, 280.0, 410.0, 160.0, 290.0, 420.0, 170.0, 300.0, 430.0, 180.0, 310.0, 440.0, 190.0, 320.0, 450.0, 200.0, 330.0, 460.0, 210.0, 340.0, 470.0, 220.0, 350.0, 230.0, 360.0, 240.0, 370.0, 250.0, 380.0})],\n",
       " [OptionChain(exchange='NSE', underlyingConId=72513009, tradingClass='JUBLFOOD', multiplier='1', expirations={'20180927', '20180830', '20181025'}, strikes={1025.0, 2050.0, 900.0, 1800.0, 650.0, 1675.0, 1550.0, 400.0, 1425.0, 2450.0, 1300.0, 1175.0, 2200.0, 1050.0, 925.0, 1950.0, 800.0, 1825.0, 1700.0, 550.0, 1575.0, 1450.0, 1325.0, 2350.0, 1200.0, 1075.0, 2100.0, 950.0, 825.0, 1850.0, 700.0, 1725.0, 1600.0, 450.0, 1475.0, 2500.0, 1350.0, 1225.0, 2250.0, 1100.0, 975.0, 2000.0, 850.0, 1750.0, 600.0, 1625.0, 1500.0, 350.0, 1375.0, 2400.0, 1250.0, 1125.0, 2150.0, 1000.0, 875.0, 1900.0, 750.0, 1775.0, 1650.0, 500.0, 1525.0, 1400.0, 1275.0, 2300.0, 1150.0})],\n",
       " [OptionChain(exchange='NSE', underlyingConId=250071823, tradingClass='KAJARIACER', multiplier='1', expirations={'20180927', '20180830', '20181025'}, strikes={640.0, 260.0, 390.0, 520.0, 650.0, 270.0, 400.0, 530.0, 660.0, 280.0, 410.0, 540.0, 670.0, 290.0, 420.0, 550.0, 680.0, 300.0, 430.0, 560.0, 690.0, 310.0, 440.0, 570.0, 700.0, 320.0, 450.0, 580.0, 710.0, 330.0, 460.0, 590.0, 720.0, 340.0, 470.0, 600.0, 730.0, 220.0, 350.0, 480.0, 610.0, 740.0, 230.0, 360.0, 490.0, 620.0, 750.0, 240.0, 370.0, 500.0, 630.0, 250.0, 380.0, 510.0})],\n",
       " [OptionChain(exchange='NSE', underlyingConId=78743661, tradingClass='KOTAKBANK', multiplier='1', expirations={'20180927', '20180830', '20181025'}, strikes={1280.0, 900.0, 1540.0, 1160.0, 1800.0, 1420.0, 1040.0, 1680.0, 1300.0, 920.0, 1560.0, 1180.0, 1440.0, 1660.0, 1060.0, 1700.0, 1320.0, 940.0, 1580.0, 1200.0, 1460.0, 1080.0, 1720.0, 1340.0, 960.0, 1600.0, 1220.0, 1480.0, 1100.0, 1740.0, 1360.0, 980.0, 1620.0, 1240.0, 1500.0, 1120.0, 1760.0, 1380.0, 1000.0, 1640.0, 1260.0, 1520.0, 1140.0, 1780.0, 1400.0, 1020.0})],\n",
       " [OptionChain(exchange='NSE', underlyingConId=56984959, tradingClass='KTKBANK', multiplier='1', expirations={'20180927', '20180830', '20181025'}, strikes={130.0, 132.5, 135.0, 137.5, 140.0, 142.5, 145.0, 147.5, 150.0, 152.5, 155.0, 157.5, 160.0, 162.5, 165.0, 167.5, 170.0, 172.5, 175.0, 55.0, 57.5, 60.0, 62.5, 65.0, 67.5, 70.0, 72.5, 75.0, 77.5, 80.0, 82.5, 85.0, 87.5, 90.0, 92.5, 95.0, 97.5, 100.0, 102.5, 105.0, 107.5, 110.0, 112.5, 115.0, 117.5, 120.0, 122.5, 125.0, 127.5})],\n",
       " [OptionChain(exchange='NSE', underlyingConId=82450876, tradingClass='LICHSGFIN', multiplier='1', expirations={'20180927', '20180830', '20181025'}, strikes={640.0, 260.0, 390.0, 520.0, 650.0, 270.0, 400.0, 530.0, 660.0, 280.0, 410.0, 540.0, 670.0, 290.0, 420.0, 550.0, 680.0, 300.0, 430.0, 560.0, 690.0, 310.0, 440.0, 570.0, 700.0, 320.0, 450.0, 580.0, 710.0, 330.0, 460.0, 590.0, 720.0, 340.0, 470.0, 600.0, 730.0, 350.0, 480.0, 610.0, 740.0, 360.0, 490.0, 620.0, 370.0, 500.0, 630.0, 380.0, 510.0})],\n",
       " [OptionChain(exchange='NSE', underlyingConId=44652051, tradingClass='LT', multiplier='1', expirations={'20180927', '20180830', '20181025'}, strikes={1280.0, 900.0, 1540.0, 1160.0, 1420.0, 1040.0, 1680.0, 1300.0, 920.0, 1560.0, 1180.0, 1440.0, 1660.0, 1060.0, 1700.0, 1320.0, 940.0, 1580.0, 1200.0, 1460.0, 1080.0, 1720.0, 1340.0, 960.0, 1600.0, 1220.0, 840.0, 1480.0, 1100.0, 1740.0, 1360.0, 980.0, 1620.0, 1240.0, 860.0, 1500.0, 1120.0, 1760.0, 1380.0, 1000.0, 1640.0, 1260.0, 880.0, 1520.0, 1140.0, 1780.0, 1400.0, 1020.0})],\n",
       " [OptionChain(exchange='NSE', underlyingConId=78429379, tradingClass='LUPIN', multiplier='1', expirations={'20180927', '20180830', '20181025'}, strikes={640.0, 1280.0, 900.0, 520.0, 1160.0, 780.0, 400.0, 1040.0, 660.0, 1300.0, 920.0, 540.0, 1180.0, 800.0, 420.0, 1060.0, 680.0, 1320.0, 940.0, 560.0, 1200.0, 820.0, 440.0, 1080.0, 700.0, 1340.0, 960.0, 580.0, 1220.0, 840.0, 460.0, 1100.0, 720.0, 980.0, 600.0, 1240.0, 860.0, 480.0, 1120.0, 740.0, 1000.0, 620.0, 1260.0, 880.0, 500.0, 1140.0, 760.0, 1020.0})],\n",
       " [OptionChain(exchange='NSE', underlyingConId=74960455, tradingClass='MANAPPURAM', multiplier='1', expirations={'20180927', '20180830', '20181025'}, strikes={130.0, 132.5, 135.0, 137.5, 140.0, 142.5, 145.0, 147.5, 150.0, 152.5, 155.0, 160.0, 45.0, 50.0, 52.5, 55.0, 57.5, 60.0, 62.5, 65.0, 67.5, 70.0, 72.5, 75.0, 77.5, 80.0, 82.5, 85.0, 87.5, 90.0, 92.5, 95.0, 97.5, 100.0, 102.5, 105.0, 107.5, 110.0, 112.5, 115.0, 117.5, 120.0, 122.5, 125.0, 127.5})],\n",
       " [OptionChain(exchange='NSE', underlyingConId=56987333, tradingClass='MARICO', multiplier='1', expirations={'20180927', '20180830', '20181025'}, strikes={385.0, 260.0, 390.0, 265.0, 395.0, 270.0, 400.0, 275.0, 405.0, 280.0, 410.0, 285.0, 415.0, 290.0, 420.0, 295.0, 425.0, 300.0, 430.0, 305.0, 435.0, 310.0, 440.0, 315.0, 445.0, 190.0, 320.0, 450.0, 325.0, 200.0, 330.0, 460.0, 335.0, 210.0, 340.0, 470.0, 345.0, 220.0, 350.0, 480.0, 225.0, 355.0, 230.0, 360.0, 490.0, 235.0, 365.0, 240.0, 370.0, 500.0, 245.0, 375.0, 250.0, 380.0, 255.0})],\n",
       " [OptionChain(exchange='NSE', underlyingConId=44652108, tradingClass='MARUTI', multiplier='1', expirations={'20180927', '20180830', '20181025'}, strikes={9600.0, 7300.0, 10500.0, 8200.0, 11400.0, 9100.0, 6800.0, 10000.0, 7700.0, 10900.0, 8600.0, 11800.0, 9500.0, 7200.0, 10400.0, 8100.0, 11300.0, 9000.0, 6700.0, 9900.0, 7600.0, 10800.0, 11000.0, 8500.0, 11700.0, 9400.0, 7100.0, 10300.0, 8000.0, 11200.0, 8900.0, 6600.0, 9800.0, 7500.0, 10700.0, 8400.0, 11600.0, 9300.0, 7000.0, 10200.0, 7900.0, 11100.0, 8800.0, 6500.0, 9700.0, 7400.0, 10600.0, 8300.0, 11500.0, 9200.0, 6900.0, 10100.0, 7800.0, 8700.0})],\n",
       " [OptionChain(exchange='NSE', underlyingConId=321318372, tradingClass='MCDOWELL-N', multiplier='1', expirations={'20180927', '20180830', '20181025'}, strikes={640.0, 900.0, 520.0, 780.0, 400.0, 660.0, 280.0, 920.0, 540.0, 800.0, 420.0, 680.0, 300.0, 940.0, 560.0, 820.0, 440.0, 700.0, 320.0, 960.0, 580.0, 840.0, 460.0, 720.0, 340.0, 980.0, 600.0, 860.0, 480.0, 740.0, 360.0, 620.0, 880.0, 500.0, 760.0, 380.0})],\n",
       " [OptionChain(exchange='NSE', underlyingConId=103853702, tradingClass='MCX', multiplier='1', expirations={'20180927', '20180830', '20181025'}, strikes={640.0, 900.0, 520.0, 1160.0, 780.0, 1020.0, 400.0, 1040.0, 660.0, 920.0, 540.0, 1180.0, 800.0, 420.0, 1060.0, 680.0, 940.0, 560.0, 1200.0, 820.0, 440.0, 1080.0, 700.0, 960.0, 580.0, 1220.0, 840.0, 460.0, 1100.0, 720.0, 980.0, 600.0, 860.0, 480.0, 1120.0, 740.0, 1000.0, 620.0, 880.0, 500.0, 1140.0, 760.0, 380.0})],\n",
       " [OptionChain(exchange='NSE', underlyingConId=56987139, tradingClass='MFSL', multiplier='1', expirations={'20180927', '20180830', '20181025'}, strikes={640.0, 260.0, 390.0, 520.0, 650.0, 270.0, 400.0, 530.0, 660.0, 280.0, 410.0, 540.0, 670.0, 290.0, 420.0, 550.0, 680.0, 300.0, 430.0, 560.0, 690.0, 310.0, 440.0, 570.0, 700.0, 320.0, 450.0, 580.0, 200.0, 330.0, 460.0, 590.0, 340.0, 470.0, 600.0, 220.0, 350.0, 480.0, 610.0, 230.0, 360.0, 490.0, 620.0, 240.0, 370.0, 500.0, 630.0, 250.0, 380.0, 510.0})],\n",
       " [OptionChain(exchange='NSE', underlyingConId=56987628, tradingClass='MINDTREE', multiplier='1', expirations={'20180927', '20180830', '20181025'}, strikes={640.0, 1280.0, 900.0, 1400.0, 520.0, 1160.0, 780.0, 1420.0, 1040.0, 660.0, 1300.0, 920.0, 540.0, 1180.0, 800.0, 1440.0, 1060.0, 680.0, 1320.0, 940.0, 560.0, 1200.0, 820.0, 1460.0, 1080.0, 700.0, 1340.0, 960.0, 580.0, 1220.0, 840.0, 1480.0, 1100.0, 720.0, 1360.0, 980.0, 600.0, 1240.0, 860.0, 1120.0, 740.0, 1380.0, 1000.0, 620.0, 1260.0, 880.0, 1140.0, 760.0, 1020.0})],\n",
       " [OptionChain(exchange='NSE', underlyingConId=56987580, tradingClass='MOTHERSUMI', multiplier='1', expirations={'20180927', '20180830', '20181025'}, strikes={260.0, 390.0, 140.0, 270.0, 400.0, 150.0, 280.0, 410.0, 160.0, 290.0, 420.0, 170.0, 300.0, 430.0, 180.0, 310.0, 440.0, 190.0, 320.0, 450.0, 200.0, 330.0, 460.0, 210.0, 340.0, 220.0, 350.0, 230.0, 360.0, 240.0, 370.0, 250.0, 380.0})],\n",
       " [OptionChain(exchange='NSE', underlyingConId=56987338, tradingClass='MRF', multiplier='1', expirations={'20180927', '20180830', '20181025'}, strikes={80000.0, 69250.0, 85250.0, 74500.0, 79750.0, 69000.0, 85000.0, 74250.0, 79500.0, 68750.0, 84750.0, 74000.0, 79250.0, 68500.0, 84500.0, 73750.0, 79000.0, 68250.0, 84250.0, 73500.0, 78750.0, 68000.0, 84000.0, 73250.0, 78500.0, 83750.0, 73000.0, 78250.0, 83500.0, 72750.0, 78000.0, 83250.0, 72500.0, 77750.0, 83000.0, 72250.0, 77500.0, 82750.0, 72000.0, 77250.0, 82500.0, 71750.0, 77000.0, 82250.0, 71500.0, 76750.0, 82000.0, 71250.0, 76500.0, 81750.0, 71000.0, 76250.0, 81500.0, 85500.0, 70750.0, 76000.0, 81250.0, 70500.0, 75750.0, 81000.0, 70250.0, 75500.0, 80750.0, 70000.0, 75250.0, 80500.0, 69750.0, 85750.0, 75000.0, 80250.0, 69500.0, 74750.0})],\n",
       " [OptionChain(exchange='NSE', underlyingConId=87790418, tradingClass='MUTHOOTFIN', multiplier='1', expirations={'20180927', '20180830', '20181025'}, strikes={260.0, 390.0, 520.0, 270.0, 400.0, 530.0, 280.0, 410.0, 540.0, 290.0, 420.0, 550.0, 300.0, 430.0, 560.0, 310.0, 440.0, 570.0, 320.0, 450.0, 580.0, 330.0, 460.0, 210.0, 340.0, 470.0, 220.0, 350.0, 480.0, 230.0, 360.0, 490.0, 240.0, 370.0, 500.0, 250.0, 380.0, 510.0})],\n",
       " [OptionChain(exchange='NSE', underlyingConId=85433002, tradingClass='NATIONALUM', multiplier='1', expirations={'20180927', '20180830', '20181025'}, strikes={27.5, 30.0, 32.5, 35.0, 37.5, 40.0, 42.5, 45.0, 47.5, 50.0, 52.5, 55.0, 57.5, 60.0, 62.5, 65.0, 67.5, 70.0, 72.5, 75.0, 77.5, 80.0, 82.5, 85.0, 87.5, 90.0, 92.5, 95.0, 97.5, 100.0, 102.5})],\n",
       " [OptionChain(exchange='NSE', underlyingConId=315530281, tradingClass='NBCC', multiplier='1', expirations={'20180927', '20180830', '20181025'}, strikes={130.0, 132.5, 27.5, 30.0, 32.5, 35.0, 37.5, 40.0, 42.5, 45.0, 47.5, 50.0, 52.5, 55.0, 57.5, 60.0, 62.5, 65.0, 67.5, 70.0, 72.5, 75.0, 77.5, 80.0, 82.5, 85.0, 87.5, 90.0, 92.5, 95.0, 97.5, 100.0, 102.5, 105.0, 107.5, 110.0, 112.5, 115.0, 117.5, 120.0, 122.5, 125.0, 127.5})],\n",
       " [OptionChain(exchange='NSE', underlyingConId=56984639, tradingClass='NCC', multiplier='1', expirations={'20180927', '20180830', '20181025'}, strikes={130.0, 135.0, 140.0, 145.0, 150.0, 155.0, 30.0, 160.0, 35.0, 165.0, 40.0, 170.0, 45.0, 50.0, 55.0, 60.0, 65.0, 70.0, 75.0, 80.0, 85.0, 90.0, 95.0, 100.0, 105.0, 110.0, 115.0, 120.0, 125.0})],\n",
       " [OptionChain(exchange='NSE', underlyingConId=64687316, tradingClass='NESTLEIND', multiplier='1', expirations={'20180927', '20180830', '20181025'}, strikes={9600.0, 10500.0, 8200.0, 11400.0, 9100.0, 12300.0, 10000.0, 7700.0, 10900.0, 8600.0, 11800.0, 9500.0, 10400.0, 8100.0, 11300.0, 9000.0, 12200.0, 9900.0, 7600.0, 10800.0, 11000.0, 8500.0, 11700.0, 9400.0, 10300.0, 8000.0, 11200.0, 8900.0, 12100.0, 9800.0, 7500.0, 10700.0, 8400.0, 11600.0, 9300.0, 12500.0, 10200.0, 7900.0, 11100.0, 8800.0, 11900.0, 12000.0, 9700.0, 10600.0, 8300.0, 11500.0, 9200.0, 12400.0, 10100.0, 7800.0, 8700.0})],\n",
       " [OptionChain(exchange='NSE', underlyingConId=56984653, tradingClass='NMDC', multiplier='1', expirations={'20180927', '20180830', '20181025'}, strikes={130.0, 132.5, 135.0, 137.5, 140.0, 142.5, 145.0, 147.5, 150.0, 152.5, 155.0, 160.0, 165.0, 170.0, 50.0, 52.5, 55.0, 57.5, 60.0, 62.5, 65.0, 67.5, 70.0, 72.5, 75.0, 77.5, 80.0, 82.5, 85.0, 87.5, 90.0, 92.5, 95.0, 97.5, 100.0, 102.5, 105.0, 107.5, 110.0, 112.5, 115.0, 117.5, 120.0, 122.5, 125.0, 127.5})],\n",
       " [OptionChain(exchange='NSE', underlyingConId=49982069, tradingClass='NTPC', multiplier='1', expirations={'20180927', '20180830', '20181025'}, strikes={130.0, 132.5, 135.0, 137.5, 140.0, 142.5, 145.0, 147.5, 150.0, 152.5, 155.0, 157.5, 160.0, 162.5, 165.0, 167.5, 170.0, 172.5, 175.0, 177.5, 180.0, 182.5, 185.0, 187.5, 190.0, 192.5, 195.0, 197.5, 200.0, 202.5, 205.0, 207.5, 210.0, 212.5, 215.0, 217.5, 100.0, 102.5, 105.0, 107.5, 110.0, 112.5, 115.0, 117.5, 120.0, 122.5, 125.0, 127.5})],\n",
       " [OptionChain(exchange='NSE', underlyingConId=83845926, tradingClass='ONGC', multiplier='1', expirations={'20180927', '20180830', '20181025'}, strikes={130.0, 260.0, 135.0, 140.0, 145.0, 150.0, 155.0, 160.0, 165.0, 170.0, 175.0, 180.0, 185.0, 190.0, 195.0, 200.0, 75.0, 205.0, 80.0, 210.0, 85.0, 215.0, 90.0, 220.0, 95.0, 225.0, 100.0, 230.0, 105.0, 235.0, 110.0, 240.0, 115.0, 245.0, 120.0, 250.0, 125.0, 255.0})],\n",
       " [OptionChain(exchange='NSE', underlyingConId=56986688, tradingClass='PAGEIND', multiplier='1', expirations={'20180927', '20180830', '20181025'}, strikes={32000.0, 21250.0, 26500.0, 31750.0, 21000.0, 26250.0, 31500.0, 20750.0, 26000.0, 31250.0, 20500.0, 25750.0, 31000.0, 20250.0, 25500.0, 30750.0, 20000.0, 25250.0, 30500.0, 19750.0, 25000.0, 30250.0, 19500.0, 24750.0, 30000.0, 19250.0, 24500.0, 29750.0, 24250.0, 29500.0, 24000.0, 29250.0, 34500.0, 23750.0, 29000.0, 34250.0, 23500.0, 28750.0, 34000.0, 23250.0, 28500.0, 33750.0, 23000.0, 28250.0, 33500.0, 22750.0, 28000.0, 33250.0, 22500.0, 27750.0, 33000.0, 22250.0, 27500.0, 32750.0, 22000.0, 27250.0, 32500.0, 21750.0, 27000.0, 32250.0, 21500.0, 26750.0})],\n",
       " [OptionChain(exchange='NSE', underlyingConId=119653211, tradingClass='PCJEWELLER', multiplier='1', expirations={'20180927', '20180830', '20181025'}, strikes={260.0, 650.0, 140.0, 400.0, 20.0, 150.0, 280.0, 160.0, 550.0, 40.0, 300.0, 50.0, 180.0, 60.0, 320.0, 450.0, 200.0, 80.0, 340.0, 600.0, 220.0, 350.0, 100.0, 240.0, 500.0, 120.0, 250.0})],\n",
       " [OptionChain(exchange='NSE', underlyingConId=56986920, tradingClass='PEL', multiplier='1', expirations={'20180927', '20180830', '20181025'}, strikes={3200.0, 2050.0, 2950.0, 1800.0, 2700.0, 1550.0, 3600.0, 2450.0, 3350.0, 2200.0, 3100.0, 1950.0, 2850.0, 1700.0, 2600.0, 1450.0, 3500.0, 2350.0, 3250.0, 2100.0, 3000.0, 1850.0, 2750.0, 1600.0, 3650.0, 2500.0, 1350.0, 3400.0, 2250.0, 3150.0, 2000.0, 2900.0, 1750.0, 2650.0, 1500.0, 3550.0, 2400.0, 3300.0, 2150.0, 3050.0, 1900.0, 2800.0, 1650.0, 3700.0, 2550.0, 1400.0, 3450.0, 2300.0})],\n",
       " [OptionChain(exchange='NSE', underlyingConId=56986960, tradingClass='PETRONET', multiplier='1', expirations={'20180927', '20180830', '20181025'}, strikes={130.0, 260.0, 135.0, 265.0, 140.0, 270.0, 145.0, 275.0, 150.0, 280.0, 155.0, 285.0, 160.0, 290.0, 165.0, 295.0, 170.0, 300.0, 175.0, 305.0, 180.0, 310.0, 185.0, 315.0, 190.0, 320.0, 195.0, 325.0, 200.0, 205.0, 210.0, 215.0, 220.0, 225.0, 230.0, 105.0, 235.0, 110.0, 240.0, 115.0, 245.0, 120.0, 250.0, 125.0, 255.0})],\n",
       " [OptionChain(exchange='NSE', underlyingConId=56986985, tradingClass='PFC', multiplier='1', expirations={'20180927', '20180830', '20181025'}, strikes={32.5, 35.0, 37.5, 40.0, 42.5, 45.0, 47.5, 50.0, 52.5, 55.0, 57.5, 60.0, 62.5, 65.0, 67.5, 70.0, 72.5, 75.0, 77.5, 80.0, 82.5, 85.0, 87.5, 90.0, 92.5, 95.0, 97.5, 100.0, 102.5, 105.0, 107.5, 110.0, 112.5, 115.0, 117.5, 120.0, 122.5})],\n",
       " [OptionChain(exchange='NSE', underlyingConId=56986764, tradingClass='PIDILITIND', multiplier='1', expirations={'20180927', '20180830', '20181025'}, strikes={640.0, 1280.0, 900.0, 1400.0, 1160.0, 780.0, 1420.0, 1040.0, 660.0, 1300.0, 920.0, 1180.0, 800.0, 1440.0, 1060.0, 680.0, 1320.0, 940.0, 1200.0, 820.0, 1460.0, 1080.0, 700.0, 1340.0, 960.0, 1220.0, 840.0, 1480.0, 1100.0, 720.0, 1360.0, 980.0, 1240.0, 860.0, 1500.0, 1120.0, 740.0, 1380.0, 1000.0, 620.0, 1260.0, 880.0, 1520.0, 1140.0, 760.0, 1020.0})],\n",
       " [OptionChain(exchange='NSE', underlyingConId=176235422, tradingClass='PNB', multiplier='1', expirations={'20180927', '20180830', '20181025'}, strikes={130.0, 135.0, 140.0, 25.0, 30.0, 32.5, 35.0, 37.5, 40.0, 42.5, 45.0, 47.5, 50.0, 52.5, 55.0, 57.5, 60.0, 62.5, 65.0, 67.5, 70.0, 72.5, 75.0, 77.5, 80.0, 82.5, 85.0, 87.5, 90.0, 92.5, 95.0, 97.5, 100.0, 102.5, 105.0, 107.5, 110.0, 112.5, 115.0, 117.5, 120.0, 122.5, 125.0})],\n",
       " [OptionChain(exchange='NSE', underlyingConId=50486118, tradingClass='POWERGRID', multiplier='1', expirations={'20180927', '20180830', '20181025'}, strikes={257.5, 130.0, 255.0, 132.5, 260.0, 135.0, 137.5, 140.0, 142.5, 145.0, 147.5, 150.0, 152.5, 155.0, 157.5, 160.0, 162.5, 165.0, 167.5, 170.0, 172.5, 175.0, 177.5, 180.0, 182.5, 185.0, 187.5, 190.0, 192.5, 195.0, 197.5, 200.0, 202.5, 205.0, 207.5, 210.0, 212.5, 215.0, 217.5, 220.0, 222.5, 225.0, 227.5, 230.0, 232.5, 235.0, 237.5, 240.0, 242.5, 245.0, 247.5, 250.0, 252.5, 125.0, 127.5})],\n",
       " [OptionChain(exchange='NSE', underlyingConId=56984932, tradingClass='RAYMOND', multiplier='1', expirations={'20180927', '20180830', '20181025'}, strikes={640.0, 1280.0, 900.0, 1400.0, 520.0, 1160.0, 650.0, 780.0, 400.0, 1040.0, 660.0, 1300.0, 920.0, 1050.0, 540.0, 1180.0, 800.0, 420.0, 1060.0, 550.0, 680.0, 1320.0, 1450.0, 940.0, 560.0, 1200.0, 820.0, 950.0, 440.0, 1080.0, 700.0, 960.0, 450.0, 580.0, 1220.0, 1350.0, 840.0, 460.0, 1100.0, 720.0, 850.0, 980.0, 600.0, 1240.0, 860.0, 1500.0, 480.0, 1120.0, 1250.0, 740.0, 1000.0, 620.0, 1260.0, 750.0, 880.0, 500.0, 1140.0, 760.0, 1020.0, 1150.0})],\n",
       " [OptionChain(exchange='NSE', underlyingConId=246723708, tradingClass='RBLBANK', multiplier='1', expirations={'20180927', '20180830', '20181025'}, strikes={640.0, 770.0, 390.0, 520.0, 650.0, 780.0, 400.0, 530.0, 660.0, 410.0, 540.0, 670.0, 420.0, 550.0, 680.0, 430.0, 560.0, 690.0, 310.0, 440.0, 570.0, 700.0, 320.0, 450.0, 580.0, 710.0, 330.0, 460.0, 590.0, 720.0, 340.0, 470.0, 600.0, 730.0, 350.0, 480.0, 610.0, 740.0, 360.0, 490.0, 620.0, 750.0, 370.0, 500.0, 630.0, 760.0, 380.0, 510.0})],\n",
       " [OptionChain(exchange='NSE', underlyingConId=56984788, tradingClass='RECLTD', multiplier='1', expirations={'20180927', '20180830', '20181025'}, strikes={130.0, 132.5, 135.0, 137.5, 140.0, 142.5, 145.0, 147.5, 150.0, 152.5, 155.0, 157.5, 160.0, 162.5, 165.0, 170.0, 45.0, 47.5, 175.0, 50.0, 52.5, 180.0, 55.0, 57.5, 60.0, 62.5, 65.0, 67.5, 70.0, 72.5, 75.0, 77.5, 80.0, 82.5, 85.0, 87.5, 90.0, 92.5, 95.0, 97.5, 100.0, 102.5, 105.0, 107.5, 110.0, 112.5, 115.0, 117.5, 120.0, 122.5, 125.0, 127.5})],\n",
       " [OptionChain(exchange='NSE', underlyingConId=56984773, tradingClass='RELCAPITAL', multiplier='1', expirations={'20180927', '20180830', '20181025'}, strikes={260.0, 390.0, 520.0, 270.0, 400.0, 530.0, 280.0, 410.0, 540.0, 160.0, 290.0, 420.0, 550.0, 170.0, 300.0, 430.0, 560.0, 180.0, 310.0, 440.0, 570.0, 190.0, 320.0, 450.0, 580.0, 200.0, 330.0, 460.0, 590.0, 210.0, 340.0, 470.0, 600.0, 220.0, 350.0, 480.0, 230.0, 360.0, 490.0, 620.0, 240.0, 370.0, 500.0, 250.0, 380.0, 510.0})],\n",
       " [OptionChain(exchange='NSE', underlyingConId=44652000, tradingClass='RELIANCE', multiplier='1', expirations={'20180927', '20180830', '20181025'}, strikes={640.0, 1280.0, 900.0, 1400.0, 1540.0, 520.0, 1160.0, 780.0, 1420.0, 1040.0, 660.0, 1300.0, 920.0, 1560.0, 540.0, 1180.0, 800.0, 1440.0, 1060.0, 680.0, 1320.0, 940.0, 1580.0, 560.0, 1200.0, 820.0, 1460.0, 1080.0, 700.0, 1340.0, 960.0, 580.0, 1220.0, 840.0, 1480.0, 1100.0, 720.0, 1360.0, 980.0, 600.0, 1240.0, 860.0, 1500.0, 1120.0, 740.0, 1380.0, 1000.0, 620.0, 1260.0, 880.0, 1520.0, 1140.0, 760.0, 1020.0})],\n",
       " [OptionChain(exchange='NSE', underlyingConId=44652170, tradingClass='RELINFRA', multiplier='1', expirations={'20180927', '20180830', '20181025'}, strikes={640.0, 260.0, 390.0, 520.0, 270.0, 400.0, 530.0, 280.0, 410.0, 540.0, 290.0, 420.0, 550.0, 300.0, 430.0, 560.0, 310.0, 440.0, 570.0, 190.0, 320.0, 450.0, 580.0, 200.0, 330.0, 460.0, 590.0, 210.0, 340.0, 470.0, 600.0, 220.0, 350.0, 480.0, 230.0, 360.0, 490.0, 620.0, 240.0, 370.0, 500.0, 250.0, 380.0, 510.0})],\n",
       " [OptionChain(exchange='NSE', underlyingConId=44652045, tradingClass='SAIL', multiplier='1', expirations={'20180927', '20180830', '20181025'}, strikes={35.0, 37.5, 40.0, 42.5, 45.0, 47.5, 50.0, 52.5, 55.0, 57.5, 60.0, 62.5, 65.0, 67.5, 70.0, 72.5, 75.0, 77.5, 80.0, 82.5, 85.0, 87.5, 90.0, 92.5, 95.0, 97.5, 100.0, 102.5, 105.0, 107.5, 110.0, 112.5, 115.0, 117.5, 120.0})],\n",
       " [OptionChain(exchange='NSE', underlyingConId=173418084, tradingClass='SBIN', multiplier='1', expirations={'20180927', '20180830', '20181025'}, strikes={385.0, 260.0, 390.0, 265.0, 395.0, 270.0, 275.0, 150.0, 280.0, 155.0, 285.0, 160.0, 290.0, 165.0, 295.0, 170.0, 300.0, 175.0, 305.0, 180.0, 310.0, 185.0, 315.0, 190.0, 320.0, 195.0, 325.0, 200.0, 330.0, 205.0, 335.0, 210.0, 340.0, 215.0, 345.0, 220.0, 350.0, 225.0, 355.0, 230.0, 360.0, 235.0, 365.0, 240.0, 370.0, 245.0, 375.0, 250.0, 380.0, 255.0})],\n",
       " [OptionChain(exchange='NSE', underlyingConId=56989171, tradingClass='SHREECEM', multiplier='1', expirations={'20180927', '20180830', '20181025'}, strikes={16000.0, 21250.0, 10500.0, 15750.0, 21000.0, 10250.0, 15500.0, 20750.0, 15250.0, 20500.0, 15000.0, 20250.0, 14750.0, 20000.0, 14500.0, 19750.0, 14250.0, 19500.0, 14000.0, 19250.0, 13750.0, 19000.0, 13500.0, 18750.0, 13250.0, 18500.0, 13000.0, 18250.0, 12750.0, 18000.0, 12500.0, 17750.0, 12250.0, 17500.0, 22750.0, 12000.0, 17250.0, 22500.0, 11750.0, 17000.0, 22250.0, 11500.0, 16750.0, 22000.0, 11250.0, 16500.0, 21750.0, 11000.0, 16250.0, 21500.0, 10750.0})],\n",
       " [OptionChain(exchange='NSE', underlyingConId=79403920, tradingClass='SOUTHBANK', multiplier='1', expirations={'20180927', '20180830', '20181025'}, strikes={32.5, 2.5, 35.0, 5.0, 37.5, 7.5, 40.0, 10.0, 42.5, 12.5, 45.0, 15.0, 47.5, 17.5, 50.0, 20.0, 22.5, 25.0, 27.5, 30.0})],\n",
       " [OptionChain(exchange='NSE', underlyingConId=56988999, tradingClass='SRTRANSFIN', multiplier='1', expirations={'20180927', '20180830', '20181025'}, strikes={2050.0, 900.0, 1800.0, 650.0, 1550.0, 1300.0, 1050.0, 1950.0, 800.0, 1700.0, 550.0, 1450.0, 1200.0, 2100.0, 950.0, 1850.0, 700.0, 1600.0, 1350.0, 1100.0, 2000.0, 850.0, 1750.0, 600.0, 1500.0, 1250.0, 1000.0, 1900.0, 750.0, 1650.0, 500.0, 1400.0, 1150.0})],\n",
       " [OptionChain(exchange='NSE', underlyingConId=56989252, tradingClass='STAR', multiplier='1', expirations={'20180927', '20180830', '20181025'}, strikes={640.0, 260.0, 520.0, 140.0, 400.0, 20.0, 660.0, 280.0, 540.0, 160.0, 420.0, 40.0, 680.0, 300.0, 560.0, 180.0, 440.0, 60.0, 700.0, 320.0, 580.0, 200.0, 460.0, 80.0, 720.0, 340.0, 600.0, 220.0, 480.0, 100.0, 740.0, 360.0, 620.0, 240.0, 500.0, 120.0, 380.0})],\n",
       " [OptionChain(exchange='NSE', underlyingConId=81351036, tradingClass='SUNPHARMA', multiplier='1', expirations={'20180927', '20180830', '20181025'}, strikes={640.0, 260.0, 520.0, 780.0, 400.0, 660.0, 280.0, 540.0, 800.0, 420.0, 680.0, 300.0, 560.0, 820.0, 440.0, 700.0, 320.0, 580.0, 460.0, 720.0, 340.0, 600.0, 480.0, 740.0, 360.0, 620.0, 240.0, 500.0, 760.0, 380.0})],\n",
       " [OptionChain(exchange='NSE', underlyingConId=56989289, tradingClass='SUNTV', multiplier='1', expirations={'20180927', '20180830', '20181025'}, strikes={640.0, 1280.0, 900.0, 520.0, 1160.0, 780.0, 1020.0, 400.0, 1040.0, 660.0, 1300.0, 920.0, 540.0, 1180.0, 800.0, 420.0, 1060.0, 680.0, 1320.0, 940.0, 560.0, 1200.0, 820.0, 440.0, 1080.0, 700.0, 1340.0, 960.0, 580.0, 1220.0, 840.0, 460.0, 1100.0, 720.0, 980.0, 600.0, 1240.0, 860.0, 480.0, 1120.0, 740.0, 1000.0, 620.0, 1260.0, 880.0, 500.0, 1140.0, 760.0, 380.0})],\n",
       " [OptionChain(exchange='NSE', underlyingConId=51687627, tradingClass='SUZLON', multiplier='1', expirations={'20180927', '20180830', '20181025'}, strikes={32.5, 2.5, 35.0, 5.0, 7.5, 10.0, 12.5, 15.0, 17.5, 20.0, 22.5, 25.0, 27.5, 30.0})],\n",
       " [OptionChain(exchange='NSE', underlyingConId=56986895, tradingClass='TATACHEM', multiplier='1', expirations={'20180927', '20180830', '20181025'}, strikes={640.0, 900.0, 520.0, 780.0, 1020.0, 400.0, 1040.0, 660.0, 920.0, 540.0, 800.0, 420.0, 680.0, 940.0, 560.0, 820.0, 440.0, 700.0, 960.0, 580.0, 840.0, 460.0, 720.0, 340.0, 980.0, 600.0, 860.0, 480.0, 740.0, 360.0, 1000.0, 620.0, 880.0, 500.0, 760.0, 380.0})],\n",
       " [OptionChain(exchange='NSE', underlyingConId=44652159, tradingClass='TATACOMM', multiplier='1', expirations={'20180927', '20180830', '20181025'}, strikes={640.0, 770.0, 390.0, 520.0, 650.0, 780.0, 400.0, 530.0, 660.0, 790.0, 410.0, 540.0, 670.0, 800.0, 420.0, 550.0, 680.0, 810.0, 430.0, 560.0, 690.0, 820.0, 440.0, 570.0, 700.0, 450.0, 580.0, 710.0, 460.0, 590.0, 720.0, 470.0, 600.0, 730.0, 350.0, 480.0, 610.0, 740.0, 360.0, 490.0, 620.0, 750.0, 370.0, 500.0, 630.0, 760.0, 380.0, 510.0})],\n",
       " [OptionChain(exchange='NSE', underlyingConId=56985222, tradingClass='TATAELXSI', multiplier='1', expirations={'20180927', '20180830', '20181025'}, strikes={1280.0, 2050.0, 900.0, 1400.0, 1540.0, 1160.0, 1800.0, 780.0, 1420.0, 1550.0, 1040.0, 1680.0, 1300.0, 920.0, 1560.0, 1050.0, 1180.0, 1950.0, 800.0, 1440.0, 1660.0, 1060.0, 1700.0, 1320.0, 1450.0, 940.0, 1580.0, 1200.0, 820.0, 1460.0, 950.0, 1080.0, 1720.0, 1850.0, 700.0, 1340.0, 960.0, 1600.0, 1220.0, 1350.0, 840.0, 1480.0, 1100.0, 1740.0, 1360.0, 2000.0, 850.0, 980.0, 1620.0, 1750.0, 1240.0, 860.0, 1500.0, 1120.0, 1250.0, 1380.0, 1000.0, 1640.0, 1260.0, 1900.0, 750.0, 880.0, 1520.0, 1650.0, 1140.0, 760.0, 1020.0, 1150.0})],\n",
       " [OptionChain(exchange='NSE', underlyingConId=76814483, tradingClass='TATAGLOBAL', multiplier='1', expirations={'20180927', '20180830', '20181025'}, strikes={130.0, 260.0, 390.0, 140.0, 270.0, 400.0, 150.0, 280.0, 160.0, 290.0, 170.0, 300.0, 180.0, 310.0, 190.0, 320.0, 200.0, 330.0, 210.0, 340.0, 220.0, 350.0, 230.0, 360.0, 110.0, 240.0, 370.0, 120.0, 250.0, 380.0})],\n",
       " [OptionChain(exchange='NSE', underlyingConId=94127580, tradingClass='TATAMOTORS', multiplier='1', expirations={'20180927', '20180830', '20181025'}, strikes={130.0, 260.0, 390.0, 140.0, 270.0, 400.0, 150.0, 280.0, 410.0, 160.0, 290.0, 420.0, 170.0, 300.0, 430.0, 180.0, 310.0, 440.0, 190.0, 320.0, 450.0, 200.0, 330.0, 210.0, 340.0, 220.0, 350.0, 230.0, 360.0, 240.0, 370.0, 250.0, 380.0})],\n",
       " [OptionChain(exchange='NSE', underlyingConId=94127589, tradingClass='TATAMTRDVR', multiplier='1', expirations={'20180927', '20180830', '20181025'}, strikes={130.0, 260.0, 135.0, 265.0, 140.0, 145.0, 150.0, 155.0, 160.0, 165.0, 170.0, 175.0, 180.0, 185.0, 60.0, 190.0, 65.0, 195.0, 70.0, 200.0, 75.0, 205.0, 80.0, 210.0, 85.0, 215.0, 90.0, 220.0, 95.0, 225.0, 100.0, 230.0, 105.0, 235.0, 110.0, 240.0, 115.0, 245.0, 120.0, 250.0, 125.0, 255.0})],\n",
       " [OptionChain(exchange='NSE', underlyingConId=95168502, tradingClass='TATAPOWER', multiplier='1', expirations={'20180927', '20180830', '20181025'}, strikes={37.5, 40.0, 42.5, 45.0, 47.5, 50.0, 52.5, 55.0, 57.5, 60.0, 62.5, 65.0, 67.5, 70.0, 72.5, 75.0, 77.5, 80.0, 82.5, 85.0, 87.5, 90.0, 92.5, 95.0, 97.5, 100.0, 102.5, 105.0, 107.5, 110.0, 112.5, 115.0, 117.5})],\n",
       " [OptionChain(exchange='NSE', underlyingConId=44652069, tradingClass='TATASTEEL', multiplier='1', expirations={'20180927', '20180830', '20181025'}, strikes={640.0, 260.0, 520.0, 780.0, 400.0, 660.0, 280.0, 540.0, 800.0, 420.0, 680.0, 300.0, 560.0, 820.0, 440.0, 700.0, 320.0, 580.0, 840.0, 460.0, 720.0, 340.0, 600.0, 860.0, 480.0, 740.0, 360.0, 620.0, 880.0, 500.0, 760.0, 380.0})],\n",
       " [OptionChain(exchange='NSE', underlyingConId=44652015, tradingClass='TCS', multiplier='1', expirations={'20180927', '20180830', '20181025'}, strikes={2050.0, 1925.0, 1800.0, 1675.0, 2700.0, 1550.0, 1425.0, 2450.0, 1300.0, 2325.0, 2200.0, 1050.0, 2075.0, 1950.0, 1825.0, 1700.0, 1575.0, 2600.0, 1450.0, 1325.0, 2350.0, 1200.0, 2225.0, 2100.0, 1975.0, 1850.0, 1725.0, 2750.0, 1600.0, 1475.0, 2500.0, 1350.0, 1225.0, 2250.0, 1100.0, 2125.0, 2000.0, 1875.0, 1750.0, 1625.0, 2650.0, 1500.0, 1375.0, 2400.0, 1250.0, 2275.0, 2150.0, 2025.0, 1900.0, 1775.0, 2800.0, 1650.0, 1525.0, 2550.0, 1400.0, 1275.0, 2300.0, 1150.0, 2175.0})],\n",
       " [OptionChain(exchange='NSE', underlyingConId=187395599, tradingClass='TECHM', multiplier='1', expirations={'20180927', '20180830', '20181025'}, strikes={640.0, 770.0, 900.0, 520.0, 650.0, 780.0, 910.0, 400.0, 530.0, 660.0, 790.0, 920.0, 540.0, 670.0, 800.0, 420.0, 550.0, 680.0, 810.0, 940.0, 560.0, 690.0, 820.0, 440.0, 570.0, 700.0, 830.0, 960.0, 580.0, 710.0, 840.0, 460.0, 590.0, 720.0, 850.0, 600.0, 730.0, 860.0, 480.0, 610.0, 740.0, 870.0, 360.0, 490.0, 620.0, 750.0, 880.0, 500.0, 630.0, 760.0, 890.0, 380.0, 510.0})],\n",
       " [OptionChain(exchange='NSE', underlyingConId=90181242, tradingClass='TITAN', multiplier='1', expirations={'20180927', '20180830', '20181025'}, strikes={640.0, 1280.0, 900.0, 520.0, 1160.0, 780.0, 1040.0, 660.0, 920.0, 540.0, 1180.0, 800.0, 1060.0, 680.0, 940.0, 560.0, 1200.0, 820.0, 440.0, 1080.0, 700.0, 960.0, 580.0, 1220.0, 840.0, 460.0, 1100.0, 720.0, 980.0, 600.0, 1240.0, 860.0, 480.0, 1120.0, 740.0, 1000.0, 620.0, 1260.0, 880.0, 500.0, 1140.0, 760.0, 1020.0})],\n",
       " [OptionChain(exchange='NSE', underlyingConId=56986878, tradingClass='TORNTPHARM', multiplier='1', expirations={'20180927', '20180830', '20181025'}, strikes={1280.0, 2050.0, 900.0, 1540.0, 1160.0, 1800.0, 1420.0, 1550.0, 1040.0, 1680.0, 1300.0, 1560.0, 1050.0, 1180.0, 1820.0, 1950.0, 800.0, 1440.0, 1660.0, 1060.0, 1700.0, 1320.0, 1450.0, 1580.0, 1200.0, 1840.0, 1460.0, 2100.0, 950.0, 1080.0, 1720.0, 1850.0, 1340.0, 1600.0, 1220.0, 1860.0, 1350.0, 1480.0, 1100.0, 1740.0, 1360.0, 2000.0, 850.0, 980.0, 1620.0, 1750.0, 1240.0, 1880.0, 1500.0, 1120.0, 1760.0, 1250.0, 1380.0, 2150.0, 1000.0, 1640.0, 1260.0, 1900.0, 1520.0, 1650.0, 1140.0, 1780.0, 1400.0, 1020.0, 1150.0})],\n",
       " [OptionChain(exchange='NSE', underlyingConId=56986838, tradingClass='TVSMOTOR', multiplier='1', expirations={'20180927', '20180830', '20181025'}, strikes={640.0, 520.0, 780.0, 400.0, 660.0, 280.0, 540.0, 800.0, 420.0, 680.0, 300.0, 560.0, 820.0, 440.0, 700.0, 320.0, 580.0, 840.0, 460.0, 720.0, 340.0, 600.0, 860.0, 480.0, 740.0, 360.0, 620.0, 880.0, 500.0, 760.0, 380.0})],\n",
       " [OptionChain(exchange='NSE', underlyingConId=233076295, tradingClass='UJJIVAN', multiplier='1', expirations={'20180927', '20180830', '20181025'}, strikes={260.0, 390.0, 520.0, 270.0, 400.0, 530.0, 280.0, 410.0, 540.0, 290.0, 420.0, 550.0, 300.0, 430.0, 310.0, 440.0, 320.0, 450.0, 330.0, 460.0, 210.0, 340.0, 470.0, 220.0, 350.0, 480.0, 230.0, 360.0, 490.0, 240.0, 370.0, 500.0, 250.0, 380.0, 510.0})],\n",
       " [OptionChain(exchange='NSE', underlyingConId=56983383, tradingClass='ULTRACEMCO', multiplier='1', expirations={'20180927', '20180830', '20181025'}, strikes={3200.0, 4100.0, 1800.0, 5000.0, 2700.0, 3600.0, 4500.0, 2200.0, 5400.0, 5500.0, 3100.0, 4000.0, 4900.0, 2600.0, 5800.0, 3500.0, 4400.0, 2100.0, 5300.0, 3000.0, 3900.0, 4800.0, 2500.0, 5700.0, 3400.0, 4300.0, 2000.0, 5200.0, 2900.0, 3800.0, 4700.0, 2400.0, 5600.0, 3300.0, 4200.0, 1900.0, 5100.0, 2800.0, 3700.0, 4600.0, 2300.0})],\n",
       " [OptionChain(exchange='NSE', underlyingConId=56983358, tradingClass='UNIONBANK', multiplier='1', expirations={'20180927', '20180830', '20181025'}, strikes={130.0, 135.0, 140.0, 145.0, 30.0, 35.0, 37.5, 40.0, 42.5, 45.0, 47.5, 50.0, 52.5, 55.0, 57.5, 60.0, 62.5, 65.0, 67.5, 70.0, 72.5, 75.0, 77.5, 80.0, 82.5, 85.0, 87.5, 90.0, 92.5, 95.0, 97.5, 100.0, 102.5, 105.0, 107.5, 110.0, 112.5, 115.0, 117.5, 120.0, 122.5, 125.0, 127.5})],\n",
       " [OptionChain(exchange='NSE', underlyingConId=56983369, tradingClass='UPL', multiplier='1', expirations={'20180927', '20180830', '20181025'}, strikes={640.0, 260.0, 900.0, 520.0, 780.0, 1020.0, 400.0, 1040.0, 660.0, 280.0, 920.0, 540.0, 800.0, 420.0, 680.0, 300.0, 940.0, 560.0, 820.0, 440.0, 700.0, 320.0, 960.0, 580.0, 840.0, 460.0, 720.0, 340.0, 980.0, 600.0, 860.0, 480.0, 740.0, 360.0, 1000.0, 620.0, 880.0, 500.0, 760.0, 380.0})],\n",
       " [OptionChain(exchange='NSE', underlyingConId=56988951, tradingClass='VEDL', multiplier='1', expirations={'20180927', '20180830', '20181025'}, strikes={130.0, 260.0, 390.0, 140.0, 270.0, 150.0, 280.0, 160.0, 290.0, 170.0, 300.0, 180.0, 310.0, 190.0, 320.0, 200.0, 330.0, 80.0, 210.0, 340.0, 90.0, 220.0, 350.0, 100.0, 230.0, 360.0, 110.0, 240.0, 370.0, 120.0, 250.0, 380.0})],\n",
       " [OptionChain(exchange='NSE', underlyingConId=56983785, tradingClass='VOLTAS', multiplier='1', expirations={'20180927', '20180830', '20181025'}, strikes={640.0, 770.0, 260.0, 390.0, 520.0, 650.0, 780.0, 400.0, 530.0, 660.0, 790.0, 280.0, 410.0, 540.0, 670.0, 800.0, 420.0, 550.0, 680.0, 300.0, 430.0, 560.0, 690.0, 820.0, 310.0, 440.0, 570.0, 700.0, 320.0, 450.0, 580.0, 710.0, 330.0, 460.0, 590.0, 720.0, 340.0, 470.0, 600.0, 730.0, 350.0, 480.0, 610.0, 740.0, 360.0, 490.0, 620.0, 750.0, 240.0, 370.0, 500.0, 630.0, 760.0, 380.0, 510.0})],\n",
       " [OptionChain(exchange='NSE', underlyingConId=44652030, tradingClass='WIPRO', multiplier='1', expirations={'20180927', '20180830', '20181025'}, strikes={385.0, 260.0, 265.0, 270.0, 275.0, 280.0, 155.0, 285.0, 160.0, 290.0, 165.0, 295.0, 170.0, 300.0, 175.0, 305.0, 180.0, 310.0, 185.0, 315.0, 190.0, 320.0, 195.0, 325.0, 200.0, 330.0, 205.0, 335.0, 210.0, 340.0, 215.0, 345.0, 220.0, 350.0, 225.0, 355.0, 230.0, 360.0, 235.0, 365.0, 240.0, 370.0, 245.0, 375.0, 250.0, 380.0, 255.0})],\n",
       " [OptionChain(exchange='NSE', underlyingConId=289165584, tradingClass='YESBANK', multiplier='1', expirations={'20180927', '20180830', '20181025'}, strikes={260.0, 390.0, 520.0, 270.0, 400.0, 530.0, 280.0, 410.0, 290.0, 420.0, 300.0, 430.0, 310.0, 440.0, 190.0, 320.0, 450.0, 200.0, 330.0, 460.0, 210.0, 340.0, 470.0, 220.0, 350.0, 480.0, 230.0, 360.0, 490.0, 240.0, 370.0, 500.0, 250.0, 380.0, 510.0})],\n",
       " [OptionChain(exchange='NSE', underlyingConId=44652165, tradingClass='ZEEL', multiplier='1', expirations={'20180927', '20180830', '20181025'}, strikes={640.0, 770.0, 390.0, 520.0, 650.0, 400.0, 530.0, 660.0, 410.0, 540.0, 670.0, 420.0, 550.0, 680.0, 430.0, 560.0, 690.0, 310.0, 440.0, 570.0, 700.0, 320.0, 450.0, 580.0, 710.0, 330.0, 460.0, 590.0, 720.0, 340.0, 470.0, 600.0, 730.0, 350.0, 480.0, 610.0, 740.0, 360.0, 490.0, 620.0, 750.0, 370.0, 500.0, 630.0, 760.0, 380.0, 510.0})]]"
      ]
     },
     "execution_count": 34,
     "metadata": {},
     "output_type": "execute_result"
    }
   ],
   "source": [
    "contracts_p"
   ]
  },
  {
   "cell_type": "code",
   "execution_count": 63,
   "metadata": {},
   "outputs": [
    {
     "data": {
      "text/html": [
       "<div>\n",
       "<style scoped>\n",
       "    .dataframe tbody tr th:only-of-type {\n",
       "        vertical-align: middle;\n",
       "    }\n",
       "\n",
       "    .dataframe tbody tr th {\n",
       "        vertical-align: top;\n",
       "    }\n",
       "\n",
       "    .dataframe thead th {\n",
       "        text-align: right;\n",
       "    }\n",
       "</style>\n",
       "<table border=\"1\" class=\"dataframe\">\n",
       "  <thead>\n",
       "    <tr style=\"text-align: right;\">\n",
       "      <th></th>\n",
       "      <th>iSymbol</th>\n",
       "      <th>ConId</th>\n",
       "      <th>Expiry</th>\n",
       "      <th>Strike</th>\n",
       "    </tr>\n",
       "  </thead>\n",
       "  <tbody>\n",
       "    <tr>\n",
       "      <th>0</th>\n",
       "      <td>ACC</td>\n",
       "      <td>44652144</td>\n",
       "      <td>20180830</td>\n",
       "      <td>860.0</td>\n",
       "    </tr>\n",
       "    <tr>\n",
       "      <th>1</th>\n",
       "      <td>ACC</td>\n",
       "      <td>44652144</td>\n",
       "      <td>20180830</td>\n",
       "      <td>880.0</td>\n",
       "    </tr>\n",
       "    <tr>\n",
       "      <th>2</th>\n",
       "      <td>ACC</td>\n",
       "      <td>44652144</td>\n",
       "      <td>20180830</td>\n",
       "      <td>900.0</td>\n",
       "    </tr>\n",
       "    <tr>\n",
       "      <th>3</th>\n",
       "      <td>ACC</td>\n",
       "      <td>44652144</td>\n",
       "      <td>20180830</td>\n",
       "      <td>920.0</td>\n",
       "    </tr>\n",
       "    <tr>\n",
       "      <th>4</th>\n",
       "      <td>ACC</td>\n",
       "      <td>44652144</td>\n",
       "      <td>20180830</td>\n",
       "      <td>940.0</td>\n",
       "    </tr>\n",
       "  </tbody>\n",
       "</table>\n",
       "</div>"
      ],
      "text/plain": [
       "  iSymbol     ConId    Expiry  Strike\n",
       "0     ACC  44652144  20180830   860.0\n",
       "1     ACC  44652144  20180830   880.0\n",
       "2     ACC  44652144  20180830   900.0\n",
       "3     ACC  44652144  20180830   920.0\n",
       "4     ACC  44652144  20180830   940.0"
      ]
     },
     "execution_count": 63,
     "metadata": {},
     "output_type": "execute_result"
    }
   ],
   "source": [
    "# Filter symbol, Id, expiration and strike from chains and make a cartesian\n",
    "chains = [(i.tradingClass, i.underlyingConId, i.expirations, i.strikes) for elem in contracts_p for i in elem]\n",
    "L = [[[x[0]], [x[1]], sorted(x[2]), sorted(x[3])] for x in chains]\n",
    "\n",
    "stock_chains = pd.DataFrame([j for i in L for j in product(*i)], columns=['iSymbol', 'ConId', \"Expiry\", \"Strike\"])\n",
    "stock_chains.head()"
   ]
  },
  {
   "cell_type": "code",
   "execution_count": 62,
   "metadata": {},
   "outputs": [
    {
     "data": {
      "text/html": [
       "<div>\n",
       "<style scoped>\n",
       "    .dataframe tbody tr th:only-of-type {\n",
       "        vertical-align: middle;\n",
       "    }\n",
       "\n",
       "    .dataframe tbody tr th {\n",
       "        vertical-align: top;\n",
       "    }\n",
       "\n",
       "    .dataframe thead th {\n",
       "        text-align: right;\n",
       "    }\n",
       "</style>\n",
       "<table border=\"1\" class=\"dataframe\">\n",
       "  <thead>\n",
       "    <tr style=\"text-align: right;\">\n",
       "      <th></th>\n",
       "      <th>iSymbol</th>\n",
       "      <th>ConId</th>\n",
       "      <th>Expiry</th>\n",
       "      <th>Strike</th>\n",
       "      <th>Mlot</th>\n",
       "    </tr>\n",
       "  </thead>\n",
       "  <tbody>\n",
       "    <tr>\n",
       "      <th>0</th>\n",
       "      <td>ACC</td>\n",
       "      <td>44652144</td>\n",
       "      <td>20180830</td>\n",
       "      <td>860.0</td>\n",
       "      <td>400.0</td>\n",
       "    </tr>\n",
       "    <tr>\n",
       "      <th>1</th>\n",
       "      <td>ACC</td>\n",
       "      <td>44652144</td>\n",
       "      <td>20180830</td>\n",
       "      <td>880.0</td>\n",
       "      <td>400.0</td>\n",
       "    </tr>\n",
       "    <tr>\n",
       "      <th>2</th>\n",
       "      <td>ACC</td>\n",
       "      <td>44652144</td>\n",
       "      <td>20180830</td>\n",
       "      <td>900.0</td>\n",
       "      <td>400.0</td>\n",
       "    </tr>\n",
       "    <tr>\n",
       "      <th>3</th>\n",
       "      <td>ACC</td>\n",
       "      <td>44652144</td>\n",
       "      <td>20180830</td>\n",
       "      <td>920.0</td>\n",
       "      <td>400.0</td>\n",
       "    </tr>\n",
       "    <tr>\n",
       "      <th>4</th>\n",
       "      <td>ACC</td>\n",
       "      <td>44652144</td>\n",
       "      <td>20180830</td>\n",
       "      <td>940.0</td>\n",
       "      <td>400.0</td>\n",
       "    </tr>\n",
       "  </tbody>\n",
       "</table>\n",
       "</div>"
      ],
      "text/plain": [
       "  iSymbol     ConId    Expiry  Strike   Mlot\n",
       "0     ACC  44652144  20180830   860.0  400.0\n",
       "1     ACC  44652144  20180830   880.0  400.0\n",
       "2     ACC  44652144  20180830   900.0  400.0\n",
       "3     ACC  44652144  20180830   920.0  400.0\n",
       "4     ACC  44652144  20180830   940.0  400.0"
      ]
     },
     "execution_count": 62,
     "metadata": {},
     "output_type": "execute_result"
    }
   ],
   "source": [
    "stock_options_df = pd.merge(stock_chains, nse_options.loc[:, ['iSymbol', 'Mlot']], how='left', on='iSymbol')\n",
    "stock_options_df.head()"
   ]
  },
  {
   "cell_type": "code",
   "execution_count": 77,
   "metadata": {},
   "outputs": [
    {
     "ename": "IndexingError",
     "evalue": "Unalignable boolean Series provided as indexer (index of the boolean Series and of the indexed object do not match",
     "output_type": "error",
     "traceback": [
      "\u001b[1;31m---------------------------------------------------------------------------\u001b[0m",
      "\u001b[1;31mIndexingError\u001b[0m                             Traceback (most recent call last)",
      "\u001b[1;32m<ipython-input-77-f330b7703d5f>\u001b[0m in \u001b[0;36m<module>\u001b[1;34m()\u001b[0m\n\u001b[1;32m----> 1\u001b[1;33m \u001b[0mstock_options_df\u001b[0m\u001b[1;33m.\u001b[0m\u001b[0mloc\u001b[0m\u001b[1;33m[\u001b[0m\u001b[0mstock_options_df\u001b[0m\u001b[1;33m.\u001b[0m\u001b[0misna\u001b[0m\u001b[1;33m(\u001b[0m\u001b[1;33m)\u001b[0m\u001b[1;33m.\u001b[0m\u001b[0many\u001b[0m\u001b[1;33m(\u001b[0m\u001b[1;33m)\u001b[0m\u001b[1;33m,\u001b[0m \u001b[1;33m:\u001b[0m\u001b[1;33m]\u001b[0m\u001b[1;33m\u001b[0m\u001b[0m\n\u001b[0m",
      "\u001b[1;32m~\\AppData\\Local\\Continuum\\anaconda3\\lib\\site-packages\\pandas\\core\\indexing.py\u001b[0m in \u001b[0;36m__getitem__\u001b[1;34m(self, key)\u001b[0m\n\u001b[0;32m   1470\u001b[0m             \u001b[1;32mexcept\u001b[0m \u001b[1;33m(\u001b[0m\u001b[0mKeyError\u001b[0m\u001b[1;33m,\u001b[0m \u001b[0mIndexError\u001b[0m\u001b[1;33m)\u001b[0m\u001b[1;33m:\u001b[0m\u001b[1;33m\u001b[0m\u001b[0m\n\u001b[0;32m   1471\u001b[0m                 \u001b[1;32mpass\u001b[0m\u001b[1;33m\u001b[0m\u001b[0m\n\u001b[1;32m-> 1472\u001b[1;33m             \u001b[1;32mreturn\u001b[0m \u001b[0mself\u001b[0m\u001b[1;33m.\u001b[0m\u001b[0m_getitem_tuple\u001b[0m\u001b[1;33m(\u001b[0m\u001b[0mkey\u001b[0m\u001b[1;33m)\u001b[0m\u001b[1;33m\u001b[0m\u001b[0m\n\u001b[0m\u001b[0;32m   1473\u001b[0m         \u001b[1;32melse\u001b[0m\u001b[1;33m:\u001b[0m\u001b[1;33m\u001b[0m\u001b[0m\n\u001b[0;32m   1474\u001b[0m             \u001b[1;31m# we by definition only have the 0th axis\u001b[0m\u001b[1;33m\u001b[0m\u001b[1;33m\u001b[0m\u001b[0m\n",
      "\u001b[1;32m~\\AppData\\Local\\Continuum\\anaconda3\\lib\\site-packages\\pandas\\core\\indexing.py\u001b[0m in \u001b[0;36m_getitem_tuple\u001b[1;34m(self, tup)\u001b[0m\n\u001b[0;32m    888\u001b[0m                 \u001b[1;32mcontinue\u001b[0m\u001b[1;33m\u001b[0m\u001b[0m\n\u001b[0;32m    889\u001b[0m \u001b[1;33m\u001b[0m\u001b[0m\n\u001b[1;32m--> 890\u001b[1;33m             \u001b[0mretval\u001b[0m \u001b[1;33m=\u001b[0m \u001b[0mgetattr\u001b[0m\u001b[1;33m(\u001b[0m\u001b[0mretval\u001b[0m\u001b[1;33m,\u001b[0m \u001b[0mself\u001b[0m\u001b[1;33m.\u001b[0m\u001b[0mname\u001b[0m\u001b[1;33m)\u001b[0m\u001b[1;33m.\u001b[0m\u001b[0m_getitem_axis\u001b[0m\u001b[1;33m(\u001b[0m\u001b[0mkey\u001b[0m\u001b[1;33m,\u001b[0m \u001b[0maxis\u001b[0m\u001b[1;33m=\u001b[0m\u001b[0mi\u001b[0m\u001b[1;33m)\u001b[0m\u001b[1;33m\u001b[0m\u001b[0m\n\u001b[0m\u001b[0;32m    891\u001b[0m \u001b[1;33m\u001b[0m\u001b[0m\n\u001b[0;32m    892\u001b[0m         \u001b[1;32mreturn\u001b[0m \u001b[0mretval\u001b[0m\u001b[1;33m\u001b[0m\u001b[0m\n",
      "\u001b[1;32m~\\AppData\\Local\\Continuum\\anaconda3\\lib\\site-packages\\pandas\\core\\indexing.py\u001b[0m in \u001b[0;36m_getitem_axis\u001b[1;34m(self, key, axis)\u001b[0m\n\u001b[0;32m   1866\u001b[0m             \u001b[1;32mreturn\u001b[0m \u001b[0mself\u001b[0m\u001b[1;33m.\u001b[0m\u001b[0m_get_slice_axis\u001b[0m\u001b[1;33m(\u001b[0m\u001b[0mkey\u001b[0m\u001b[1;33m,\u001b[0m \u001b[0maxis\u001b[0m\u001b[1;33m=\u001b[0m\u001b[0maxis\u001b[0m\u001b[1;33m)\u001b[0m\u001b[1;33m\u001b[0m\u001b[0m\n\u001b[0;32m   1867\u001b[0m         \u001b[1;32melif\u001b[0m \u001b[0mcom\u001b[0m\u001b[1;33m.\u001b[0m\u001b[0mis_bool_indexer\u001b[0m\u001b[1;33m(\u001b[0m\u001b[0mkey\u001b[0m\u001b[1;33m)\u001b[0m\u001b[1;33m:\u001b[0m\u001b[1;33m\u001b[0m\u001b[0m\n\u001b[1;32m-> 1868\u001b[1;33m             \u001b[1;32mreturn\u001b[0m \u001b[0mself\u001b[0m\u001b[1;33m.\u001b[0m\u001b[0m_getbool_axis\u001b[0m\u001b[1;33m(\u001b[0m\u001b[0mkey\u001b[0m\u001b[1;33m,\u001b[0m \u001b[0maxis\u001b[0m\u001b[1;33m=\u001b[0m\u001b[0maxis\u001b[0m\u001b[1;33m)\u001b[0m\u001b[1;33m\u001b[0m\u001b[0m\n\u001b[0m\u001b[0;32m   1869\u001b[0m         \u001b[1;32melif\u001b[0m \u001b[0mis_list_like_indexer\u001b[0m\u001b[1;33m(\u001b[0m\u001b[0mkey\u001b[0m\u001b[1;33m)\u001b[0m\u001b[1;33m:\u001b[0m\u001b[1;33m\u001b[0m\u001b[0m\n\u001b[0;32m   1870\u001b[0m \u001b[1;33m\u001b[0m\u001b[0m\n",
      "\u001b[1;32m~\\AppData\\Local\\Continuum\\anaconda3\\lib\\site-packages\\pandas\\core\\indexing.py\u001b[0m in \u001b[0;36m_getbool_axis\u001b[1;34m(self, key, axis)\u001b[0m\n\u001b[0;32m   1491\u001b[0m             \u001b[0maxis\u001b[0m \u001b[1;33m=\u001b[0m \u001b[0mself\u001b[0m\u001b[1;33m.\u001b[0m\u001b[0maxis\u001b[0m \u001b[1;32mor\u001b[0m \u001b[1;36m0\u001b[0m\u001b[1;33m\u001b[0m\u001b[0m\n\u001b[0;32m   1492\u001b[0m         \u001b[0mlabels\u001b[0m \u001b[1;33m=\u001b[0m \u001b[0mself\u001b[0m\u001b[1;33m.\u001b[0m\u001b[0mobj\u001b[0m\u001b[1;33m.\u001b[0m\u001b[0m_get_axis\u001b[0m\u001b[1;33m(\u001b[0m\u001b[0maxis\u001b[0m\u001b[1;33m)\u001b[0m\u001b[1;33m\u001b[0m\u001b[0m\n\u001b[1;32m-> 1493\u001b[1;33m         \u001b[0mkey\u001b[0m \u001b[1;33m=\u001b[0m \u001b[0mcheck_bool_indexer\u001b[0m\u001b[1;33m(\u001b[0m\u001b[0mlabels\u001b[0m\u001b[1;33m,\u001b[0m \u001b[0mkey\u001b[0m\u001b[1;33m)\u001b[0m\u001b[1;33m\u001b[0m\u001b[0m\n\u001b[0m\u001b[0;32m   1494\u001b[0m         \u001b[0minds\u001b[0m\u001b[1;33m,\u001b[0m \u001b[1;33m=\u001b[0m \u001b[0mkey\u001b[0m\u001b[1;33m.\u001b[0m\u001b[0mnonzero\u001b[0m\u001b[1;33m(\u001b[0m\u001b[1;33m)\u001b[0m\u001b[1;33m\u001b[0m\u001b[0m\n\u001b[0;32m   1495\u001b[0m         \u001b[1;32mtry\u001b[0m\u001b[1;33m:\u001b[0m\u001b[1;33m\u001b[0m\u001b[0m\n",
      "\u001b[1;32m~\\AppData\\Local\\Continuum\\anaconda3\\lib\\site-packages\\pandas\\core\\indexing.py\u001b[0m in \u001b[0;36mcheck_bool_indexer\u001b[1;34m(ax, key)\u001b[0m\n\u001b[0;32m   2354\u001b[0m         \u001b[0mmask\u001b[0m \u001b[1;33m=\u001b[0m \u001b[0misna\u001b[0m\u001b[1;33m(\u001b[0m\u001b[0mresult\u001b[0m\u001b[1;33m.\u001b[0m\u001b[0m_values\u001b[0m\u001b[1;33m)\u001b[0m\u001b[1;33m\u001b[0m\u001b[0m\n\u001b[0;32m   2355\u001b[0m         \u001b[1;32mif\u001b[0m \u001b[0mmask\u001b[0m\u001b[1;33m.\u001b[0m\u001b[0many\u001b[0m\u001b[1;33m(\u001b[0m\u001b[1;33m)\u001b[0m\u001b[1;33m:\u001b[0m\u001b[1;33m\u001b[0m\u001b[0m\n\u001b[1;32m-> 2356\u001b[1;33m             raise IndexingError('Unalignable boolean Series provided as '\n\u001b[0m\u001b[0;32m   2357\u001b[0m                                 \u001b[1;34m'indexer (index of the boolean Series and of '\u001b[0m\u001b[1;33m\u001b[0m\u001b[0m\n\u001b[0;32m   2358\u001b[0m                                 'the indexed object do not match')\n",
      "\u001b[1;31mIndexingError\u001b[0m: Unalignable boolean Series provided as indexer (index of the boolean Series and of the indexed object do not match"
     ]
    }
   ],
   "source": [
    "stock_options_df.loc[stock_options_df.isna().any(), :]"
   ]
  },
  {
   "cell_type": "markdown",
   "metadata": {},
   "source": [
    "# Reference\n",
    "## A Single Options Contract"
   ]
  },
  {
   "cell_type": "code",
   "execution_count": null,
   "metadata": {},
   "outputs": [],
   "source": [
    "# contract = Option('INFY', exchange='NSE')\n",
    "\n",
    "contract = Option('INFY', '20180830', exchange='NSE')\n",
    "contract"
   ]
  },
  {
   "cell_type": "markdown",
   "metadata": {},
   "source": [
    "## Contract Details (such as Strike, Expiries and Rights)"
   ]
  },
  {
   "cell_type": "code",
   "execution_count": null,
   "metadata": {},
   "outputs": [],
   "source": [
    "cds = ib.reqContractDetails(contract)\n",
    "cds"
   ]
  },
  {
   "cell_type": "code",
   "execution_count": null,
   "metadata": {},
   "outputs": [],
   "source": [
    "# Get symbol, strike, expiry and right\n",
    "[(cd.contract.symbol, cd.contract.strike, cd.contract.lastTradeDateOrContractMonth, cd.contract.right) for cd in cds][:2]"
   ]
  },
  {
   "cell_type": "markdown",
   "metadata": {},
   "source": [
    "## For Ticker Details (such as Price)"
   ]
  },
  {
   "cell_type": "code",
   "execution_count": null,
   "metadata": {},
   "outputs": [],
   "source": [
    "options = [cd.contract for cd in cds]\n",
    "options[:2]"
   ]
  },
  {
   "cell_type": "code",
   "execution_count": null,
   "metadata": {},
   "outputs": [],
   "source": [
    "tickers = [ib.reqTickers(*options)]\n",
    "tickers[:3]"
   ]
  },
  {
   "cell_type": "markdown",
   "metadata": {},
   "source": [
    "### ...for a single contract's price (absolute reference)"
   ]
  },
  {
   "cell_type": "code",
   "execution_count": null,
   "metadata": {},
   "outputs": [],
   "source": [
    "tickers[0][0].contract.strike"
   ]
  },
  {
   "cell_type": "markdown",
   "metadata": {},
   "source": [
    "### ...for multiple contracts price tickers (relative reference)\n",
    "(<b>Note</b>: This extracts in blocks of 10 tickers)"
   ]
  },
  {
   "cell_type": "code",
   "execution_count": null,
   "metadata": {},
   "outputs": [],
   "source": [
    "options = [cd.contract for cd in cds]\n",
    "tickers = [t for i in range(0, len(options), 100) for t in ib.reqTickers(*options[i:i + 100])]"
   ]
  },
  {
   "cell_type": "code",
   "execution_count": null,
   "metadata": {},
   "outputs": [],
   "source": [
    "tickers[:2]"
   ]
  },
  {
   "cell_type": "markdown",
   "metadata": {},
   "source": [
    "### ...for ticker information in tuples"
   ]
  },
  {
   "cell_type": "code",
   "execution_count": null,
   "metadata": {},
   "outputs": [],
   "source": [
    "[(tickers[0][i].contract.symbol, tickers[0][i].contract.strike, \n",
    "  tickers[0][i].contract.right, tickers[0][i].bid, \n",
    "  tickers[0][i].ask, tickers[0][i].close)\n",
    " for i in range(len(tickers[0]))]"
   ]
  },
  {
   "cell_type": "markdown",
   "metadata": {},
   "source": [
    "## Code to get Qualified Options List from IBKR site"
   ]
  },
  {
   "cell_type": "code",
   "execution_count": null,
   "metadata": {},
   "outputs": [],
   "source": [
    "# Get the options list\n",
    "# Note multipliers are not correct for NSE!!!\n",
    "\n",
    "options_url1 = \"https://www.interactivebrokers.co.in/en/index.php?f=2222&exch=nse&showcategories=OPTGRP&p=&cc=&limit=100&page=1\"\n",
    "options_url2 = \"https://www.interactivebrokers.co.in/en/index.php?f=2222&exch=nse&showcategories=OPTGRP&p=&cc=&limit=100&page=2\"\n",
    "nse_options = pd.concat([pd.read_html(options_url1, header=0)[2], pd.read_html(options_url2, header=0)[2]], sort=True)\n",
    "\n",
    "# Rename the columns and add the Exchange\n",
    "nse_options = nse_options.rename({'IB Symbol': 'iSymbol', \n",
    "                                  'Product Description (click link for more details)': 'Desc'}, axis=1)\n",
    "nse_options['Exchange'] = 'NSE'\n",
    "\n",
    "# List of nse indexes (extracted from error!)\n",
    "idx_list = (\"BANKNIFTY\", \"NIFTY50\", \"NSEFTSE\", \"USDINR\" )\n",
    "\n",
    "# Dataframe of equity options\n",
    "nse_equity = nse_options.loc[~nse_options.iSymbol.isin(idx_list), :].reset_index(drop=True)\n",
    "equity_contracts = ib.qualifyContracts(*[Stock(x, y) for x, y in zip(nse_equity.iSymbol, nse_equity.Exchange)])\n",
    "equity_df = util.df(equity_contracts)\n",
    "\n",
    "# Dataframe for index options\n",
    "nse_index = nse_options.loc[nse_options.iSymbol.isin(idx_list), :].reset_index(drop=True)\n",
    "index_contracts = ib.qualifyContracts(*[Index(x, y) for x, y in zip(nse_index.iSymbol, nse_index.Exchange)])\n",
    "index_df = util.df(index_contracts)"
   ]
  },
  {
   "cell_type": "code",
   "execution_count": null,
   "metadata": {},
   "outputs": [],
   "source": [
    "nse_equity.head()"
   ]
  },
  {
   "cell_type": "code",
   "execution_count": null,
   "metadata": {},
   "outputs": [],
   "source": [
    "nse_index.head()"
   ]
  },
  {
   "cell_type": "code",
   "execution_count": null,
   "metadata": {},
   "outputs": [],
   "source": [
    "def get_chains(scrips):\n",
    "    '''Gets the option chains for the scrips passed\n",
    "       Args:\n",
    "          (scrips): list: qualified list of equity or index options with conId\n",
    "       Returns:\n",
    "          list of option chain'''\n",
    "    \n",
    "    # Prepare a sequence for ib.reqSecDefOptParams\n",
    "    seq = [(i.symbol, '', i.secType, i.conId) for i in scrips]\n",
    "\n",
    "    # build the chains\n",
    "    chains = [ib.reqSecDefOptParams(*p) for p in seq]\n",
    "    # list(map(lambda p: ib.reqSecDefOptParams(*p), seq))  # Another way of doing!\n",
    "    \n",
    "    return chains\n",
    "\n",
    "index_chains = get_chains(index_contracts)"
   ]
  }
 ],
 "metadata": {
  "kernelspec": {
   "display_name": "Python 3",
   "language": "python",
   "name": "python3"
  },
  "language_info": {
   "codemirror_mode": {
    "name": "ipython",
    "version": 3
   },
   "file_extension": ".py",
   "mimetype": "text/x-python",
   "name": "python",
   "nbconvert_exporter": "python",
   "pygments_lexer": "ipython3",
   "version": "3.6.5"
  }
 },
 "nbformat": 4,
 "nbformat_minor": 2
}
