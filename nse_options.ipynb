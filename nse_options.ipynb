{
 "cells": [
  {
   "cell_type": "code",
   "execution_count": 1,
   "metadata": {},
   "outputs": [
    {
     "data": {
      "text/plain": [
       "<IB connected to 127.0.0.1:4004 clientId=2>"
      ]
     },
     "execution_count": 1,
     "metadata": {},
     "output_type": "execute_result"
    }
   ],
   "source": [
    "import numpy as np\n",
    "import pandas as pd\n",
    "from datetime import datetime\n",
    "from itertools import product\n",
    "\n",
    "from ib_insync import *\n",
    "util.startLoop()\n",
    "\n",
    "ib=IB()\n",
    "ib.connect('127.0.0.1', 4004, clientId=2)"
   ]
  },
  {
   "cell_type": "code",
   "execution_count": 2,
   "metadata": {},
   "outputs": [
    {
     "name": "stderr",
     "output_type": "stream",
     "text": [
      "WARNING:ib_insync.client:Started to throttle requests\n",
      "WARNING:ib_insync.client:Stopped to throttle requests\n"
     ]
    }
   ],
   "source": [
    "# Get the options list\n",
    "\n",
    "options_url1 = \"https://www.interactivebrokers.co.in/en/index.php?f=2222&exch=nse&showcategories=OPTGRP&p=&cc=&limit=100&page=1\"\n",
    "options_url2 = \"https://www.interactivebrokers.co.in/en/index.php?f=2222&exch=nse&showcategories=OPTGRP&p=&cc=&limit=100&page=2\"\n",
    "nse = pd.concat([pd.read_html(options_url1, header=0)[2], \n",
    "                         pd.read_html(options_url2, header=0)[2]], \n",
    "                        sort=True).drop_duplicates(subset='Symbol').reset_index(drop=True)\n",
    "\n",
    "nse = nse.iloc[:, [1, 2, 3]]\n",
    "nse.columns = ['iSymbol', 'Desc', 'Symbol']\n",
    "\n",
    "# Note multipliers are not correct for NSE!. So get them !!!\n",
    "# Get the list of Equity and Index Option scrips\n",
    "paisaurl = \"https://www.5paisa.com/5pit/spma.asp\"\n",
    "paisa = pd.read_html(paisaurl, header=0)[1].drop_duplicates(subset='Symbol').reset_index(drop=True)  # It's the second table in the url\n",
    "paisa_small = paisa[['Symbol', 'Mlot']].sort_values('Symbol')\n",
    "\n",
    "# Check for symbols missing in nse\n",
    "# pd.merge(paisa_small, nse, on='Symbol', how='left', indicator=True).query(\"_merge == 'left_only'\" )\n",
    "\n",
    "nse_options = pd.merge(paisa_small, nse, on=\"Symbol\", how='left')\n",
    "nse_options[\"Exchange\"] = 'NSE'\n",
    "\n",
    "nse_options.loc[nse_options.iSymbol.isnull(), \"iSymbol\"] = nse_options['Symbol'].str.slice(0,9)\n",
    "\n",
    "# List of nse indexes (extracted from error!)\n",
    "idx_list = [\"BANKNIFTY\", \"NIFTY50\", \"NSEFTSE\", \"USDINR\", \"INDIAVIX\", \n",
    "            \"NIFTYCPSE\", \"NIFTYINFR\", \"NIFTYIT\", \"NIFTYMID5\", \"NIFTYPSE\"]\n",
    "stock_list = nse_options.loc[~nse_options.iSymbol.isin(idx_list), :]\n",
    "\n",
    "# Get the Stocks qualified\n",
    "stocks = [Stock(symbol=x, exchange='NSE') for x in stock_list.iSymbol]\n",
    "qual_stock = ib.qualifyContracts(*stocks)"
   ]
  },
  {
   "cell_type": "code",
   "execution_count": 3,
   "metadata": {},
   "outputs": [
    {
     "name": "stderr",
     "output_type": "stream",
     "text": [
      "WARNING:ib_insync.client:Started to throttle requests\n",
      "WARNING:ib_insync.client:Stopped to throttle requests\n",
      "WARNING:ib_insync.client:Started to throttle requests\n",
      "WARNING:ib_insync.client:Stopped to throttle requests\n"
     ]
    },
    {
     "name": "stdout",
     "output_type": "stream",
     "text": [
      "Wall time: 1min 31s\n"
     ]
    }
   ],
   "source": [
    "%%time\n",
    "# Get ALL expirations and strikes for the Stocks. Takes about 10 mins!!!\n",
    "contracts = [(i.symbol, '', i.secType, i.conId) for i in qual_stock]\n",
    "contracts_p = [ib.reqSecDefOptParams(*p) for p in contracts]"
   ]
  },
  {
   "cell_type": "code",
   "execution_count": 4,
   "metadata": {},
   "outputs": [
    {
     "data": {
      "text/plain": [
       "[[OptionChain(exchange='NSE', underlyingConId=44652144, tradingClass='ACC', multiplier='1', expirations={'20180830', '20181025', '20180927'}, strikes={1280.0, 1920.0, 900.0, 1540.0, 1160.0, 1800.0, 1420.0, 1040.0, 1680.0, 1300.0, 1940.0, 920.0, 1560.0, 1180.0, 1820.0, 1440.0, 1660.0, 1060.0, 1700.0, 1320.0, 940.0, 1580.0, 1200.0, 1840.0, 1460.0, 1080.0, 1720.0, 1340.0, 960.0, 1600.0, 1220.0, 1860.0, 1480.0, 1100.0, 1740.0, 1360.0, 980.0, 1620.0, 1240.0, 1880.0, 860.0, 1500.0, 1120.0, 1760.0, 1380.0, 1000.0, 1640.0, 1260.0, 1900.0, 880.0, 1520.0, 1140.0, 1780.0, 1400.0, 1020.0})],\n",
       " [OptionChain(exchange='NSE', underlyingConId=56986798, tradingClass='ADANIENT', multiplier='1', expirations={'20180830', '20181025', '20180927'}, strikes={130.0, 260.0, 135.0, 140.0, 145.0, 20.0, 150.0, 155.0, 30.0, 160.0, 165.0, 40.0, 170.0, 45.0, 175.0, 50.0, 180.0, 55.0, 185.0, 60.0, 190.0, 65.0, 195.0, 70.0, 200.0, 75.0, 205.0, 80.0, 210.0, 85.0, 215.0, 90.0, 220.0, 95.0, 225.0, 100.0, 230.0, 105.0, 235.0, 110.0, 240.0, 115.0, 245.0, 120.0, 250.0, 125.0, 255.0})],\n",
       " [OptionChain(exchange='NSE', underlyingConId=79403918, tradingClass='ADANIPORTS', multiplier='1', expirations={'20180830', '20181025', '20180927'}, strikes={260.0, 390.0, 520.0, 270.0, 400.0, 530.0, 280.0, 410.0, 540.0, 290.0, 420.0, 550.0, 300.0, 430.0, 560.0, 310.0, 440.0, 320.0, 450.0, 200.0, 330.0, 460.0, 210.0, 340.0, 470.0, 220.0, 350.0, 480.0, 230.0, 360.0, 490.0, 240.0, 370.0, 500.0, 250.0, 380.0, 510.0})]]"
      ]
     },
     "execution_count": 4,
     "metadata": {},
     "output_type": "execute_result"
    }
   ],
   "source": [
    "contracts_p[:3]"
   ]
  },
  {
   "cell_type": "code",
   "execution_count": 5,
   "metadata": {},
   "outputs": [
    {
     "data": {
      "text/html": [
       "<div>\n",
       "<style scoped>\n",
       "    .dataframe tbody tr th:only-of-type {\n",
       "        vertical-align: middle;\n",
       "    }\n",
       "\n",
       "    .dataframe tbody tr th {\n",
       "        vertical-align: top;\n",
       "    }\n",
       "\n",
       "    .dataframe thead th {\n",
       "        text-align: right;\n",
       "    }\n",
       "</style>\n",
       "<table border=\"1\" class=\"dataframe\">\n",
       "  <thead>\n",
       "    <tr style=\"text-align: right;\">\n",
       "      <th></th>\n",
       "      <th>Symbol</th>\n",
       "      <th>Expiry</th>\n",
       "      <th>Strike</th>\n",
       "      <th>Mlot</th>\n",
       "    </tr>\n",
       "  </thead>\n",
       "  <tbody>\n",
       "    <tr>\n",
       "      <th>0</th>\n",
       "      <td>ACC</td>\n",
       "      <td>20180830</td>\n",
       "      <td>860.0</td>\n",
       "      <td>400</td>\n",
       "    </tr>\n",
       "    <tr>\n",
       "      <th>1</th>\n",
       "      <td>ACC</td>\n",
       "      <td>20180830</td>\n",
       "      <td>880.0</td>\n",
       "      <td>400</td>\n",
       "    </tr>\n",
       "    <tr>\n",
       "      <th>2</th>\n",
       "      <td>ACC</td>\n",
       "      <td>20180830</td>\n",
       "      <td>900.0</td>\n",
       "      <td>400</td>\n",
       "    </tr>\n",
       "    <tr>\n",
       "      <th>3</th>\n",
       "      <td>ACC</td>\n",
       "      <td>20180830</td>\n",
       "      <td>920.0</td>\n",
       "      <td>400</td>\n",
       "    </tr>\n",
       "    <tr>\n",
       "      <th>4</th>\n",
       "      <td>ACC</td>\n",
       "      <td>20180830</td>\n",
       "      <td>940.0</td>\n",
       "      <td>400</td>\n",
       "    </tr>\n",
       "  </tbody>\n",
       "</table>\n",
       "</div>"
      ],
      "text/plain": [
       "  Symbol    Expiry  Strike  Mlot\n",
       "0    ACC  20180830   860.0   400\n",
       "1    ACC  20180830   880.0   400\n",
       "2    ACC  20180830   900.0   400\n",
       "3    ACC  20180830   920.0   400\n",
       "4    ACC  20180830   940.0   400"
      ]
     },
     "execution_count": 5,
     "metadata": {},
     "output_type": "execute_result"
    }
   ],
   "source": [
    "# Filter symbol, expiration and strike from chains and make a cartesian\n",
    "chains = [(i.tradingClass, i.expirations, i.strikes) for elem in contracts_p for i in elem]\n",
    "L = [[[x[0]], sorted(x[1]), sorted(x[2])] for x in chains]\n",
    "\n",
    "stock_chains = pd.DataFrame([j for i in L for j in product(*i)], \n",
    "                            columns=['Symbol', \"Expiry\", \"Strike\"])\n",
    "\n",
    "df = pd.merge(stock_chains, nse_options.loc[:, ['Symbol', 'Mlot']], how='left', on='Symbol')\n",
    "df.head()"
   ]
  },
  {
   "cell_type": "code",
   "execution_count": 19,
   "metadata": {},
   "outputs": [
    {
     "name": "stdout",
     "output_type": "stream",
     "text": [
      "Wall time: 7.02 ms\n"
     ]
    }
   ],
   "source": [
    "%%time\n",
    "# Build the contracts. This takes a veryyyy long time\n",
    "symbols = [symbol for symbol in df.Symbol]\n",
    "expirations = [expiration for expiration in df.Expiry]\n",
    "strikes = [strike for strike in df.Strike]\n",
    "lots = [lot for lot in df.Mlot]\n",
    "\n",
    "contracts = [Option(symbol=symbol, lastTradeDateOrContractMonth=expiration, strike=strike, right='C', exchange='NSE')\n",
    "        for symbol in symbols[:5]\n",
    "        for expiration in expirations[:5]\n",
    "        for strike in strikes[:5]]"
   ]
  },
  {
   "cell_type": "code",
   "execution_count": 21,
   "metadata": {},
   "outputs": [
    {
     "name": "stderr",
     "output_type": "stream",
     "text": [
      "WARNING:ib_insync.client:Started to throttle requests\n",
      "WARNING:ib_insync.client:Stopped to throttle requests\n"
     ]
    },
    {
     "name": "stdout",
     "output_type": "stream",
     "text": [
      "Wall time: 2.1 s\n"
     ]
    }
   ],
   "source": [
    "%%time\n",
    "qual_contracts = ib.qualifyContracts(*contracts)"
   ]
  },
  {
   "cell_type": "code",
   "execution_count": 24,
   "metadata": {},
   "outputs": [
    {
     "data": {
      "text/plain": [
       "125"
      ]
     },
     "execution_count": 24,
     "metadata": {},
     "output_type": "execute_result"
    }
   ],
   "source": [
    "len([i.symbol for i in qual_contracts])"
   ]
  },
  {
   "cell_type": "markdown",
   "metadata": {},
   "source": [
    "## Contract Details (such as Strike, Expiries and Rights)"
   ]
  },
  {
   "cell_type": "code",
   "execution_count": null,
   "metadata": {},
   "outputs": [],
   "source": [
    "cds = ib.reqContractDetails(contract)\n",
    "cds"
   ]
  },
  {
   "cell_type": "code",
   "execution_count": null,
   "metadata": {},
   "outputs": [],
   "source": [
    "# Get symbol, strike, expiry and right\n",
    "[(cd.contract.symbol, cd.contract.strike, cd.contract.lastTradeDateOrContractMonth, cd.contract.right) for cd in cds][:2]"
   ]
  },
  {
   "cell_type": "markdown",
   "metadata": {},
   "source": [
    "## For Ticker Details (such as Price)"
   ]
  },
  {
   "cell_type": "code",
   "execution_count": null,
   "metadata": {},
   "outputs": [],
   "source": [
    "options = [cd.contract for cd in cds]\n",
    "options[:2]"
   ]
  },
  {
   "cell_type": "code",
   "execution_count": null,
   "metadata": {},
   "outputs": [],
   "source": [
    "tickers = [ib.reqTickers(*options)]\n",
    "tickers[:3]"
   ]
  },
  {
   "cell_type": "markdown",
   "metadata": {},
   "source": [
    "### ...for a single contract's price (absolute reference)"
   ]
  },
  {
   "cell_type": "code",
   "execution_count": null,
   "metadata": {},
   "outputs": [],
   "source": [
    "tickers[0][0].contract.strike"
   ]
  },
  {
   "cell_type": "markdown",
   "metadata": {},
   "source": [
    "### ...for multiple contracts price tickers (relative reference)\n",
    "(<b>Note</b>: This extracts in blocks of 10 tickers)"
   ]
  },
  {
   "cell_type": "code",
   "execution_count": null,
   "metadata": {},
   "outputs": [],
   "source": [
    "options = [cd.contract for cd in cds]\n",
    "tickers = [t for i in range(0, len(options), 100) for t in ib.reqTickers(*options[i:i + 100])]"
   ]
  },
  {
   "cell_type": "code",
   "execution_count": null,
   "metadata": {},
   "outputs": [],
   "source": [
    "tickers[:2]"
   ]
  },
  {
   "cell_type": "markdown",
   "metadata": {},
   "source": [
    "### ...for ticker information in tuples"
   ]
  },
  {
   "cell_type": "code",
   "execution_count": null,
   "metadata": {},
   "outputs": [],
   "source": [
    "[(tickers[0][i].contract.symbol, tickers[0][i].contract.strike, \n",
    "  tickers[0][i].contract.right, tickers[0][i].bid, \n",
    "  tickers[0][i].ask, tickers[0][i].close)\n",
    " for i in range(len(tickers[0]))]"
   ]
  },
  {
   "cell_type": "markdown",
   "metadata": {},
   "source": [
    "## Code to get Qualified Options List from IBKR site"
   ]
  },
  {
   "cell_type": "code",
   "execution_count": null,
   "metadata": {},
   "outputs": [],
   "source": [
    "# Get the options list\n",
    "# Note multipliers are not correct for NSE!!!\n",
    "\n",
    "options_url1 = \"https://www.interactivebrokers.co.in/en/index.php?f=2222&exch=nse&showcategories=OPTGRP&p=&cc=&limit=100&page=1\"\n",
    "options_url2 = \"https://www.interactivebrokers.co.in/en/index.php?f=2222&exch=nse&showcategories=OPTGRP&p=&cc=&limit=100&page=2\"\n",
    "nse_options = pd.concat([pd.read_html(options_url1, header=0)[2], pd.read_html(options_url2, header=0)[2]], sort=True)\n",
    "\n",
    "# Rename the columns and add the Exchange\n",
    "nse_options = nse_options.rename({'IB Symbol': 'iSymbol', \n",
    "                                  'Product Description (click link for more details)': 'Desc'}, axis=1)\n",
    "nse_options['Exchange'] = 'NSE'\n",
    "\n",
    "# List of nse indexes (extracted from error!)\n",
    "idx_list = (\"BANKNIFTY\", \"NIFTY50\", \"NSEFTSE\", \"USDINR\" )\n",
    "\n",
    "# Dataframe of equity options\n",
    "nse_equity = nse_options.loc[~nse_options.iSymbol.isin(idx_list), :].reset_index(drop=True)\n",
    "equity_contracts = ib.qualifyContracts(*[Stock(x, y) for x, y in zip(nse_equity.iSymbol, nse_equity.Exchange)])\n",
    "equity_df = util.df(equity_contracts)\n",
    "\n",
    "# Dataframe for index options\n",
    "nse_index = nse_options.loc[nse_options.iSymbol.isin(idx_list), :].reset_index(drop=True)\n",
    "index_contracts = ib.qualifyContracts(*[Index(x, y) for x, y in zip(nse_index.iSymbol, nse_index.Exchange)])\n",
    "index_df = util.df(index_contracts)"
   ]
  },
  {
   "cell_type": "code",
   "execution_count": null,
   "metadata": {},
   "outputs": [],
   "source": [
    "nse_equity.head()"
   ]
  },
  {
   "cell_type": "code",
   "execution_count": null,
   "metadata": {},
   "outputs": [],
   "source": [
    "nse_index.head()"
   ]
  },
  {
   "cell_type": "code",
   "execution_count": null,
   "metadata": {},
   "outputs": [],
   "source": [
    "def get_chains(scrips):\n",
    "    '''Gets the option chains for the scrips passed\n",
    "       Args:\n",
    "          (scrips): list: qualified list of equity or index options with conId\n",
    "       Returns:\n",
    "          list of option chain'''\n",
    "    \n",
    "    # Prepare a sequence for ib.reqSecDefOptParams\n",
    "    seq = [(i.symbol, '', i.secType, i.conId) for i in scrips]\n",
    "\n",
    "    # build the chains\n",
    "    chains = [ib.reqSecDefOptParams(*p) for p in seq]\n",
    "    # list(map(lambda p: ib.reqSecDefOptParams(*p), seq))  # Another way of doing!\n",
    "    \n",
    "    return chains\n",
    "\n",
    "index_chains = get_chains(index_contracts)"
   ]
  }
 ],
 "metadata": {
  "kernelspec": {
   "display_name": "Python 3",
   "language": "python",
   "name": "python3"
  },
  "language_info": {
   "codemirror_mode": {
    "name": "ipython",
    "version": 3
   },
   "file_extension": ".py",
   "mimetype": "text/x-python",
   "name": "python",
   "nbconvert_exporter": "python",
   "pygments_lexer": "ipython3",
   "version": "3.6.5"
  }
 },
 "nbformat": 4,
 "nbformat_minor": 2
}
