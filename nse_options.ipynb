{
 "cells": [
  {
   "cell_type": "code",
   "execution_count": 1,
   "metadata": {},
   "outputs": [
    {
     "data": {
      "text/plain": [
       "<IB connected to 127.0.0.1:7498 clientId=4>"
      ]
     },
     "execution_count": 1,
     "metadata": {},
     "output_type": "execute_result"
    }
   ],
   "source": [
    "import numpy as np\n",
    "import pandas as pd\n",
    "import scipy.stats as st\n",
    "from datetime import datetime\n",
    "from itertools import product\n",
    "\n",
    "from ib_insync import *\n",
    "util.startLoop()\n",
    "\n",
    "ib=IB()\n",
    "# ib.connect('127.0.0.1', 4004, clientId=2) # kavi1234 paper-trade\n",
    "# ib.connect('127.0.0.1', 4003, clientId=3) # ***kavi1234 IBG  LIVE ***\n",
    "ib.connect('127.0.0.1', 7498, clientId=4) # ***kavi1234 TWS  LIVE ***"
   ]
  },
  {
   "cell_type": "code",
   "execution_count": 2,
   "metadata": {},
   "outputs": [
    {
     "name": "stderr",
     "output_type": "stream",
     "text": [
      "WARNING:ib_insync.client:Started to throttle requests\n",
      "WARNING:ib_insync.client:Stopped to throttle requests\n"
     ]
    },
    {
     "name": "stdout",
     "output_type": "stream",
     "text": [
      "Wall time: 21.9 s\n"
     ]
    }
   ],
   "source": [
    "%%time\n",
    "# Standard Deviation limits\n",
    "call_probability = 0.97  # for Calls\n",
    "put_probability = 0.95   # for Puts\n",
    "\n",
    "call_sd = st.norm.ppf(1-(1-call_probability)/2)\n",
    "put_sd = st.norm.ppf(1-(1-put_probability)/2)\n",
    "\n",
    "# **** Make list of qualified options stocks from the web (23 secs) *****\n",
    "\n",
    "options_url1 = \"https://www.interactivebrokers.co.in/en/index.php?f=2222&exch=nse&showcategories=OPTGRP&p=&cc=&limit=100&page=1\"\n",
    "options_url2 = \"https://www.interactivebrokers.co.in/en/index.php?f=2222&exch=nse&showcategories=OPTGRP&p=&cc=&limit=100&page=2\"\n",
    "nse = pd.concat([pd.read_html(options_url1, header=0)[2], \n",
    "                         pd.read_html(options_url2, header=0)[2]], \n",
    "                        sort=True).drop_duplicates(subset='Symbol').reset_index(drop=True)\n",
    "\n",
    "nse = nse.iloc[:, [1, 2, 3]]\n",
    "nse.columns = ['iSymbol', 'Desc', 'Symbol']\n",
    "\n",
    "# Note multipliers are not correct for NSE!. So get them from 5paisa!!!\n",
    "\n",
    "paisaurl = \"https://www.5paisa.com/5pit/spma.asp\"\n",
    "paisa = pd.read_html(paisaurl, header=0)[1].drop_duplicates(subset='Symbol').reset_index(drop=True)  # It's the second table in the url\n",
    "paisa_small = paisa[['Symbol', 'Mlot']].sort_values('Symbol') # small df only with Mlot\n",
    "\n",
    "# Check for symbols missing in nse\n",
    "# pd.merge(paisa_small, nse, on='Symbol', how='left', indicator=True).query(\"_merge == 'left_only'\" )\n",
    "\n",
    "nse_options = pd.merge(paisa_small, nse, on=\"Symbol\", how='left')\n",
    "nse_options[\"Exchange\"] = 'NSE'\n",
    "\n",
    "nse_options.loc[nse_options.iSymbol.isnull(), \"iSymbol\"] = nse_options['Symbol'].str.slice(0,9)\n",
    "\n",
    "# List of nse indexes (extracted from error!)\n",
    "idx_list = [\"BANKNIFTY\", \"NIFTY50\", \"NSEFTSE\", \"USDINR\", \"INDIAVIX\", \n",
    "            \"NIFTYCPSE\", \"NIFTYINFR\", \"NIFTYIT\", \"NIFTYMID5\", \"NIFTYPSE\"]\n",
    "nse_options = nse_options.loc[~nse_options.iSymbol.isin(idx_list), :]\n",
    "\n",
    "# Get the Stocks qualified\n",
    "stocks = [Stock(symbol=x, exchange='NSE') for x in nse_options.iSymbol]\n",
    "qual_stock = ib.qualifyContracts(*stocks)\n",
    "\n",
    "# Put the contracts to a Contract column\n",
    "nse_options = nse_options.assign(Contract = pd.Series(qual_stock).values)"
   ]
  },
  {
   "cell_type": "code",
   "execution_count": null,
   "metadata": {},
   "outputs": [],
   "source": [
    "%%time\n",
    "# **** Get the close price of Underlying (14 mins) ****\n",
    "\n",
    "def get_price(contract):\n",
    "    '''Gets the price of contract\n",
    "    Args:\n",
    "       (contract)    = object: qualified contract object\n",
    "       (exchange)    = string: ['NSE']\n",
    "    \n",
    "    Returns:\n",
    "        price        = float\n",
    "    '''\n",
    "    m_data = ib.reqMktData(contract, snapshot=True) \n",
    "    while m_data.close != m_data.close: ib.sleep(0.01) #Wait until data is in. \n",
    "    ib.cancelMktData(contract)\n",
    "    return m_data.close\n",
    "\n",
    "list_of_prices = [get_price(c) for c in qual_stock]\n",
    "\n",
    "nse_options[\"Und_Price\"] = list_of_prices"
   ]
  },
  {
   "cell_type": "code",
   "execution_count": null,
   "metadata": {},
   "outputs": [],
   "source": [
    "list_of_prices"
   ]
  },
  {
   "cell_type": "code",
   "execution_count": null,
   "metadata": {},
   "outputs": [],
   "source": [
    "%%time\n",
    "# **** Get Expirations and Strikes. (5 secs)\n",
    "contracts = [(i.symbol, '', i.secType, i.conId) for i in qual_stock]\n",
    "contracts_p = [ib.reqSecDefOptParams(*p) for p in contracts]\n",
    "\n",
    "# Filter symbol, expiration and strike from chains and make a cartesian\n",
    "chains = [(i.tradingClass, i.expirations, i.strikes) for elem in contracts_p for i in elem]\n",
    "L = [[[x[0]], sorted(x[1]), sorted(x[2])] for x in chains]\n",
    "\n",
    "stock_chains = pd.DataFrame([j for i in L for j in product(*i)], \n",
    "                            columns=['Symbol', \"Expiry\", \"Strike\"])\n",
    "\n",
    "df = pd.merge(stock_chains, nse_options, how='left', on='Symbol')\n",
    "df.head()"
   ]
  },
  {
   "cell_type": "code",
   "execution_count": null,
   "metadata": {},
   "outputs": [],
   "source": [
    "%%time\n",
    "# **** Get the top 2 out-of-SD-band contracts for each symbol, expiry and right ****\n",
    "\n",
    "# function to get days to expiry\n",
    "def get_dte(Expiry):\n",
    "    '''Gives the expiry date\n",
    "    Arg:\n",
    "       (Expiry) = str of yyyymmdd format\n",
    "    Returns:\n",
    "       dte = int days to expiry'''\n",
    "    exp_date = datetime.strptime(Expiry, '%Y%m%d')\n",
    "    dte = (exp_date- datetime.now()).days\n",
    "    return dte\n",
    "\n",
    "# Populate dte for standard deviation\n",
    "df['DTE'] = [get_dte(d) for d in df.Expiry]\n",
    "df['DTEMax'] = df.DTE.max()\n",
    "df['Exchange'] = 'NSE'\n",
    "\n",
    "# Make iSymbol unique for contracts\n",
    "sd_df = df.drop_duplicates(subset=['iSymbol', 'DTE']).reset_index(drop=True)\n",
    "\n",
    "# function to get greatest standard deviation between dte and dte_max\n",
    "def get_stdev(contract, dte, dte_max):\n",
    "    '''Gets the Standard Deviation\n",
    "    Args:\n",
    "       (contract) = object: the qualified stock\n",
    "       (dte)      = int: days to expiry\n",
    "       (dte_max)  = int: max days to expiry\n",
    "    Returns:\n",
    "       maximum standard deviation in days (int)\n",
    "    '''\n",
    "    sd_days = str(dte_max)+' D'\n",
    "    max_bars = ib.reqHistoricalData(contract=contract, endDateTime='', durationStr=sd_days, \n",
    "                                barSizeSetting='1 day',  whatToShow='Trades', useRTH=True)\n",
    "    \n",
    "    sd_dte_max = np.std([b.close for b in max_bars], ddof=1)    # standard deviation of max dte\n",
    "    sd_dte = np.std([b.close for b in max_bars[:-dte]], ddof=1)  # standard deviation of dte\n",
    "    \n",
    "    return max(sd_dte_max, sd_dte)  # returns the greatest standard deviation\n",
    "\n",
    "sd_df['SD'] = [get_stdev(c, d, x) for c, d, x in zip(sd_df.Contract, sd_df.DTE, sd_df.DTEMax)]\n",
    "\n",
    "# Merge Standard Deviation to dataframe\n",
    "df1 = pd.merge(df, sd_df, on=['iSymbol', 'Expiry'], how='left', suffixes=('', '_'))\n",
    "\n",
    "df1 = df1.loc[:, ~df1.columns.str.endswith('_')].drop(['DTEMax'], axis=1)\n",
    "\n",
    "# Designate Puts and Calls\n",
    "df1['Right'] = np.where(df1.Strike < df1.Und_Price, 'P', 'C')\n",
    "\n",
    "# Determine the Band Price\n",
    "df1['Band_Price'] = np.where(df1.Right == 'P', df1.Und_Price - (df1.SD * put_sd), df1.Und_Price + (df1.SD * call_sd))\n",
    "\n",
    "# Weed out-of-Band_Price strikes\n",
    "mask = ((df1.Right == 'P') & (df1.Strike < df1.Band_Price)) | \\\n",
    "((df1.Right == 'C') & (df1.Strike > df1.Band_Price))\n",
    "\n",
    "df2 = df1.loc[mask, :]  # Out-of-Band_Price\n",
    "\n",
    "# Keep two out-of-band contracts for each right, expiry and symbol\n",
    "\n",
    "df2[\"Band-Strike\"] = abs(df2.Band_Price-df2.Strike) # Calculate the absolute difference\n",
    "df2 = df2.sort_values(by=['Symbol', 'Expiry', 'Right', 'Band-Strike']) # Sort\n",
    "df3 = df2.groupby(['Symbol', 'Expiry', 'Right']).head(2).reset_index(drop=True) # Choose the top 2"
   ]
  },
  {
   "cell_type": "code",
   "execution_count": null,
   "metadata": {},
   "outputs": [],
   "source": [
    "df3 = df3.head()\n",
    "df3"
   ]
  },
  {
   "cell_type": "code",
   "execution_count": null,
   "metadata": {},
   "outputs": [],
   "source": [
    "### Get the Margins\n",
    "contracts = [Option(symbol=s, exchange=e, lastTradeDateOrContractMonth=x, strike = t, right=r) for s, e, x, t, r in # \\\n",
    " zip(df3.Symbol, df3.Exchange, df3.Expiry, df3.Strike, df3.Right)]\n",
    "\n",
    "orders = [Order(action='SELL', orderType='MKT', totalQuantity=t) for t in df3.Mlot]\n",
    "\n",
    "whatifs = [ib.whatIfOrder(contract, order) for contract, order in zip(contracts, orders)]"
   ]
  },
  {
   "cell_type": "code",
   "execution_count": null,
   "metadata": {},
   "outputs": [],
   "source": [
    "whatifs"
   ]
  },
  {
   "cell_type": "code",
   "execution_count": null,
   "metadata": {},
   "outputs": [],
   "source": [
    "ib.reqMktData(contract=contracts[0], snapshot=True)"
   ]
  },
  {
   "cell_type": "code",
   "execution_count": null,
   "metadata": {},
   "outputs": [],
   "source": [
    "### Get the Prices"
   ]
  },
  {
   "cell_type": "code",
   "execution_count": null,
   "metadata": {},
   "outputs": [],
   "source": [
    "### Compute the RoM"
   ]
  },
  {
   "cell_type": "code",
   "execution_count": null,
   "metadata": {},
   "outputs": [],
   "source": [
    "### Place the trades"
   ]
  }
 ],
 "metadata": {
  "kernelspec": {
   "display_name": "Python 3",
   "language": "python",
   "name": "python3"
  },
  "language_info": {
   "codemirror_mode": {
    "name": "ipython",
    "version": 3
   },
   "file_extension": ".py",
   "mimetype": "text/x-python",
   "name": "python",
   "nbconvert_exporter": "python",
   "pygments_lexer": "ipython3",
   "version": "3.6.5"
  }
 },
 "nbformat": 4,
 "nbformat_minor": 2
}
