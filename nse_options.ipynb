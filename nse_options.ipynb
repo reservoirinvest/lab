{
 "cells": [
  {
   "cell_type": "code",
   "execution_count": 1,
   "metadata": {},
   "outputs": [],
   "source": [
    "import pandas as pd\n",
    "import numpy as np\n",
    "import scipy.stats as st\n",
    "from datetime import datetime\n",
    "from itertools import product"
   ]
  },
  {
   "cell_type": "code",
   "execution_count": 2,
   "metadata": {},
   "outputs": [
    {
     "data": {
      "text/plain": [
       "<IB connected to 127.0.0.1:7499 clientId=1>"
      ]
     },
     "execution_count": 2,
     "metadata": {},
     "output_type": "execute_result"
    }
   ],
   "source": [
    "from ib_insync import *\n",
    "util.startLoop()\n",
    "\n",
    "ib=IB()\n",
    "\n",
    "ib.connect('127.0.0.1', 7499, clientId=1) # kavi1234 TWS paper-trade\n",
    "# ib.connect('127.0.0.1', 4004, clientId=2) # kavi1234 IBG paper-trade\n",
    "# ib.connect('127.0.0.1', 4003, clientId=3) # ***kavi1234 IBG  LIVE ***\n",
    "# ib.connect('127.0.0.1', 7498, clientId=4) # ***kavi1234 TWS  LIVE ***"
   ]
  },
  {
   "cell_type": "code",
   "execution_count": 3,
   "metadata": {},
   "outputs": [],
   "source": [
    "# Error handling\n",
    "def onError(reqId, errorCode, errorString, contract):\n",
    "    print(\"ERROR\", reqId, errorCode, errorString)\n",
    "\n",
    "# Standard Deviation limits\n",
    "call_probability = 0.97  # for Calls\n",
    "put_probability = 0.95   # for Puts\n",
    "\n",
    "call_sd = st.norm.ppf(1-(1-call_probability)/2)\n",
    "put_sd = st.norm.ppf(1-(1-put_probability)/2)"
   ]
  },
  {
   "cell_type": "code",
   "execution_count": 4,
   "metadata": {},
   "outputs": [
    {
     "name": "stderr",
     "output_type": "stream",
     "text": [
      "WARNING:ib_insync.client:Started to throttle requests\n",
      "WARNING:ib_insync.client:Stopped to throttle requests\n"
     ]
    },
    {
     "name": "stdout",
     "output_type": "stream",
     "text": [
      "Wall time: 19.6 s\n"
     ]
    }
   ],
   "source": [
    "%%time\n",
    "# **** Make list of qualified options stocks from the web (25 secs) *****\n",
    "\n",
    "options_url1 = \"https://www.interactivebrokers.co.in/en/index.php?f=2222&exch=nse&showcategories=OPTGRP&p=&cc=&limit=100&page=1\"\n",
    "options_url2 = \"https://www.interactivebrokers.co.in/en/index.php?f=2222&exch=nse&showcategories=OPTGRP&p=&cc=&limit=100&page=2\"\n",
    "nse = pd.concat([pd.read_html(options_url1, header=0)[2], \n",
    "                         pd.read_html(options_url2, header=0)[2]], \n",
    "                        sort=True).drop_duplicates(subset='Symbol').reset_index(drop=True)\n",
    "\n",
    "nse = nse.iloc[:, [1, 2, 3]]\n",
    "nse.columns = ['iSymbol', 'Desc', 'Symbol']\n",
    "\n",
    "# Note multipliers are not correct for NSE!. So get them from 5paisa!!!\n",
    "\n",
    "paisaurl = \"https://www.5paisa.com/5pit/spma.asp\"\n",
    "paisa = pd.read_html(paisaurl, header=0)[1].drop_duplicates(subset='Symbol').reset_index(drop=True)  # It's the second table in the url\n",
    "paisa_small = paisa[['Symbol', 'Mlot']].sort_values('Symbol') # small df only with Mlot\n",
    "\n",
    "# Check for symbols missing in nse\n",
    "# pd.merge(paisa_small, nse, on='Symbol', how='left', indicator=True).query(\"_merge == 'left_only'\" )\n",
    "\n",
    "nse_options = pd.merge(paisa_small, nse, on=\"Symbol\", how='left')\n",
    "nse_options[\"Exchange\"] = 'NSE'\n",
    "\n",
    "nse_options.loc[nse_options.iSymbol.isnull(), \"iSymbol\"] = nse_options['Symbol'].str.slice(0,9)\n",
    "\n",
    "# List of nse indexes (extracted from error!)\n",
    "idx_list = [\"BANKNIFTY\", \"NIFTY50\", \"NSEFTSE\", \"USDINR\", \"INDIAVIX\", \n",
    "            \"NIFTYCPSE\", \"NIFTYINFR\", \"NIFTYIT\", \"NIFTYMID5\", \"NIFTYPSE\"]\n",
    "nse_options = nse_options.loc[~nse_options.iSymbol.isin(idx_list), :]\n",
    "\n",
    "# Get the Stocks qualified\n",
    "stocks = [Stock(symbol=x, exchange='NSE') for x in nse_options.iSymbol]\n",
    "qual_stock = ib.qualifyContracts(*stocks)\n",
    "\n",
    "# Put the contracts to a Contract column\n",
    "nse_options = nse_options.assign(Contract = pd.Series(qual_stock).values)"
   ]
  },
  {
   "cell_type": "code",
   "execution_count": 5,
   "metadata": {},
   "outputs": [],
   "source": [
    "# **** Get the close price of Underlying (30 milliseconds) ****\n",
    "def get_price(contract):\n",
    "    '''Gets the price of contract\n",
    "    Args:\n",
    "       (contract)    = object: qualified contract object\n",
    "    \n",
    "    Returns:\n",
    "        price        = float\n",
    "    '''\n",
    "    \n",
    "    m_data = ib.reqMktData(contract)\n",
    "    \n",
    "    while ib.waitOnUpdate():\n",
    "        if m_data.marketPrice() == m_data.marketPrice():\n",
    "            break\n",
    "            \n",
    "#     while m_data.close != m_data.close:\n",
    "#         ib.sleep(0.01) #Wait until data is in.\n",
    "\n",
    "    return m_data.close"
   ]
  },
  {
   "cell_type": "code",
   "execution_count": 14,
   "metadata": {},
   "outputs": [
    {
     "ename": "ConnectionError",
     "evalue": "Not connected",
     "output_type": "error",
     "traceback": [
      "\u001b[1;31m---------------------------------------------------------------------------\u001b[0m",
      "\u001b[1;31mConnectionError\u001b[0m                           Traceback (most recent call last)",
      "\u001b[1;32m<ipython-input-14-42a856e34c14>\u001b[0m in \u001b[0;36m<module>\u001b[1;34m()\u001b[0m\n\u001b[1;32m----> 1\u001b[1;33m \u001b[0mlist_of_prices\u001b[0m \u001b[1;33m=\u001b[0m \u001b[1;33m[\u001b[0m\u001b[0mget_price\u001b[0m\u001b[1;33m(\u001b[0m\u001b[0mc\u001b[0m\u001b[1;33m)\u001b[0m \u001b[1;32mfor\u001b[0m \u001b[0mc\u001b[0m \u001b[1;32min\u001b[0m \u001b[0mqual_stock\u001b[0m\u001b[1;33m[\u001b[0m\u001b[1;33m:\u001b[0m\u001b[1;36m5\u001b[0m\u001b[1;33m]\u001b[0m\u001b[1;33m]\u001b[0m\u001b[1;33m\u001b[0m\u001b[0m\n\u001b[0m",
      "\u001b[1;32m<ipython-input-14-42a856e34c14>\u001b[0m in \u001b[0;36m<listcomp>\u001b[1;34m(.0)\u001b[0m\n\u001b[1;32m----> 1\u001b[1;33m \u001b[0mlist_of_prices\u001b[0m \u001b[1;33m=\u001b[0m \u001b[1;33m[\u001b[0m\u001b[0mget_price\u001b[0m\u001b[1;33m(\u001b[0m\u001b[0mc\u001b[0m\u001b[1;33m)\u001b[0m \u001b[1;32mfor\u001b[0m \u001b[0mc\u001b[0m \u001b[1;32min\u001b[0m \u001b[0mqual_stock\u001b[0m\u001b[1;33m[\u001b[0m\u001b[1;33m:\u001b[0m\u001b[1;36m5\u001b[0m\u001b[1;33m]\u001b[0m\u001b[1;33m]\u001b[0m\u001b[1;33m\u001b[0m\u001b[0m\n\u001b[0m",
      "\u001b[1;32m<ipython-input-5-e18c15effe0a>\u001b[0m in \u001b[0;36mget_price\u001b[1;34m(contract)\u001b[0m\n\u001b[0;32m      9\u001b[0m     '''\n\u001b[0;32m     10\u001b[0m \u001b[1;33m\u001b[0m\u001b[0m\n\u001b[1;32m---> 11\u001b[1;33m     \u001b[0mm_data\u001b[0m \u001b[1;33m=\u001b[0m \u001b[0mib\u001b[0m\u001b[1;33m.\u001b[0m\u001b[0mreqMktData\u001b[0m\u001b[1;33m(\u001b[0m\u001b[0mcontract\u001b[0m\u001b[1;33m)\u001b[0m\u001b[1;33m\u001b[0m\u001b[0m\n\u001b[0m\u001b[0;32m     12\u001b[0m \u001b[1;33m\u001b[0m\u001b[0m\n\u001b[0;32m     13\u001b[0m     \u001b[1;32mwhile\u001b[0m \u001b[0mib\u001b[0m\u001b[1;33m.\u001b[0m\u001b[0mwaitOnUpdate\u001b[0m\u001b[1;33m(\u001b[0m\u001b[1;33m)\u001b[0m\u001b[1;33m:\u001b[0m\u001b[1;33m\u001b[0m\u001b[0m\n",
      "\u001b[1;32m~\\AppData\\Local\\Continuum\\anaconda3\\lib\\site-packages\\ib_insync\\ib.py\u001b[0m in \u001b[0;36mreqMktData\u001b[1;34m(self, contract, genericTickList, snapshot, regulatorySnapshot, mktDataOptions)\u001b[0m\n\u001b[0;32m    890\u001b[0m         \u001b[0mhttps\u001b[0m\u001b[1;33m:\u001b[0m\u001b[1;33m//\u001b[0m\u001b[0minteractivebrokers\u001b[0m\u001b[1;33m.\u001b[0m\u001b[0mgithub\u001b[0m\u001b[1;33m.\u001b[0m\u001b[0mio\u001b[0m\u001b[1;33m/\u001b[0m\u001b[0mtws\u001b[0m\u001b[1;33m-\u001b[0m\u001b[0mapi\u001b[0m\u001b[1;33m/\u001b[0m\u001b[0mmd_request\u001b[0m\u001b[1;33m.\u001b[0m\u001b[0mhtml\u001b[0m\u001b[1;33m\u001b[0m\u001b[0m\n\u001b[0;32m    891\u001b[0m         \"\"\"\n\u001b[1;32m--> 892\u001b[1;33m         \u001b[0mreqId\u001b[0m \u001b[1;33m=\u001b[0m \u001b[0mself\u001b[0m\u001b[1;33m.\u001b[0m\u001b[0mclient\u001b[0m\u001b[1;33m.\u001b[0m\u001b[0mgetReqId\u001b[0m\u001b[1;33m(\u001b[0m\u001b[1;33m)\u001b[0m\u001b[1;33m\u001b[0m\u001b[0m\n\u001b[0m\u001b[0;32m    893\u001b[0m         \u001b[0mticker\u001b[0m \u001b[1;33m=\u001b[0m \u001b[0mself\u001b[0m\u001b[1;33m.\u001b[0m\u001b[0mwrapper\u001b[0m\u001b[1;33m.\u001b[0m\u001b[0mstartTicker\u001b[0m\u001b[1;33m(\u001b[0m\u001b[0mreqId\u001b[0m\u001b[1;33m,\u001b[0m \u001b[0mcontract\u001b[0m\u001b[1;33m,\u001b[0m \u001b[1;34m'mktData'\u001b[0m\u001b[1;33m)\u001b[0m\u001b[1;33m\u001b[0m\u001b[0m\n\u001b[0;32m    894\u001b[0m         self.client.reqMktData(reqId, contract, genericTickList,\n",
      "\u001b[1;32m~\\AppData\\Local\\Continuum\\anaconda3\\lib\\site-packages\\ib_insync\\client.py\u001b[0m in \u001b[0;36mgetReqId\u001b[1;34m(self)\u001b[0m\n\u001b[0;32m    124\u001b[0m         \"\"\"\n\u001b[0;32m    125\u001b[0m         \u001b[1;32mif\u001b[0m \u001b[1;32mnot\u001b[0m \u001b[0mself\u001b[0m\u001b[1;33m.\u001b[0m\u001b[0misReady\u001b[0m\u001b[1;33m(\u001b[0m\u001b[1;33m)\u001b[0m\u001b[1;33m:\u001b[0m\u001b[1;33m\u001b[0m\u001b[0m\n\u001b[1;32m--> 126\u001b[1;33m             \u001b[1;32mraise\u001b[0m \u001b[0mConnectionError\u001b[0m\u001b[1;33m(\u001b[0m\u001b[1;34m'Not connected'\u001b[0m\u001b[1;33m)\u001b[0m\u001b[1;33m\u001b[0m\u001b[0m\n\u001b[0m\u001b[0;32m    127\u001b[0m         \u001b[0mnewId\u001b[0m \u001b[1;33m=\u001b[0m \u001b[0mself\u001b[0m\u001b[1;33m.\u001b[0m\u001b[0m_reqIdSeq\u001b[0m\u001b[1;33m\u001b[0m\u001b[0m\n\u001b[0;32m    128\u001b[0m         \u001b[0mself\u001b[0m\u001b[1;33m.\u001b[0m\u001b[0m_reqIdSeq\u001b[0m \u001b[1;33m+=\u001b[0m \u001b[1;36m1\u001b[0m\u001b[1;33m\u001b[0m\u001b[0m\n",
      "\u001b[1;31mConnectionError\u001b[0m: Not connected"
     ]
    }
   ],
   "source": [
    "list_of_prices = [get_price(c) for c in qual_stock[:5]]"
   ]
  },
  {
   "cell_type": "code",
   "execution_count": 10,
   "metadata": {},
   "outputs": [
    {
     "data": {
      "text/plain": [
       "[1570.75, 200.35, 378.0, 32.4, 1155.3]"
      ]
     },
     "execution_count": 10,
     "metadata": {},
     "output_type": "execute_result"
    }
   ],
   "source": [
    "list_of_prices"
   ]
  },
  {
   "cell_type": "code",
   "execution_count": 25,
   "metadata": {},
   "outputs": [],
   "source": [
    "ib.disconnect()\n",
    "while not ib.disconnectedEvent():\n",
    "        break"
   ]
  },
  {
   "cell_type": "code",
   "execution_count": 26,
   "metadata": {},
   "outputs": [
    {
     "data": {
      "text/plain": [
       "<IB connected to 127.0.0.1:7499 clientId=1>"
      ]
     },
     "execution_count": 26,
     "metadata": {},
     "output_type": "execute_result"
    }
   ],
   "source": [
    "ib.connect('127.0.0.1', 7499, clientId=1) # kavi1234 TWS paper-trade  "
   ]
  },
  {
   "cell_type": "code",
   "execution_count": 16,
   "metadata": {},
   "outputs": [
    {
     "name": "stdout",
     "output_type": "stream",
     "text": [
      "Help on NoneType object:\n",
      "\n",
      "class NoneType(object)\n",
      " |  Methods defined here:\n",
      " |  \n",
      " |  __bool__(self, /)\n",
      " |      self != 0\n",
      " |  \n",
      " |  __new__(*args, **kwargs) from builtins.type\n",
      " |      Create and return a new object.  See help(type) for accurate signature.\n",
      " |  \n",
      " |  __repr__(self, /)\n",
      " |      Return repr(self).\n",
      "\n"
     ]
    }
   ],
   "source": [
    "help(ib.disconnectedEvent())"
   ]
  },
  {
   "cell_type": "code",
   "execution_count": null,
   "metadata": {},
   "outputs": [],
   "source": [
    "# Run it again!!!\n",
    "\n",
    "list_of_prices = [get_price(c) for c in qual_stock]\n",
    "\n",
    "# Update the dataframe\n",
    "nse_options[\"Und_Price\"] = list_of_prices"
   ]
  },
  {
   "cell_type": "code",
   "execution_count": null,
   "metadata": {},
   "outputs": [],
   "source": [
    "%%time\n",
    "# **** Get Expirations and Strikes. (4 mins)\n",
    "contracts = [(i.symbol, '', i.secType, i.conId) for i in qual_stock]\n",
    "contracts_p = [ib.reqSecDefOptParams(*p) for p in contracts]\n",
    "\n",
    "# Filter symbol, expiration and strike from chains and make a cartesian\n",
    "chains = [(i.tradingClass, i.expirations, i.strikes) for elem in contracts_p for i in elem]\n",
    "L = [[[x[0]], sorted(x[1]), sorted(x[2])] for x in chains]\n",
    "\n",
    "stock_chains = pd.DataFrame([j for i in L for j in product(*i)], \n",
    "                            columns=['Symbol', \"Expiry\", \"Strike\"])\n",
    "\n",
    "df = pd.merge(stock_chains, nse_options, how='left', on='Symbol')"
   ]
  },
  {
   "cell_type": "code",
   "execution_count": null,
   "metadata": {},
   "outputs": [],
   "source": [
    "%%time\n",
    "# **** Get the top 2 out-of-SD-band contracts for each symbol, expiry and right ****\n",
    "\n",
    "# function to get days to expiry\n",
    "def get_dte(Expiry):\n",
    "    '''Gives the expiry date\n",
    "    Arg:\n",
    "       (Expiry) = str of yyyymmdd format\n",
    "    Returns:\n",
    "       dte = int days to expiry'''\n",
    "    exp_date = datetime.strptime(Expiry, '%Y%m%d')\n",
    "    dte = (exp_date- datetime.now()).days\n",
    "    return dte\n",
    "\n",
    "# Populate dte for standard deviation\n",
    "df['DTE'] = [get_dte(d) for d in df.Expiry]\n",
    "df['DTEMax'] = df.DTE.max()\n",
    "df['Exchange'] = 'NSE'\n",
    "\n",
    "# Make iSymbol unique for contracts\n",
    "sd_df = df.drop_duplicates(subset=['iSymbol', 'DTE']).reset_index(drop=True)\n",
    "\n",
    "# function to get greatest standard deviation between dte and dte_max\n",
    "def get_stdev(contract, dte, dte_max):\n",
    "    '''Gets the Standard Deviation\n",
    "    Args:\n",
    "       (contract) = object: the qualified stock\n",
    "       (dte)      = int: days to expiry\n",
    "       (dte_max)  = int: max days to expiry\n",
    "    Returns:\n",
    "       maximum standard deviation in days (int)\n",
    "    '''\n",
    "    sd_days = str(dte_max)+' D'\n",
    "    max_bars = ib.reqHistoricalData(contract=contract, endDateTime='', durationStr=sd_days, \n",
    "                                barSizeSetting='1 day',  whatToShow='Trades', useRTH=True)\n",
    "    \n",
    "    sd_dte_max = np.std([b.close for b in max_bars], ddof=1)    # standard deviation of max dte\n",
    "    sd_dte = np.std([b.close for b in max_bars[:-dte]], ddof=1)  # standard deviation of dte\n",
    "    \n",
    "    return max(sd_dte_max, sd_dte)  # returns the greatest standard deviation\n",
    "\n",
    "sd_df['SD'] = pd.Series([get_stdev(c, d, x) for c, d, x in zip(sd_df.Contract, sd_df.DTE, sd_df.DTEMax)])\n",
    "\n",
    "# Merge Standard Deviation to dataframe\n",
    "df1 = pd.merge(df, sd_df, on=['iSymbol', 'Expiry'], how='left', suffixes=('', '_'))\n",
    "\n",
    "df1 = df1.loc[:, ~df1.columns.str.endswith('_')].drop(['DTEMax'], axis=1)\n",
    "\n",
    "# Designate Puts and Calls\n",
    "df1['Right'] = np.where(df1.Strike < df1.Und_Price, 'P', 'C')\n",
    "\n",
    "# Determine the Band Price\n",
    "df1['Band_Price'] = np.where(df1.Right == 'P', df1.Und_Price - (df1.SD * put_sd), df1.Und_Price + (df1.SD * call_sd))\n",
    "\n",
    "# Weed out-of-Band_Price strikes\n",
    "mask = ((df1.Right == 'P') & (df1.Strike < df1.Band_Price)) | \\\n",
    "((df1.Right == 'C') & (df1.Strike > df1.Band_Price))\n",
    "\n",
    "df2 = df1.loc[mask, :].reset_index(drop=True)  # Out-of-Band_Price\n",
    "\n",
    "# Keep two out-of-band contracts for each right, expiry and symbol\n",
    "\n",
    "df2[\"Band-Strike\"] = pd.Series(abs(df2.Band_Price-df2.Strike)) # Calculate the absolute difference\n",
    "\n",
    "df2 = df2.sort_values(by=['Symbol', 'Expiry', 'Right', 'Band-Strike']) # Sort\n",
    "df3 = df2.groupby(['Symbol', 'Expiry', 'Right']).head(2).reset_index(drop=True) # Choose the top 2"
   ]
  },
  {
   "cell_type": "code",
   "execution_count": null,
   "metadata": {},
   "outputs": [],
   "source": [
    "df4 = df3[['iSymbol', 'Expiry', 'Strike', 'Right', 'Exchange', 'Mlot', 'DTE']]"
   ]
  },
  {
   "cell_type": "code",
   "execution_count": null,
   "metadata": {},
   "outputs": [],
   "source": [
    "df4 = df4.iloc[150:200, :] # !Data limiter"
   ]
  },
  {
   "cell_type": "code",
   "execution_count": null,
   "metadata": {},
   "outputs": [],
   "source": [
    "option_contracts = [Option(symbol=s, exchange=x, lastTradeDateOrContractMonth=d, strike=t, right=r) for s, x, d, t, r in \n",
    " zip(df4.iSymbol, df4.Exchange, df4.Expiry, df4.Strike, df4.Right)]\n",
    "\n",
    "option_contract = [ib.qualifyContracts(i) for i in option_contracts]\n",
    "\n",
    "# Put the contracts to a Option_Contract column\n",
    "df4 = df4.assign(OptContract = pd.Series(option_contract).values)\n",
    "\n",
    "# Remove the empty [] option contracts\n",
    "df4 = df4.loc[df4.astype(str).OptContract != '[]', :]"
   ]
  },
  {
   "cell_type": "code",
   "execution_count": null,
   "metadata": {},
   "outputs": [],
   "source": [
    "df4 = df4.head() # !Data Limiter"
   ]
  },
  {
   "cell_type": "code",
   "execution_count": null,
   "metadata": {},
   "outputs": [],
   "source": [
    "# Margin check\n",
    "o = [Order(action='SELL', orderType='MKT', totalQuantity=q) for q in df4.Mlot]\n",
    "c = [optcontract for optcontract in df4.OptContract ]\n",
    "\n",
    "df4 = df4.assign(Margin = [pd.to_numeric(ib.whatIfOrder(*c, o).maintMarginChange) for c, o in zip(c, o)])"
   ]
  },
  {
   "cell_type": "code",
   "execution_count": null,
   "metadata": {},
   "outputs": [],
   "source": [
    "df4"
   ]
  },
  {
   "cell_type": "code",
   "execution_count": null,
   "metadata": {},
   "outputs": [],
   "source": [
    "df4.OptContract"
   ]
  },
  {
   "cell_type": "code",
   "execution_count": null,
   "metadata": {},
   "outputs": [],
   "source": [
    "ib.reqMktData(df4.OptContract[150][0], snapshot=True)"
   ]
  },
  {
   "cell_type": "code",
   "execution_count": null,
   "metadata": {},
   "outputs": [],
   "source": [
    "[get_price(*c) for c in c]"
   ]
  },
  {
   "cell_type": "code",
   "execution_count": null,
   "metadata": {},
   "outputs": [],
   "source": [
    "help(ib.sleep)"
   ]
  },
  {
   "cell_type": "code",
   "execution_count": null,
   "metadata": {},
   "outputs": [],
   "source": [
    "\n",
    "\n",
    "# In the DataFrame\n",
    "df4['Options'] = pd.Series(c)\n",
    "df4['Orders'] = pd.Series(o)\n",
    "\n",
    "# Margins\n",
    "df4['Margin'] = [pd.to_numeric(ib.whatIfOrder(*c, o).maintMarginChange) for c, o in zip(c,o)]\n",
    "\n",
    "# Option Price\n",
    "df4['OptPrice'] = pd.Series([get_price(*i) for i in df4.Options])\n",
    "\n",
    "# Return on Margin\n",
    "df4['RoM'] = df4.OptPrice*df4.Mlot/df4.Margin*365/df4.DTE"
   ]
  },
  {
   "cell_type": "code",
   "execution_count": null,
   "metadata": {},
   "outputs": [],
   "source": [
    "df3 = df3.sort_values(by=['RoM'], ascending=False)\n",
    "calls_df = df3.loc[df3.Right == 'C', :]\n",
    "puts_df = df3.loc[df3.Right == 'P', :]\n",
    "\n",
    "x  ==  datetimedatetime.datetime.now().strftime(\"%Y%m%d_%H%M%S\") + \"_NSERaw.xlsx\"\n",
    "writer = pd.ExcelWriter(x)\n",
    "df3.to_excel(writer, 'options', index=False, freeze_panes=(1, 1))\n",
    "calls_df.to_excel(writer, 'calls', index=False, freeze_panes=(1,1))\n",
    "puts_df.to_excel(writer, 'puts', index=False, freeze_panes=(1,1))\n",
    "writer.save()"
   ]
  },
  {
   "cell_type": "code",
   "execution_count": null,
   "metadata": {},
   "outputs": [],
   "source": [
    "# Function for logging errors\n",
    "logging.basicConfig(filename='nse_options.log', level=logging.INFO)\n",
    "def onError(reqId, errorCode, errorString):\n",
    "    logging.info(\"ERROR\", reqId, errorCode, errorString)\n",
    "\n",
    "ib.setCallback('error', onError)   #get the function on the error"
   ]
  },
  {
   "cell_type": "code",
   "execution_count": null,
   "metadata": {},
   "outputs": [],
   "source": [
    "ib.disconnect()"
   ]
  },
  {
   "cell_type": "code",
   "execution_count": null,
   "metadata": {},
   "outputs": [],
   "source": [
    "ib.connect('127.0.0.1', 4004, clientId=2) # kavi1234 IBG paper-trade"
   ]
  },
  {
   "cell_type": "code",
   "execution_count": null,
   "metadata": {},
   "outputs": [],
   "source": [
    "a"
   ]
  },
  {
   "cell_type": "code",
   "execution_count": null,
   "metadata": {},
   "outputs": [],
   "source": []
  }
 ],
 "metadata": {
  "kernelspec": {
   "display_name": "Python 3",
   "language": "python",
   "name": "python3"
  },
  "language_info": {
   "codemirror_mode": {
    "name": "ipython",
    "version": 3
   },
   "file_extension": ".py",
   "mimetype": "text/x-python",
   "name": "python",
   "nbconvert_exporter": "python",
   "pygments_lexer": "ipython3",
   "version": "3.6.5"
  }
 },
 "nbformat": 4,
 "nbformat_minor": 2
}
