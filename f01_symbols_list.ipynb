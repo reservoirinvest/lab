{
 "cells": [
  {
   "cell_type": "code",
   "execution_count": 6,
   "metadata": {},
   "outputs": [],
   "source": [
    "import requests\n",
    "\n",
    "url = 'https://www.nseindia.com/products/content/derivatives/equities/fo_underlying_home.htm'\n"
   ]
  },
  {
   "cell_type": "code",
   "execution_count": 11,
   "metadata": {},
   "outputs": [],
   "source": [
    "import requests\n",
    "\n",
    "header = {\n",
    "  \"User-Agent\": \"Mozilla/5.0 (X11; Linux x86_64) AppleWebKit/537.36 (KHTML, like Gecko) Chrome/50.0.2661.75 Safari/537.36\",\n",
    "  \"X-Requested-With\": \"XMLHttpRequest\"\n",
    "}\n",
    "\n",
    "r = requests.get(url, headers=header)"
   ]
  },
  {
   "cell_type": "code",
   "execution_count": 13,
   "metadata": {},
   "outputs": [
    {
     "data": {
      "text/plain": [
       "'\\n<!DOCTYPE html PUBLIC \"-//W3C//DTD XHTML 1.0 Transitional//EN\" \"http://www.w3.org/TR/xhtml1/DTD/xhtml1-transitional.dtd\">\\n<html lang=\"en\" xml:lang=\"en\" xmlns=\"http://www.w3.org/1999/xhtml\">\\n<head>\\n<meta http-equiv=\"Content-Type\" content=\"text/html; charset=utf-8\" />\\n<title>NSE - National Stock Exchange of India Ltd.</title>\\n<link href=\"/common/css/style.css\" rel=\"stylesheet\" type=\"text/css\" />\\n\\n\\n<script type=\"text/javascript\">\\nvar page=[\"eqder_luui\",\"products\"];\\n</script>\\n<script type=\"text/javascript\" src=\"/common/js/jquery-1.4.4.min.js\"></script>\\n<link rel=\"stylesheet\" href=\"/jqueryui/themes/base/jquery.ui.all.css\"/>\\n<script src=\"/jqueryui/ui/minified/jquery.ui.core.min.js\"></script>\\n<script src=\"/jqueryui/ui/minified/jquery.ui.widget.min.js\"></script>\\n<script src=\"/jqueryui/ui/minified/jquery.ui.datepicker.min.js\"></script>\\n<script language=\"javascript\" src=\"/js/wdm_turnover.js\"></script>\\n<script language=\"javascript\" src=\"/js/validateWDMGrowth.js\"></script>\\n<script language=\"javascript\" src=\"/js/ipo/jppast_issue_yr.js\"></script>\\n<script type=\"text/javascript\" src=\"/common/js/mainNav.js\"></script>\\n<script type=\"text/javascript\" src=\"/common/js/js.js\"></script>\\n<link rel=\"shortcut icon\" type=\"image/x-icon\" href=\"/common/images/favicon.ico\" />\\n<script>bazadebezolkohpepadr=\"2064827306\"</script><script type=\"text/javascript\" src=\"https://www.nseindia.com/akam/10/7b12c348\" defer></script></head>\\n<body>\\n<div id=\"container\"> \\n\\t<!--Wrapper Start-->\\n\\t<div id=\"wrapper\"> \\n\\t\\t\\n\\t\\t<!--Main Menu Start-->\\n\\t\\t<div id=\"main_menu\"></div>\\n\\t\\t<!--Main Menu End--> \\n\\t</div>\\n\\t<div class=\"clear\"></div>\\n\\t<!--Wrapper End--> \\n\\t<!-- Content Big Start -->\\n\\t<div class=\"content_big\">\\n\\t\\t<div class=\"black_overlay\" style=\"display:none\"></div>\\n\\t\\t<div id=\"wrapper_btm\"> \\n\\t\\t\\t<!-- Main Content Start -->\\n\\t\\t\\t<div class=\"main_content\">\\n\\t\\t        <div id=\"breadcrumb\"></div><!-- Changed by indigo as on 15/02/2011 -->\\n\\t\\t\\t\\t<div class=\"lhs_nav\" id=\"subMenu\"></div>\\n\\t\\t\\t\\t<div class=\"content\">\\n\\t\\t\\t\\t\\t<h2></h2>\\n\\t\\t\\t\\t\\t<div class=\"archives\">\\n\\t\\t\\t\\t\\t\\t<p><div style=\"display:none\" id=\"backLink\"><h4><a class=\"backPage\"  href=\"/products/content/derivatives/equities/fo_underlying_home.htm\">Back</a></h4></div>\\n\\t\\t\\t\\t\\t</p>\\n\\t\\t\\t\\t\\t\\t<div  id=\"replacetext\" class=\"tabular-data-historic\"  style=\"width:100%\"></div>\\n\\t\\t\\t\\t\\t\\n\\t\\t\\t\\t</div>\\n\\t\\t\\t</div>\\n\\t\\t\\t\\n\\t\\t\\t\\t<div class=\"clear\"></div>\\n\\t\\t\\t</div>\\n\\t\\t\\t<!-- Main Content End --> \\n\\t\\t\\t<!--Footer Start-->\\n\\t\\t\\t<div id=\"footer\">\\n\\t\\t\\t</div>\\n\\t\\t\\t<!--Footer End-->\\n\\t\\t\\t<div class=\"clear\"></div>\\n\\t\\t</div>\\n\\t\\t<!--Wrapper Bottom End--> \\n\\t</div>\\n\\t<!--Content Big End--> \\n</div>\\n<div class=\"footer_nav_main\">\\n\\t<div id=\"footer_nav\">\\n\\t</div>\\n</div>\\n\\n<script>\\n\\nfunction loadUnderlyingList(url1)\\n{\\n\\t$.ajax({\\n\\t\\turl: url1,\\n\\t\\tsuccess : function(data, textStatus, XMLHttpRequest) {\\n\\t\\t//\\talert(data);\\n\\t\\t\\t$(\\'#replacetext\\').html(data);\\n\\t\\t\\t$(\\'tr:even\\').addClass(\"alt\");\\n\\t\\t\\t\\t\\t\\t\\n\\t\\t}\\n\\t});\\n\\t$(\\'#backLink\\').show();\\n}\\n\\n$(document).ready(function(){\\n\\t\\t//alert(\"Hi<><><><><><><>\");\\n\\t\\tloadUnderlyingList(\\'/products/content/derivatives/equities/fo_underlyinglist.htm\\');\\n\\t\\t$(\\'#backLink\\').hide();\\n\\t\\t\\n\\t});\\n\\n\\n</script>\\n\\n\\n\\n\\n<noscript><img src=\"https://www.nseindia.com/akam/10/pixel_7b12c348?a=dD0zNGM2NGM4OTkzMDk2Yzc4NmE0ZDJjMzgwNzJiNGFjZDEzZDRkZTNkJmpzPW9mZg==\" style=\"visibility: hidden; position: absolute; left: -999px; top: -999px;\" /></noscript></body>\\n</html>\\n'"
      ]
     },
     "execution_count": 13,
     "metadata": {},
     "output_type": "execute_result"
    }
   ],
   "source": [
    "r.text"
   ]
  },
  {
   "cell_type": "code",
   "execution_count": 10,
   "metadata": {},
   "outputs": [
    {
     "ename": "ValueError",
     "evalue": "No tables found",
     "output_type": "error",
     "traceback": [
      "\u001b[1;31m---------------------------------------------------------------------------\u001b[0m",
      "\u001b[1;31mValueError\u001b[0m                                Traceback (most recent call last)",
      "\u001b[1;32m<ipython-input-10-27a2d170c796>\u001b[0m in \u001b[0;36m<module>\u001b[1;34m\u001b[0m\n\u001b[0;32m      8\u001b[0m \u001b[0mr\u001b[0m \u001b[1;33m=\u001b[0m \u001b[0mrequests\u001b[0m\u001b[1;33m.\u001b[0m\u001b[0mget\u001b[0m\u001b[1;33m(\u001b[0m\u001b[0murl\u001b[0m\u001b[1;33m,\u001b[0m \u001b[0mheaders\u001b[0m\u001b[1;33m=\u001b[0m\u001b[0mheader\u001b[0m\u001b[1;33m)\u001b[0m\u001b[1;33m\u001b[0m\u001b[0m\n\u001b[0;32m      9\u001b[0m \u001b[1;33m\u001b[0m\u001b[0m\n\u001b[1;32m---> 10\u001b[1;33m \u001b[0mdfs\u001b[0m \u001b[1;33m=\u001b[0m \u001b[0mpd\u001b[0m\u001b[1;33m.\u001b[0m\u001b[0mread_html\u001b[0m\u001b[1;33m(\u001b[0m\u001b[0mr\u001b[0m\u001b[1;33m.\u001b[0m\u001b[0mtext\u001b[0m\u001b[1;33m)\u001b[0m\u001b[1;33m\u001b[0m\u001b[0m\n\u001b[0m",
      "\u001b[1;32m~\\Miniconda3\\lib\\site-packages\\pandas\\io\\html.py\u001b[0m in \u001b[0;36mread_html\u001b[1;34m(io, match, flavor, header, index_col, skiprows, attrs, parse_dates, tupleize_cols, thousands, encoding, decimal, converters, na_values, keep_default_na, displayed_only)\u001b[0m\n\u001b[0;32m    985\u001b[0m                   \u001b[0mdecimal\u001b[0m\u001b[1;33m=\u001b[0m\u001b[0mdecimal\u001b[0m\u001b[1;33m,\u001b[0m \u001b[0mconverters\u001b[0m\u001b[1;33m=\u001b[0m\u001b[0mconverters\u001b[0m\u001b[1;33m,\u001b[0m \u001b[0mna_values\u001b[0m\u001b[1;33m=\u001b[0m\u001b[0mna_values\u001b[0m\u001b[1;33m,\u001b[0m\u001b[1;33m\u001b[0m\u001b[0m\n\u001b[0;32m    986\u001b[0m                   \u001b[0mkeep_default_na\u001b[0m\u001b[1;33m=\u001b[0m\u001b[0mkeep_default_na\u001b[0m\u001b[1;33m,\u001b[0m\u001b[1;33m\u001b[0m\u001b[0m\n\u001b[1;32m--> 987\u001b[1;33m                   displayed_only=displayed_only)\n\u001b[0m",
      "\u001b[1;32m~\\Miniconda3\\lib\\site-packages\\pandas\\io\\html.py\u001b[0m in \u001b[0;36m_parse\u001b[1;34m(flavor, io, match, attrs, encoding, displayed_only, **kwargs)\u001b[0m\n\u001b[0;32m    813\u001b[0m             \u001b[1;32mbreak\u001b[0m\u001b[1;33m\u001b[0m\u001b[0m\n\u001b[0;32m    814\u001b[0m     \u001b[1;32melse\u001b[0m\u001b[1;33m:\u001b[0m\u001b[1;33m\u001b[0m\u001b[0m\n\u001b[1;32m--> 815\u001b[1;33m         \u001b[0mraise_with_traceback\u001b[0m\u001b[1;33m(\u001b[0m\u001b[0mretained\u001b[0m\u001b[1;33m)\u001b[0m\u001b[1;33m\u001b[0m\u001b[0m\n\u001b[0m\u001b[0;32m    816\u001b[0m \u001b[1;33m\u001b[0m\u001b[0m\n\u001b[0;32m    817\u001b[0m     \u001b[0mret\u001b[0m \u001b[1;33m=\u001b[0m \u001b[1;33m[\u001b[0m\u001b[1;33m]\u001b[0m\u001b[1;33m\u001b[0m\u001b[0m\n",
      "\u001b[1;32m~\\Miniconda3\\lib\\site-packages\\pandas\\compat\\__init__.py\u001b[0m in \u001b[0;36mraise_with_traceback\u001b[1;34m(exc, traceback)\u001b[0m\n\u001b[0;32m    402\u001b[0m         \u001b[1;32mif\u001b[0m \u001b[0mtraceback\u001b[0m \u001b[1;33m==\u001b[0m \u001b[0mEllipsis\u001b[0m\u001b[1;33m:\u001b[0m\u001b[1;33m\u001b[0m\u001b[0m\n\u001b[0;32m    403\u001b[0m             \u001b[0m_\u001b[0m\u001b[1;33m,\u001b[0m \u001b[0m_\u001b[0m\u001b[1;33m,\u001b[0m \u001b[0mtraceback\u001b[0m \u001b[1;33m=\u001b[0m \u001b[0msys\u001b[0m\u001b[1;33m.\u001b[0m\u001b[0mexc_info\u001b[0m\u001b[1;33m(\u001b[0m\u001b[1;33m)\u001b[0m\u001b[1;33m\u001b[0m\u001b[0m\n\u001b[1;32m--> 404\u001b[1;33m         \u001b[1;32mraise\u001b[0m \u001b[0mexc\u001b[0m\u001b[1;33m.\u001b[0m\u001b[0mwith_traceback\u001b[0m\u001b[1;33m(\u001b[0m\u001b[0mtraceback\u001b[0m\u001b[1;33m)\u001b[0m\u001b[1;33m\u001b[0m\u001b[0m\n\u001b[0m\u001b[0;32m    405\u001b[0m \u001b[1;32melse\u001b[0m\u001b[1;33m:\u001b[0m\u001b[1;33m\u001b[0m\u001b[0m\n\u001b[0;32m    406\u001b[0m     \u001b[1;31m# this version of raise is a syntax error in Python 3\u001b[0m\u001b[1;33m\u001b[0m\u001b[1;33m\u001b[0m\u001b[0m\n",
      "\u001b[1;31mValueError\u001b[0m: No tables found"
     ]
    }
   ],
   "source": [
    "dfs = pd.read_html(r.text)"
   ]
  },
  {
   "cell_type": "code",
   "execution_count": 9,
   "metadata": {},
   "outputs": [],
   "source": [
    "from bs4 import BeautifulSoup\n",
    "soup = BeautifulSoup(r.text, 'html.parser')"
   ]
  },
  {
   "cell_type": "code",
   "execution_count": 11,
   "metadata": {},
   "outputs": [],
   "source": [
    "from urllib.request import Request, urlopen\n",
    "\n",
    "req = Request(url, headers={'User-Agent': 'Mozilla/5.0'})\n",
    "webpage = urlopen(req).read()"
   ]
  },
  {
   "cell_type": "code",
   "execution_count": 14,
   "metadata": {},
   "outputs": [
    {
     "ename": "ModuleNotFoundError",
     "evalue": "No module named 'ghost'",
     "output_type": "error",
     "traceback": [
      "\u001b[1;31m---------------------------------------------------------------------------\u001b[0m",
      "\u001b[1;31mModuleNotFoundError\u001b[0m                       Traceback (most recent call last)",
      "\u001b[1;32m<ipython-input-14-0855cf79395e>\u001b[0m in \u001b[0;36m<module>\u001b[1;34m\u001b[0m\n\u001b[1;32m----> 1\u001b[1;33m \u001b[1;32mfrom\u001b[0m \u001b[0mghost\u001b[0m \u001b[1;32mimport\u001b[0m \u001b[0mGhost\u001b[0m\u001b[1;33m\u001b[0m\u001b[0m\n\u001b[0m\u001b[0;32m      2\u001b[0m \u001b[0mghost\u001b[0m \u001b[1;33m=\u001b[0m \u001b[0mGhost\u001b[0m\u001b[1;33m(\u001b[0m\u001b[1;33m)\u001b[0m\u001b[1;33m\u001b[0m\u001b[0m\n\u001b[0;32m      3\u001b[0m \u001b[0mpage\u001b[0m\u001b[1;33m,\u001b[0m \u001b[0mresources\u001b[0m \u001b[1;33m=\u001b[0m \u001b[0mghost\u001b[0m\u001b[1;33m.\u001b[0m\u001b[0mopen\u001b[0m\u001b[1;33m(\u001b[0m\u001b[1;34m'http://academic.research.microsoft.com/Search?query=lander'\u001b[0m\u001b[1;33m)\u001b[0m\u001b[1;33m\u001b[0m\u001b[0m\n\u001b[0;32m      4\u001b[0m result, resources = ghost.evaluate(\n\u001b[0;32m      5\u001b[0m     \"document.getElementsByClassName('inline-text-org');\")\n",
      "\u001b[1;31mModuleNotFoundError\u001b[0m: No module named 'ghost'"
     ]
    }
   ],
   "source": [
    "from ghost import Ghost\n",
    "ghost = Ghost()\n",
    "page, resources = ghost.open('http://academic.research.microsoft.com/Search?query=lander')\n",
    "result, resources = ghost.evaluate(\n",
    "    \"document.getElementsByClassName('inline-text-org');\")"
   ]
  },
  {
   "cell_type": "code",
   "execution_count": 64,
   "metadata": {},
   "outputs": [
    {
     "data": {
      "text/plain": [
       "<div class=\"tabular-data-historic\" id=\"replacetext\" style=\"width:100%\"></div>"
      ]
     },
     "execution_count": 64,
     "metadata": {},
     "output_type": "execute_result"
    }
   ],
   "source": [
    "# Generate list of NSE option equity and index stocks\n",
    "\n",
    "import requests\n",
    "from bs4 import BeautifulSoup\n",
    "import json\n",
    "\n",
    "url = 'https://www.nseindia.com/products/content/derivatives/equities/fo_underlying_home.htm'\n",
    "\n",
    "headers = {'User-Agent': 'Mozilla/5.0'}\n",
    "\n",
    "response = requests.get(url, headers=headers)\n",
    "\n",
    "soup = BeautifulSoup(response.content, 'html.parser')\n",
    "soup.find(id='replacetext')"
   ]
  },
  {
   "cell_type": "code",
   "execution_count": 67,
   "metadata": {},
   "outputs": [],
   "source": [
    "urlbase = \"https://www.nseindia.com/live_market/dynaContent/live_watch/\"\n",
    "bandurl = urlbase + \"get_quote/GetQuote.jsp?symbol=\"+'ACC'"
   ]
  },
  {
   "cell_type": "code",
   "execution_count": 68,
   "metadata": {},
   "outputs": [
    {
     "data": {
      "text/plain": [
       "'https://www.nseindia.com/live_market/dynaContent/live_watch/get_quote/GetQuote.jsp?symbol=ACC'"
      ]
     },
     "execution_count": 68,
     "metadata": {},
     "output_type": "execute_result"
    }
   ],
   "source": [
    "bandurl"
   ]
  },
  {
   "cell_type": "code",
   "execution_count": 40,
   "metadata": {},
   "outputs": [],
   "source": [
    "#******         Paths and variables         ****\n",
    "#_______________________________________________\n",
    "\n",
    "datapath = r'./zdata/'\n",
    "\n",
    "\n",
    "\n",
    "page = requests.get(url, headers=headers)"
   ]
  },
  {
   "cell_type": "code",
   "execution_count": 42,
   "metadata": {},
   "outputs": [
    {
     "data": {
      "text/plain": [
       "b'\\n<!DOCTYPE html PUBLIC \"-//W3C//DTD XHTML 1.0 Transitional//EN\" \"http://www.w3.org/TR/xhtml1/DTD/xhtml1-transitional.dtd\">\\n<html lang=\"en\" xml:lang=\"en\" xmlns=\"http://www.w3.org/1999/xhtml\">\\n<head>\\n<meta http-equiv=\"Content-Type\" content=\"text/html; charset=utf-8\" />\\n<title>NSE - National Stock Exchange of India Ltd.</title>\\n<link href=\"/common/css/style.css\" rel=\"stylesheet\" type=\"text/css\" />\\n\\n\\n<script type=\"text/javascript\">\\nvar page=[\"eqder_luui\",\"products\"];\\n</script>\\n<script type=\"text/javascript\" src=\"/common/js/jquery-1.4.4.min.js\"></script>\\n<link rel=\"stylesheet\" href=\"/jqueryui/themes/base/jquery.ui.all.css\"/>\\n<script src=\"/jqueryui/ui/minified/jquery.ui.core.min.js\"></script>\\n<script src=\"/jqueryui/ui/minified/jquery.ui.widget.min.js\"></script>\\n<script src=\"/jqueryui/ui/minified/jquery.ui.datepicker.min.js\"></script>\\n<script language=\"javascript\" src=\"/js/wdm_turnover.js\"></script>\\n<script language=\"javascript\" src=\"/js/validateWDMGrowth.js\"></script>\\n<script language=\"javascript\" src=\"/js/ipo/jppast_issue_yr.js\"></script>\\n<script type=\"text/javascript\" src=\"/common/js/mainNav.js\"></script>\\n<script type=\"text/javascript\" src=\"/common/js/js.js\"></script>\\n<link rel=\"shortcut icon\" type=\"image/x-icon\" href=\"/common/images/favicon.ico\" />\\n<script>bazadebezolkohpepadr=\"2064827320\"</script><script type=\"text/javascript\" src=\"https://www.nseindia.com/akam/10/7b12c1e6\" defer></script></head>\\n<body>\\n<div id=\"container\"> \\n\\t<!--Wrapper Start-->\\n\\t<div id=\"wrapper\"> \\n\\t\\t\\n\\t\\t<!--Main Menu Start-->\\n\\t\\t<div id=\"main_menu\"></div>\\n\\t\\t<!--Main Menu End--> \\n\\t</div>\\n\\t<div class=\"clear\"></div>\\n\\t<!--Wrapper End--> \\n\\t<!-- Content Big Start -->\\n\\t<div class=\"content_big\">\\n\\t\\t<div class=\"black_overlay\" style=\"display:none\"></div>\\n\\t\\t<div id=\"wrapper_btm\"> \\n\\t\\t\\t<!-- Main Content Start -->\\n\\t\\t\\t<div class=\"main_content\">\\n\\t\\t        <div id=\"breadcrumb\"></div><!-- Changed by indigo as on 15/02/2011 -->\\n\\t\\t\\t\\t<div class=\"lhs_nav\" id=\"subMenu\"></div>\\n\\t\\t\\t\\t<div class=\"content\">\\n\\t\\t\\t\\t\\t<h2></h2>\\n\\t\\t\\t\\t\\t<div class=\"archives\">\\n\\t\\t\\t\\t\\t\\t<p><div style=\"display:none\" id=\"backLink\"><h4><a class=\"backPage\"  href=\"/products/content/derivatives/equities/fo_underlying_home.htm\">Back</a></h4></div>\\n\\t\\t\\t\\t\\t</p>\\n\\t\\t\\t\\t\\t\\t<div  id=\"replacetext\" class=\"tabular-data-historic\"  style=\"width:100%\"></div>\\n\\t\\t\\t\\t\\t\\n\\t\\t\\t\\t</div>\\n\\t\\t\\t</div>\\n\\t\\t\\t\\n\\t\\t\\t\\t<div class=\"clear\"></div>\\n\\t\\t\\t</div>\\n\\t\\t\\t<!-- Main Content End --> \\n\\t\\t\\t<!--Footer Start-->\\n\\t\\t\\t<div id=\"footer\">\\n\\t\\t\\t</div>\\n\\t\\t\\t<!--Footer End-->\\n\\t\\t\\t<div class=\"clear\"></div>\\n\\t\\t</div>\\n\\t\\t<!--Wrapper Bottom End--> \\n\\t</div>\\n\\t<!--Content Big End--> \\n</div>\\n<div class=\"footer_nav_main\">\\n\\t<div id=\"footer_nav\">\\n\\t</div>\\n</div>\\n\\n<script>\\n\\nfunction loadUnderlyingList(url1)\\n{\\n\\t$.ajax({\\n\\t\\turl: url1,\\n\\t\\tsuccess : function(data, textStatus, XMLHttpRequest) {\\n\\t\\t//\\talert(data);\\n\\t\\t\\t$(\\'#replacetext\\').html(data);\\n\\t\\t\\t$(\\'tr:even\\').addClass(\"alt\");\\n\\t\\t\\t\\t\\t\\t\\n\\t\\t}\\n\\t});\\n\\t$(\\'#backLink\\').show();\\n}\\n\\n$(document).ready(function(){\\n\\t\\t//alert(\"Hi<><><><><><><>\");\\n\\t\\tloadUnderlyingList(\\'/products/content/derivatives/equities/fo_underlyinglist.htm\\');\\n\\t\\t$(\\'#backLink\\').hide();\\n\\t\\t\\n\\t});\\n\\n\\n</script>\\n\\n\\n\\n\\n<noscript><img src=\"https://www.nseindia.com/akam/10/pixel_7b12c1e6?a=dD0wMGUyMzFiM2M1NjhlZTY0OTZiYTY3OGM5NTEwZGU1ZWExY2I4MmQwJmpzPW9mZg==\" style=\"visibility: hidden; position: absolute; left: -999px; top: -999px;\" /></noscript></body>\\n</html>\\n'"
      ]
     },
     "execution_count": 42,
     "metadata": {},
     "output_type": "execute_result"
    }
   ],
   "source": [
    "page.content"
   ]
  },
  {
   "cell_type": "code",
   "execution_count": 35,
   "metadata": {},
   "outputs": [
    {
     "data": {
      "text/plain": [
       "[]"
      ]
     },
     "execution_count": 35,
     "metadata": {},
     "output_type": "execute_result"
    }
   ],
   "source": [
    "doc = lh.fromstring(page.content)\n",
    "tblpath = '//div[@id=\"replacetext\"]/table'\n",
    "# tblpath= \"//*[@id='replacetext']\"\n",
    "\n",
    "doc.xpath(tblpath)"
   ]
  },
  {
   "cell_type": "code",
   "execution_count": null,
   "metadata": {},
   "outputs": [],
   "source": [
    "#******               Symbols list          ****\n",
    "#________________________________________________\n",
    "\n",
    "eq_symbols='ACC,ADANIENT,ADANIPORTS,ADANIPOWER,AJANTPHARM,ALBK,AMARAJABAT,AMBUJACEM,ANDHRABANK,APOLLOHOSP,\\\n",
    "APOLLOTYRE,ARVIND,ASHOKLEY,ASIANPAINT,AUROPHARMA,AXISBANK,BAJAJ-AUTO,BAJFINANCE,BAJAJFINSV,\\\n",
    "BALKRISIND,BALRAMCHIN,BANKBARODA,BANKINDIA,BATAINDIA,BEML,BERGEPAINT,BEL,BHARATFIN,BHARATFORG,\\\n",
    "BPCL,BHARTIARTL,INFRATEL,BHEL,BIOCON,BOSCHLTD,BRITANNIA,CADILAHC,CANFINHOME,CANBK,CAPF,CASTROLIND,\\\n",
    "CEATLTD,CENTURYTEX,CESC,CGPOWER,CHENNPETRO,CHOLAFIN,CIPLA,COALINDIA,COLPAL,CONCOR,CUMMINSIND,DABUR,\\\n",
    "DALMIABHA,DCBBANK,DHFL,DISHTV,DIVISLAB,DLF,DRREDDY,EICHERMOT,ENGINERSIN,EQUITAS,ESCORTS,EXIDEIND,\\\n",
    "FEDERALBNK,GAIL,GLENMARK,GMRINFRA,GODFRYPHLP,GODREJCP,GODREJIND,GRANULES,GRASIM,GSFC,HAVELLS,HCLTECH,\\\n",
    "HDFCBANK,HDFC,HEROMOTOCO,HEXAWARE,HINDALCO,HCC,HINDPETRO,HINDUNILVR,HINDZINC,ICICIBANK,ICICIPRULI,IDBI,\\\n",
    "IDEA,IDFCBANK,IDFC,IFCI,IBULHSGFIN,INDIANB,IOC,IGL,INDUSINDBK,INFIBEAM,INFY,INDIGO,IRB,ITC,JISLJALEQS,\\\n",
    "JPASSOCIAT,JETAIRWAYS,JINDALSTEL,JSWSTEEL,JUBLFOOD,JUSTDIAL,KAJARIACER,KTKBANK,KSCL,KOTAKBANK,KPIT,\\\n",
    "L%26TFH,LT,LICHSGFIN,LUPIN,M%26MFIN,MGL,M%26M,MANAPPURAM,MRPL,MARICO,MARUTI,MFSL,MINDTREE,MOTHERSUMI,\\\n",
    "MRF,MCX,MUTHOOTFIN,NATIONALUM,NBCC,NCC,NESTLEIND,NHPC,NIITTECH,NMDC,NTPC,ONGC,OIL,OFSS,ORIENTBANK,PAGEIND,\\\n",
    "PCJEWELLER,PETRONET,PIDILITIND,PEL,PFC,POWERGRID,PTC,PNB,PVR,RAYMOND,RBLBANK,RELCAPITAL,RCOM,RELIANCE,\\\n",
    "RELINFRA,RPOWER,REPCOHOME,RECLTD,SHREECEM,SRTRANSFIN,SIEMENS,SREINFRA,SRF,SBIN,SAIL,STAR,SUNPHARMA,SUNTV,\\\n",
    "SUZLON,SYNDIBANK,TATACHEM,TATACOMM,TCS,TATAELXSI,TATAGLOBAL,TATAMTRDVR,TATAMOTORS,TATAPOWER,TATASTEEL,TECHM,\\\n",
    "INDIACEM,RAMCOCEM,SOUTHBANK,TITAN,TORNTPHARM,TORNTPOWER,TV18BRDCST,TVSMOTOR,UJJIVAN,ULTRACEMCO,UNIONBANK,\\\n",
    "UBL,MCDOWELL-N,UPL,VEDL,VGUARD,VOLTAS,WIPRO,WOCKPHARMA,YESBANK,ZEEL'.split(',')\n",
    "\n",
    "idx_symbols=['NIFTY', 'BANKNIFTY']\n",
    "\n",
    "#......      Data Limiter   .......\n",
    "# symbols = eq_symbols+idx_symbols\n",
    "symbols = eq_symbols+idx_symbols\n",
    "#.................................."
   ]
  }
 ],
 "metadata": {
  "kernelspec": {
   "display_name": "Python 3",
   "language": "python",
   "name": "python3"
  },
  "language_info": {
   "codemirror_mode": {
    "name": "ipython",
    "version": 3
   },
   "file_extension": ".py",
   "mimetype": "text/x-python",
   "name": "python",
   "nbconvert_exporter": "python",
   "pygments_lexer": "ipython3",
   "version": "3.6.6"
  }
 },
 "nbformat": 4,
 "nbformat_minor": 2
}
