{
 "cells": [
  {
   "cell_type": "code",
   "execution_count": 1,
   "metadata": {},
   "outputs": [],
   "source": [
    "import pandas as pd\n",
    "import requests\n",
    "import numpy as np\n",
    "from bs4 import BeautifulSoup\n",
    "import json\n",
    "import random"
   ]
  },
  {
   "cell_type": "code",
   "execution_count": 3,
   "metadata": {},
   "outputs": [],
   "source": [
    "#***          Start ib_insync (once)       *****\n",
    "#_______________________________________________\n",
    "\n",
    "from ib_insync import *\n",
    "util.startLoop()\n",
    "ib=IB().connect('127.0.0.1', 7496, clientId=3) # kavi TWS live\n",
    "# ib=IB().connect('127.0.0.1', 4001, clientId=3) # kavi IBG live"
   ]
  },
  {
   "cell_type": "code",
   "execution_count": 4,
   "metadata": {},
   "outputs": [],
   "source": [
    "#******   Error catch in list comprehension  ****\n",
    "#________________________________________________\n",
    "\n",
    "def catch(func, handle=lambda e : e, *args, **kwargs):\n",
    "    '''List comprehension error catcher'''\n",
    "    try:\n",
    "        return func(*args, **kwargs)\n",
    "    except Exception as e:\n",
    "        return np.nan"
   ]
  },
  {
   "cell_type": "code",
   "execution_count": 5,
   "metadata": {},
   "outputs": [],
   "source": [
    "#******          Symbols Master      *******\n",
    "#___________________________________________\n",
    "\n",
    "\n",
    "# NSE symbols from https://www.nseindia.com/products/content/derivatives/equities/fo_underlying_home.htm\n",
    "\n",
    "index_symbols = 'FTSE100,INDIAVIX,NIFTYCPSE,NIFTY,NIFTYIT,BANKNIFTY,NIFTYMID50,NIFTYPSE,NIFTYINFRA'.split(',')\n",
    "\n",
    "symbols='ACC,ADANIENT,ADANIPORTS,ADANIPOWER,AJANTPHARM,ALBK,AMARAJABAT,AMBUJACEM,ANDHRABANK,APOLLOHOSP,\\\n",
    "APOLLOTYRE,ARVIND,ASHOKLEY,ASIANPAINT,AUROPHARMA,AXISBANK,BAJAJ-AUTO,BAJFINANCE,BAJAJFINSV,\\\n",
    "BALKRISIND,BALRAMCHIN,BANKBARODA,BANKINDIA,BATAINDIA,BEML,BERGEPAINT,BEL,BHARATFIN,BHARATFORG,\\\n",
    "BPCL,BHARTIARTL,INFRATEL,BHEL,BIOCON,BOSCHLTD,BRITANNIA,CADILAHC,CANFINHOME,CANBK,CAPF,CASTROLIND,\\\n",
    "CEATLTD,CENTURYTEX,CESC,CGPOWER,CHENNPETRO,CHOLAFIN,CIPLA,COALINDIA,COLPAL,CONCOR,CUMMINSIND,DABUR,\\\n",
    "DALMIABHA,DCBBANK,DHFL,DISHTV,DIVISLAB,DLF,DRREDDY,EICHERMOT,ENGINERSIN,EQUITAS,ESCORTS,EXIDEIND,\\\n",
    "FEDERALBNK,GAIL,GLENMARK,GMRINFRA,GODFRYPHLP,GODREJCP,GODREJIND,GRANULES,GRASIM,GSFC,HAVELLS,HCLTECH,\\\n",
    "HDFCBANK,HDFC,HEROMOTOCO,HEXAWARE,HINDALCO,HCC,HINDPETRO,HINDUNILVR,HINDZINC,ICICIBANK,ICICIPRULI,IDBI,\\\n",
    "IDEA,IDFCBANK,IDFC,IFCI,IBULHSGFIN,INDIANB,IOC,IGL,INDUSINDBK,INFIBEAM,INFY,INDIGO,IRB,ITC,JISLJALEQS,\\\n",
    "JPASSOCIAT,JETAIRWAYS,JINDALSTEL,JSWSTEEL,JUBLFOOD,JUSTDIAL,KAJARIACER,KTKBANK,KSCL,KOTAKBANK,KPIT,\\\n",
    "L%26TFH,LT,LICHSGFIN,LUPIN,M%26MFIN,MGL,M%26M,MANAPPURAM,MRPL,MARICO,MARUTI,MFSL,MINDTREE,MOTHERSUMI,\\\n",
    "MRF,MCX,MUTHOOTFIN,NATIONALUM,NBCC,NCC,NESTLEIND,NHPC,NIITTECH,NMDC,NTPC,ONGC,OIL,OFSS,ORIENTBANK,PAGEIND,\\\n",
    "PCJEWELLER,PETRONET,PIDILITIND,PEL,PFC,POWERGRID,PTC,PNB,PVR,RAYMOND,RBLBANK,RELCAPITAL,RCOM,RELIANCE,\\\n",
    "RELINFRA,RPOWER,REPCOHOME,RECLTD,SHREECEM,SRTRANSFIN,SIEMENS,SREINFRA,SRF,SBIN,SAIL,STAR,SUNPHARMA,SUNTV,\\\n",
    "SUZLON,SYNDIBANK,TATACHEM,TATACOMM,TCS,TATAELXSI,TATAGLOBAL,TATAMTRDVR,TATAMOTORS,TATAPOWER,TATASTEEL,TECHM,\\\n",
    "INDIACEM,RAMCOCEM,SOUTHBANK,TITAN,TORNTPHARM,TORNTPOWER,TV18BRDCST,TVSMOTOR,UJJIVAN,ULTRACEMCO,UNIONBANK,\\\n",
    "UBL,MCDOWELL-N,UPL,VEDL,VGUARD,VOLTAS,WIPRO,WOCKPHARMA,YESBANK,ZEEL'.split(',')"
   ]
  },
  {
   "cell_type": "code",
   "execution_count": 5,
   "metadata": {},
   "outputs": [],
   "source": [
    "#......    !Data Limiter   .........\n",
    "symbols = random.sample(symbols,5)\n",
    "#___________________________________"
   ]
  },
  {
   "cell_type": "code",
   "execution_count": 7,
   "metadata": {},
   "outputs": [],
   "source": [
    "# Rectified for IBKR\n",
    "isymbols = [i[0:9] for i in symbols]\n",
    "isymbols = [s.replace('%26','') for s in isymbols]\n",
    "\n",
    "# Rectified for 5paisa\n",
    "psymbols = [s.replace('%26', '&') for s in symbols]"
   ]
  },
  {
   "cell_type": "code",
   "execution_count": 13,
   "metadata": {},
   "outputs": [
    {
     "name": "stdout",
     "output_type": "stream",
     "text": [
      "Wall time: 5.5 s\n"
     ]
    }
   ],
   "source": [
    "%%time\n",
    "#***     Dictionaries and extracts ***\n",
    "#_____________________________________\n",
    "\n",
    "# URLs\n",
    "urlbase = \"https://www.nseindia.com/live_market/dynaContent/live_watch/\"\n",
    "nseurl = urlbase + \"get_quote/GetQuote.jsp?symbol=\"\n",
    "\n",
    "# Scrape\n",
    "nsestocks = [nseurl+i for i in symbols]\n",
    "nserequests = [requests.get(b).text for b in nsestocks]\n",
    "bs_nses = [BeautifulSoup(s, 'html.parser') for s in nserequests]\n",
    "nse_data = [f.find(id='responseDiv').text.strip() for f in bs_nses]\n",
    "nse_dict = [json.loads(bd) for bd in nse_data]\n",
    "\n",
    "# NSE dictionary extracts\n",
    "nse_margin = {i['data'][0]['symbol']: float(i['data'][0]['applicableMargin'])/1000 for i in nse_dict}\n",
    "nse_hi52 = {i['data'][0]['symbol']: float((i['data'][0]['high52']).replace(',','')) for i in nse_dict}\n",
    "nse_lo52 = {i['data'][0]['symbol']: float((i['data'][0]['low52']).replace(',','')) for i in nse_dict}\n",
    "nse_lastprice = {i['data'][0]['symbol']: float((i['data'][0]['lastPrice']).replace(',','')) for i in nse_dict}\n",
    "\n",
    "# MLot and TotalMargin from 5paisa\n",
    "paisaurl = \"https://www.5paisa.com/5pit/spma.asp\"\n",
    "paisa = pd.read_html(paisaurl, header=0)[1].drop_duplicates(subset='Symbol').reset_index(drop=True)\n",
    "paisa_small = paisa[['Symbol', 'Mlot', 'TotMgnPerLt']].sort_values('Symbol')\n",
    "\n",
    "paisa_dict = paisa_small.set_index('Symbol').T.to_dict()"
   ]
  },
  {
   "cell_type": "code",
   "execution_count": 14,
   "metadata": {},
   "outputs": [
    {
     "name": "stdout",
     "output_type": "stream",
     "text": [
      "Wall time: 3.96 s\n"
     ]
    }
   ],
   "source": [
    "%%time\n",
    "#***   Determine Standard Deviation    ***\n",
    "#_________________________________________\n",
    "\n",
    "market = 'NSE'\n",
    "\n",
    "# qualify contracts\n",
    "contracts = [Stock(symbol=s, exchange=market) for s in isymbols]\n",
    "qual_stocks = ib.qualifyContracts(*contracts)\n",
    "\n",
    "# make a historical dictionary\n",
    "hist_dict = dict([(c.symbol, ib.reqHistoricalData(contract=c, endDateTime='', durationStr='365 D', \n",
    "                                    barSizeSetting='1 day',  whatToShow='Trades', useRTH=True)) for c in contracts])\n",
    "\n",
    "data = [v for k, v in hist_dict.items()]\n",
    "\n",
    "sd252 = [catch(lambda: np.std([i.close for i in data[j]][-252:], ddof=1)) \n",
    "         for j, k in enumerate(data)] # 252 trading days in a year\n",
    "\n",
    "sd252_dict = dict(zip(isymbols, sd252))"
   ]
  },
  {
   "cell_type": "code",
   "execution_count": null,
   "metadata": {},
   "outputs": [],
   "source": [
    "%%time\n",
    "#***    Get the RoM  ****\n",
    "#________________________\n",
    "\n",
    "# Option chains for qualified stocks\n",
    "id_symbols = [(s.conId, s.symbol) for s in qual_stocks]\n",
    "\n",
    "chains = [(symbol, \n",
    "           ib.reqSecDefOptParams(futFopExchange='', underlyingConId=cid, underlyingSecType='STK', underlyingSymbol=symbol)) \n",
    "          for cid, symbol in id_symbols]\n",
    "\n",
    "str_exp_dict = dict([(x[0], (sorted(x[1][0].expirations), sorted(x[1][0].strikes))) for x in chains])\n",
    "\n",
    "\n",
    "# Conversion dictionary for symbols\n",
    "i2n_symbols = dict(zip(isymbols, psymbols)) #psymbols used because '%26' is converted to '&'...for nse_lastprice\n",
    "\n",
    "# Filter the strikes\n",
    "puts_list = [{k: (v[0], i)} \n",
    "             for k, v in str_exp_dict.items() \n",
    "             for i in v[1] \n",
    "             if i < (nse_lastprice[i2n_symbols[k]]- sd252_dict[k]*2)]\n",
    "\n",
    "calls_list = [{k: (v[0], i)} \n",
    "             for k, v in str_exp_dict.items() \n",
    "             for i in v[1] \n",
    "             if i > (nse_lastprice[i2n_symbols[k]] + sd252_dict[k]*2)]\n",
    "\n",
    "puts_clist = [{k: ('NSE', e, v[1], 'P')} for puts_dict in puts_list for k, v in puts_dict.items() for e in v[0]]\n",
    "calls_clist = [{k: ('NSE', e, v[1], 'C')} for calls_dict in calls_list for k, v in calls_dict.items() for e in v[0]]\n",
    "\n",
    "put_option_contracts = [Option(symbol=k, exchange=v[0], lastTradeDateOrContractMonth=v[1], strike=v[2], right=v[3]) \n",
    "for puts_dict in puts_clist for k, v in puts_dict.items()]\n",
    "\n",
    "\n",
    "# Qualify the put contracts\n",
    "qual_puts = [ib.qualifyContracts(c) for c in put_option_contracts]\n",
    "\n",
    "qual_puts = [l for i in qual_puts for l in i] # Remove the empty [] entries\n",
    "\n",
    "live_put_ticks = [t for i in range(0, len(qual_puts), 100) for t in ib.reqTickers(*qual_puts[i:i+100])]"
   ]
  },
  {
   "cell_type": "code",
   "execution_count": 30,
   "metadata": {},
   "outputs": [
    {
     "name": "stdout",
     "output_type": "stream",
     "text": [
      "0.0 -1.0 -1.0\n",
      "0.0 -1.0 -1.0\n",
      "0.0 -1.0 -1.0\n",
      "0.0 -1.0 -1.0\n",
      "0.0 -1.0 -1.0\n",
      "0.0 -1.0 -1.0\n",
      "0.0 -1.0 -1.0\n",
      "0.0 -1.0 -1.0\n",
      "0.0 -1.0 -1.0\n",
      "0.0 -1.0 -1.0\n",
      "0.0 -1.0 -1.0\n",
      "0.0 -1.0 -1.0\n",
      "0.0 -1.0 -1.0\n",
      "0.0 -1.0 -1.0\n",
      "0.0 -1.0 -1.0\n",
      "0.0 -1.0 -1.0\n",
      "0.0 -1.0 -1.0\n",
      "0.0 -1.0 -1.0\n",
      "0.0 -1.0 -1.0\n",
      "0.0 -1.0 -1.0\n",
      "0.0 -1.0 -1.0\n",
      "0.0 -1.0 -1.0\n",
      "0.0 -1.0 -1.0\n",
      "0.0 -1.0 -1.0\n",
      "0.0 -1.0 -1.0\n",
      "0.0 -1.0 -1.0\n",
      "0.0 -1.0 -1.0\n",
      "0.0 -1.0 -1.0\n",
      "0.0 -1.0 -1.0\n",
      "0.0 -1.0 -1.0\n",
      "0.0 -1.0 -1.0\n",
      "0.0 -1.0 -1.0\n",
      "0.0 -1.0 -1.0\n",
      "0.0 -1.0 -1.0\n",
      "0.0 -1.0 -1.0\n",
      "0.0 -1.0 -1.0\n",
      "0.0 -1.0 -1.0\n",
      "0.0 -1.0 -1.0\n",
      "0.0 -1.0 -1.0\n",
      "0.0 -1.0 -1.0\n",
      "0.0 -1.0 -1.0\n",
      "0.0 -1.0 -1.0\n",
      "0.35 -1.0 -1.0\n",
      "1.55 -1.0 -1.0\n",
      "0.0 -1.0 -1.0\n",
      "0.0 -1.0 -1.0\n",
      "0.0 -1.0 -1.0\n",
      "0.0 -1.0 -1.0\n",
      "0.0 -1.0 -1.0\n",
      "0.0 -1.0 -1.0\n",
      "0.0 -1.0 -1.0\n",
      "0.0 -1.0 -1.0\n",
      "0.0 -1.0 -1.0\n",
      "0.0 -1.0 -1.0\n",
      "0.0 -1.0 -1.0\n",
      "0.0 -1.0 -1.0\n",
      "0.0 -1.0 -1.0\n",
      "0.0 -1.0 -1.0\n",
      "0.0 -1.0 -1.0\n",
      "0.0 -1.0 -1.0\n",
      "0.0 -1.0 -1.0\n",
      "0.0 -1.0 -1.0\n",
      "0.0 -1.0 -1.0\n",
      "0.0 -1.0 -1.0\n",
      "0.0 -1.0 -1.0\n",
      "0.0 -1.0 -1.0\n",
      "0.0 -1.0 -1.0\n",
      "0.0 -1.0 -1.0\n",
      "0.0 -1.0 -1.0\n"
     ]
    }
   ],
   "source": [
    "for l in live_put_ticks:\n",
    "    print(l.close, l.bid, l.ask)"
   ]
  },
  {
   "cell_type": "code",
   "execution_count": 35,
   "metadata": {},
   "outputs": [
    {
     "data": {
      "text/plain": [
       "Ticker(contract=Option(conId=335420828, symbol='EQUITAS', lastTradeDateOrContractMonth='20181227', strike=102.5, right='P', multiplier='1', exchange='NSE', currency='INR', localSymbol='EQUITAS18DEC102.5PE', tradingClass='EQUITAS'), time=datetime.datetime(2018, 9, 30, 13, 22, 12, 565803, tzinfo=datetime.timezone.utc), bid=-1.0, bidSize=0, ask=-1.0, askSize=0, close=0.0, ticks=[], tickByTicks=[], domBids=[], domAsks=[], domTicks=[])"
      ]
     },
     "execution_count": 35,
     "metadata": {},
     "output_type": "execute_result"
    }
   ],
   "source": [
    "ib.reqMktData(qual_puts[47], \"\", False, False)"
   ]
  },
  {
   "cell_type": "markdown",
   "metadata": {},
   "source": [
    "# Things to do...\n",
    "* get option prices\n",
    "* make qual_calls\n",
    "* merge with margin to find RoM\n",
    "* sort on RoM\n",
    "* place orders\n",
    "* pickle!"
   ]
  },
  {
   "cell_type": "code",
   "execution_count": null,
   "metadata": {},
   "outputs": [],
   "source": [
    "ib.disconnect()"
   ]
  },
  {
   "cell_type": "code",
   "execution_count": null,
   "metadata": {},
   "outputs": [],
   "source": []
  }
 ],
 "metadata": {
  "kernelspec": {
   "display_name": "Python 3",
   "language": "python",
   "name": "python3"
  },
  "language_info": {
   "codemirror_mode": {
    "name": "ipython",
    "version": 3
   },
   "file_extension": ".py",
   "mimetype": "text/x-python",
   "name": "python",
   "nbconvert_exporter": "python",
   "pygments_lexer": "ipython3",
   "version": "3.6.6"
  }
 },
 "nbformat": 4,
 "nbformat_minor": 2
}
