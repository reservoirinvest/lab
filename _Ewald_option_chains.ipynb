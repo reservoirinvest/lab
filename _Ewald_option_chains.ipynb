{
 "cells": [
  {
   "cell_type": "markdown",
   "metadata": {},
   "source": [
    "# Introduction\n",
    "The following code for NSE has been picked up from [Ewald's examples](https://github.com/erdewit/ib_insync/blob/master/notebooks/option_chain.ipynb) given below"
   ]
  },
  {
   "cell_type": "code",
   "execution_count": 1,
   "metadata": {},
   "outputs": [
    {
     "data": {
      "text/plain": [
       "<IB connected to 127.0.0.1:4004 clientId=12>"
      ]
     },
     "execution_count": 1,
     "metadata": {},
     "output_type": "execute_result"
    }
   ],
   "source": [
    "import numpy as np\n",
    "import pandas as pd\n",
    "from datetime import datetime\n",
    "\n",
    "from ib_insync import *\n",
    "util.startLoop()\n",
    "\n",
    "ib=IB()\n",
    "ib.connect('127.0.0.1', 4004, clientId=12)"
   ]
  },
  {
   "cell_type": "code",
   "execution_count": 2,
   "metadata": {},
   "outputs": [
    {
     "data": {
      "text/plain": [
       "[Stock(conId=44652000, symbol='RELIANCE', exchange='NSE', primaryExchange='NSE', currency='INR', localSymbol='RELIANCE', tradingClass='RELIANCE')]"
      ]
     },
     "execution_count": 2,
     "metadata": {},
     "output_type": "execute_result"
    }
   ],
   "source": [
    "# instantiate stock contract class\n",
    "scrip = Stock(symbol='RELIANCE', exchange='NSE' )\n",
    "ib.qualifyContracts(scrip)"
   ]
  },
  {
   "cell_type": "code",
   "execution_count": 3,
   "metadata": {},
   "outputs": [
    {
     "data": {
      "text/html": [
       "<div>\n",
       "<style scoped>\n",
       "    .dataframe tbody tr th:only-of-type {\n",
       "        vertical-align: middle;\n",
       "    }\n",
       "\n",
       "    .dataframe tbody tr th {\n",
       "        vertical-align: top;\n",
       "    }\n",
       "\n",
       "    .dataframe thead th {\n",
       "        text-align: right;\n",
       "    }\n",
       "</style>\n",
       "<table border=\"1\" class=\"dataframe\">\n",
       "  <thead>\n",
       "    <tr style=\"text-align: right;\">\n",
       "      <th></th>\n",
       "      <th>exchange</th>\n",
       "      <th>underlyingConId</th>\n",
       "      <th>tradingClass</th>\n",
       "      <th>multiplier</th>\n",
       "      <th>expirations</th>\n",
       "      <th>strikes</th>\n",
       "    </tr>\n",
       "  </thead>\n",
       "  <tbody>\n",
       "    <tr>\n",
       "      <th>0</th>\n",
       "      <td>NSE</td>\n",
       "      <td>44652000</td>\n",
       "      <td>RELIANCE</td>\n",
       "      <td>1</td>\n",
       "      <td>{20180726, 20180830, 20180927}</td>\n",
       "      <td>{640.0, 1280.0, 900.0, 1400.0, 520.0, 1160.0, ...</td>\n",
       "    </tr>\n",
       "  </tbody>\n",
       "</table>\n",
       "</div>"
      ],
      "text/plain": [
       "  exchange  underlyingConId tradingClass multiplier  \\\n",
       "0      NSE         44652000     RELIANCE          1   \n",
       "\n",
       "                      expirations  \\\n",
       "0  {20180726, 20180830, 20180927}   \n",
       "\n",
       "                                             strikes  \n",
       "0  {640.0, 1280.0, 900.0, 1400.0, 520.0, 1160.0, ...  "
      ]
     },
     "execution_count": 3,
     "metadata": {},
     "output_type": "execute_result"
    }
   ],
   "source": [
    "# get the underlying's option chain with security definition parameter\n",
    "chains = ib.reqSecDefOptParams(underlyingSymbol=scrip.symbol, futFopExchange = '', \n",
    "                               underlyingSecType=scrip.secType, underlyingConId=scrip.conId)\n",
    "\n",
    "# put that in a dataframe\n",
    "chains_df = util.df(chains)\n",
    "chains_df.head()"
   ]
  },
  {
   "cell_type": "code",
   "execution_count": 17,
   "metadata": {},
   "outputs": [
    {
     "data": {
      "text/html": [
       "<div>\n",
       "<style scoped>\n",
       "    .dataframe tbody tr th:only-of-type {\n",
       "        vertical-align: middle;\n",
       "    }\n",
       "\n",
       "    .dataframe tbody tr th {\n",
       "        vertical-align: top;\n",
       "    }\n",
       "\n",
       "    .dataframe thead th {\n",
       "        text-align: right;\n",
       "    }\n",
       "</style>\n",
       "<table border=\"1\" class=\"dataframe\">\n",
       "  <thead>\n",
       "    <tr style=\"text-align: right;\">\n",
       "      <th></th>\n",
       "      <th>Strike</th>\n",
       "      <th>Expiry</th>\n",
       "      <th>DTE</th>\n",
       "      <th>Stdev</th>\n",
       "      <th>exchange</th>\n",
       "      <th>underlyingConId</th>\n",
       "      <th>tradingClass</th>\n",
       "      <th>multiplier</th>\n",
       "    </tr>\n",
       "  </thead>\n",
       "  <tbody>\n",
       "    <tr>\n",
       "      <th>0</th>\n",
       "      <td>640.0</td>\n",
       "      <td>20180726</td>\n",
       "      <td>19</td>\n",
       "      <td>23.741766</td>\n",
       "      <td>NSE</td>\n",
       "      <td>44652000</td>\n",
       "      <td>RELIANCE</td>\n",
       "      <td>1</td>\n",
       "    </tr>\n",
       "    <tr>\n",
       "      <th>1</th>\n",
       "      <td>640.0</td>\n",
       "      <td>20180830</td>\n",
       "      <td>54</td>\n",
       "      <td>30.505559</td>\n",
       "      <td>NSE</td>\n",
       "      <td>44652000</td>\n",
       "      <td>RELIANCE</td>\n",
       "      <td>1</td>\n",
       "    </tr>\n",
       "    <tr>\n",
       "      <th>2</th>\n",
       "      <td>640.0</td>\n",
       "      <td>20180927</td>\n",
       "      <td>82</td>\n",
       "      <td>36.769225</td>\n",
       "      <td>NSE</td>\n",
       "      <td>44652000</td>\n",
       "      <td>RELIANCE</td>\n",
       "      <td>1</td>\n",
       "    </tr>\n",
       "    <tr>\n",
       "      <th>3</th>\n",
       "      <td>1280.0</td>\n",
       "      <td>20180726</td>\n",
       "      <td>19</td>\n",
       "      <td>23.741766</td>\n",
       "      <td>NSE</td>\n",
       "      <td>44652000</td>\n",
       "      <td>RELIANCE</td>\n",
       "      <td>1</td>\n",
       "    </tr>\n",
       "    <tr>\n",
       "      <th>4</th>\n",
       "      <td>1280.0</td>\n",
       "      <td>20180830</td>\n",
       "      <td>54</td>\n",
       "      <td>30.505559</td>\n",
       "      <td>NSE</td>\n",
       "      <td>44652000</td>\n",
       "      <td>RELIANCE</td>\n",
       "      <td>1</td>\n",
       "    </tr>\n",
       "  </tbody>\n",
       "</table>\n",
       "</div>"
      ],
      "text/plain": [
       "   Strike    Expiry  DTE      Stdev exchange  underlyingConId tradingClass  \\\n",
       "0   640.0  20180726   19  23.741766      NSE         44652000     RELIANCE   \n",
       "1   640.0  20180830   54  30.505559      NSE         44652000     RELIANCE   \n",
       "2   640.0  20180927   82  36.769225      NSE         44652000     RELIANCE   \n",
       "3  1280.0  20180726   19  23.741766      NSE         44652000     RELIANCE   \n",
       "4  1280.0  20180830   54  30.505559      NSE         44652000     RELIANCE   \n",
       "\n",
       "  multiplier  \n",
       "0          1  \n",
       "1          1  \n",
       "2          1  \n",
       "3          1  \n",
       "4          1  "
      ]
     },
     "execution_count": 17,
     "metadata": {},
     "output_type": "execute_result"
    }
   ],
   "source": [
    "# make arrays for strikes and expiries\n",
    "strikes = np.array(list(*chains_df.strikes))\n",
    "expiries = np.array(list(*chains_df.expirations))\n",
    "\n",
    "# function to get days to expiry\n",
    "def get_dte(Expiry):\n",
    "    '''Gives the expiry date\n",
    "    Arg:\n",
    "       (Expiry) = str of yyyymmdd format\n",
    "    Returns:\n",
    "       dte = int days to expiry'''\n",
    "    exp_date = datetime.strptime(Expiry, '%Y%m%d')\n",
    "    dte = (exp_date- datetime.now()).days\n",
    "    return dte\n",
    "\n",
    "dte = list(map(get_dte, expiries))\n",
    "\n",
    "def get_stdev(contract, dte):\n",
    "    '''Gets the Standard Deviation\n",
    "    Args:\n",
    "       (contract) = object: the qualified stock\n",
    "       (dte)      = int: days to expiry\n",
    "    Returns:\n",
    "       standard deviation in days (int)\n",
    "    '''\n",
    "    sd_days = str(dte)+' D'\n",
    "    bars = ib.reqHistoricalData(contract=scrip, endDateTime='', durationStr=sd_days, \n",
    "                                barSizeSetting='1 day',  whatToShow='Trades', useRTH=True)\n",
    "    sd = np.std([b.close for b in bars], ddof=1)\n",
    "    return sd\n",
    "\n",
    "stdev = list(map(lambda x, y: get_stdev(x, y), np.repeat(scrip, len(dte)), dte))\n",
    "\n",
    "# equalize lengths of array for strikes+expiries+dte\n",
    "a_strikes = np.repeat(strikes, len(expiries))\n",
    "a_expiries = np.tile(expiries, len(strikes))   # tile to repeat expiries in blocks\n",
    "a_dte = np.tile(dte, len(strikes))\n",
    "a_stdev = np.tile(stdev, len(strikes))\n",
    "\n",
    "# create a dataframe of Strike and Expiry\n",
    "strikes_df = pd.DataFrame({'Strike': a_strikes, 'Expiry': a_expiries, 'DTE': a_dte, 'Stdev': a_stdev})\n",
    "\n",
    "# insert a key and merge strikes and chains\n",
    "strikes_df['key'] = 0\n",
    "chains_df['key'] = 0\n",
    "\n",
    "raw_chain = pd.merge(strikes_df, chains_df, on='key')\n",
    "raw_chain = raw_chain.drop(['expirations', 'strikes', 'key'], axis=1)\n",
    "\n",
    "raw_chain.head()"
   ]
  },
  {
   "cell_type": "code",
   "execution_count": 5,
   "metadata": {},
   "outputs": [
    {
     "data": {
      "text/plain": [
       "23.176121445642234"
      ]
     },
     "execution_count": 5,
     "metadata": {},
     "output_type": "execute_result"
    }
   ],
   "source": []
  },
  {
   "cell_type": "code",
   "execution_count": 16,
   "metadata": {},
   "outputs": [
    {
     "data": {
      "text/plain": [
       "[23.697995078914033, 30.518694895427554, 36.78629627007997]"
      ]
     },
     "execution_count": 16,
     "metadata": {},
     "output_type": "execute_result"
    }
   ],
   "source": []
  },
  {
   "cell_type": "code",
   "execution_count": 14,
   "metadata": {},
   "outputs": [
    {
     "data": {
      "text/plain": [
       "array([Stock(conId=44652000, symbol='RELIANCE', exchange='NSE', primaryExchange='NSE', currency='INR', localSymbol='RELIANCE', tradingClass='RELIANCE'),\n",
       "       Stock(conId=44652000, symbol='RELIANCE', exchange='NSE', primaryExchange='NSE', currency='INR', localSymbol='RELIANCE', tradingClass='RELIANCE'),\n",
       "       Stock(conId=44652000, symbol='RELIANCE', exchange='NSE', primaryExchange='NSE', currency='INR', localSymbol='RELIANCE', tradingClass='RELIANCE')],\n",
       "      dtype=object)"
      ]
     },
     "execution_count": 14,
     "metadata": {},
     "output_type": "execute_result"
    }
   ],
   "source": [
    "np.repeat(scrip, len(dte))"
   ]
  },
  {
   "cell_type": "markdown",
   "metadata": {},
   "source": [
    "# Original code of Ewald"
   ]
  },
  {
   "cell_type": "code",
   "execution_count": 2,
   "metadata": {},
   "outputs": [
    {
     "data": {
      "text/plain": [
       "[Index(conId=416904, symbol='SPX', exchange='CBOE', currency='USD', localSymbol='SPX')]"
      ]
     },
     "execution_count": 2,
     "metadata": {},
     "output_type": "execute_result"
    }
   ],
   "source": [
    "spx = Index('SPX', 'CBOE')\n",
    "ib.qualifyContracts(spx)"
   ]
  },
  {
   "cell_type": "code",
   "execution_count": 3,
   "metadata": {},
   "outputs": [
    {
     "data": {
      "text/plain": [
       "Ticker(contract=Index(conId=416904, symbol='SPX', exchange='CBOE', currency='USD', localSymbol='SPX'), time=datetime.datetime(2018, 7, 4, 14, 52, 15, 23498, tzinfo=datetime.timezone.utc), bid=-1.0, bidSize=0, ask=-1.0, askSize=0, close=2726.71, ticks=[], tickByTicks=[], domBids=[], domAsks=[], domTicks=[])"
      ]
     },
     "execution_count": 3,
     "metadata": {},
     "output_type": "execute_result"
    }
   ],
   "source": [
    "# Get the ticker\n",
    "[ticker] = ib.reqTickers(spx)\n",
    "ticker"
   ]
  },
  {
   "cell_type": "code",
   "execution_count": 4,
   "metadata": {},
   "outputs": [],
   "source": [
    "spxValue = ticker.marketPrice()"
   ]
  },
  {
   "cell_type": "code",
   "execution_count": 5,
   "metadata": {},
   "outputs": [
    {
     "data": {
      "text/plain": [
       "2726.71"
      ]
     },
     "execution_count": 5,
     "metadata": {},
     "output_type": "execute_result"
    }
   ],
   "source": [
    "spxValue"
   ]
  },
  {
   "cell_type": "code",
   "execution_count": 6,
   "metadata": {},
   "outputs": [
    {
     "data": {
      "text/html": [
       "<div>\n",
       "<style scoped>\n",
       "    .dataframe tbody tr th:only-of-type {\n",
       "        vertical-align: middle;\n",
       "    }\n",
       "\n",
       "    .dataframe tbody tr th {\n",
       "        vertical-align: top;\n",
       "    }\n",
       "\n",
       "    .dataframe thead th {\n",
       "        text-align: right;\n",
       "    }\n",
       "</style>\n",
       "<table border=\"1\" class=\"dataframe\">\n",
       "  <thead>\n",
       "    <tr style=\"text-align: right;\">\n",
       "      <th></th>\n",
       "      <th>exchange</th>\n",
       "      <th>underlyingConId</th>\n",
       "      <th>tradingClass</th>\n",
       "      <th>multiplier</th>\n",
       "      <th>expirations</th>\n",
       "      <th>strikes</th>\n",
       "    </tr>\n",
       "  </thead>\n",
       "  <tbody>\n",
       "    <tr>\n",
       "      <th>0</th>\n",
       "      <td>SMART</td>\n",
       "      <td>416904</td>\n",
       "      <td>SPX</td>\n",
       "      <td>100</td>\n",
       "      <td>{20180920, 20190314, 20190117, 20191219, 20200...</td>\n",
       "      <td>{2560.0, 1025.0, 2050.0, 3075.0, 4100.0, 2565....</td>\n",
       "    </tr>\n",
       "    <tr>\n",
       "      <th>1</th>\n",
       "      <td>CBOE</td>\n",
       "      <td>416904</td>\n",
       "      <td>SPXW</td>\n",
       "      <td>100</td>\n",
       "      <td>{20180711, 20190621, 20180709, 20180727, 20180...</td>\n",
       "      <td>{2560.0, 1025.0, 2050.0, 3075.0, 4100.0, 2565....</td>\n",
       "    </tr>\n",
       "    <tr>\n",
       "      <th>2</th>\n",
       "      <td>SMART</td>\n",
       "      <td>416904</td>\n",
       "      <td>SPXW</td>\n",
       "      <td>100</td>\n",
       "      <td>{20180711, 20190621, 20180709, 20180727, 20180...</td>\n",
       "      <td>{2560.0, 1025.0, 2050.0, 3075.0, 4100.0, 2565....</td>\n",
       "    </tr>\n",
       "    <tr>\n",
       "      <th>3</th>\n",
       "      <td>CBOE</td>\n",
       "      <td>416904</td>\n",
       "      <td>SPX</td>\n",
       "      <td>100</td>\n",
       "      <td>{20180920, 20190314, 20190117, 20191219, 20200...</td>\n",
       "      <td>{2560.0, 1025.0, 2050.0, 3075.0, 4100.0, 2565....</td>\n",
       "    </tr>\n",
       "  </tbody>\n",
       "</table>\n",
       "</div>"
      ],
      "text/plain": [
       "  exchange  underlyingConId tradingClass multiplier  \\\n",
       "0    SMART           416904          SPX        100   \n",
       "1     CBOE           416904         SPXW        100   \n",
       "2    SMART           416904         SPXW        100   \n",
       "3     CBOE           416904          SPX        100   \n",
       "\n",
       "                                         expirations  \\\n",
       "0  {20180920, 20190314, 20190117, 20191219, 20200...   \n",
       "1  {20180711, 20190621, 20180709, 20180727, 20180...   \n",
       "2  {20180711, 20190621, 20180709, 20180727, 20180...   \n",
       "3  {20180920, 20190314, 20190117, 20191219, 20200...   \n",
       "\n",
       "                                             strikes  \n",
       "0  {2560.0, 1025.0, 2050.0, 3075.0, 4100.0, 2565....  \n",
       "1  {2560.0, 1025.0, 2050.0, 3075.0, 4100.0, 2565....  \n",
       "2  {2560.0, 1025.0, 2050.0, 3075.0, 4100.0, 2565....  \n",
       "3  {2560.0, 1025.0, 2050.0, 3075.0, 4100.0, 2565....  "
      ]
     },
     "execution_count": 6,
     "metadata": {},
     "output_type": "execute_result"
    }
   ],
   "source": [
    "chains = ib.reqSecDefOptParams(spx.symbol, '', spx.secType, spx.conId)\n",
    "util.df(chains)"
   ]
  },
  {
   "cell_type": "code",
   "execution_count": 2,
   "metadata": {},
   "outputs": [
    {
     "data": {
      "text/plain": [
       "[Stock(conId=270639, symbol='INTC', exchange='SMART', primaryExchange='NASDAQ', currency='USD', localSymbol='INTC', tradingClass='NMS')]"
      ]
     },
     "execution_count": 2,
     "metadata": {},
     "output_type": "execute_result"
    }
   ],
   "source": [
    "scrip = Stock('INTC', 'SMART', 'USD')\n",
    "ib.qualifyContracts(scrip)"
   ]
  },
  {
   "cell_type": "code",
   "execution_count": 3,
   "metadata": {},
   "outputs": [
    {
     "data": {
      "text/html": [
       "<div>\n",
       "<style scoped>\n",
       "    .dataframe tbody tr th:only-of-type {\n",
       "        vertical-align: middle;\n",
       "    }\n",
       "\n",
       "    .dataframe tbody tr th {\n",
       "        vertical-align: top;\n",
       "    }\n",
       "\n",
       "    .dataframe thead th {\n",
       "        text-align: right;\n",
       "    }\n",
       "</style>\n",
       "<table border=\"1\" class=\"dataframe\">\n",
       "  <thead>\n",
       "    <tr style=\"text-align: right;\">\n",
       "      <th></th>\n",
       "      <th>exchange</th>\n",
       "      <th>underlyingConId</th>\n",
       "      <th>tradingClass</th>\n",
       "      <th>multiplier</th>\n",
       "      <th>expirations</th>\n",
       "      <th>strikes</th>\n",
       "    </tr>\n",
       "  </thead>\n",
       "  <tbody>\n",
       "    <tr>\n",
       "      <th>0</th>\n",
       "      <td>SMART</td>\n",
       "      <td>270639</td>\n",
       "      <td>INTC</td>\n",
       "      <td>100</td>\n",
       "      <td>{20180824, 20180817, 20200117, 20180720, 20190...</td>\n",
       "      <td>{61.5, 51.5, 56.5, 52.5, 58.5, 53.5, 57.5, 54....</td>\n",
       "    </tr>\n",
       "    <tr>\n",
       "      <th>1</th>\n",
       "      <td>EDGX</td>\n",
       "      <td>270639</td>\n",
       "      <td>INTC</td>\n",
       "      <td>100</td>\n",
       "      <td>{20180824, 20180817, 20200117, 20180720, 20190...</td>\n",
       "      <td>{61.5, 51.5, 56.5, 52.5, 58.5, 53.5, 57.5, 54....</td>\n",
       "    </tr>\n",
       "    <tr>\n",
       "      <th>2</th>\n",
       "      <td>CBOE2</td>\n",
       "      <td>270639</td>\n",
       "      <td>INTC</td>\n",
       "      <td>100</td>\n",
       "      <td>{20180824, 20180817, 20200117, 20180720, 20190...</td>\n",
       "      <td>{61.5, 51.5, 56.5, 52.5, 58.5, 53.5, 57.5, 54....</td>\n",
       "    </tr>\n",
       "    <tr>\n",
       "      <th>3</th>\n",
       "      <td>ISE</td>\n",
       "      <td>270639</td>\n",
       "      <td>INTC</td>\n",
       "      <td>100</td>\n",
       "      <td>{20180824, 20180817, 20200117, 20180720, 20190...</td>\n",
       "      <td>{61.5, 51.5, 56.5, 52.5, 58.5, 53.5, 57.5, 54....</td>\n",
       "    </tr>\n",
       "    <tr>\n",
       "      <th>4</th>\n",
       "      <td>NASDAQBX</td>\n",
       "      <td>270639</td>\n",
       "      <td>INTC</td>\n",
       "      <td>100</td>\n",
       "      <td>{20180824, 20180817, 20200117, 20180720, 20190...</td>\n",
       "      <td>{61.5, 51.5, 56.5, 52.5, 58.5, 53.5, 57.5, 54....</td>\n",
       "    </tr>\n",
       "    <tr>\n",
       "      <th>5</th>\n",
       "      <td>MIAX</td>\n",
       "      <td>270639</td>\n",
       "      <td>INTC</td>\n",
       "      <td>100</td>\n",
       "      <td>{20180824, 20180817, 20200117, 20180720, 20190...</td>\n",
       "      <td>{61.5, 51.5, 56.5, 52.5, 58.5, 53.5, 57.5, 54....</td>\n",
       "    </tr>\n",
       "    <tr>\n",
       "      <th>6</th>\n",
       "      <td>CBOE</td>\n",
       "      <td>270639</td>\n",
       "      <td>INTC</td>\n",
       "      <td>100</td>\n",
       "      <td>{20180824, 20180817, 20200117, 20180720, 20190...</td>\n",
       "      <td>{61.5, 51.5, 56.5, 52.5, 58.5, 53.5, 57.5, 54....</td>\n",
       "    </tr>\n",
       "    <tr>\n",
       "      <th>7</th>\n",
       "      <td>MERCURY</td>\n",
       "      <td>270639</td>\n",
       "      <td>INTC</td>\n",
       "      <td>100</td>\n",
       "      <td>{20180824, 20180817, 20200117, 20180720, 20190...</td>\n",
       "      <td>{61.5, 51.5, 56.5, 52.5, 58.5, 53.5, 57.5, 54....</td>\n",
       "    </tr>\n",
       "    <tr>\n",
       "      <th>8</th>\n",
       "      <td>NASDAQOM</td>\n",
       "      <td>270639</td>\n",
       "      <td>INTC</td>\n",
       "      <td>100</td>\n",
       "      <td>{20180824, 20180817, 20200117, 20180720, 20190...</td>\n",
       "      <td>{61.5, 51.5, 56.5, 52.5, 58.5, 53.5, 57.5, 54....</td>\n",
       "    </tr>\n",
       "    <tr>\n",
       "      <th>9</th>\n",
       "      <td>BATS</td>\n",
       "      <td>270639</td>\n",
       "      <td>INTC</td>\n",
       "      <td>100</td>\n",
       "      <td>{20180824, 20180817, 20200117, 20180720, 20190...</td>\n",
       "      <td>{61.5, 51.5, 56.5, 52.5, 58.5, 53.5, 57.5, 54....</td>\n",
       "    </tr>\n",
       "    <tr>\n",
       "      <th>10</th>\n",
       "      <td>PEARL</td>\n",
       "      <td>270639</td>\n",
       "      <td>INTC</td>\n",
       "      <td>100</td>\n",
       "      <td>{20180824, 20180817, 20200117, 20180720, 20190...</td>\n",
       "      <td>{61.5, 51.5, 56.5, 52.5, 58.5, 53.5, 57.5, 54....</td>\n",
       "    </tr>\n",
       "    <tr>\n",
       "      <th>11</th>\n",
       "      <td>PHLX</td>\n",
       "      <td>270639</td>\n",
       "      <td>INTC</td>\n",
       "      <td>100</td>\n",
       "      <td>{20180824, 20180817, 20200117, 20180720, 20190...</td>\n",
       "      <td>{61.5, 51.5, 56.5, 52.5, 58.5, 53.5, 57.5, 54....</td>\n",
       "    </tr>\n",
       "    <tr>\n",
       "      <th>12</th>\n",
       "      <td>AMEX</td>\n",
       "      <td>270639</td>\n",
       "      <td>INTC</td>\n",
       "      <td>100</td>\n",
       "      <td>{20180824, 20180817, 20200117, 20180720, 20190...</td>\n",
       "      <td>{61.5, 51.5, 56.5, 52.5, 58.5, 53.5, 57.5, 54....</td>\n",
       "    </tr>\n",
       "    <tr>\n",
       "      <th>13</th>\n",
       "      <td>GEMINI</td>\n",
       "      <td>270639</td>\n",
       "      <td>INTC</td>\n",
       "      <td>100</td>\n",
       "      <td>{20180824, 20180817, 20200117, 20180720, 20190...</td>\n",
       "      <td>{61.5, 51.5, 56.5, 52.5, 58.5, 53.5, 57.5, 54....</td>\n",
       "    </tr>\n",
       "    <tr>\n",
       "      <th>14</th>\n",
       "      <td>BOX</td>\n",
       "      <td>270639</td>\n",
       "      <td>INTC</td>\n",
       "      <td>100</td>\n",
       "      <td>{20180824, 20180817, 20200117, 20180720, 20190...</td>\n",
       "      <td>{61.5, 51.5, 56.5, 52.5, 58.5, 53.5, 57.5, 54....</td>\n",
       "    </tr>\n",
       "    <tr>\n",
       "      <th>15</th>\n",
       "      <td>PSE</td>\n",
       "      <td>270639</td>\n",
       "      <td>INTC</td>\n",
       "      <td>100</td>\n",
       "      <td>{20180824, 20180817, 20200117, 20180720, 20190...</td>\n",
       "      <td>{61.5, 51.5, 56.5, 52.5, 58.5, 53.5, 57.5, 54....</td>\n",
       "    </tr>\n",
       "  </tbody>\n",
       "</table>\n",
       "</div>"
      ],
      "text/plain": [
       "    exchange  underlyingConId tradingClass multiplier  \\\n",
       "0      SMART           270639         INTC        100   \n",
       "1       EDGX           270639         INTC        100   \n",
       "2      CBOE2           270639         INTC        100   \n",
       "3        ISE           270639         INTC        100   \n",
       "4   NASDAQBX           270639         INTC        100   \n",
       "5       MIAX           270639         INTC        100   \n",
       "6       CBOE           270639         INTC        100   \n",
       "7    MERCURY           270639         INTC        100   \n",
       "8   NASDAQOM           270639         INTC        100   \n",
       "9       BATS           270639         INTC        100   \n",
       "10     PEARL           270639         INTC        100   \n",
       "11      PHLX           270639         INTC        100   \n",
       "12      AMEX           270639         INTC        100   \n",
       "13    GEMINI           270639         INTC        100   \n",
       "14       BOX           270639         INTC        100   \n",
       "15       PSE           270639         INTC        100   \n",
       "\n",
       "                                          expirations  \\\n",
       "0   {20180824, 20180817, 20200117, 20180720, 20190...   \n",
       "1   {20180824, 20180817, 20200117, 20180720, 20190...   \n",
       "2   {20180824, 20180817, 20200117, 20180720, 20190...   \n",
       "3   {20180824, 20180817, 20200117, 20180720, 20190...   \n",
       "4   {20180824, 20180817, 20200117, 20180720, 20190...   \n",
       "5   {20180824, 20180817, 20200117, 20180720, 20190...   \n",
       "6   {20180824, 20180817, 20200117, 20180720, 20190...   \n",
       "7   {20180824, 20180817, 20200117, 20180720, 20190...   \n",
       "8   {20180824, 20180817, 20200117, 20180720, 20190...   \n",
       "9   {20180824, 20180817, 20200117, 20180720, 20190...   \n",
       "10  {20180824, 20180817, 20200117, 20180720, 20190...   \n",
       "11  {20180824, 20180817, 20200117, 20180720, 20190...   \n",
       "12  {20180824, 20180817, 20200117, 20180720, 20190...   \n",
       "13  {20180824, 20180817, 20200117, 20180720, 20190...   \n",
       "14  {20180824, 20180817, 20200117, 20180720, 20190...   \n",
       "15  {20180824, 20180817, 20200117, 20180720, 20190...   \n",
       "\n",
       "                                              strikes  \n",
       "0   {61.5, 51.5, 56.5, 52.5, 58.5, 53.5, 57.5, 54....  \n",
       "1   {61.5, 51.5, 56.5, 52.5, 58.5, 53.5, 57.5, 54....  \n",
       "2   {61.5, 51.5, 56.5, 52.5, 58.5, 53.5, 57.5, 54....  \n",
       "3   {61.5, 51.5, 56.5, 52.5, 58.5, 53.5, 57.5, 54....  \n",
       "4   {61.5, 51.5, 56.5, 52.5, 58.5, 53.5, 57.5, 54....  \n",
       "5   {61.5, 51.5, 56.5, 52.5, 58.5, 53.5, 57.5, 54....  \n",
       "6   {61.5, 51.5, 56.5, 52.5, 58.5, 53.5, 57.5, 54....  \n",
       "7   {61.5, 51.5, 56.5, 52.5, 58.5, 53.5, 57.5, 54....  \n",
       "8   {61.5, 51.5, 56.5, 52.5, 58.5, 53.5, 57.5, 54....  \n",
       "9   {61.5, 51.5, 56.5, 52.5, 58.5, 53.5, 57.5, 54....  \n",
       "10  {61.5, 51.5, 56.5, 52.5, 58.5, 53.5, 57.5, 54....  \n",
       "11  {61.5, 51.5, 56.5, 52.5, 58.5, 53.5, 57.5, 54....  \n",
       "12  {61.5, 51.5, 56.5, 52.5, 58.5, 53.5, 57.5, 54....  \n",
       "13  {61.5, 51.5, 56.5, 52.5, 58.5, 53.5, 57.5, 54....  \n",
       "14  {61.5, 51.5, 56.5, 52.5, 58.5, 53.5, 57.5, 54....  \n",
       "15  {61.5, 51.5, 56.5, 52.5, 58.5, 53.5, 57.5, 54....  "
      ]
     },
     "execution_count": 3,
     "metadata": {},
     "output_type": "execute_result"
    }
   ],
   "source": [
    "scrip_chain = ib.reqSecDefOptParams(scrip.symbol, '', scrip.secType, scrip.conId)\n",
    "util.df(scrip_chain)"
   ]
  },
  {
   "cell_type": "code",
   "execution_count": 20,
   "metadata": {},
   "outputs": [
    {
     "data": {
      "text/plain": [
       "[OptionChain(exchange='SMART', underlyingConId=270639, tradingClass='INTC', multiplier='100', expirations={'20180824', '20180921', '20180720', '20190118', '20181019', '20190621', '20180727', '20180803', '20180713', '20180817', '20200117', '20180810', '20180706'}, strikes={61.5, 51.5, 56.5, 52.5, 58.5, 53.5, 57.5, 54.5, 18.0, 20.0, 55.5, 23.0, 24.0, 25.0, 26.0, 27.0, 28.0, 29.0, 30.0, 31.0, 32.0, 33.0, 34.0, 35.0, 36.0, 37.0, 37.5, 38.0, 39.0, 40.0, 40.5, 41.0, 41.5, 42.0, 42.5, 43.0, 43.5, 44.0, 44.5, 45.0, 45.5, 46.0, 46.5, 47.0, 47.5, 48.0, 49.0, 50.0, 51.0, 52.0, 53.0, 54.0, 55.0, 56.0, 57.0, 58.0, 59.0, 60.0, 61.0, 62.0, 63.0, 65.0, 70.0, 75.0, 59.5, 80.0, 85.0, 60.5, 48.5, 49.5, 50.5, 62.5}),\n",
       " OptionChain(exchange='EDGX', underlyingConId=270639, tradingClass='INTC', multiplier='100', expirations={'20180824', '20180921', '20180720', '20190118', '20181019', '20190621', '20180727', '20180803', '20180713', '20180817', '20200117', '20180810', '20180706'}, strikes={61.5, 51.5, 56.5, 52.5, 58.5, 53.5, 57.5, 54.5, 18.0, 20.0, 55.5, 23.0, 24.0, 25.0, 26.0, 27.0, 28.0, 29.0, 30.0, 31.0, 32.0, 33.0, 34.0, 35.0, 36.0, 37.0, 37.5, 38.0, 39.0, 40.0, 40.5, 41.0, 41.5, 42.0, 42.5, 43.0, 43.5, 44.0, 44.5, 45.0, 45.5, 46.0, 46.5, 47.0, 47.5, 48.0, 49.0, 50.0, 51.0, 52.0, 53.0, 54.0, 55.0, 56.0, 57.0, 58.0, 59.0, 60.0, 61.0, 62.0, 63.0, 65.0, 70.0, 75.0, 59.5, 80.0, 85.0, 60.5, 48.5, 49.5, 50.5, 62.5}),\n",
       " OptionChain(exchange='CBOE2', underlyingConId=270639, tradingClass='INTC', multiplier='100', expirations={'20180824', '20180921', '20180720', '20190118', '20181019', '20190621', '20180727', '20180803', '20180713', '20180817', '20200117', '20180810', '20180706'}, strikes={61.5, 51.5, 56.5, 52.5, 58.5, 53.5, 57.5, 54.5, 18.0, 20.0, 55.5, 23.0, 24.0, 25.0, 26.0, 27.0, 28.0, 29.0, 30.0, 31.0, 32.0, 33.0, 34.0, 35.0, 36.0, 37.0, 37.5, 38.0, 39.0, 40.0, 40.5, 41.0, 41.5, 42.0, 42.5, 43.0, 43.5, 44.0, 44.5, 45.0, 45.5, 46.0, 46.5, 47.0, 47.5, 48.0, 49.0, 50.0, 51.0, 52.0, 53.0, 54.0, 55.0, 56.0, 57.0, 58.0, 59.0, 60.0, 61.0, 62.0, 63.0, 65.0, 70.0, 75.0, 59.5, 80.0, 85.0, 60.5, 48.5, 49.5, 50.5, 62.5}),\n",
       " OptionChain(exchange='ISE', underlyingConId=270639, tradingClass='INTC', multiplier='100', expirations={'20180824', '20180921', '20180720', '20190118', '20181019', '20190621', '20180727', '20180803', '20180713', '20180817', '20200117', '20180810', '20180706'}, strikes={61.5, 51.5, 56.5, 52.5, 58.5, 53.5, 57.5, 54.5, 18.0, 20.0, 55.5, 23.0, 24.0, 25.0, 26.0, 27.0, 28.0, 29.0, 30.0, 31.0, 32.0, 33.0, 34.0, 35.0, 36.0, 37.0, 37.5, 38.0, 39.0, 40.0, 40.5, 41.0, 41.5, 42.0, 42.5, 43.0, 43.5, 44.0, 44.5, 45.0, 45.5, 46.0, 46.5, 47.0, 47.5, 48.0, 49.0, 50.0, 51.0, 52.0, 53.0, 54.0, 55.0, 56.0, 57.0, 58.0, 59.0, 60.0, 61.0, 62.0, 63.0, 65.0, 70.0, 75.0, 59.5, 80.0, 85.0, 60.5, 48.5, 49.5, 50.5, 62.5}),\n",
       " OptionChain(exchange='NASDAQBX', underlyingConId=270639, tradingClass='INTC', multiplier='100', expirations={'20180824', '20180921', '20180720', '20190118', '20181019', '20190621', '20180727', '20180803', '20180713', '20180817', '20200117', '20180810', '20180706'}, strikes={61.5, 51.5, 56.5, 52.5, 58.5, 53.5, 57.5, 54.5, 18.0, 20.0, 55.5, 23.0, 24.0, 25.0, 26.0, 27.0, 28.0, 29.0, 30.0, 31.0, 32.0, 33.0, 34.0, 35.0, 36.0, 37.0, 37.5, 38.0, 39.0, 40.0, 40.5, 41.0, 41.5, 42.0, 42.5, 43.0, 43.5, 44.0, 44.5, 45.0, 45.5, 46.0, 46.5, 47.0, 47.5, 48.0, 49.0, 50.0, 51.0, 52.0, 53.0, 54.0, 55.0, 56.0, 57.0, 58.0, 59.0, 60.0, 61.0, 62.0, 63.0, 65.0, 70.0, 75.0, 59.5, 80.0, 85.0, 60.5, 48.5, 49.5, 50.5, 62.5}),\n",
       " OptionChain(exchange='MIAX', underlyingConId=270639, tradingClass='INTC', multiplier='100', expirations={'20180824', '20180921', '20180720', '20190118', '20181019', '20190621', '20180727', '20180803', '20180713', '20180817', '20200117', '20180810', '20180706'}, strikes={61.5, 51.5, 56.5, 52.5, 58.5, 53.5, 57.5, 54.5, 18.0, 20.0, 55.5, 23.0, 24.0, 25.0, 26.0, 27.0, 28.0, 29.0, 30.0, 31.0, 32.0, 33.0, 34.0, 35.0, 36.0, 37.0, 37.5, 38.0, 39.0, 40.0, 40.5, 41.0, 41.5, 42.0, 42.5, 43.0, 43.5, 44.0, 44.5, 45.0, 45.5, 46.0, 46.5, 47.0, 47.5, 48.0, 49.0, 50.0, 51.0, 52.0, 53.0, 54.0, 55.0, 56.0, 57.0, 58.0, 59.0, 60.0, 61.0, 62.0, 63.0, 65.0, 70.0, 75.0, 59.5, 80.0, 85.0, 60.5, 48.5, 49.5, 50.5, 62.5}),\n",
       " OptionChain(exchange='CBOE', underlyingConId=270639, tradingClass='INTC', multiplier='100', expirations={'20180824', '20180921', '20180720', '20190118', '20181019', '20190621', '20180727', '20180803', '20180713', '20180817', '20200117', '20180810', '20180706'}, strikes={61.5, 51.5, 56.5, 52.5, 58.5, 53.5, 57.5, 54.5, 18.0, 20.0, 55.5, 23.0, 24.0, 25.0, 26.0, 27.0, 28.0, 29.0, 30.0, 31.0, 32.0, 33.0, 34.0, 35.0, 36.0, 37.0, 37.5, 38.0, 39.0, 40.0, 40.5, 41.0, 41.5, 42.0, 42.5, 43.0, 43.5, 44.0, 44.5, 45.0, 45.5, 46.0, 46.5, 47.0, 47.5, 48.0, 49.0, 50.0, 51.0, 52.0, 53.0, 54.0, 55.0, 56.0, 57.0, 58.0, 59.0, 60.0, 61.0, 62.0, 63.0, 65.0, 70.0, 75.0, 59.5, 80.0, 85.0, 60.5, 48.5, 49.5, 50.5, 62.5}),\n",
       " OptionChain(exchange='MERCURY', underlyingConId=270639, tradingClass='INTC', multiplier='100', expirations={'20180824', '20180921', '20180720', '20190118', '20181019', '20190621', '20180727', '20180803', '20180713', '20180817', '20200117', '20180810', '20180706'}, strikes={61.5, 51.5, 56.5, 52.5, 58.5, 53.5, 57.5, 54.5, 18.0, 20.0, 55.5, 23.0, 24.0, 25.0, 26.0, 27.0, 28.0, 29.0, 30.0, 31.0, 32.0, 33.0, 34.0, 35.0, 36.0, 37.0, 37.5, 38.0, 39.0, 40.0, 40.5, 41.0, 41.5, 42.0, 42.5, 43.0, 43.5, 44.0, 44.5, 45.0, 45.5, 46.0, 46.5, 47.0, 47.5, 48.0, 49.0, 50.0, 51.0, 52.0, 53.0, 54.0, 55.0, 56.0, 57.0, 58.0, 59.0, 60.0, 61.0, 62.0, 63.0, 65.0, 70.0, 75.0, 59.5, 80.0, 85.0, 60.5, 48.5, 49.5, 50.5, 62.5}),\n",
       " OptionChain(exchange='NASDAQOM', underlyingConId=270639, tradingClass='INTC', multiplier='100', expirations={'20180824', '20180921', '20180720', '20190118', '20181019', '20190621', '20180727', '20180803', '20180713', '20180817', '20200117', '20180810', '20180706'}, strikes={61.5, 51.5, 56.5, 52.5, 58.5, 53.5, 57.5, 54.5, 18.0, 20.0, 55.5, 23.0, 24.0, 25.0, 26.0, 27.0, 28.0, 29.0, 30.0, 31.0, 32.0, 33.0, 34.0, 35.0, 36.0, 37.0, 37.5, 38.0, 39.0, 40.0, 40.5, 41.0, 41.5, 42.0, 42.5, 43.0, 43.5, 44.0, 44.5, 45.0, 45.5, 46.0, 46.5, 47.0, 47.5, 48.0, 49.0, 50.0, 51.0, 52.0, 53.0, 54.0, 55.0, 56.0, 57.0, 58.0, 59.0, 60.0, 61.0, 62.0, 63.0, 65.0, 70.0, 75.0, 59.5, 80.0, 85.0, 60.5, 48.5, 49.5, 50.5, 62.5}),\n",
       " OptionChain(exchange='BATS', underlyingConId=270639, tradingClass='INTC', multiplier='100', expirations={'20180824', '20180921', '20180720', '20190118', '20181019', '20190621', '20180727', '20180803', '20180713', '20180817', '20200117', '20180810', '20180706'}, strikes={61.5, 51.5, 56.5, 52.5, 58.5, 53.5, 57.5, 54.5, 18.0, 20.0, 55.5, 23.0, 24.0, 25.0, 26.0, 27.0, 28.0, 29.0, 30.0, 31.0, 32.0, 33.0, 34.0, 35.0, 36.0, 37.0, 37.5, 38.0, 39.0, 40.0, 40.5, 41.0, 41.5, 42.0, 42.5, 43.0, 43.5, 44.0, 44.5, 45.0, 45.5, 46.0, 46.5, 47.0, 47.5, 48.0, 49.0, 50.0, 51.0, 52.0, 53.0, 54.0, 55.0, 56.0, 57.0, 58.0, 59.0, 60.0, 61.0, 62.0, 63.0, 65.0, 70.0, 75.0, 59.5, 80.0, 85.0, 60.5, 48.5, 49.5, 50.5, 62.5}),\n",
       " OptionChain(exchange='PEARL', underlyingConId=270639, tradingClass='INTC', multiplier='100', expirations={'20180824', '20180921', '20180720', '20190118', '20181019', '20190621', '20180727', '20180803', '20180713', '20180817', '20200117', '20180810', '20180706'}, strikes={61.5, 51.5, 56.5, 52.5, 58.5, 53.5, 57.5, 54.5, 18.0, 20.0, 55.5, 23.0, 24.0, 25.0, 26.0, 27.0, 28.0, 29.0, 30.0, 31.0, 32.0, 33.0, 34.0, 35.0, 36.0, 37.0, 37.5, 38.0, 39.0, 40.0, 40.5, 41.0, 41.5, 42.0, 42.5, 43.0, 43.5, 44.0, 44.5, 45.0, 45.5, 46.0, 46.5, 47.0, 47.5, 48.0, 49.0, 50.0, 51.0, 52.0, 53.0, 54.0, 55.0, 56.0, 57.0, 58.0, 59.0, 60.0, 61.0, 62.0, 63.0, 65.0, 70.0, 75.0, 59.5, 80.0, 85.0, 60.5, 48.5, 49.5, 50.5, 62.5}),\n",
       " OptionChain(exchange='PHLX', underlyingConId=270639, tradingClass='INTC', multiplier='100', expirations={'20180824', '20180921', '20180720', '20190118', '20181019', '20190621', '20180727', '20180803', '20180713', '20180817', '20200117', '20180810', '20180706'}, strikes={61.5, 51.5, 56.5, 52.5, 58.5, 53.5, 57.5, 54.5, 18.0, 20.0, 55.5, 23.0, 24.0, 25.0, 26.0, 27.0, 28.0, 29.0, 30.0, 31.0, 32.0, 33.0, 34.0, 35.0, 36.0, 37.0, 37.5, 38.0, 39.0, 40.0, 40.5, 41.0, 41.5, 42.0, 42.5, 43.0, 43.5, 44.0, 44.5, 45.0, 45.5, 46.0, 46.5, 47.0, 47.5, 48.0, 49.0, 50.0, 51.0, 52.0, 53.0, 54.0, 55.0, 56.0, 57.0, 58.0, 59.0, 60.0, 61.0, 62.0, 63.0, 65.0, 70.0, 75.0, 59.5, 80.0, 85.0, 60.5, 48.5, 49.5, 50.5, 62.5}),\n",
       " OptionChain(exchange='AMEX', underlyingConId=270639, tradingClass='INTC', multiplier='100', expirations={'20180824', '20180921', '20180720', '20190118', '20181019', '20190621', '20180727', '20180803', '20180713', '20180817', '20200117', '20180810', '20180706'}, strikes={61.5, 51.5, 56.5, 52.5, 58.5, 53.5, 57.5, 54.5, 18.0, 20.0, 55.5, 23.0, 24.0, 25.0, 26.0, 27.0, 28.0, 29.0, 30.0, 31.0, 32.0, 33.0, 34.0, 35.0, 36.0, 37.0, 37.5, 38.0, 39.0, 40.0, 40.5, 41.0, 41.5, 42.0, 42.5, 43.0, 43.5, 44.0, 44.5, 45.0, 45.5, 46.0, 46.5, 47.0, 47.5, 48.0, 49.0, 50.0, 51.0, 52.0, 53.0, 54.0, 55.0, 56.0, 57.0, 58.0, 59.0, 60.0, 61.0, 62.0, 63.0, 65.0, 70.0, 75.0, 59.5, 80.0, 85.0, 60.5, 48.5, 49.5, 50.5, 62.5}),\n",
       " OptionChain(exchange='GEMINI', underlyingConId=270639, tradingClass='INTC', multiplier='100', expirations={'20180824', '20180921', '20180720', '20190118', '20181019', '20190621', '20180727', '20180803', '20180713', '20180817', '20200117', '20180810', '20180706'}, strikes={61.5, 51.5, 56.5, 52.5, 58.5, 53.5, 57.5, 54.5, 18.0, 20.0, 55.5, 23.0, 24.0, 25.0, 26.0, 27.0, 28.0, 29.0, 30.0, 31.0, 32.0, 33.0, 34.0, 35.0, 36.0, 37.0, 37.5, 38.0, 39.0, 40.0, 40.5, 41.0, 41.5, 42.0, 42.5, 43.0, 43.5, 44.0, 44.5, 45.0, 45.5, 46.0, 46.5, 47.0, 47.5, 48.0, 49.0, 50.0, 51.0, 52.0, 53.0, 54.0, 55.0, 56.0, 57.0, 58.0, 59.0, 60.0, 61.0, 62.0, 63.0, 65.0, 70.0, 75.0, 59.5, 80.0, 85.0, 60.5, 48.5, 49.5, 50.5, 62.5}),\n",
       " OptionChain(exchange='BOX', underlyingConId=270639, tradingClass='INTC', multiplier='100', expirations={'20180824', '20180921', '20180720', '20190118', '20181019', '20190621', '20180727', '20180803', '20180713', '20180817', '20200117', '20180810', '20180706'}, strikes={61.5, 51.5, 56.5, 52.5, 58.5, 53.5, 57.5, 54.5, 18.0, 20.0, 55.5, 23.0, 24.0, 25.0, 26.0, 27.0, 28.0, 29.0, 30.0, 31.0, 32.0, 33.0, 34.0, 35.0, 36.0, 37.0, 37.5, 38.0, 39.0, 40.0, 40.5, 41.0, 41.5, 42.0, 42.5, 43.0, 43.5, 44.0, 44.5, 45.0, 45.5, 46.0, 46.5, 47.0, 47.5, 48.0, 49.0, 50.0, 51.0, 52.0, 53.0, 54.0, 55.0, 56.0, 57.0, 58.0, 59.0, 60.0, 61.0, 62.0, 63.0, 65.0, 70.0, 75.0, 59.5, 80.0, 85.0, 60.5, 48.5, 49.5, 50.5, 62.5}),\n",
       " OptionChain(exchange='PSE', underlyingConId=270639, tradingClass='INTC', multiplier='100', expirations={'20180824', '20180921', '20180720', '20190118', '20181019', '20190621', '20180727', '20180803', '20180713', '20180817', '20200117', '20180810', '20180706'}, strikes={61.5, 51.5, 56.5, 52.5, 58.5, 53.5, 57.5, 54.5, 18.0, 20.0, 55.5, 23.0, 24.0, 25.0, 26.0, 27.0, 28.0, 29.0, 30.0, 31.0, 32.0, 33.0, 34.0, 35.0, 36.0, 37.0, 37.5, 38.0, 39.0, 40.0, 40.5, 41.0, 41.5, 42.0, 42.5, 43.0, 43.5, 44.0, 44.5, 45.0, 45.5, 46.0, 46.5, 47.0, 47.5, 48.0, 49.0, 50.0, 51.0, 52.0, 53.0, 54.0, 55.0, 56.0, 57.0, 58.0, 59.0, 60.0, 61.0, 62.0, 63.0, 65.0, 70.0, 75.0, 59.5, 80.0, 85.0, 60.5, 48.5, 49.5, 50.5, 62.5})]"
      ]
     },
     "execution_count": 20,
     "metadata": {},
     "output_type": "execute_result"
    }
   ],
   "source": [
    "scrip_chain"
   ]
  },
  {
   "cell_type": "code",
   "execution_count": 157,
   "metadata": {},
   "outputs": [
    {
     "name": "stdout",
     "output_type": "stream",
     "text": [
      "Help on member descriptor ib_insync.contract.Contract.right:\n",
      "\n",
      "right\n",
      "\n"
     ]
    }
   ],
   "source": [
    "help(Contract.right)"
   ]
  },
  {
   "cell_type": "code",
   "execution_count": null,
   "metadata": {},
   "outputs": [],
   "source": []
  }
 ],
 "metadata": {
  "kernelspec": {
   "display_name": "Python 3",
   "language": "python",
   "name": "python3"
  },
  "language_info": {
   "codemirror_mode": {
    "name": "ipython",
    "version": 3
   },
   "file_extension": ".py",
   "mimetype": "text/x-python",
   "name": "python",
   "nbconvert_exporter": "python",
   "pygments_lexer": "ipython3",
   "version": "3.6.4"
  }
 },
 "nbformat": 4,
 "nbformat_minor": 2
}
