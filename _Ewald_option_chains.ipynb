{
 "cells": [
  {
   "cell_type": "markdown",
   "metadata": {},
   "source": [
    "# Introduction\n",
    "The following code for NSE has been picked up from [Ewald's examples](https://github.com/erdewit/ib_insync/blob/master/notebooks/option_chain.ipynb) given below"
   ]
  },
  {
   "cell_type": "code",
   "execution_count": null,
   "metadata": {},
   "outputs": [],
   "source": [
    "import numpy as np\n",
    "import pandas as pd\n",
    "import scipy.stats as st\n",
    "from datetime import datetime\n",
    "from itertools import product\n",
    "\n",
    "from ib_insync import *\n",
    "util.startLoop()\n",
    "\n",
    "ib=IB()\n",
    "ib.connect('127.0.0.1', 4004, clientId=12)"
   ]
  },
  {
   "cell_type": "code",
   "execution_count": null,
   "metadata": {},
   "outputs": [],
   "source": [
    "# Standard Deviation calculation\n",
    "call_probability = 0.97\n",
    "put_probability = 0.92\n",
    "\n",
    "call_sd = st.norm.ppf(1-(1-call_probability)/2)\n",
    "put_sd = st.norm.ppf(1-(1-put_probability)/2)\n",
    "\n",
    "# Get the list of Equity and Index Option scrips\n",
    "paisaurl = \"https://www.5paisa.com/5pit/spma.asp\"\n",
    "paisa = pd.read_html(paisaurl, header=0)[1]          # It's the second table in the url\n",
    "\n",
    "# Create iSymbol for the options\n",
    "paisa[\"iSymbol\"] = paisa.Symbol.str.slice(0,9)\n",
    "\n",
    "# Replace & for M&M, L&T, etc. This is not needed for IBKR\n",
    "mask = paisa.loc[paisa.Symbol.str.contains(\"&\"), \"iSymbol\"]\n",
    "paisa.loc[paisa.Symbol.isin(mask), \"iSymbol\"] = mask.str.replace(\"&\", \"\")\n",
    "\n",
    "# Add columns\n",
    "paisa[\"Exchange\"] = 'NSE'   # for the Exchange\n",
    "\n",
    "# Exclusions and Inclusions\n",
    "vix_nifty = ['VIX', 'NIFTY']     # mask for Index\n",
    "symbol_rename = {'NIFTYCPSE': 'CPSE', 'NIFTY': 'NIFTY50', 'NIFTYMID5': \n",
    "                 'NIFTYMID50', 'NIFTYINFR': 'NIFTYINFRA'}   # renamed for IBKR\n",
    "symbol_del = ['INDIAVIX']\n",
    "\n",
    "# Clean up paisa\n",
    "paisa_clean = paisa[['Symbol', 'Mlot', 'iSymbol', 'Exchange']]\n",
    "paisa_clean = paisa_clean.loc[~paisa.Symbol.str.contains('|'.join(symbol_del)), :] # INDIAVIX not in IBKR\n",
    "paisa_clean = paisa_clean.replace({\"iSymbol\": symbol_rename}) # Rename scrips to align with IBKR\n",
    "\n",
    "# Stock dataframe\n",
    "nse_stk = paisa_clean.loc[~index_mask, :].reset_index(drop=True) # Not the index mask!\n",
    "\n",
    "# Qualify the Stock and add the contracts\n",
    "qualStock = ib.qualifyContracts(*[Stock(x, y) for x, y in zip(nse_stk.iSymbol, nse_stk.Exchange)])\n",
    "nse_stk[\"Contract\"] = qualStock\n",
    "\n",
    "########    Line below ignored because of inconsistency in index data #######\n",
    "# # Index dataframe (Keep only VIX and NIFTY)\n",
    "# index_mask = paisa_clean.Symbol.str.contains('|'.join(vix_nifty))\n",
    "# nse_ind = paisa_clean.loc[index_mask, :].reset_index(drop=True)\n",
    "\n",
    "# # Qualify the Index and add the contracts\n",
    "# qualIndex = ib.qualifyContracts(*[Index(x, y) for x, y in zip(nse_ind.iSymbol, nse_ind.Exchange)])\n",
    "# nse_ind[\"Contract\"] = qualIndex #### Though successfully qualified tradingClass is different than iSymbol for index!!!\n",
    "\n",
    "# # df_contracts = pd.concat([nse_stk, nse_ind]).reset_index(drop=True)\n",
    "#############################################################################\n",
    "\n",
    "df_contracts = nse_stk.reset_index(drop=True)\n",
    "\n",
    "df_contracts = df_contracts[df_contracts.iSymbol.isin([\"ADANIENT\", \"INFY\"])] # !Data limiter\n",
    "\n",
    "# Get the underlying's price\n",
    "list_of_prices = [ib.reqTickers(i) for i in df_contracts.Contract]\n",
    "\n",
    "# Make a dataframe of prices\n",
    "u_price = pd.Series([i.close for elem in list_of_prices for i in elem])\n",
    "df_contracts[\"U_Price\"] = u_price.values\n",
    "\n",
    "def get_chains(scrips):\n",
    "    '''Gets the option chains for the scrips passed\n",
    "       Args:\n",
    "          (scrips): list: qualified list of equity or index options with conId\n",
    "       Returns:\n",
    "          list of option chain'''\n",
    "    \n",
    "    # Prepare a sequence for ib.reqSecDefOptParams\n",
    "    seq = [(i.symbol, '', i.secType, i.conId) for i in scrips]\n",
    "\n",
    "    # build the chains\n",
    "    chains = [ib.reqSecDefOptParams(*p) for p in seq]\n",
    "    # list(map(lambda p: ib.reqSecDefOptParams(*p), seq))  # Another way of doing!\n",
    "    \n",
    "    return chains\n",
    "\n",
    "chains = get_chains(df_contracts.Contract)\n",
    "\n",
    "# Build the dataframe for DTE and Std Deviation \n",
    "chains_for_sd = [(i.tradingClass, i.expirations) for elem in chains for i in elem]\n",
    "\n",
    "# Cartesian for DTE (Ref: Stackoverflow: 51579138)\n",
    "L = [[[x[0]], sorted(x[1])] for x in chains_for_sd]\n",
    "df_dte = pd.DataFrame([j for i in L for j in product(*i)], columns=['iSymbol','Expiry'])\n",
    "\n",
    "# function to get days to expiry\n",
    "def get_dte(Expiry):\n",
    "    '''Gives the expiry date\n",
    "    Arg:\n",
    "       (Expiry) = str of yyyymmdd format\n",
    "    Returns:\n",
    "       dte = int days to expiry'''\n",
    "    exp_date = datetime.strptime(Expiry, '%Y%m%d')\n",
    "    dte = (exp_date- datetime.now()).days\n",
    "    return dte\n",
    "\n",
    "# Get the DTE\n",
    "df_dte[\"DTE\"] = [get_dte(x) for x in df_dte.Expiry]\n",
    "\n",
    "# Merge to prepare for standard deviation\n",
    "df_sd = pd.merge(df_dte, df_contracts, on=\"iSymbol\")\n",
    "\n",
    "# function to get standard deviation\n",
    "def get_stdev(contract, dte):\n",
    "    '''Gets the Standard Deviation\n",
    "    Args:\n",
    "       (contract) = object: the qualified stock\n",
    "       (dte)      = int: days to expiry\n",
    "    Returns:\n",
    "       standard deviation in days (int)\n",
    "    '''\n",
    "    sd_days = str(dte)+' D'\n",
    "    bars = ib.reqHistoricalData(contract=contract, endDateTime='', durationStr=sd_days, \n",
    "                                barSizeSetting='1 day',  whatToShow='Trades', useRTH=True)\n",
    "    sd = np.std([b.close for b in bars], ddof=1)\n",
    "    return sd\n",
    "\n",
    "df_sd['StDev'] = [get_stdev(x, y) for x, y in zip(df_sd.Contract, df_sd.DTE)] \n",
    "# list(map(lambda x, y: get_stdev(x, y), [i for i in df_sd.Contract], [j for j in df_sd.DTE])) # alternative\n",
    "\n",
    "# Build dataframe for Strikes\n",
    "chains_for_strikes = [(i.tradingClass, i.expirations, i.strikes) for elem in chains for i in elem]\n",
    "\n",
    "# Cartesian for Strikes (Ref: Stackoverflow: 51579138)\n",
    "M = [[[x[0]], sorted(x[1]), sorted(x[2])] for x in chains_for_strikes]\n",
    "df_strikes = pd.DataFrame([j for i in M for j in product(*i)], columns=['iSymbol','Expiry', 'Strike'])\n",
    "\n",
    "# Merge to get strikes and expiry\n",
    "df_p = pd.merge(df_sd, df_strikes, on=[\"iSymbol\", \"Expiry\"])\n",
    "\n",
    "# Determine Put / Call rights\n",
    "df_p[\"Right\"] = ''\n",
    "df_p.loc[df_p.Strike > (call_sd * df_p.StDev + df_p.U_Price), \"Right\"] = 'C'\n",
    "df_p.loc[df_p.Strike <  df_p.U_Price - (put_sd * df_p.StDev), \"Right\"] = 'P'\n",
    "\n",
    "# Get the focus list of Puts and Calls outside std deviation band\n",
    "df_q = df_p.loc[df_p.Right != '', :].reset_index(drop=True)"
   ]
  },
  {
   "cell_type": "code",
   "execution_count": null,
   "metadata": {},
   "outputs": [],
   "source": [
    "df = df_q.head()\n",
    "df[[\"iSymbol\", \"Expiry\", \"Strike\", \"Right\", \"Mlot\", \"Exchange\"]]"
   ]
  },
  {
   "cell_type": "code",
   "execution_count": null,
   "metadata": {},
   "outputs": [],
   "source": [
    "Option()"
   ]
  },
  {
   "cell_type": "code",
   "execution_count": null,
   "metadata": {},
   "outputs": [],
   "source": [
    "contract = Option([i for i in df.iSymbol], [i for i in df.Expiry], [i for i in df.Strike], [i for i in df.Right])"
   ]
  },
  {
   "cell_type": "code",
   "execution_count": null,
   "metadata": {},
   "outputs": [],
   "source": [
    "ib.reqContractDetails(*contract)"
   ]
  },
  {
   "cell_type": "code",
   "execution_count": null,
   "metadata": {},
   "outputs": [],
   "source": [
    "help(Option)"
   ]
  },
  {
   "cell_type": "code",
   "execution_count": null,
   "metadata": {},
   "outputs": [],
   "source": [
    "c = Option(symbol='ADANIENT', exchange='NSE', \n",
    "                  lastTradeDateOrContractMonth='20181025', strike='155', right='P')"
   ]
  },
  {
   "cell_type": "code",
   "execution_count": null,
   "metadata": {},
   "outputs": [],
   "source": [
    "order = Order(action='SELL', orderType='MKT', totalQuantity=4000)"
   ]
  },
  {
   "cell_type": "code",
   "execution_count": null,
   "metadata": {},
   "outputs": [],
   "source": [
    "ib.whatIfOrder(c, order)"
   ]
  },
  {
   "cell_type": "code",
   "execution_count": null,
   "metadata": {},
   "outputs": [],
   "source": [
    "x = [ib.reqTickers(c)]"
   ]
  },
  {
   "cell_type": "code",
   "execution_count": null,
   "metadata": {},
   "outputs": [],
   "source": []
  },
  {
   "cell_type": "code",
   "execution_count": null,
   "metadata": {},
   "outputs": [],
   "source": [
    "put_sd"
   ]
  },
  {
   "cell_type": "code",
   "execution_count": null,
   "metadata": {},
   "outputs": [],
   "source": [
    "strikes = [strike for strike in df_q.Strike]\n",
    "rights = [right for right in df_q.Right]\n",
    "expirations = [expiration for expiration in df_q.Expiry]\n",
    "symbols = [symbol for symbol in df_q.iSymbol]\n",
    "\n",
    "contracts = [Option(symbol, expiration, strike, right, 'NSE')\n",
    "            for symbol in symbols\n",
    "            for expiration in expirations\n",
    "            for strike in strikes\n",
    "            for right in rights]\n"
   ]
  },
  {
   "cell_type": "code",
   "execution_count": null,
   "metadata": {},
   "outputs": [],
   "source": [
    "contract = Option(symbol=scrip.symbol, exchange=scrip.exchange, \n",
    "                  lastTradeDateOrContractMonth='20180726', strike='640', right='P')\n",
    "order = Order(action='SELL', orderType='MKT', totalQuantity=100.0)"
   ]
  },
  {
   "cell_type": "code",
   "execution_count": null,
   "metadata": {},
   "outputs": [],
   "source": [
    "try:\n",
    "    ib.whatIfOrder(contract, order)\n",
    "except Exception as inst:\n",
    "    print(inst.args)"
   ]
  },
  {
   "cell_type": "code",
   "execution_count": null,
   "metadata": {},
   "outputs": [],
   "source": [
    "ib.whatIfOrder(contract, order)"
   ]
  },
  {
   "cell_type": "markdown",
   "metadata": {},
   "source": [
    "# Original code of Ewald"
   ]
  },
  {
   "cell_type": "code",
   "execution_count": null,
   "metadata": {},
   "outputs": [],
   "source": [
    "spx = Index('SPX', 'CBOE')\n",
    "ib.qualifyContracts(spx)"
   ]
  },
  {
   "cell_type": "code",
   "execution_count": null,
   "metadata": {},
   "outputs": [],
   "source": [
    "# Get the ticker\n",
    "[ticker] = ib.reqTickers(spx)\n",
    "ticker"
   ]
  },
  {
   "cell_type": "code",
   "execution_count": null,
   "metadata": {},
   "outputs": [],
   "source": [
    "spxValue = ticker.marketPrice()"
   ]
  },
  {
   "cell_type": "code",
   "execution_count": null,
   "metadata": {},
   "outputs": [],
   "source": [
    "spxValue"
   ]
  },
  {
   "cell_type": "code",
   "execution_count": null,
   "metadata": {},
   "outputs": [],
   "source": [
    "chains = ib.reqSecDefOptParams(spx.symbol, '', spx.secType, spx.conId)\n",
    "util.df(chains)"
   ]
  },
  {
   "cell_type": "code",
   "execution_count": null,
   "metadata": {},
   "outputs": [],
   "source": [
    "scrip = Stock('INTC', 'SMART', 'USD')\n",
    "ib.qualifyContracts(scrip)"
   ]
  },
  {
   "cell_type": "code",
   "execution_count": null,
   "metadata": {},
   "outputs": [],
   "source": [
    "scrip_chain = ib.reqSecDefOptParams(scrip.symbol, '', scrip.secType, scrip.conId)\n",
    "util.df(scrip_chain)"
   ]
  },
  {
   "cell_type": "code",
   "execution_count": null,
   "metadata": {},
   "outputs": [],
   "source": [
    "scrip_chain"
   ]
  },
  {
   "cell_type": "code",
   "execution_count": null,
   "metadata": {},
   "outputs": [],
   "source": [
    "help(Contract.right)"
   ]
  },
  {
   "cell_type": "code",
   "execution_count": null,
   "metadata": {},
   "outputs": [],
   "source": []
  },
  {
   "cell_type": "code",
   "execution_count": null,
   "metadata": {},
   "outputs": [],
   "source": []
  }
 ],
 "metadata": {
  "kernelspec": {
   "display_name": "Python 3",
   "language": "python",
   "name": "python3"
  },
  "language_info": {
   "codemirror_mode": {
    "name": "ipython",
    "version": 3
   },
   "file_extension": ".py",
   "mimetype": "text/x-python",
   "name": "python",
   "nbconvert_exporter": "python",
   "pygments_lexer": "ipython3",
   "version": "3.6.5"
  }
 },
 "nbformat": 4,
 "nbformat_minor": 2
}
