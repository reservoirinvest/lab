{
 "cells": [
  {
   "cell_type": "markdown",
   "metadata": {},
   "source": [
    "# Introduction\n",
    "The following code for NSE has been picked up from [Ewald's examples](https://github.com/erdewit/ib_insync/blob/master/notebooks/option_chain.ipynb) given below"
   ]
  },
  {
   "cell_type": "code",
   "execution_count": 1,
   "metadata": {},
   "outputs": [
    {
     "data": {
      "text/plain": [
       "<IB connected to 127.0.0.1:4004 clientId=12>"
      ]
     },
     "execution_count": 1,
     "metadata": {},
     "output_type": "execute_result"
    }
   ],
   "source": [
    "import numpy as np\n",
    "import pandas as pd\n",
    "from datetime import datetime\n",
    "\n",
    "from ib_insync import *\n",
    "util.startLoop()\n",
    "\n",
    "ib=IB()\n",
    "ib.connect('127.0.0.1', 4004, clientId=12)"
   ]
  },
  {
   "cell_type": "code",
   "execution_count": 2,
   "metadata": {},
   "outputs": [
    {
     "name": "stderr",
     "output_type": "stream",
     "text": [
      "WARNING:ib_insync.client:Started to throttle requests\n",
      "WARNING:ib_insync.client:Stopped to throttle requests\n"
     ]
    }
   ],
   "source": [
    "# Get the list of Equity Option scrips\n",
    "paisaurl = \"https://www.5paisa.com/5pit/spma.asp\"\n",
    "paisa = pd.read_html(paisaurl, header=0)[1]          # It's the second table in the url\n",
    "\n",
    "# Replace & for M&M, L&T, etc. This is not needed for IBKR\n",
    "mask = paisa.loc[paisa.Symbol.str.contains(\"&\"), \"Symbol\"]\n",
    "paisa.loc[paisa.Symbol.isin(mask), \"Symbol\"] = mask.str.replace(\"&\", \"\")\n",
    "\n",
    "# Add columns\n",
    "paisa[\"iSymbol\"] =  paisa.Symbol.tolist()  # For IBKR scrip names\n",
    "paisa[\"Exchange\"] = 'NSE'   # for the Exchange\n",
    "\n",
    "# Exclusions and Inclusions\n",
    "vix_nifty = ['VIX', 'NIFTY']     # mask for Index\n",
    "symbol_rename = {'NIFTYCPSE': 'CPSE', 'NIFTY': 'NIFTY50'}   # renamed for IBKR\n",
    "symbol_del = ['INDIAVIX']\n",
    "\n",
    "# Build the Index dataframe\n",
    "index_mask = paisa.Symbol.str.contains('|'.join(vix_nifty))\n",
    "nse_ind = paisa.loc[index_mask, :] # Keep only VIX and NIFTY\n",
    "\n",
    "nse_ind = nse_ind.loc[~nse_ind.Symbol.str.contains('|'.join(symbol_del)), :] # INDIAVIX not in IBKR\n",
    "nse_ind = nse_ind.replace({\"iSymbol\": symbol_rename}) # Rename scrips to align with IBKR\n",
    "\n",
    "# Build the Index dataframe\n",
    "nse_ind[\"secType\"] = 'Index' #Identify security type as Index\n",
    "\n",
    "# Qualify the Index dataframe\n",
    "q_idx_df = list(map(lambda s, e : Index(symbol=s, exchange=e), \n",
    "                             nse_ind.iSymbol, nse_ind.Exchange))\n",
    "qualIndex = ib.qualifyContracts(*q_idx_df)\n",
    "\n",
    "# Build the Options dataframe\n",
    "nse_opt = paisa.loc[~index_mask, :].reset_index(drop=True) # Not the index mask!\n",
    "\n",
    "# Shorten long scrip names in line with IBKR\n",
    "iSymbol = nse_opt.Symbol.str.slice(0,9)\n",
    "nse_opt.loc[:, \"iSymbol\"] = iSymbol\n",
    "\n",
    "# Qualify the Options dataframe\n",
    "q_opt_df = list(map(lambda s, e: Stock(symbol=s, exchange=e),\n",
    "                                      nse_opt.iSymbol, nse_opt.Exchange))\n",
    "qualOptions = ib.qualifyContracts(*q_opt_df)"
   ]
  },
  {
   "cell_type": "code",
   "execution_count": 20,
   "metadata": {},
   "outputs": [
    {
     "data": {
      "text/plain": [
       "[[OptionChain(exchange='NSE', underlyingConId=119653211, tradingClass='PCJEWELLER', multiplier='1', expirations={'20180927', '20180830', '20180726'}, strikes={260.0, 650.0, 140.0, 400.0, 20.0, 150.0, 280.0, 160.0, 550.0, 40.0, 300.0, 50.0, 180.0, 60.0, 700.0, 320.0, 450.0, 200.0, 80.0, 340.0, 600.0, 220.0, 350.0, 100.0, 750.0, 240.0, 500.0, 120.0, 250.0})],\n",
       " [OptionChain(exchange='NSE', underlyingConId=80423707, tradingClass='JISLJALEQS', multiplier='1', expirations={'20180927', '20180830', '20180726'}, strikes={130.0, 135.0, 140.0, 145.0, 150.0, 155.0, 160.0, 35.0, 37.5, 165.0, 40.0, 42.5, 45.0, 47.5, 50.0, 52.5, 55.0, 57.5, 60.0, 62.5, 65.0, 67.5, 70.0, 72.5, 75.0, 77.5, 80.0, 82.5, 85.0, 87.5, 90.0, 92.5, 95.0, 97.5, 100.0, 102.5, 105.0, 107.5, 110.0, 112.5, 115.0, 117.5, 120.0, 122.5, 125.0})],\n",
       " [OptionChain(exchange='NSE', underlyingConId=56984254, tradingClass='JPASSOCIAT', multiplier='1', expirations={'20180927', '20180830', '20180726'}, strikes={32.5, 2.5, 35.0, 5.0, 37.5, 7.5, 40.0, 10.0, 42.5, 12.5, 45.0, 15.0, 17.5, 20.0, 22.5, 25.0, 27.5, 30.0})],\n",
       " [OptionChain(exchange='NSE', underlyingConId=56986798, tradingClass='ADANIENT', multiplier='1', expirations={'20180927', '20180830', '20180726'}, strikes={130.0, 260.0, 135.0, 140.0, 145.0, 20.0, 150.0, 155.0, 30.0, 160.0, 165.0, 40.0, 170.0, 45.0, 175.0, 50.0, 180.0, 55.0, 185.0, 60.0, 190.0, 65.0, 195.0, 70.0, 200.0, 75.0, 205.0, 80.0, 210.0, 85.0, 215.0, 90.0, 220.0, 95.0, 225.0, 100.0, 230.0, 105.0, 235.0, 110.0, 240.0, 115.0, 245.0, 120.0, 250.0, 125.0, 255.0})]]"
      ]
     },
     "execution_count": 20,
     "metadata": {},
     "output_type": "execute_result"
    }
   ],
   "source": [
    "q = qualOptions[0:4] # Small list size\n",
    "\n",
    "# Prepare a sequence for ib.reqSecDefOptParams\n",
    "seq = [(i.symbol, '', i.secType, i.conId) for i in q]\n",
    "\n",
    "# build the chains\n",
    "chains = [ib.reqSecDefOptParams(*p) for p in seq]\n",
    "# list(map(lambda p: ib.reqSecDefOptParams(*p), seq))  # Another way of doing!\n",
    "\n",
    "chains"
   ]
  },
  {
   "cell_type": "code",
   "execution_count": 19,
   "metadata": {},
   "outputs": [
    {
     "name": "stdout",
     "output_type": "stream",
     "text": [
      "OptionChain(exchange='NSE', underlyingConId=119653211, tradingClass='PCJEWELLER', multiplier='1', expirations={'20180927', '20180830', '20180726'}, strikes={260.0, 650.0, 140.0, 400.0, 20.0, 150.0, 280.0, 160.0, 550.0, 40.0, 300.0, 50.0, 180.0, 60.0, 700.0, 320.0, 450.0, 200.0, 80.0, 340.0, 600.0, 220.0, 350.0, 100.0, 750.0, 240.0, 500.0, 120.0, 250.0}) OptionChain(exchange='NSE', underlyingConId=80423707, tradingClass='JISLJALEQS', multiplier='1', expirations={'20180927', '20180830', '20180726'}, strikes={130.0, 135.0, 140.0, 145.0, 150.0, 155.0, 160.0, 35.0, 37.5, 165.0, 40.0, 42.5, 45.0, 47.5, 50.0, 52.5, 55.0, 57.5, 60.0, 62.5, 65.0, 67.5, 70.0, 72.5, 75.0, 77.5, 80.0, 82.5, 85.0, 87.5, 90.0, 92.5, 95.0, 97.5, 100.0, 102.5, 105.0, 107.5, 110.0, 112.5, 115.0, 117.5, 120.0, 122.5, 125.0}) OptionChain(exchange='NSE', underlyingConId=56984254, tradingClass='JPASSOCIAT', multiplier='1', expirations={'20180927', '20180830', '20180726'}, strikes={32.5, 2.5, 35.0, 5.0, 37.5, 7.5, 40.0, 10.0, 42.5, 12.5, 45.0, 15.0, 17.5, 20.0, 22.5, 25.0, 27.5, 30.0}) OptionChain(exchange='NSE', underlyingConId=56986798, tradingClass='ADANIENT', multiplier='1', expirations={'20180927', '20180830', '20180726'}, strikes={130.0, 260.0, 135.0, 140.0, 145.0, 20.0, 150.0, 155.0, 30.0, 160.0, 165.0, 40.0, 170.0, 45.0, 175.0, 50.0, 180.0, 55.0, 185.0, 60.0, 190.0, 65.0, 195.0, 70.0, 200.0, 75.0, 205.0, 80.0, 210.0, 85.0, 215.0, 90.0, 220.0, 95.0, 225.0, 100.0, 230.0, 105.0, 235.0, 110.0, 240.0, 115.0, 245.0, 120.0, 250.0, 125.0, 255.0})\n"
     ]
    }
   ],
   "source": [
    "for xyz in zip(*chains):\n",
    "    print(*xyz)"
   ]
  },
  {
   "cell_type": "code",
   "execution_count": null,
   "metadata": {},
   "outputs": [],
   "source": [
    "# instantiate stock contract class\n",
    "scrip = Stock(symbol='WOCKPHARM', exchange='NSE' )\n",
    "ib.qualifyContracts(scrip)"
   ]
  },
  {
   "cell_type": "code",
   "execution_count": null,
   "metadata": {},
   "outputs": [],
   "source": [
    "# get the underlying's option chain with security definition parameter\n",
    "chains = ib.reqSecDefOptParams(underlyingSymbol=scrip.symbol, futFopExchange = '', \n",
    "                               underlyingSecType=scrip.secType, underlyingConId=scrip.conId)\n",
    "\n",
    "# put that in a dataframe\n",
    "chains_df = util.df(chains)\n",
    "chains_df.head()"
   ]
  },
  {
   "cell_type": "code",
   "execution_count": null,
   "metadata": {},
   "outputs": [],
   "source": [
    "# make arrays for strikes and expiries\n",
    "strikes = np.array(list(*chains_df.strikes))\n",
    "expiries = np.array(list(*chains_df.expirations))\n",
    "\n",
    "# function to get days to expiry\n",
    "def get_dte(Expiry):\n",
    "    '''Gives the expiry date\n",
    "    Arg:\n",
    "       (Expiry) = str of yyyymmdd format\n",
    "    Returns:\n",
    "       dte = int days to expiry'''\n",
    "    exp_date = datetime.strptime(Expiry, '%Y%m%d')\n",
    "    dte = (exp_date- datetime.now()).days\n",
    "    return dte\n",
    "\n",
    "dte = list(map(get_dte, expiries))\n",
    "\n",
    "# function to get standard deviation\n",
    "def get_stdev(contract, dte):\n",
    "    '''Gets the Standard Deviation\n",
    "    Args:\n",
    "       (contract) = object: the qualified stock\n",
    "       (dte)      = int: days to expiry\n",
    "    Returns:\n",
    "       standard deviation in days (int)\n",
    "    '''\n",
    "    sd_days = str(dte)+' D'\n",
    "    bars = ib.reqHistoricalData(contract=scrip, endDateTime='', durationStr=sd_days, \n",
    "                                barSizeSetting='1 day',  whatToShow='Trades', useRTH=True)\n",
    "    sd = np.std([b.close for b in bars], ddof=1)\n",
    "    return sd\n",
    "\n",
    "stdev = list(map(lambda x, y: get_stdev(x, y), np.repeat(scrip, len(dte)), dte))\n",
    "\n",
    "# equalize lengths of array for strikes+expiries+dte\n",
    "a_strikes = np.repeat(strikes, len(expiries))\n",
    "a_expiries = np.tile(expiries, len(strikes))   # tile to repeat expiries in blocks\n",
    "a_dte = np.tile(dte, len(strikes))\n",
    "a_stdev = np.tile(stdev, len(strikes))\n",
    "\n",
    "# create a dataframe of Strike and Expiry\n",
    "strikes_df = pd.DataFrame({'Strike': a_strikes, 'Expiry': a_expiries, 'DTE': a_dte, 'Stdev': a_stdev})\n",
    "\n",
    "# insert a key and merge strikes and chains\n",
    "strikes_df['key'] = 0\n",
    "chains_df['key'] = 0\n",
    "\n",
    "raw_chain = pd.merge(strikes_df, chains_df, on='key')\n",
    "raw_chain = raw_chain.drop(['expirations', 'strikes', 'key'], axis=1)\n",
    "raw_chain.head()"
   ]
  },
  {
   "cell_type": "code",
   "execution_count": null,
   "metadata": {},
   "outputs": [],
   "source": [
    "contract = Option(symbol=scrip.symbol, exchange=scrip.exchange, \n",
    "                  lastTradeDateOrContractMonth='20180726', strike='640', right='P')\n",
    "order = Order(action='SELL', orderType='MKT', totalQuantity=100.0)"
   ]
  },
  {
   "cell_type": "code",
   "execution_count": null,
   "metadata": {},
   "outputs": [],
   "source": [
    "try:\n",
    "    ib.whatIfOrder(contract, order)\n",
    "except Exception as inst:\n",
    "    print(inst.args)"
   ]
  },
  {
   "cell_type": "code",
   "execution_count": null,
   "metadata": {},
   "outputs": [],
   "source": [
    "ib.whatIfOrder(contract, order)"
   ]
  },
  {
   "cell_type": "code",
   "execution_count": null,
   "metadata": {},
   "outputs": [],
   "source": [
    "# Get the list of equity scrips\n",
    "paisaurl = \"https://www.5paisa.com/5pit/spma.asp\"\n",
    "paisa = pd.read_html(paisaurl, header=0)[1]          # It's the second table in the url\n",
    "\n",
    "# Remove VIX and NIFTY from paisa\n",
    "symbol = paisa.loc[~(paisa.Symbol.str.contains('VIX') | paisa.Symbol.str.contains('NIFTY'))].Symbol\n",
    "\n",
    "paisa = paisa.loc[paisa.Symbol.isin(symbol), :]\n",
    "\n",
    "# Make paisa's symbol compatible with IBKR symbol\n",
    "paisa.loc[:, \"Symbol\"] = symbol.str.slice(0,9)\n",
    "\n",
    "# Replace & for M&M, L&T, etc\n",
    "mask = paisa.loc[paisa.Symbol.str.contains('&'), \"Symbol\"]\n",
    "paisa.loc[paisa.Symbol.isin(mask), \"Symbol\"] = mask.str.replace('&','')"
   ]
  },
  {
   "cell_type": "code",
   "execution_count": null,
   "metadata": {},
   "outputs": [],
   "source": [
    "paisa"
   ]
  },
  {
   "cell_type": "code",
   "execution_count": null,
   "metadata": {},
   "outputs": [],
   "source": [
    "help(ib.events)"
   ]
  },
  {
   "cell_type": "code",
   "execution_count": null,
   "metadata": {},
   "outputs": [],
   "source": [
    "[ticker] = ib.reqTickers(contract)"
   ]
  },
  {
   "cell_type": "code",
   "execution_count": null,
   "metadata": {},
   "outputs": [],
   "source": [
    "ib.reqContractDetails(contract)"
   ]
  },
  {
   "cell_type": "code",
   "execution_count": null,
   "metadata": {},
   "outputs": [],
   "source": [
    "ib.tickers()"
   ]
  },
  {
   "cell_type": "markdown",
   "metadata": {},
   "source": [
    "# Original code of Ewald"
   ]
  },
  {
   "cell_type": "code",
   "execution_count": null,
   "metadata": {},
   "outputs": [],
   "source": [
    "spx = Index('SPX', 'CBOE')\n",
    "ib.qualifyContracts(spx)"
   ]
  },
  {
   "cell_type": "code",
   "execution_count": null,
   "metadata": {},
   "outputs": [],
   "source": [
    "# Get the ticker\n",
    "[ticker] = ib.reqTickers(spx)\n",
    "ticker"
   ]
  },
  {
   "cell_type": "code",
   "execution_count": null,
   "metadata": {},
   "outputs": [],
   "source": [
    "spxValue = ticker.marketPrice()"
   ]
  },
  {
   "cell_type": "code",
   "execution_count": null,
   "metadata": {},
   "outputs": [],
   "source": [
    "spxValue"
   ]
  },
  {
   "cell_type": "code",
   "execution_count": null,
   "metadata": {},
   "outputs": [],
   "source": [
    "chains = ib.reqSecDefOptParams(spx.symbol, '', spx.secType, spx.conId)\n",
    "util.df(chains)"
   ]
  },
  {
   "cell_type": "code",
   "execution_count": null,
   "metadata": {},
   "outputs": [],
   "source": [
    "scrip = Stock('INTC', 'SMART', 'USD')\n",
    "ib.qualifyContracts(scrip)"
   ]
  },
  {
   "cell_type": "code",
   "execution_count": null,
   "metadata": {},
   "outputs": [],
   "source": [
    "scrip_chain = ib.reqSecDefOptParams(scrip.symbol, '', scrip.secType, scrip.conId)\n",
    "util.df(scrip_chain)"
   ]
  },
  {
   "cell_type": "code",
   "execution_count": null,
   "metadata": {},
   "outputs": [],
   "source": [
    "scrip_chain"
   ]
  },
  {
   "cell_type": "code",
   "execution_count": null,
   "metadata": {},
   "outputs": [],
   "source": [
    "help(Contract.right)"
   ]
  },
  {
   "cell_type": "code",
   "execution_count": null,
   "metadata": {},
   "outputs": [],
   "source": []
  }
 ],
 "metadata": {
  "kernelspec": {
   "display_name": "Python 3",
   "language": "python",
   "name": "python3"
  },
  "language_info": {
   "codemirror_mode": {
    "name": "ipython",
    "version": 3
   },
   "file_extension": ".py",
   "mimetype": "text/x-python",
   "name": "python",
   "nbconvert_exporter": "python",
   "pygments_lexer": "ipython3",
   "version": "3.6.4"
  }
 },
 "nbformat": 4,
 "nbformat_minor": 2
}
