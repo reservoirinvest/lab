{
 "cells": [
  {
   "cell_type": "markdown",
   "metadata": {},
   "source": [
    "# Introduction\n",
    "The following code for NSE has been picked up from [Ewald's examples](https://github.com/erdewit/ib_insync/blob/master/notebooks/option_chain.ipynb) given below"
   ]
  },
  {
   "cell_type": "code",
   "execution_count": 1,
   "metadata": {},
   "outputs": [
    {
     "data": {
      "text/plain": [
       "<IB connected to 127.0.0.1:4004 clientId=12>"
      ]
     },
     "execution_count": 1,
     "metadata": {},
     "output_type": "execute_result"
    }
   ],
   "source": [
    "import numpy as np\n",
    "import pandas as pd\n",
    "import scipy.stats as st\n",
    "from datetime import datetime\n",
    "from itertools import product\n",
    "\n",
    "from ib_insync import *\n",
    "util.startLoop()\n",
    "\n",
    "ib=IB()\n",
    "ib.connect('127.0.0.1', 4004, clientId=12)"
   ]
  },
  {
   "cell_type": "code",
   "execution_count": 5,
   "metadata": {},
   "outputs": [],
   "source": [
    "# contract = Stock('AAPL','SMART','USD')\n",
    "contract = Stock('RELIANCE', 'NSE')"
   ]
  },
  {
   "cell_type": "code",
   "execution_count": 6,
   "metadata": {},
   "outputs": [
    {
     "name": "stdout",
     "output_type": "stream",
     "text": [
      "Wall time: 4.67 s\n"
     ]
    }
   ],
   "source": [
    "%%time\n",
    "m_data = ib.reqMktData(contract) \n",
    "while m_data.close != m_data.close: ib.sleep(0.01) #Wait until data is in. \n",
    "ib.cancelMktData(contract)\n",
    "m_data"
   ]
  },
  {
   "cell_type": "code",
   "execution_count": 12,
   "metadata": {},
   "outputs": [
    {
     "name": "stdout",
     "output_type": "stream",
     "text": [
      "Wall time: 9.82 s\n"
     ]
    }
   ],
   "source": [
    "%%time\n",
    "def get_price(contract):\n",
    "    m_data = ib.reqMktData(contract) \n",
    "    while m_data.close != m_data.close: ib.sleep(0.01) #Wait until data is in. \n",
    "    ib.cancelMktData(contract)\n",
    "    return m_data.close\n",
    "\n",
    "contracts = [Stock('RELIANCE', 'NSE'), Stock('INFY', 'NSE') ]\n",
    "\n",
    "a = [get_price(c) for c in contracts]\n",
    "a"
   ]
  },
  {
   "cell_type": "code",
   "execution_count": 13,
   "metadata": {},
   "outputs": [
    {
     "data": {
      "text/plain": [
       "[1168.35, 1353.65]"
      ]
     },
     "execution_count": 13,
     "metadata": {},
     "output_type": "execute_result"
    }
   ],
   "source": [
    "a"
   ]
  },
  {
   "cell_type": "code",
   "execution_count": null,
   "metadata": {},
   "outputs": [],
   "source": [
    "%%time\n",
    "ib.reqTickers(contract)"
   ]
  },
  {
   "cell_type": "code",
   "execution_count": null,
   "metadata": {},
   "outputs": [],
   "source": [
    "ib.reqContractDetails(contract)[0].tradingHours"
   ]
  },
  {
   "cell_type": "code",
   "execution_count": null,
   "metadata": {},
   "outputs": [],
   "source": [
    "m_data"
   ]
  },
  {
   "cell_type": "code",
   "execution_count": null,
   "metadata": {},
   "outputs": [],
   "source": []
  },
  {
   "cell_type": "code",
   "execution_count": null,
   "metadata": {},
   "outputs": [],
   "source": []
  },
  {
   "cell_type": "code",
   "execution_count": null,
   "metadata": {},
   "outputs": [],
   "source": [
    "# Standard Deviation calculation\n",
    "call_probability = 0.97\n",
    "put_probability = 0.92\n",
    "\n",
    "call_sd = st.norm.ppf(1-(1-call_probability)/2)\n",
    "put_sd = st.norm.ppf(1-(1-put_probability)/2)\n",
    "\n",
    "# Get the list of Equity and Index Option scrips\n",
    "paisaurl = \"https://www.5paisa.com/5pit/spma.asp\"\n",
    "paisa = pd.read_html(paisaurl, header=0)[1]          # It's the second table in the url\n",
    "\n",
    "# Create iSymbol for the options\n",
    "paisa[\"iSymbol\"] = paisa.Symbol.str.slice(0,9)\n",
    "\n",
    "# Replace & for M&M, L&T, etc. This is not needed for IBKR\n",
    "mask = paisa.loc[paisa.Symbol.str.contains(\"&\"), \"iSymbol\"]\n",
    "paisa.loc[paisa.Symbol.isin(mask), \"iSymbol\"] = mask.str.replace(\"&\", \"\")\n",
    "\n",
    "# Add columns\n",
    "paisa[\"Exchange\"] = 'NSE'   # for the Exchange\n",
    "\n",
    "# Exclusions and Inclusions\n",
    "vix_nifty = ['VIX', 'NIFTY']     # mask for Index\n",
    "symbol_rename = {'NIFTYCPSE': 'CPSE', 'NIFTY': 'NIFTY50', 'NIFTYMID5': \n",
    "                 'NIFTYMID50', 'NIFTYINFR': 'NIFTYINFRA'}   # renamed for IBKR\n",
    "symbol_del = ['INDIAVIX']\n",
    "\n",
    "# Clean up paisa\n",
    "paisa_clean = paisa[['Symbol', 'Mlot', 'iSymbol', 'Exchange']]\n",
    "paisa_clean = paisa_clean.loc[~paisa.Symbol.str.contains('|'.join(symbol_del)), :] # INDIAVIX not in IBKR\n",
    "paisa_clean = paisa_clean.replace({\"iSymbol\": symbol_rename}) # Rename scrips to align with IBKR\n",
    "\n",
    "# Stock dataframe\n",
    "nse_stk = paisa_clean.loc[~index_mask, :].reset_index(drop=True) # Not the index mask!\n",
    "\n",
    "# Qualify the Stock and add the contracts\n",
    "qualStock = ib.qualifyContracts(*[Stock(x, y) for x, y in zip(nse_stk.iSymbol, nse_stk.Exchange)])\n",
    "nse_stk[\"Contract\"] = qualStock\n",
    "\n",
    "########    Line below ignored because of inconsistency in index data #######\n",
    "# # Index dataframe (Keep only VIX and NIFTY)\n",
    "# index_mask = paisa_clean.Symbol.str.contains('|'.join(vix_nifty))\n",
    "# nse_ind = paisa_clean.loc[index_mask, :].reset_index(drop=True)\n",
    "\n",
    "# # Qualify the Index and add the contracts\n",
    "# qualIndex = ib.qualifyContracts(*[Index(x, y) for x, y in zip(nse_ind.iSymbol, nse_ind.Exchange)])\n",
    "# nse_ind[\"Contract\"] = qualIndex #### Though successfully qualified tradingClass is different than iSymbol for index!!!\n",
    "\n",
    "# # df_contracts = pd.concat([nse_stk, nse_ind]).reset_index(drop=True)\n",
    "#############################################################################\n",
    "\n",
    "df_contracts = nse_stk.reset_index(drop=True)\n",
    "\n",
    "df_contracts = df_contracts[df_contracts.iSymbol.isin([\"ADANIENT\", \"INFY\"])] # !Data limiter\n",
    "\n",
    "# Get the underlying's price\n",
    "list_of_prices = [ib.reqTickers(i) for i in df_contracts.Contract]\n",
    "\n",
    "# Make a dataframe of prices\n",
    "u_price = pd.Series([i.close for elem in list_of_prices for i in elem])\n",
    "df_contracts[\"U_Price\"] = u_price.values\n",
    "\n",
    "def get_chains(scrips):\n",
    "    '''Gets the option chains for the scrips passed\n",
    "       Args:\n",
    "          (scrips): list: qualified list of equity or index options with conId\n",
    "       Returns:\n",
    "          list of option chain'''\n",
    "    \n",
    "    # Prepare a sequence for ib.reqSecDefOptParams\n",
    "    seq = [(i.symbol, '', i.secType, i.conId) for i in scrips]\n",
    "\n",
    "    # build the chains\n",
    "    chains = [ib.reqSecDefOptParams(*p) for p in seq]\n",
    "    # list(map(lambda p: ib.reqSecDefOptParams(*p), seq))  # Another way of doing!\n",
    "    \n",
    "    return chains\n",
    "\n",
    "chains = get_chains(df_contracts.Contract)\n",
    "\n",
    "# Build the dataframe for DTE and Std Deviation \n",
    "chains_for_sd = [(i.tradingClass, i.expirations) for elem in chains for i in elem]\n",
    "\n",
    "# Cartesian for DTE (Ref: Stackoverflow: 51579138)\n",
    "L = [[[x[0]], sorted(x[1])] for x in chains_for_sd]\n",
    "df_dte = pd.DataFrame([j for i in L for j in product(*i)], columns=['iSymbol','Expiry'])\n",
    "\n",
    "# function to get days to expiry\n",
    "def get_dte(Expiry):\n",
    "    '''Gives the expiry date\n",
    "    Arg:\n",
    "       (Expiry) = str of yyyymmdd format\n",
    "    Returns:\n",
    "       dte = int days to expiry'''\n",
    "    exp_date = datetime.strptime(Expiry, '%Y%m%d')\n",
    "    dte = (exp_date- datetime.now()).days\n",
    "    return dte\n",
    "\n",
    "# Get the DTE\n",
    "df_dte[\"DTE\"] = [get_dte(x) for x in df_dte.Expiry]\n",
    "\n",
    "# Merge to prepare for standard deviation\n",
    "df_sd = pd.merge(df_dte, df_contracts, on=\"iSymbol\")\n",
    "\n",
    "# function to get standard deviation\n",
    "def get_stdev(contract, dte):\n",
    "    '''Gets the Standard Deviation\n",
    "    Args:\n",
    "       (contract) = object: the qualified stock\n",
    "       (dte)      = int: days to expiry\n",
    "    Returns:\n",
    "       standard deviation in days (int)\n",
    "    '''\n",
    "    sd_days = str(dte)+' D'\n",
    "    bars = ib.reqHistoricalData(contract=contract, endDateTime='', durationStr=sd_days, \n",
    "                                barSizeSetting='1 day',  whatToShow='Trades', useRTH=True)\n",
    "    sd = np.std([b.close for b in bars], ddof=1)\n",
    "    return sd\n",
    "\n",
    "df_sd['StDev'] = [get_stdev(x, y) for x, y in zip(df_sd.Contract, df_sd.DTE)] \n",
    "# list(map(lambda x, y: get_stdev(x, y), [i for i in df_sd.Contract], [j for j in df_sd.DTE])) # alternative\n",
    "\n",
    "# Build dataframe for Strikes\n",
    "chains_for_strikes = [(i.tradingClass, i.expirations, i.strikes) for elem in chains for i in elem]\n",
    "\n",
    "# Cartesian for Strikes (Ref: Stackoverflow: 51579138)\n",
    "M = [[[x[0]], sorted(x[1]), sorted(x[2])] for x in chains_for_strikes]\n",
    "df_strikes = pd.DataFrame([j for i in M for j in product(*i)], columns=['iSymbol','Expiry', 'Strike'])\n",
    "\n",
    "# Merge to get strikes and expiry\n",
    "df_p = pd.merge(df_sd, df_strikes, on=[\"iSymbol\", \"Expiry\"])\n",
    "\n",
    "# Determine Put / Call rights\n",
    "df_p[\"Right\"] = ''\n",
    "df_p.loc[df_p.Strike > (call_sd * df_p.StDev + df_p.U_Price), \"Right\"] = 'C'\n",
    "df_p.loc[df_p.Strike <  df_p.U_Price - (put_sd * df_p.StDev), \"Right\"] = 'P'\n",
    "\n",
    "# Get the focus list of Puts and Calls outside std deviation band\n",
    "df_q = df_p.loc[df_p.Right != '', :].reset_index(drop=True)"
   ]
  },
  {
   "cell_type": "code",
   "execution_count": null,
   "metadata": {},
   "outputs": [],
   "source": [
    "df = df_q.head()\n",
    "df[[\"iSymbol\", \"Expiry\", \"Strike\", \"Right\", \"Mlot\", \"Exchange\"]]"
   ]
  },
  {
   "cell_type": "code",
   "execution_count": null,
   "metadata": {},
   "outputs": [],
   "source": [
    "contract = Option([i for i in df.iSymbol], [i for i in df.Expiry], [i for i in df.Strike], [i for i in df.Right])\n",
    "ib.reqContractDetails(*contract)"
   ]
  },
  {
   "cell_type": "code",
   "execution_count": null,
   "metadata": {},
   "outputs": [],
   "source": [
    "strikes = [strike for strike in df_q.Strike]\n",
    "rights = [right for right in df_q.Right]\n",
    "expirations = [expiration for expiration in df_q.Expiry]\n",
    "symbols = [symbol for symbol in df_q.iSymbol]\n",
    "\n",
    "contracts = [Option(symbol, expiration, strike, right, 'NSE')\n",
    "            for symbol in symbols\n",
    "            for expiration in expirations\n",
    "            for strike in strikes\n",
    "            for right in rights]\n"
   ]
  },
  {
   "cell_type": "code",
   "execution_count": null,
   "metadata": {},
   "outputs": [],
   "source": [
    "# Placing a 'whatif' Order\n",
    "c = Option(symbol='ADANIENT', exchange='NSE', \n",
    "                  lastTradeDateOrContractMonth='20181025', strike='155', right='P')\n",
    "\n",
    "o = Order(action='SELL', orderType='MKT', totalQuantity=4000)\n",
    "\n",
    "ib.whatIfOrder(c, o)"
   ]
  },
  {
   "cell_type": "markdown",
   "metadata": {},
   "source": [
    "# Sample Reference Codes"
   ]
  },
  {
   "cell_type": "code",
   "execution_count": null,
   "metadata": {},
   "outputs": [],
   "source": [
    "# Iniitiation\n",
    "import numpy as np\n",
    "import pandas as pd\n",
    "import scipy.stats as st\n",
    "from datetime import datetime\n",
    "from itertools import product\n",
    "\n",
    "from ib_insync import *\n",
    "util.startLoop()\n",
    "\n",
    "ib=IB()\n",
    "ib.connect('127.0.0.1', 4004, clientId=1)"
   ]
  },
  {
   "cell_type": "markdown",
   "metadata": {},
   "source": [
    "## Contract Details (such as Strike, Expiries and Rights)"
   ]
  },
  {
   "cell_type": "code",
   "execution_count": null,
   "metadata": {},
   "outputs": [],
   "source": [
    "cds = ib.reqContractDetails(contract)\n",
    "cds"
   ]
  },
  {
   "cell_type": "code",
   "execution_count": null,
   "metadata": {},
   "outputs": [],
   "source": [
    "# Get symbol, strike, expiry and right\n",
    "[(cd.contract.symbol, cd.contract.strike, cd.contract.lastTradeDateOrContractMonth, cd.contract.right) for cd in cds][:2]"
   ]
  },
  {
   "cell_type": "markdown",
   "metadata": {},
   "source": [
    "## For Ticker Details (such as Price)"
   ]
  },
  {
   "cell_type": "code",
   "execution_count": null,
   "metadata": {},
   "outputs": [],
   "source": [
    "options = [cd.contract for cd in cds]\n",
    "options[:2]"
   ]
  },
  {
   "cell_type": "code",
   "execution_count": null,
   "metadata": {},
   "outputs": [],
   "source": [
    "tickers = [ib.reqTickers(*options)]\n",
    "tickers[:3]"
   ]
  },
  {
   "cell_type": "markdown",
   "metadata": {},
   "source": [
    "### ...for a single contract's price (absolute reference)"
   ]
  },
  {
   "cell_type": "code",
   "execution_count": null,
   "metadata": {},
   "outputs": [],
   "source": [
    "tickers[0][0].contract.strike"
   ]
  },
  {
   "cell_type": "markdown",
   "metadata": {},
   "source": [
    "### ...for multiple contracts price tickers (relative reference)\n",
    "(<b>Note</b>: This extracts in blocks of 10 tickers)"
   ]
  },
  {
   "cell_type": "code",
   "execution_count": null,
   "metadata": {},
   "outputs": [],
   "source": [
    "options = [cd.contract for cd in cds]\n",
    "tickers = [t for i in range(0, len(options), 100) for t in ib.reqTickers(*options[i:i + 100])]"
   ]
  },
  {
   "cell_type": "code",
   "execution_count": null,
   "metadata": {},
   "outputs": [],
   "source": [
    "tickers[:2]"
   ]
  },
  {
   "cell_type": "markdown",
   "metadata": {},
   "source": [
    "### ...for ticker information in tuples"
   ]
  },
  {
   "cell_type": "code",
   "execution_count": null,
   "metadata": {},
   "outputs": [],
   "source": [
    "[(tickers[0][i].contract.symbol, tickers[0][i].contract.strike, \n",
    "  tickers[0][i].contract.right, tickers[0][i].bid, \n",
    "  tickers[0][i].ask, tickers[0][i].close)\n",
    " for i in range(len(tickers[0]))]"
   ]
  },
  {
   "cell_type": "markdown",
   "metadata": {},
   "source": [
    "## Code to get Qualified Options List from IBKR site"
   ]
  },
  {
   "cell_type": "code",
   "execution_count": null,
   "metadata": {},
   "outputs": [],
   "source": [
    "# Get the options list\n",
    "# Note multipliers are not correct for NSE!!!\n",
    "\n",
    "options_url1 = \"https://www.interactivebrokers.co.in/en/index.php?f=2222&exch=nse&showcategories=OPTGRP&p=&cc=&limit=100&page=1\"\n",
    "options_url2 = \"https://www.interactivebrokers.co.in/en/index.php?f=2222&exch=nse&showcategories=OPTGRP&p=&cc=&limit=100&page=2\"\n",
    "nse_options = pd.concat([pd.read_html(options_url1, header=0)[2], pd.read_html(options_url2, header=0)[2]], sort=True)\n",
    "\n",
    "# Rename the columns and add the Exchange\n",
    "nse_options = nse_options.rename({'IB Symbol': 'iSymbol', \n",
    "                                  'Product Description (click link for more details)': 'Desc'}, axis=1)\n",
    "nse_options['Exchange'] = 'NSE'\n",
    "\n",
    "# List of nse indexes (extracted from error!)\n",
    "idx_list = (\"BANKNIFTY\", \"NIFTY50\", \"NSEFTSE\", \"USDINR\" )\n",
    "\n",
    "# Dataframe of equity options\n",
    "nse_equity = nse_options.loc[~nse_options.iSymbol.isin(idx_list), :].reset_index(drop=True)\n",
    "equity_contracts = ib.qualifyContracts(*[Stock(x, y) for x, y in zip(nse_equity.iSymbol, nse_equity.Exchange)])\n",
    "equity_df = util.df(equity_contracts)\n",
    "\n",
    "# Dataframe for index options\n",
    "nse_index = nse_options.loc[nse_options.iSymbol.isin(idx_list), :].reset_index(drop=True)\n",
    "index_contracts = ib.qualifyContracts(*[Index(x, y) for x, y in zip(nse_index.iSymbol, nse_index.Exchange)])\n",
    "index_df = util.df(index_contracts)"
   ]
  },
  {
   "cell_type": "code",
   "execution_count": null,
   "metadata": {},
   "outputs": [],
   "source": [
    "nse_equity.head()"
   ]
  },
  {
   "cell_type": "code",
   "execution_count": null,
   "metadata": {},
   "outputs": [],
   "source": [
    "nse_index.head()"
   ]
  },
  {
   "cell_type": "code",
   "execution_count": null,
   "metadata": {},
   "outputs": [],
   "source": [
    "def get_chains(scrips):\n",
    "    '''Gets the option chains for the scrips passed\n",
    "       Args:\n",
    "          (scrips): list: qualified list of equity or index options with conId\n",
    "       Returns:\n",
    "          list of option chain'''\n",
    "    \n",
    "    # Prepare a sequence for ib.reqSecDefOptParams\n",
    "    seq = [(i.symbol, '', i.secType, i.conId) for i in scrips]\n",
    "\n",
    "    # build the chains\n",
    "    chains = [ib.reqSecDefOptParams(*p) for p in seq]\n",
    "    # list(map(lambda p: ib.reqSecDefOptParams(*p), seq))  # Another way of doing!\n",
    "    \n",
    "    return chains\n",
    "\n",
    "index_chains = get_chains(index_contracts)"
   ]
  },
  {
   "cell_type": "markdown",
   "metadata": {},
   "source": [
    "# Some original codes of Ewald"
   ]
  },
  {
   "cell_type": "code",
   "execution_count": null,
   "metadata": {},
   "outputs": [],
   "source": [
    "spx = Index('SPX', 'CBOE')\n",
    "ib.qualifyContracts(spx)"
   ]
  },
  {
   "cell_type": "code",
   "execution_count": null,
   "metadata": {},
   "outputs": [],
   "source": [
    "# Get the ticker\n",
    "[ticker] = ib.reqTickers(spx)\n",
    "ticker"
   ]
  },
  {
   "cell_type": "code",
   "execution_count": null,
   "metadata": {},
   "outputs": [],
   "source": [
    "spxValue = ticker.marketPrice()"
   ]
  },
  {
   "cell_type": "code",
   "execution_count": null,
   "metadata": {},
   "outputs": [],
   "source": [
    "spxValue"
   ]
  },
  {
   "cell_type": "code",
   "execution_count": null,
   "metadata": {},
   "outputs": [],
   "source": [
    "chains = ib.reqSecDefOptParams(spx.symbol, '', spx.secType, spx.conId)\n",
    "util.df(chains)"
   ]
  },
  {
   "cell_type": "code",
   "execution_count": null,
   "metadata": {},
   "outputs": [],
   "source": [
    "scrip = Stock('INTC', 'SMART', 'USD')\n",
    "ib.qualifyContracts(scrip)"
   ]
  },
  {
   "cell_type": "code",
   "execution_count": null,
   "metadata": {},
   "outputs": [],
   "source": [
    "scrip_chain = ib.reqSecDefOptParams(scrip.symbol, '', scrip.secType, scrip.conId)\n",
    "util.df(scrip_chain)"
   ]
  },
  {
   "cell_type": "code",
   "execution_count": null,
   "metadata": {},
   "outputs": [],
   "source": [
    "scrip_chain"
   ]
  },
  {
   "cell_type": "code",
   "execution_count": null,
   "metadata": {},
   "outputs": [],
   "source": [
    "help(Contract.right)"
   ]
  },
  {
   "cell_type": "code",
   "execution_count": null,
   "metadata": {},
   "outputs": [],
   "source": []
  },
  {
   "cell_type": "code",
   "execution_count": null,
   "metadata": {},
   "outputs": [],
   "source": []
  }
 ],
 "metadata": {
  "kernelspec": {
   "display_name": "Python 3",
   "language": "python",
   "name": "python3"
  },
  "language_info": {
   "codemirror_mode": {
    "name": "ipython",
    "version": 3
   },
   "file_extension": ".py",
   "mimetype": "text/x-python",
   "name": "python",
   "nbconvert_exporter": "python",
   "pygments_lexer": "ipython3",
   "version": "3.6.5"
  }
 },
 "nbformat": 4,
 "nbformat_minor": 2
}
