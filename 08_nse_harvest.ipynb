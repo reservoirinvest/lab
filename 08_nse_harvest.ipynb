{
 "cells": [
  {
   "cell_type": "markdown",
   "metadata": {},
   "source": [
    "# Logic\n",
    "\n",
    "## Inputs\n",
    "* Get positions with cost\n",
    "* Get openorders\n",
    "* Get current market price and last-day's low price\n",
    "\n",
    "## Processing\n",
    "### Compute price to close\n",
    "* Get the DTE\n",
    "* Compute _price-to-close_ as minumum of *quadratic equation* and last-day's low\n",
    "* Quadratic equation is:\n",
    "$103.6008 - 3.63457*x + 0.03454677*x*x$\n",
    "\n",
    "### At the beginning of every trading day\n",
    "* For every symbol in position, estimate the _price-to-close_\n",
    "* Cancel all openorders\n",
    "* Create open orders with _price-to-close_\n",
    "\n",
    "### Logic to do the market is open\n",
    "* Save openorder contracts\n",
    "* Save filled contracts\n",
    "* Save openpositions"
   ]
  },
  {
   "cell_type": "code",
   "execution_count": 1,
   "metadata": {},
   "outputs": [],
   "source": [
    "# Harvesting program\n",
    "# STATUS: Completed\n",
    "# Runtime: 10 mins\n",
    "\n",
    "#***          Start ib_insync (run once)       *****\n",
    "#___________________________________________________\n",
    "\n",
    "from ib_insync import *\n",
    "util.startLoop()\n",
    "ib=IB().connect('127.0.0.1', 7496, clientId=9) # kavi TWS live\n",
    "# ib=IB().connect('127.0.0.1', 4001, clientId=9) # kavi IBG live"
   ]
  },
  {
   "cell_type": "code",
   "execution_count": 2,
   "metadata": {},
   "outputs": [
    {
     "name": "stderr",
     "output_type": "stream",
     "text": [
      "Started to throttle requests\n",
      "Stopped to throttle requests\n"
     ]
    },
    {
     "name": "stdout",
     "output_type": "stream",
     "text": [
      "Wall time: 7min 6s\n"
     ]
    }
   ],
   "source": [
    "%%time\n",
    "import pandas as pd\n",
    "import numpy as np\n",
    "import datetime\n",
    "\n",
    "#******         Paths and variables         ****\n",
    "#_______________________________________________\n",
    "\n",
    "datapath = r'./zdata/'\n",
    "market = 'NSE'\n",
    "\n",
    "#......     Get the positions   .......\n",
    "p = ib.positions()\n",
    "\n",
    "df_positions = pd.DataFrame([(i.contract.conId, i.position, i.avgCost) for i in p], \n",
    "             columns=['conId', 'position', 'avgCost'])\n",
    "\n",
    "\n",
    "#.....     Get the contracts   .......\n",
    "contracts = [Contract(conId=i.contract.conId, exchange='NSE') for i in p]\n",
    "qual_contracts = ib.qualifyContracts(*contracts)\n",
    "\n",
    "# make dataframe of qualified contracts\n",
    "df_c = util.df([(c['Contract']) for c in util.tree(qual_contracts)])\n",
    "\n",
    "# to put contracts as a new column in the dataframe, capture it\n",
    "df_c1 = pd.DataFrame([c for c in qual_contracts], columns=['contract'])\n",
    "\n",
    "df_contracts = pd.concat([df_c, df_c1], axis=1)\n",
    "\n",
    "#.....   Get yesterday's ohlc   ........\n",
    "hist_data = [ib.reqHistoricalData(contract=c, endDateTime='', durationStr='1 D', \n",
    "                      barSizeSetting='1 day', whatToShow='BID', useRTH=True) \n",
    "for i in range(0, len(qual_contracts), 50)\n",
    "                    for c in qual_contracts[i:i+50]]\n",
    "\n",
    "# Get details from the Bar and remove empty [] from the list\n",
    "hist_list = []\n",
    "for x in hist_data:\n",
    "    if x != []:\n",
    "        for h in x:\n",
    "            hist_list.append((h.date, h.open, h.high, h.low, h.close))\n",
    "    else:\n",
    "        hist_list.append(0)\n",
    "\n",
    "# make yesterday's dataframe\n",
    "cols=['D', 'O', 'H', 'L', 'C']\n",
    "df_yesterday = pd.DataFrame([x \n",
    "                             if isinstance(x, tuple) \n",
    "                             else (x, x) \n",
    "                             for x in hist_list], \n",
    "                            columns=cols)\n",
    "\n",
    "#.....    Merge the dataframes and get target price  ....\n",
    "df1 = pd.concat([df_positions, df_yesterday], axis=1)\n",
    "\n",
    "df2 = df1.merge(df_contracts,how='left', on='conId')\n",
    "\n",
    "# get the DTE\n",
    "df2['DTE'] = (pd.to_datetime(df2.lastTradeDateOrContractMonth) - datetime.datetime.now()).dt.days\n",
    "\n",
    "# get expected price from DTE\n",
    "def get_expPct(x):\n",
    "    '''Gets the expected price percentage from DTE\n",
    "    Assumes max DTE to be 30 days\n",
    "    Arg: (x) as float\n",
    "    Returns: expPrice as float\n",
    "    Ref: http://interactiveds.com.au/software/Linest-poly.xls\n",
    "    '''\n",
    "    if x > 30:\n",
    "        x = 30  # Forces the max DTE to be 30\n",
    "    \n",
    "    expPrice = 103.6008 - 3.63457*x + 0.03454677*x*x\n",
    "    return expPrice/100\n",
    "\n",
    "df2['expPrice'] = df2.DTE.apply(get_expPct)*df2.avgCost\n",
    "\n",
    "# Set target price to be lower than yesterday's low and expPrice\n",
    "# ...rounded to 0.05\n",
    "df2['tgtPrice'] = df2[['L', 'expPrice']].min(axis=1).apply(lambda x: round(x*2,1)/2)\n",
    "\n",
    "df2['order'] = [LimitOrder(action='BUY',totalQuantity=-position, lmtPrice=tgt_price)\n",
    "            for position, tgt_price in zip(df2.position, df2.tgtPrice)]"
   ]
  },
  {
   "cell_type": "code",
   "execution_count": 3,
   "metadata": {},
   "outputs": [
    {
     "data": {
      "text/plain": [
       "181"
      ]
     },
     "execution_count": 3,
     "metadata": {},
     "output_type": "execute_result"
    }
   ],
   "source": [
    "len(df2)"
   ]
  },
  {
   "cell_type": "code",
   "execution_count": null,
   "metadata": {},
   "outputs": [],
   "source": [
    "#------------------------------------------------\n",
    "# WARNING: THIS SECTION PLACES CLOSING TRADES\n",
    "#________________________________________________"
   ]
  },
  {
   "cell_type": "code",
   "execution_count": null,
   "metadata": {},
   "outputs": [],
   "source": [
    "# ....    Cancel all openorders   .....\n",
    "cancels = ib.reqGlobalCancel()"
   ]
  },
  {
   "cell_type": "code",
   "execution_count": 4,
   "metadata": {},
   "outputs": [
    {
     "name": "stderr",
     "output_type": "stream",
     "text": [
      "Started to throttle requests\n",
      "Error 463, reqId 1866: You must enter a valid price.\n",
      "Canceled order: Trade(contract=Contract(secType='OPT', conId=335383983, symbol='RCOM', lastTradeDateOrContractMonth='20181227', strike=9.0, right='P', multiplier='1', exchange='NSE', currency='INR', localSymbol='RCOM18DEC9PE', tradingClass='RCOM'), order=LimitOrder(orderId=1866, clientId=9, action='BUY', totalQuantity=28000.0, lmtPrice=0.0), orderStatus=OrderStatus(status='Cancelled'), fills=[], log=[TradeLogEntry(time=datetime.datetime(2018, 12, 6, 16, 17, 14, 621237, tzinfo=datetime.timezone.utc), status='PendingSubmit', message=''), TradeLogEntry(time=datetime.datetime(2018, 12, 6, 16, 17, 16, 578443, tzinfo=datetime.timezone.utc), status='Cancelled', message='Error 463, reqId 1866: You must enter a valid price.')])\n",
      "Stopped to throttle requests\n"
     ]
    }
   ],
   "source": [
    "# ....   Place closing trades    .....\n",
    "closingTrade = [ib.placeOrder(contract, order) for contract, order in zip(df2.contract, df2.order)]"
   ]
  },
  {
   "cell_type": "code",
   "execution_count": 5,
   "metadata": {},
   "outputs": [],
   "source": [
    "# Write closed orders placed to file\n",
    "x  =  datapath + datetime.datetime.now().strftime(\"%Y%m%d_%H%M%S\") + \"_closing_orders.xlsx\"\n",
    "writer = pd.ExcelWriter(x)\n",
    "df2.to_excel(writer, 'all-options', index=False, header=1)\n",
    "writer.save()"
   ]
  },
  {
   "cell_type": "code",
   "execution_count": 6,
   "metadata": {},
   "outputs": [],
   "source": [
    "ib.disconnect()"
   ]
  },
  {
   "cell_type": "code",
   "execution_count": null,
   "metadata": {},
   "outputs": [],
   "source": []
  }
 ],
 "metadata": {
  "kernelspec": {
   "display_name": "Python 3",
   "language": "python",
   "name": "python3"
  },
  "language_info": {
   "codemirror_mode": {
    "name": "ipython",
    "version": 3
   },
   "file_extension": ".py",
   "mimetype": "text/x-python",
   "name": "python",
   "nbconvert_exporter": "python",
   "pygments_lexer": "ipython3",
   "version": "3.6.6"
  }
 },
 "nbformat": 4,
 "nbformat_minor": 2
}
