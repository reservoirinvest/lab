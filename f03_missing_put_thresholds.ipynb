{
 "cells": [
  {
   "cell_type": "code",
   "execution_count": 2,
   "metadata": {},
   "outputs": [],
   "source": [
    "# Program helps in identifying missing NSE put 'thresholds'\n",
    "\n",
    "import pandas as pd\n",
    "\n",
    "path = 'C:/Users/User/Documents/Scripts/IB/python/lab/zdata/'\n",
    "\n",
    "# read the files\n",
    "eq = pd.read_pickle(path+'df_nse_eq_symbols.pkl')\n",
    "idx = pd.read_pickle(path+'df_nse_idx_symbols.pkl')\n",
    "th = pd.read_csv(path+'put_threshold1.csv', header=None)\n",
    "\n",
    "th.columns=['Desc', 'Symbol', 'Type', 'Mkt', 'Put_Th']"
   ]
  },
  {
   "cell_type": "code",
   "execution_count": 30,
   "metadata": {},
   "outputs": [
    {
     "name": "stdout",
     "output_type": "stream",
     "text": [
      "DES,BOSCHLTD,STK,NSE\n",
      "DES,BRITANNIA,STK,NSE\n",
      "DES,LTFH,STK,NSE\n",
      "DES,MM,STK,NSE\n",
      "DES,MMFIN,STK,NSE\n",
      "DES,MRF,STK,NSE\n",
      "DES,OFSS,STK,NSE\n",
      "DES,PAGEIND,STK,NSE\n",
      "DES,SHREECEM,STK,NSE\n"
     ]
    }
   ],
   "source": [
    "# copy output to puts_threshold csv\n",
    "eq_missing = [e for e in eq.ibSymbol if e not in list(th.Symbol)]\n",
    "for m in eq_missing:\n",
    "    print('DES,'+ m + ',STK,NSE')"
   ]
  },
  {
   "cell_type": "code",
   "execution_count": 35,
   "metadata": {},
   "outputs": [
    {
     "name": "stdout",
     "output_type": "stream",
     "text": [
      "DES,USDINR,IND,NSE\n",
      "DES,NIFTYIT,IND,NSE\n",
      "DES,NIFTYMID50,IND,NSE\n",
      "DES,NIFTYPSE,IND,NSE\n",
      "DES,NIFTYINFRA,IND,NSE\n"
     ]
    }
   ],
   "source": [
    "idx_missing = [i for i in idx.ibSymbol if i not in list(th.Symbol)]\n",
    "for m in idx_missing:\n",
    "    print('DES,'+ m + ',IND,NSE')"
   ]
  },
  {
   "cell_type": "code",
   "execution_count": null,
   "metadata": {},
   "outputs": [],
   "source": []
  }
 ],
 "metadata": {
  "kernelspec": {
   "display_name": "Python 3",
   "language": "python",
   "name": "python3"
  },
  "language_info": {
   "codemirror_mode": {
    "name": "ipython",
    "version": 3
   },
   "file_extension": ".py",
   "mimetype": "text/x-python",
   "name": "python",
   "nbconvert_exporter": "python",
   "pygments_lexer": "ipython3",
   "version": "3.6.6"
  }
 },
 "nbformat": 4,
 "nbformat_minor": 2
}
