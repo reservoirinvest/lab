{
 "cells": [
  {
   "cell_type": "code",
   "execution_count": 1,
   "metadata": {},
   "outputs": [
    {
     "name": "stdout",
     "output_type": "stream",
     "text": [
      "Wall time: 6.48 s\n"
     ]
    }
   ],
   "source": [
    "%%time\n",
    "# Margin and lots extraction\n",
    "\n",
    "# STATUS: Complete\n",
    "# Runtime: 5 secs\n",
    "\n",
    "import requests\n",
    "import datetime\n",
    "import pandas as pd\n",
    "\n",
    "#******         Paths and variables         ****\n",
    "#_______________________________________________\n",
    "\n",
    "datapath = r'./zdata/'\n",
    "\n",
    "#******     Streamline pickled option symbols     ****\n",
    "#_____________________________________________________\n",
    "\n",
    "df_ib_options = pd.read_pickle(datapath+'df_nse_options.pkl')\n",
    "\n",
    "# ***** Get list with Mlots + Margin% from 5paisa\n",
    "paisaurl = \"https://www.5paisa.com/5pit/spma.asp\"\n",
    "df_paisa = pd.read_html(paisaurl, header=0)[1].drop_duplicates(subset='Symbol')\n",
    "\n",
    "df_paisa1 = df_paisa[['Symbol', 'Mlot', 'TotMgn%']].sort_values('Symbol').reset_index(drop=True)\n",
    "\n",
    "# Rename Symbol and Margin fields\n",
    "df_paisa1 = df_paisa1.rename(columns={'Symbol': 'nseSymbol', 'TotMgn%': 'marginpct'})\n",
    "\n",
    "# Convert columns to numeric and make margin to pct\n",
    "df_paisa1 = df_paisa1.apply(pd.to_numeric, errors='ignore')\n",
    "df_paisa1.marginpct = df_paisa1.marginpct.div(100)\n",
    "\n",
    "# Dataframe lookup between nseSymbol and ibSymbol\n",
    "df_ib_nse = pd.concat([pd.read_pickle(datapath+'df_nse_eq_symbols.pkl'), \n",
    "            pd.read_pickle(datapath+'df_nse_idx_symbols.pkl')]).\\\n",
    "            reset_index(drop=True)[['ibSymbol','nseSymbol']]\n",
    "\n",
    "# Merge to get the ibSymbol\n",
    "df_paisa2 = df_paisa1.merge(df_ib_nse, on='nseSymbol')\n",
    "\n",
    "df_paisa2.to_pickle(datapath+'df_underlying.pkl')"
   ]
  },
  {
   "cell_type": "code",
   "execution_count": null,
   "metadata": {},
   "outputs": [],
   "source": [
    "df_paisa2"
   ]
  },
  {
   "cell_type": "code",
   "execution_count": null,
   "metadata": {},
   "outputs": [],
   "source": []
  }
 ],
 "metadata": {
  "kernelspec": {
   "display_name": "Python 3",
   "language": "python",
   "name": "python3"
  },
  "language_info": {
   "codemirror_mode": {
    "name": "ipython",
    "version": 3
   },
   "file_extension": ".py",
   "mimetype": "text/x-python",
   "name": "python",
   "nbconvert_exporter": "python",
   "pygments_lexer": "ipython3",
   "version": "3.6.6"
  }
 },
 "nbformat": 4,
 "nbformat_minor": 2
}
