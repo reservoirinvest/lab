{
 "cells": [
  {
   "cell_type": "code",
   "execution_count": 2,
   "metadata": {},
   "outputs": [
    {
     "name": "stdout",
     "output_type": "stream",
     "text": [
      "Wall time: 34.3 s\n"
     ]
    }
   ],
   "source": [
    "%%time\n",
    "# Program makes the pre-order dataframe\n",
    "\n",
    "# STATUS: Complete\n",
    "# Runtime: 5 secs\n",
    "\n",
    "#***          Start ib_insync (run once)       *****\n",
    "#___________________________________________________\n",
    "\n",
    "from ib_insync import *\n",
    "util.startLoop()\n",
    "ib=IB().connect('127.0.0.1', 7496, clientId=7) # kavi TWS live\n",
    "# ib=IB().connect('127.0.0.1', 4001, clientId=7) # kavi IBG live\n",
    "\n",
    "import pandas as pd\n",
    "import numpy as np\n",
    "\n",
    "#******         Paths and variables         ****\n",
    "#_______________________________________________\n",
    "\n",
    "datapath = r'./zdata/'\n",
    "th_file = r'./put_threshold1.csv'  # thresold file with min close values\n",
    "po_file = r'./df_preorder_puts.pkl' # \n",
    "\n",
    "# Read the put thresholds\n",
    "df_th = pd.read_csv(datapath+th_file, sep=',', \n",
    "            header=None).rename(columns={1: 'ibSymbol', 4: 'Threshold'}).drop([0,2,3],1)\n",
    "\n",
    "df_th.Threshold = df_th.Threshold.astype(float)\n",
    "\n",
    "# Read the preorder puts\n",
    "df_puts = pd.read_pickle(datapath+'df_preorder_puts.pkl')\n",
    "\n",
    "# Filter based on thresholds\n",
    "cols = ['ibSymbol', 'undPrice', 'Strike', 'Expiry', 'DTE', \n",
    "        'pLTP', 'pBidPrice', 'tgt_price', 'Type', 'Mlot', 'Delta', 'RoM']\n",
    "df_puts1 = df_puts[cols]\n",
    "df_puts2 = df_puts1.merge(df_th)\n",
    "df_puts3 = df_puts2[df_puts2.Strike <= df_puts2.Threshold].reset_index(drop=True)\n",
    "\n",
    "# convert expiry to the format required by IBKR\n",
    "df_puts3.Expiry = df_puts3.Expiry.dt.strftime('%Y%m%d')\n",
    "\n",
    "#****       Placing the Orders    ********\n",
    "\n",
    "# Qualify the contracts and put them into a dataframe\n",
    "c_list = [Option(symbol=symbol, exchange='NSE', \n",
    "       lastTradeDateOrContractMonth=expiry, strike=str(strike), right='P') \n",
    "for symbol, strike, expiry in zip(df_puts3.ibSymbol, df_puts3.Strike, df_puts3.Expiry)]\n",
    "\n",
    "contracts = [c for i in range(0, len(c_list), 50) \n",
    "             for c in ib.qualifyContracts(*c_list[i: i+50])]\n",
    "\n",
    "cols = ['ibSymbol', 'Expiry', 'Strike', 'Type']\n",
    "df_contracts = pd.DataFrame([(c.symbol, c.lastTradeDateOrContractMonth, c.strike, c.right, c) \n",
    "              for c in contracts], columns=cols+['Contract'])\n",
    "\n",
    "# prepare to make the orders\n",
    "df_orders = pd.merge(df_puts3, df_contracts, on=cols).sort_values(['RoM'], \n",
    "                    ascending=False).reset_index(drop=True)\n",
    "\n",
    "df_orders['Orders'] = [LimitOrder(action='SELL', totalQuantity=mlot, lmtPrice=price) \n",
    "for mlot, price in zip(df_orders.Mlot, df_orders.tgt_price)]\n",
    "\n",
    "df_orders.to_pickle(datapath+'df_orders.pkl')\n",
    "\n",
    "ib.disconnect()"
   ]
  },
  {
   "cell_type": "code",
   "execution_count": null,
   "metadata": {},
   "outputs": [],
   "source": []
  }
 ],
 "metadata": {
  "kernelspec": {
   "display_name": "Python 3",
   "language": "python",
   "name": "python3"
  },
  "language_info": {
   "codemirror_mode": {
    "name": "ipython",
    "version": 3
   },
   "file_extension": ".py",
   "mimetype": "text/x-python",
   "name": "python",
   "nbconvert_exporter": "python",
   "pygments_lexer": "ipython3",
   "version": "3.6.6"
  }
 },
 "nbformat": 4,
 "nbformat_minor": 2
}
