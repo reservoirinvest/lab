{
 "cells": [
  {
   "cell_type": "code",
   "execution_count": null,
   "metadata": {},
   "outputs": [],
   "source": [
    "# Program places orders\n",
    "\n",
    "# STATUS: Incomplete\n",
    "\n",
    "\n",
    "#***          Start ib_insync (run once)       *****\n",
    "#___________________________________________________\n",
    "\n",
    "from ib_insync import *\n",
    "util.startLoop()\n",
    "ib=IB().connect('127.0.0.1', 7496, clientId=1) # kavi TWS live\n",
    "# ib=IB().connect('127.0.0.1', 4001, clientId=3) # kavi IBG live"
   ]
  }
 ],
 "metadata": {
  "kernelspec": {
   "display_name": "Python 3",
   "language": "python",
   "name": "python3"
  },
  "language_info": {
   "codemirror_mode": {
    "name": "ipython",
    "version": 3
   },
   "file_extension": ".py",
   "mimetype": "text/x-python",
   "name": "python",
   "nbconvert_exporter": "python",
   "pygments_lexer": "ipython3",
   "version": "3.6.6"
  }
 },
 "nbformat": 4,
 "nbformat_minor": 2
}
