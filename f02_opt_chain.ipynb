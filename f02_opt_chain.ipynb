{
 "cells": [
  {
   "cell_type": "code",
   "execution_count": 9,
   "metadata": {},
   "outputs": [],
   "source": [
    "# Dataframe from NSE Option Chains\n",
    "\n",
    "# STATUS: Complete\n",
    "\n",
    "import requests\n",
    "import lxml.html as lh\n",
    "import datetime as dt\n",
    "import pandas as pd\n",
    "import numpy as np\n",
    "\n",
    "symbol = 'ACC'  # Sample symbol\n",
    "\n",
    "url_base = \"https://nseindia.com/live_market/dynaContent/live_watch/option_chain/optionKeys.jsp?symbol=\"\n",
    "url_end = '&date='\n",
    "url = url_base + symbol\n",
    "\n",
    "page = requests.get(url)\n",
    "doc = lh.fromstring(page.content)\n",
    "\n",
    "#...    Get the Expiries ...#\n",
    "#____________________________\n",
    "\n",
    "the_path= \"//form\"   # Get the form content. There are two forms\n",
    "expiries = doc.xpath(the_path)[0].text_content()\n",
    "strip_chars = [ord('\\n'), ord('\\xa0'), ord('\\t'), ord('\\r')] # characters to be stripped\n",
    "char_table = {s: ' ' for s in strip_chars} # table for translate to locate the chars\n",
    "\n",
    "sym_exp = expiries.translate(char_table).split() # split converts the translated dict into list\n",
    "\n",
    "# Get the expiries only, from the table\n",
    "expiry = [sym_exp[k+i] \n",
    " for k, v in enumerate(sym_exp) \n",
    " if v in 'Select' \n",
    " for i in range(len(sym_exp) - k)][1:]\n",
    "\n",
    "# Convert expiry to datetime\n",
    "expiry_dt = [dt.datetime.strptime(date, \"%d%b%Y\").date() for date in expiry]\n",
    "\n",
    "#...   Get the Options Data .... #\n",
    "#_________________________________\n",
    "\n",
    "tbl_path = \"//*[@id='octable']\"  # xpath for the table\n",
    "\n",
    "# The headers\n",
    "opt_head = ['cOI', 'cChnginOI', 'cVolume', 'cIV', 'cLTP', \n",
    "            'cNetChng', 'cBidQty', 'cBidPrice', 'cAskPrice', 'cAskQty', 'Strike', \n",
    "            'pBidQty', 'pBidPrice', 'pAskPrice', 'pAskQty', 'pNetChng', 'pLTP', \n",
    "            'pIV', 'pVolume', 'pChnginOI', 'pOI']\n",
    "\n",
    "opt_data = [tr.text_content() for table in doc.xpath(tbl_path) for tr in table[1:]]\n",
    "\n",
    "df1 = pd.DataFrame([d.split() for d in opt_data], columns=opt_head)\n",
    "\n",
    "df2 = df1.replace(',', '', regex=True) # Remove comma from numbers\n",
    "df2 = df2.apply(pd.to_numeric, errors='coerce') # Convert to numeric\n",
    "df2.insert(0, 'Expiry', expiry_dt[1]) # Insert the Expiry column\n",
    "df2.insert(0, 'nseSymbol', symbol) # Insert the Symbol\n",
    "\n",
    "# Get the underlying's price\n",
    "und_price = float(str(pd.read_html(page.text)[0][1]).split(' ')[7])\n",
    "df2.insert(loc=0, column='undPrice', value=und_price)\n",
    "\n",
    "# Rearrange the columns\n",
    "cols_beginning = ['nseSymbol', 'Expiry', 'Strike', 'undPrice']\n",
    "df2 = df2[cols_beginning + [c for c in df2 if c not in cols_beginning]]"
   ]
  },
  {
   "cell_type": "code",
   "execution_count": 10,
   "metadata": {},
   "outputs": [
    {
     "data": {
      "text/plain": [
       "[datetime.date(2018, 11, 29), datetime.date(2018, 12, 27)]"
      ]
     },
     "execution_count": 10,
     "metadata": {},
     "output_type": "execute_result"
    }
   ],
   "source": [
    "expiry_dt"
   ]
  },
  {
   "cell_type": "code",
   "execution_count": null,
   "metadata": {},
   "outputs": [],
   "source": []
  }
 ],
 "metadata": {
  "kernelspec": {
   "display_name": "Python 3",
   "language": "python",
   "name": "python3"
  },
  "language_info": {
   "codemirror_mode": {
    "name": "ipython",
    "version": 3
   },
   "file_extension": ".py",
   "mimetype": "text/x-python",
   "name": "python",
   "nbconvert_exporter": "python",
   "pygments_lexer": "ipython3",
   "version": "3.6.6"
  }
 },
 "nbformat": 4,
 "nbformat_minor": 2
}
