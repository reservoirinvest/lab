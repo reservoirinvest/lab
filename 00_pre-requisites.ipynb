{
 "cells": [
  {
   "cell_type": "markdown",
   "metadata": {},
   "source": [
    "# Pre-requisites\n",
    "This document outlines how to set-up environment \n",
    " - for [python](https://www.python.org/downloads/)\n",
    " - using [PyCharm](https://www.jetbrains.com/pycharm/download/) and [Jupyter Notebook](http://jupyter.org/install) as IDE\n",
    " - to run [IBKR TWS API]( https://interactivebrokers.github.io/) in C:\\ root for Windows\n",
    " - on [TWS](https://www.interactivebrokers.com.hk/en/index.php?f=16042) or [IB Gateway](https://www.interactivebrokers.com.hk/en/index.php?f=16457)\n",
    " - with [IB_insync](https://rawgit.com/erdewit/ib_insync/master/docs/html/readme.html#) library\n",
    " - backed up into [git](https://git-scm.com/downloads)\n",
    " \n",
    " **Note:** The instructions are for Windows 10. The same process can be used for other OS - such as Ubuntu and MacOS.\n",
    " \n",
    "## Notes to ready the software\n",
    "  1. IBKR's TWS API should be in the root folder. This needs to be shared between Python and Jupyter.\n",
    "    \n",
    "  2. For PyCharm _Create New Project_ in on any empty folder (let us call it _IB_). It is important that you do this first.\n",
    "    * Use the downloaded python (using the full path) as the interpreter of choice for PyCharm.\n",
    "    * In _File_ -> _Settings_ -> _Project:IB_ add ib-insync packages. Other packages (such as pandas) can also be added on a need basis.\n",
    "    * Add _TWS API_ as a Root Content with _File_ -> _Settings_ -> _Project:IB_ -> _Project Structure_ -> _Add Root Content_\n",
    "    * Mark Directory as Source Root via _Project_ under _IB_ -> _source_ -> _pythonclient_ -> _ibapi_\n",
    "    * Make a new Directory called _python_ in _IB_ and write your scripts there\n",
    "      \n",
    "  3. To get Jupyter recognize TWS API, go to the _C:\\TWS API\\source\\pythonclient_ and run _python setup.py install_\n",
    "    \n",
    "  4. Set the API for TWS / IB Gateway to the appropriate _Socket Port_\n",
    "    * For our example we will use IB Gateway's paper trading account with a Socket Port of 4002\n",
    "    \n",
    "  5. To update ib_insync to latest version (distribution), open anaconda and type *pip3 install -U ib_insync* in it. It will automatically update in *Users>User>Miniconda3>Lib>site-packages* the *ib_insync* and *ib_insync_0.x.xx.dist-info* folders\n",
    "  \n",
    "## Check the setup\n",
    "Run the following:\n",
    "### Importing"
   ]
  },
  {
   "cell_type": "code",
   "execution_count": null,
   "metadata": {},
   "outputs": [],
   "source": [
    "import os\n",
    "os.getcwd() "
   ]
  },
  {
   "cell_type": "code",
   "execution_count": 1,
   "metadata": {},
   "outputs": [],
   "source": [
    "from ib_insync import *\n",
    "util.startLoop() # Works only in notebooks, not in regular Python programs"
   ]
  },
  {
   "cell_type": "markdown",
   "metadata": {},
   "source": [
    "### Connecting"
   ]
  },
  {
   "cell_type": "code",
   "execution_count": 2,
   "metadata": {},
   "outputs": [
    {
     "data": {
      "text/plain": [
       "<IB connected to 127.0.0.1:4004 clientId=1>"
      ]
     },
     "execution_count": 2,
     "metadata": {},
     "output_type": "execute_result"
    }
   ],
   "source": [
    "ib=IB() # Instance of IB main class\n",
    "ib.connect('127.0.0.1', 4004, clientId=1)    # Run this only on Paper Trades"
   ]
  },
  {
   "cell_type": "markdown",
   "metadata": {},
   "source": [
    "### Test the connection"
   ]
  },
  {
   "cell_type": "code",
   "execution_count": 3,
   "metadata": {},
   "outputs": [
    {
     "name": "stdout",
     "output_type": "stream",
     "text": [
      "['util', 'Object', 'ContractDetails', 'ContractDescription', 'ComboLeg', 'UnderComp', 'DeltaNeutralContract', 'OrderComboLeg', 'OrderState', 'ScannerSubscription', 'SoftDollarTier', 'PriceIncrement', 'Execution', 'CommissionReport', 'ExecutionFilter', 'BarList', 'BarDataList', 'RealTimeBarList', 'BarData', 'RealTimeBar', 'HistogramData', 'TickAttrib', 'NewsProvider', 'DepthMktDataDescription', 'PnL', 'PnLSingle', 'AccountValue', 'RealTimeBar', 'TickData', 'TickByTickAllLast', 'TickByTickBidAsk', 'TickByTickMidPoint', 'HistoricalTick', 'HistoricalTickBidAsk', 'HistoricalTickLast', 'MktDepthData', 'DOMLevel', 'BracketOrder', 'TradeLogEntry', 'ScanData', 'TagValue', 'PortfolioItem', 'Position', 'Fill', 'OptionComputation', 'OptionChain', 'Dividends', 'NewsArticle', 'HistoricalNews', 'NewsTick', 'NewsBulletin', 'ConnectionStats', 'OrderCondition', 'ExecutionCondition', 'OperatorCondition', 'MarginCondition', 'ContractCondition', 'TimeCondition', 'PriceCondition', 'PercentChangeCondition', 'VolumeCondition', 'Event', 'Contract', 'Stock', 'Option', 'Future', 'ContFuture', 'Forex', 'Index', 'CFD', 'Commodity', 'Bond', 'FuturesOption', 'MutualFund', 'Warrant', 'Trade', 'OrderStatus', 'Order', 'LimitOrder', 'MarketOrder', 'StopOrder', 'StopLimitOrder', 'Ticker', 'IB', 'Client', 'Wrapper', 'FlexReport', 'FlexError', 'IBC', 'IBController', 'Watchdog']\n"
     ]
    }
   ],
   "source": [
    "import ib_insync\n",
    "print(ib_insync.__all__)"
   ]
  },
  {
   "cell_type": "code",
   "execution_count": 4,
   "metadata": {},
   "outputs": [
    {
     "data": {
      "text/plain": [
       "[AccountValue(account='DU652569', tag='NetLiquidationByCurrency', value='1000000.00', currency='BASE', modelCode='')]"
      ]
     },
     "execution_count": 4,
     "metadata": {},
     "output_type": "execute_result"
    }
   ],
   "source": [
    "[v for v in ib.accountValues() if v.tag == 'NetLiquidationByCurrency' and v.currency == 'BASE']\n",
    "\n",
    "# Output would be something like:\n",
    "#[AccountValue(account='DUxxxxxx', tag='NetLiquidationByCurrency', value='1009909.26', currency='BASE', modelCode='')]"
   ]
  },
  {
   "cell_type": "code",
   "execution_count": 5,
   "metadata": {},
   "outputs": [],
   "source": [
    "# %%time\n",
    "\n",
    "contract = Stock('TSLA', 'SMART', 'USD')\n",
    "cds = ib.reqContractDetails(contract)"
   ]
  },
  {
   "cell_type": "code",
   "execution_count": 6,
   "metadata": {},
   "outputs": [
    {
     "data": {
      "text/plain": [
       "[ContractDetails(contract=Contract(secType='STK', conId=76792991, symbol='TSLA', exchange='SMART', primaryExchange='NASDAQ', currency='USD', localSymbol='TSLA', tradingClass='NMS'), marketName='NMS', minTick=0.01, orderTypes='ACTIVETIM,ADJUST,ALERT,ALGO,ALLOC,AON,AVGCOST,BASKET,COND,CONDORDER,DARKONLY,DARKPOLL,DAY,DEACT,DEACTDIS,DEACTEOD,DIS,GAT,GTC,GTD,GTT,HID,IBKRATS,ICE,IMB,IOC,LIT,LMT,LOC,MIT,MKT,MOC,MTL,NGCOMB,NODARK,NONALGO,OCA,OPG,OPGREROUT,PEGBENCH,POSTONLY,PREOPGRTH,REL,RPI,RTH,SCALE,SCALEODD,SCALERST,SMARTSTG,SNAPMID,SNAPMKT,SNAPREL,STP,STPLMT,SWEEP,TRAIL,TRAILLIT,TRAILLMT,TRAILMIT,WHATIF', validExchanges='SMART,AMEX,NYSE,CBOE,ISE,CHX,ARCA,ISLAND,DRCTEDGE,BEX,BATS,EDGEA,CSFBALGO,JEFFALGO,BYX,IEX,CVGXALGO,NYSENAT,PSX', priceMagnifier=1, longName='TESLA INC', industry='Consumer, Cyclical', category='Auto Manufacturers', subcategory='Auto-Cars/Light Trucks', timeZoneId='EST', tradingHours='20180704:CLOSED;20180705:0400-20180705:2000;20180706:0400-20180706:2000;20180707:CLOSED;20180708:CLOSED;20180709:0400-20180709:2000;20180710:0400-20180710:2000;20180711:0400-20180711:2000;20180712:0400-20180712:2000;20180713:0400-20180713:2000;20180714:CLOSED;20180715:CLOSED;20180716:0400-20180716:2000;20180717:0400-20180717:2000;20180718:0400-20180718:2000;20180719:0400-20180719:2000;20180720:0400-20180720:2000;20180721:CLOSED;20180722:CLOSED;20180723:0400-20180723:2000;20180724:0400-20180724:2000;20180725:0400-20180725:2000;20180726:0400-20180726:2000;20180727:0400-20180727:2000;20180728:CLOSED;20180729:CLOSED;20180730:0400-20180730:2000;20180731:0400-20180731:2000;20180801:0400-20180801:2000;20180802:0400-20180802:2000;20180803:0400-20180803:2000;20180804:CLOSED;20180805:CLOSED;20180806:0400-20180806:2000;20180807:0400-20180807:2000', liquidHours='20180704:CLOSED;20180705:0930-20180705:1600;20180706:0930-20180706:1600;20180707:CLOSED;20180708:CLOSED;20180709:0930-20180709:1600;20180710:0930-20180710:1600;20180711:0930-20180711:1600;20180712:0930-20180712:1600;20180713:0930-20180713:1600;20180714:CLOSED;20180715:CLOSED;20180716:0930-20180716:1600;20180717:0930-20180717:1600;20180718:0930-20180718:1600;20180719:0930-20180719:1600;20180720:0930-20180720:1600;20180721:CLOSED;20180722:CLOSED;20180723:0930-20180723:1600;20180724:0930-20180724:1600;20180725:0930-20180725:1600;20180726:0930-20180726:1600;20180727:0930-20180727:1600;20180728:CLOSED;20180729:CLOSED;20180730:0930-20180730:1600;20180731:0930-20180731:1600;20180801:0930-20180801:1600;20180802:0930-20180802:1600;20180803:0930-20180803:1600;20180804:CLOSED;20180805:CLOSED;20180806:0930-20180806:1600;20180807:0930-20180807:1600', mdSizeMultiplier=100, aggGroup=1, marketRuleIds='26,26,26,26,26,26,26,26,26,26,26,26,26,26,26,26,26,26,26')]"
      ]
     },
     "execution_count": 6,
     "metadata": {},
     "output_type": "execute_result"
    }
   ],
   "source": [
    "cds"
   ]
  },
  {
   "cell_type": "markdown",
   "metadata": {},
   "source": [
    "### Disconnect\n",
    "To disconnect the session"
   ]
  },
  {
   "cell_type": "code",
   "execution_count": 7,
   "metadata": {},
   "outputs": [],
   "source": [
    "ib.disconnect()"
   ]
  },
  {
   "cell_type": "code",
   "execution_count": null,
   "metadata": {},
   "outputs": [],
   "source": []
  }
 ],
 "metadata": {
  "kernelspec": {
   "display_name": "Python 3",
   "language": "python",
   "name": "python3"
  },
  "language_info": {
   "codemirror_mode": {
    "name": "ipython",
    "version": 3
   },
   "file_extension": ".py",
   "mimetype": "text/x-python",
   "name": "python",
   "nbconvert_exporter": "python",
   "pygments_lexer": "ipython3",
   "version": "3.6.6"
  }
 },
 "nbformat": 4,
 "nbformat_minor": 2
}
