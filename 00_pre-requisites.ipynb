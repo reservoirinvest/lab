{
 "cells": [
  {
   "cell_type": "markdown",
   "metadata": {},
   "source": [
    "# Pre-requisites\n",
    "This document outlines how to set-up environment \n",
    " - for [python](https://www.python.org/downloads/)\n",
    " - using [PyCharm](https://www.jetbrains.com/pycharm/download/) and [Jupyter Notebook](http://jupyter.org/install) as IDE\n",
    " - to run [IBKR TWS API]( https://interactivebrokers.github.io/) in C:\\ root for Windows\n",
    " - on [TWS](https://www.interactivebrokers.com.hk/en/index.php?f=16042) or [IB Gateway](https://www.interactivebrokers.com.hk/en/index.php?f=16457)\n",
    " - with [IB_insync](https://rawgit.com/erdewit/ib_insync/master/docs/html/readme.html#) library\n",
    " - backed up into [git](https://git-scm.com/downloads)\n",
    " \n",
    " **Note:** The instructions are for Windows 10. The same process can be used for other OS - such as Ubuntu and MacOS.\n",
    " \n",
    "## Notes to ready the software\n",
    "  1. IBKR's TWS API should be in the root folder. This needs to be shared between Python and Jupyter.\n",
    "    \n",
    "  2. For PyCharm _Create New Project_ in on any empty folder (let us call it _IB_). It is important that you do this first.\n",
    "    * Use the downloaded python (using the full path) as the interpreter of choice for PyCharm.\n",
    "    * In _File_ -> _Settings_ -> _Project:IB_ add ib-insync packages. Other packages (such as pandas) can also be added on a need basis.\n",
    "    * Add _TWS API_ as a Root Content with _File_ -> _Settings_ -> _Project:IB_ -> _Project Structure_ -> _Add Root Content_\n",
    "    * Mark Directory as Source Root via _Project_ under _IB_ -> _source_ -> _pythonclient_ -> _ibapi_\n",
    "    * Make a new Directory called _python_ in _IB_ and write your scripts there\n",
    "      \n",
    "  3. To get Jupyter recognize TWS API, go to the _C:\\TWS API\\source\\pythonclient_ and run _python setup.py install_\n",
    "    \n",
    "  4. Set the API for TWS / IB Gateway to the appropriate _Socket Port_\n",
    "    * For our example we will use IB Gateway's paper trading account with a Socket Port of 4002\n",
    "    \n",
    "  5. To update ib_insync to latest version (distribution), open anaconda and type *pip3 install -U ib_insync* in it. It will automatically update in *Users>User>Miniconda3>Lib>site-packages* the *ib_insync* and *ib_insync_0.x.xx.dist-info* folders\n",
    "  \n",
    "## Check the setup\n",
    "Run the following:\n",
    "### Importing"
   ]
  },
  {
   "cell_type": "code",
   "execution_count": null,
   "metadata": {},
   "outputs": [],
   "source": [
    "import os\n",
    "os.getcwd() "
   ]
  },
  {
   "cell_type": "code",
   "execution_count": null,
   "metadata": {},
   "outputs": [],
   "source": [
    "from ib_insync import *\n",
    "util.startLoop() # Works only in notebooks, not in regular Python programs"
   ]
  },
  {
   "cell_type": "markdown",
   "metadata": {},
   "source": [
    "### Connecting"
   ]
  },
  {
   "cell_type": "code",
   "execution_count": null,
   "metadata": {},
   "outputs": [],
   "source": [
    "ib=IB() # Instance of IB main class\n",
    "ib.connect('127.0.0.1', 4004, clientId=1)    # Run this only on Paper Trades"
   ]
  },
  {
   "cell_type": "markdown",
   "metadata": {},
   "source": [
    "### Test the connection"
   ]
  },
  {
   "cell_type": "code",
   "execution_count": null,
   "metadata": {},
   "outputs": [],
   "source": [
    "import ib_insync\n",
    "print(ib_insync.__all__)"
   ]
  },
  {
   "cell_type": "code",
   "execution_count": null,
   "metadata": {},
   "outputs": [],
   "source": [
    "[v for v in ib.accountValues() if v.tag == 'NetLiquidationByCurrency' and v.currency == 'BASE']\n",
    "\n",
    "# Output would be something like:\n",
    "#[AccountValue(account='DUxxxxxx', tag='NetLiquidationByCurrency', value='1009909.26', currency='BASE', modelCode='')]"
   ]
  },
  {
   "cell_type": "code",
   "execution_count": null,
   "metadata": {},
   "outputs": [],
   "source": [
    "# %%time\n",
    "\n",
    "contract = Stock('TSLA', 'SMART', 'USD')\n",
    "cds = ib.reqContractDetails(contract)"
   ]
  },
  {
   "cell_type": "code",
   "execution_count": null,
   "metadata": {},
   "outputs": [],
   "source": [
    "cds"
   ]
  },
  {
   "cell_type": "markdown",
   "metadata": {},
   "source": [
    "### Disconnect\n",
    "To disconnect the session"
   ]
  },
  {
   "cell_type": "code",
   "execution_count": null,
   "metadata": {},
   "outputs": [],
   "source": [
    "ib.disconnect()"
   ]
  },
  {
   "cell_type": "code",
   "execution_count": null,
   "metadata": {},
   "outputs": [],
   "source": []
  }
 ],
 "metadata": {
  "kernelspec": {
   "display_name": "Python 3",
   "language": "python",
   "name": "python3"
  },
  "language_info": {
   "codemirror_mode": {
    "name": "ipython",
    "version": 3
   },
   "file_extension": ".py",
   "mimetype": "text/x-python",
   "name": "python",
   "nbconvert_exporter": "python",
   "pygments_lexer": "ipython3",
   "version": "3.7.1"
  }
 },
 "nbformat": 4,
 "nbformat_minor": 2
}
