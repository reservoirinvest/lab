{
 "cells": [
  {
   "cell_type": "code",
   "execution_count": 2,
   "metadata": {},
   "outputs": [],
   "source": [
    "# Program to prepare high-probability last-date carpet-bombing trade\n",
    "\n",
    "# ...Program takes only 1-day expiry Puts\n",
    "# ...Establishes safe-trades with Delta = 1\n",
    "# ...makes df_lastday.pkl for order processing\n",
    "\n",
    "# STATUS: Incomplete\n",
    "# Runtime: 25 sec for 1,000 records\n",
    "\n",
    "#***          Start ib_insync (run once)       *****\n",
    "#___________________________________________________\n",
    "\n",
    "from ib_insync import *\n",
    "util.startLoop()\n",
    "# ib=IB().connect('127.0.0.1', 7496, clientId=3) # kavi TWS live\n",
    "ib=IB().connect('127.0.0.1', 4001, clientId=3) # kavi IBG live"
   ]
  },
  {
   "cell_type": "code",
   "execution_count": null,
   "metadata": {},
   "outputs": [],
   "source": [
    "%%time\n",
    "import pandas as pd\n",
    "import numpy as np\n",
    "import datetime\n",
    "\n",
    "#******         Paths and variables         ****\n",
    "#_______________________________________________\n",
    "\n",
    "datapath = r'./zdata/'\n",
    "\n",
    "# Read the main file\n",
    "df_main = pd.read_pickle(datapath+'df_main.pkl')\n",
    "\n",
    "# Filters puts out with Delta 1 and RoM > 0\n",
    "puts_df = df_main.loc[(df_main.Type == 'p') & (df_main.Delta == 1) & (df_main.RoM > 0), :]\n",
    "\n",
    "# mask for columns\n",
    "put_cols = ['ibSymbol', 'undPrice', 'Strike', 'Expiry', 'DTE', 'pLTP', 'pBidPrice', \n",
    "            'Type', 'Mlot', 'Delta', 'RoM']\n",
    "\n",
    "# Filter out 1-day expiry puts\n",
    "t_puts = puts_df.loc[puts_df.DTE == 1, put_cols].sort_values(['DTE', 'RoM'], ascending=False)\n",
    "\n",
    "# Compute price variance percentage\n",
    "t_puts['price_var'] = (t_puts.pBidPrice - t_puts.pLTP)\n",
    "t_puts['price_var_pct'] = (t_puts.pBidPrice - t_puts.pLTP)/t_puts.pBidPrice\n",
    "\n",
    "# Establish target price and weed substitute NaN with bidprice\n",
    "t_puts['tgt_price'] = np.where(t_puts.price_var < -10, t_puts.pBidPrice+0.15, t_puts.pLTP)\n",
    "t_puts.loc[t_puts.tgt_price.isna(), 'tgt_price'] = t_puts.pBidPrice + 0.15\n",
    "\n",
    "# Qualify the contracts, make orders and put in dataframe\n",
    "c_list = [Option(symbol=symbol, exchange='NSE', \n",
    "       lastTradeDateOrContractMonth='20181129', strike=str(strike), right='P') \n",
    "for symbol, strike in zip(t_puts.ibSymbol, t_puts.Strike)]\n",
    "\n",
    "contracts = [c for i in range(0, len(c_list), 50) for c in ib.qualifyContracts(*c_list[i: i+50])]\n",
    "t_puts['Contracts'] = contracts\n",
    "\n",
    "t_puts['Orders'] = [LimitOrder(action='SELL', totalQuantity=mlot, lmtPrice=price) \n",
    "for mlot, price in zip(t_puts.Mlot, t_puts.tgt_price)]\n",
    "\n",
    "# Check the data\n",
    "t_puts.head()\n",
    "\n",
    "# Pickle for placing the orders\n",
    "if not t_puts.empty:\n",
    "    t_puts.to_pickle(datapath+r'df_last_day_orders.pkl')\n",
    "    t_puts.to_excel(datapath+'df_last_day_orders.xlsx', header=1, freeze_panes=(2,1))\n",
    "\n",
    "# Disconnect the session\n",
    "ib.disconnect()"
   ]
  },
  {
   "cell_type": "code",
   "execution_count": 14,
   "metadata": {},
   "outputs": [],
   "source": []
  },
  {
   "cell_type": "code",
   "execution_count": null,
   "metadata": {},
   "outputs": [],
   "source": []
  }
 ],
 "metadata": {
  "kernelspec": {
   "display_name": "Python 3",
   "language": "python",
   "name": "python3"
  },
  "language_info": {
   "codemirror_mode": {
    "name": "ipython",
    "version": 3
   },
   "file_extension": ".py",
   "mimetype": "text/x-python",
   "name": "python",
   "nbconvert_exporter": "python",
   "pygments_lexer": "ipython3",
   "version": "3.6.6"
  }
 },
 "nbformat": 4,
 "nbformat_minor": 2
}
