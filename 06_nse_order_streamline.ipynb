{
 "cells": [
  {
   "cell_type": "code",
   "execution_count": 1,
   "metadata": {},
   "outputs": [],
   "source": [
    "# Program streamlines orders\n",
    "\n",
    "# LAST-DAY PUTS section is for assembling orders for the last day\n",
    "\n",
    "# STATUS: Incomplete"
   ]
  },
  {
   "cell_type": "code",
   "execution_count": 3,
   "metadata": {},
   "outputs": [],
   "source": [
    "import pandas as pd\n",
    "\n",
    "#******         Paths and variables         ****\n",
    "#_______________________________________________\n",
    "\n",
    "datapath = r'./zdata/'"
   ]
  },
  {
   "cell_type": "code",
   "execution_count": 6,
   "metadata": {},
   "outputs": [],
   "source": [
    "df = pd.read_pickle(datapath+'df_main.pkl')"
   ]
  },
  {
   "cell_type": "code",
   "execution_count": null,
   "metadata": {},
   "outputs": [],
   "source": [
    "puts_df = df.loc[(df.Type == 'p') & (df.Delta == 1) & (df.RoM > 0), :]\n",
    "\n",
    "#****    Logic for last-day expiry puts   ****\n",
    "#_____________________________________________\n",
    "\n",
    "put_cols = ['ibSymbol', 'undPrice', 'Strike', 'Expiry', 'DTE', 'pLTP', 'pBidPrice', \n",
    "            'Type', 'Mlot', 'Delta', 'RoM']\n",
    "\n",
    "# Filter out 1-day expiry puts\n",
    "t_puts = puts_df.loc[puts_df.DTE == 1, put_cols].sort_values(['DTE', 'RoM'], ascending=False)\n",
    "\n",
    "# Compute price variance percentage\n",
    "t_puts['price_var'] = (t_puts.pBidPrice - t_puts.pLTP)\n",
    "t_puts['price_var_pct'] = (t_puts.pBidPrice - t_puts.pLTP)/t_puts.pBidPrice\n",
    "\n",
    "# Establish target price\n",
    "# ... Use BidPrice + 0.05 for price variance < -10, else use Last Traded Price\n",
    "# ... For others use BidPrice + 0.15\n",
    "\n",
    "t_puts['tgt_price'] = np.where(t_puts.price_var < -10, t_puts.pBidPrice+0.05, t_puts.pLTP)\n",
    "t_puts.loc[t_puts.tgt_price.isna(), 'tgt_price'] = t_puts.pBidPrice + 0.05"
   ]
  }
 ],
 "metadata": {
  "kernelspec": {
   "display_name": "Python 3",
   "language": "python",
   "name": "python3"
  },
  "language_info": {
   "codemirror_mode": {
    "name": "ipython",
    "version": 3
   },
   "file_extension": ".py",
   "mimetype": "text/x-python",
   "name": "python",
   "nbconvert_exporter": "python",
   "pygments_lexer": "ipython3",
   "version": "3.6.6"
  }
 },
 "nbformat": 4,
 "nbformat_minor": 2
}
