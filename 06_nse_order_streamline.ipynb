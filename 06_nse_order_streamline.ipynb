{
 "cells": [
  {
   "cell_type": "code",
   "execution_count": 1,
   "metadata": {},
   "outputs": [
    {
     "name": "stdout",
     "output_type": "stream",
     "text": [
      "Wall time: 1.01 s\n"
     ]
    }
   ],
   "source": [
    "%%time\n",
    "# Program streamlines orders\n",
    "\n",
    "# STATUS: Complete\n",
    "# Runtime: 250 ms\n",
    "\n",
    "import pandas as pd\n",
    "import numpy as np\n",
    "\n",
    "#******         Paths and variables         ****\n",
    "#_______________________________________________\n",
    "\n",
    "datapath = r'./zdata/'\n",
    "horizon = 50\n",
    "base_put = 0.99\n",
    "\n",
    "# Read the main file\n",
    "df_puts = pd.read_pickle(datapath+'df_main.pkl')\n",
    "\n",
    "# Compute price variance percentage\n",
    "df_puts['price_var'] = (df_puts.pBidPrice - df_puts.pLTP)\n",
    "df_puts['price_var_pct'] = (df_puts.pBidPrice - df_puts.pLTP)/df_puts.pBidPrice\n",
    "\n",
    "# Establish target price and substitute NaN with bidprice\n",
    "df_puts['tgt_price'] = np.where(df_puts.price_var < -10, df_puts.pBidPrice+0.15, df_puts.pLTP)\n",
    "df_puts.loc[df_puts.tgt_price.isna(), 'tgt_price'] = df_puts.pBidPrice + 0.15\n",
    "\n",
    "# Determine return on margin\n",
    "df_puts['RoM'] = df_puts.tgt_price/df_puts.marginpct/df_puts.undPrice*252/df_puts.DTE*100\n",
    "\n",
    "# Filter the puts with some RoM\n",
    "df_puts = df_puts.loc[(df_puts.Type == 'P') & \n",
    "                      (df_puts.RoM > 0), :].sort_values(['ibSymbol', \n",
    "                                                         'DTE', 'RoM'], ascending=False)\n",
    "\n",
    "cols = ['ibSymbol', 'undPrice', 'Strike', 'Expiry', 'DTE', \n",
    "        'pLTP', 'pBidPrice', 'tgt_price', 'Type', 'Mlot', 'Delta', 'RoM']\n",
    "\n",
    "# Screen timeframe within horizon\n",
    "df_puts1 = df_puts[(df_puts.DTE.between(11, horizon, inclusive=False))]\n",
    "\n",
    "# Keep only high delta records\n",
    "df_puts2 = df_puts1[df_puts1.Delta >= base_put]\n",
    "\n",
    "# Sort for RoM\n",
    "df_puts2 = df_puts2.sort_values(['RoM'], ascending=False)\n",
    "\n",
    "# Pickle the puts\n",
    "df_puts2.to_pickle(datapath+'df_preorder_puts.pkl')\n",
    "\n",
    "# make csv for lower-limit of options\n",
    "df_th = pd.DataFrame(df_puts2[cols].sort_values(['RoM'], \n",
    "                    ascending=False).ibSymbol.unique())\n",
    "df_th['Des'] = 'DES'   \n",
    "df_th['Market'] = 'NSE'\n",
    "\n",
    "df_th = df_th[['Des', 0, 'Market']].rename(\\\n",
    "    columns={0:'ibSymbol'}).sort_values(['ibSymbol'], ascending=True)\n",
    "\n",
    "# Read the index pickle for stock / index differentiation\n",
    "indexes = list(pd.read_pickle(datapath+'df_nse_idx_symbols.pkl').ibSymbol)\n",
    "type_series = ['IND' if d in indexes else 'STK' for d in df_th.ibSymbol]\n",
    "df_th['Type'] = type_series\n",
    "\n",
    "# Get the min of close from ohlc for these symbols and merge\n",
    "df_ohlc = pd.read_pickle(datapath+'df_ohlc.pkl')\n",
    "df_min = pd.DataFrame(df_ohlc.groupby('ibSymbol').\n",
    "                      C.min()).reset_index().rename(columns={'C': 'minC'})\n",
    "df_th = df_th.merge(df_min)\n",
    "\n",
    "# Write the threshold csv\n",
    "cols = ['Des', 'ibSymbol', 'Type', 'Market', 'minC']\n",
    "df_th[cols].to_csv(datapath+'put_threshold.csv', index=False, header=0)"
   ]
  },
  {
   "cell_type": "code",
   "execution_count": null,
   "metadata": {},
   "outputs": [],
   "source": []
  }
 ],
 "metadata": {
  "kernelspec": {
   "display_name": "Python 3",
   "language": "python",
   "name": "python3"
  },
  "language_info": {
   "codemirror_mode": {
    "name": "ipython",
    "version": 3
   },
   "file_extension": ".py",
   "mimetype": "text/x-python",
   "name": "python",
   "nbconvert_exporter": "python",
   "pygments_lexer": "ipython3",
   "version": "3.6.6"
  }
 },
 "nbformat": 4,
 "nbformat_minor": 2
}
