{
 "cells": [
  {
   "cell_type": "markdown",
   "metadata": {},
   "source": [
    "# Intro\n",
    "Programs to optimize option trades.\n",
    "\n",
    "# Construct\n",
    "## Split into:\n",
    "* for nse options (filenames starting with nse)\n",
    "* for us options (filenames starting with us)\n",
    "\n",
    "## Sequence\n",
    "* 00 - Readme file\n",
    "* 01 .. nn - Programs to be executed. Mostly in series\n",
    "\n",
    "## Dependencies\n",
    "* Python\n",
    "* Jupyter anaconda or miniconda\n",
    "* IBKR - TWS or IBGateway\n",
    "* IB_insync library\n",
    "* git\n",
    "\n",
    "### Special Python dependencies\n",
    "* Pickle - used for data storage in _zdata_ folder\n",
    "\n",
    "# Tasks\n",
    "\n",
    "## nse_option_extract\n"
   ]
  },
  {
   "cell_type": "code",
   "execution_count": null,
   "metadata": {},
   "outputs": [],
   "source": []
  }
 ],
 "metadata": {
  "kernelspec": {
   "display_name": "Python 3",
   "language": "python",
   "name": "python3"
  },
  "language_info": {
   "codemirror_mode": {
    "name": "ipython",
    "version": 3
   },
   "file_extension": ".py",
   "mimetype": "text/x-python",
   "name": "python",
   "nbconvert_exporter": "python",
   "pygments_lexer": "ipython3",
   "version": "3.6.5"
  }
 },
 "nbformat": 4,
 "nbformat_minor": 2
}
