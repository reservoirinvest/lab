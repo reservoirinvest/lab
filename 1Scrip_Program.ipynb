{
 "cells": [
  {
   "cell_type": "code",
   "execution_count": 1,
   "metadata": {},
   "outputs": [],
   "source": [
    "# Sample program for one scrip\n",
    "from ib_insync import *\n",
    "util.startLoop()\n",
    "ib=IB().connect('127.0.0.1', 7496, clientId=9) # kavi tws live\n",
    "# ib = IB().connect('127.0.0.1', 4001, clientId=9) # kavi IBG live"
   ]
  },
  {
   "cell_type": "code",
   "execution_count": 2,
   "metadata": {},
   "outputs": [
    {
     "name": "stderr",
     "output_type": "stream",
     "text": [
      "Error 200, reqId 3733: No security definition has been found for the request, contract: Contract(secType='OPT', symbol='ACC', lastTradeDateOrContractMonth='20190131', strike=1940.0, right='C', exchange='NSE')\n",
      "Error 200, reqId 3734: No security definition has been found for the request, contract: Contract(secType='OPT', symbol='ACC', lastTradeDateOrContractMonth='20190131', strike=1960.0, right='C', exchange='NSE')\n",
      "Error 200, reqId 3735: No security definition has been found for the request, contract: Contract(secType='OPT', symbol='ACC', lastTradeDateOrContractMonth='20190131', strike=1980.0, right='C', exchange='NSE')\n",
      "Unknown contract: Contract(secType='OPT', symbol='ACC', lastTradeDateOrContractMonth='20190131', strike=1940.0, right='C', exchange='NSE')\n",
      "Unknown contract: Contract(secType='OPT', symbol='ACC', lastTradeDateOrContractMonth='20190131', strike=1960.0, right='C', exchange='NSE')\n",
      "Unknown contract: Contract(secType='OPT', symbol='ACC', lastTradeDateOrContractMonth='20190131', strike=1980.0, right='C', exchange='NSE')\n",
      "Error 200, reqId 3736: No security definition has been found for the request, contract: Contract(secType='OPT', symbol='ACC', lastTradeDateOrContractMonth='20190228', strike=940.0, right='P', exchange='NSE')\n",
      "Error 200, reqId 3737: No security definition has been found for the request, contract: Contract(secType='OPT', symbol='ACC', lastTradeDateOrContractMonth='20190228', strike=960.0, right='P', exchange='NSE')\n",
      "Error 200, reqId 3738: No security definition has been found for the request, contract: Contract(secType='OPT', symbol='ACC', lastTradeDateOrContractMonth='20190228', strike=980.0, right='P', exchange='NSE')\n",
      "Error 200, reqId 3739: No security definition has been found for the request, contract: Contract(secType='OPT', symbol='ACC', lastTradeDateOrContractMonth='20190228', strike=1000.0, right='P', exchange='NSE')\n",
      "Error 200, reqId 3758: No security definition has been found for the request, contract: Contract(secType='OPT', symbol='ACC', lastTradeDateOrContractMonth='20190228', strike=1940.0, right='C', exchange='NSE')\n",
      "Error 200, reqId 3759: No security definition has been found for the request, contract: Contract(secType='OPT', symbol='ACC', lastTradeDateOrContractMonth='20190228', strike=1960.0, right='C', exchange='NSE')\n",
      "Error 200, reqId 3760: No security definition has been found for the request, contract: Contract(secType='OPT', symbol='ACC', lastTradeDateOrContractMonth='20190228', strike=1980.0, right='C', exchange='NSE')\n",
      "Unknown contract: Contract(secType='OPT', symbol='ACC', lastTradeDateOrContractMonth='20190228', strike=940.0, right='P', exchange='NSE')\n",
      "Unknown contract: Contract(secType='OPT', symbol='ACC', lastTradeDateOrContractMonth='20190228', strike=960.0, right='P', exchange='NSE')\n",
      "Unknown contract: Contract(secType='OPT', symbol='ACC', lastTradeDateOrContractMonth='20190228', strike=980.0, right='P', exchange='NSE')\n",
      "Unknown contract: Contract(secType='OPT', symbol='ACC', lastTradeDateOrContractMonth='20190228', strike=1000.0, right='P', exchange='NSE')\n",
      "Unknown contract: Contract(secType='OPT', symbol='ACC', lastTradeDateOrContractMonth='20190228', strike=1940.0, right='C', exchange='NSE')\n",
      "Unknown contract: Contract(secType='OPT', symbol='ACC', lastTradeDateOrContractMonth='20190228', strike=1960.0, right='C', exchange='NSE')\n",
      "Unknown contract: Contract(secType='OPT', symbol='ACC', lastTradeDateOrContractMonth='20190228', strike=1980.0, right='C', exchange='NSE')\n"
     ]
    },
    {
     "name": "stdout",
     "output_type": "stream",
     "text": [
      "Wall time: 26.2 s\n"
     ]
    }
   ],
   "source": [
    "%%time\n",
    "import numpy as np\n",
    "import pandas as pd\n",
    "from itertools import product\n",
    "\n",
    "# sd multiple for band\n",
    "sigma = 2   # 2 sigma is about 95% probability\n",
    "\n",
    "# market\n",
    "exchange = 'NSE'\n",
    "\n",
    "#... prepare lot dataframe for underlying\n",
    "# from 5paisa\n",
    "paisaurl = \"https://www.5paisa.com/5pit/spma.asp\"\n",
    "df_paisa = pd.read_html(paisaurl, header=0)[1].drop_duplicates(subset='Symbol')\n",
    "\n",
    "# Rename Symbol and Margin fields\n",
    "df_paisa = df_paisa.rename(columns={'Symbol': 'nseSymbol', 'TotMgn%': 'marginpct'})\n",
    "\n",
    "# Convert columns to numeric and make margin to pct\n",
    "df_paisa = df_paisa.apply(pd.to_numeric, errors='ignore')\n",
    "df_paisa.marginpct = df_paisa.marginpct.div(100)\n",
    "\n",
    "# Truncate to 9 characters for ibSymbol\n",
    "df_paisa['ibSymbol'] = df_paisa.nseSymbol.str.slice(0,9)\n",
    "\n",
    "# nseSymbol to ibSymbol dictionary for conversion\n",
    "ntoi = {'M&M': 'MM', 'M&MFIN': 'MM', 'L&TFH': 'LTFH', 'NIFTY': 'NIFTY50'}\n",
    "\n",
    "# remap ibSymbol, based on the dictionary\n",
    "df_paisa.ibSymbol = df_paisa.ibSymbol.replace(ntoi)\n",
    "\n",
    "# %%time\n",
    "#... Get the scrip\n",
    "symbol = 'ACC'\n",
    "contract = Stock('ACC', 'NSE')\n",
    "ib.qualifyContracts(contract)\n",
    "\n",
    "#... Get the price from bar data \n",
    "# Last second's bar of historical with realtime updates\n",
    "undPrice = ib.reqHistoricalData(contract=contract, endDateTime='', \n",
    "                     durationStr='60 S', barSizeSetting='1 secs', \n",
    "                     whatToShow='TRADES', useRTH=True, \n",
    "                     formatDate=1, keepUpToDate=True)[-1].high\n",
    "\n",
    "#... Get the volatility\n",
    "duration = '12 M'\n",
    "size = '1 day'\n",
    "bars = ib.reqHistoricalData(contract=contract, endDateTime='', \n",
    "                     durationStr=duration, barSizeSetting=size, \n",
    "                     whatToShow='MIDPOINT', useRTH=True, \n",
    "                     formatDate=1, keepUpToDate=True)\n",
    "stDev = np.std(a=[b.high for b in bars], ddof=0)\n",
    "\n",
    "#... Get the lot and margin\n",
    "lot = df_paisa.loc[df_paisa.ibSymbol == symbol, 'Mlot'].item()\n",
    "margin = df_paisa.loc[df_paisa.ibSymbol == symbol, 'TotMgnPerLt'].item()\n",
    "\n",
    "#... Get the option chain\n",
    "xk = ib.reqSecDefOptParams(underlyingSymbol=contract.symbol, \n",
    "                      futFopExchange='', \n",
    "                      underlyingConId=contract.conId, underlyingSecType=contract.secType)\n",
    "\n",
    "#... Weed out unwanted SDs\n",
    "sigma = 2   # 2 sigma is about 95% probability\n",
    "\n",
    "safek = sorted([s for k in xk \n",
    "    for s in k.strikes \n",
    "    if (s < (undPrice - stDev*sigma)) | (s > (undPrice + stDev*sigma))])\n",
    "\n",
    "tups = [(sorted(i.expirations), safek) for i in xk]\n",
    "\n",
    "tups_xk = [p for tup in tups for p in product(*tup)]\n",
    "\n",
    "#... Get the margins and lots\n",
    "\n",
    "# make dataframe for the option contracts\n",
    "df = pd.DataFrame(tups_xk, columns = ['expiry', 'strike'])\n",
    "\n",
    "df['ibSymbol'] = symbol\n",
    "df['exchange'] = exchange\n",
    "df['lot'] = lot # miniumum margin\n",
    "df['margin'] = margin # margin per lot\n",
    "\n",
    "# puts for strike below undPrice and calls for strike above undPrice\n",
    "df['right'] = np.where(df.strike < undPrice, 'P', 'C')\n",
    "\n",
    "# list of options\n",
    "opt_list = [Contract(symbol=symbol, secType='OPT', exchange=exchange, strike=strike,\n",
    "       lastTradeDateOrContractMonth=expiry, right=right)\n",
    "for symbol, strike, expiry, right in zip(df.ibSymbol, df.strike, df.expiry, df.right)]\n",
    "\n",
    "# qualified contracts\n",
    "contracts = [c for i in range(0, len(opt_list), 50)\n",
    "             for c in ib.qualifyContracts(*opt_list[i: i+50])]\n",
    "\n",
    "tickers = ib.reqTickers(*contracts)\n",
    "# ib.sleep(2)"
   ]
  },
  {
   "cell_type": "code",
   "execution_count": 3,
   "metadata": {},
   "outputs": [
    {
     "ename": "AttributeError",
     "evalue": "'NoneType' object has no attribute 'delta'",
     "output_type": "error",
     "traceback": [
      "\u001b[1;31m---------------------------------------------------------------------------\u001b[0m",
      "\u001b[1;31mAttributeError\u001b[0m                            Traceback (most recent call last)",
      "\u001b[1;32m<ipython-input-3-99b9da43af74>\u001b[0m in \u001b[0;36m<module>\u001b[1;34m\u001b[0m\n\u001b[0;32m      4\u001b[0m            \u001b[0mticker\u001b[0m\u001b[1;33m.\u001b[0m\u001b[0mcontract\u001b[0m\u001b[1;33m.\u001b[0m\u001b[0msymbol\u001b[0m\u001b[1;33m,\u001b[0m \u001b[0mticker\u001b[0m\u001b[1;33m.\u001b[0m\u001b[0mcontract\u001b[0m\u001b[1;33m.\u001b[0m\u001b[0mright\u001b[0m\u001b[1;33m,\u001b[0m\u001b[1;33m\u001b[0m\u001b[0m\n\u001b[0;32m      5\u001b[0m            ticker.bid, ticker.ask, ticker.close, ticker.modelGreeks.delta, ticker.modelGreeks.optPrice, ticker) \n\u001b[1;32m----> 6\u001b[1;33m           for ticker in tickers}).T.reset_index()\n\u001b[0m\u001b[0;32m      7\u001b[0m \u001b[1;33m\u001b[0m\u001b[0m\n\u001b[0;32m      8\u001b[0m \u001b[1;33m\u001b[0m\u001b[0m\n",
      "\u001b[1;32m<ipython-input-3-99b9da43af74>\u001b[0m in \u001b[0;36m<dictcomp>\u001b[1;34m(.0)\u001b[0m\n\u001b[0;32m      4\u001b[0m            \u001b[0mticker\u001b[0m\u001b[1;33m.\u001b[0m\u001b[0mcontract\u001b[0m\u001b[1;33m.\u001b[0m\u001b[0msymbol\u001b[0m\u001b[1;33m,\u001b[0m \u001b[0mticker\u001b[0m\u001b[1;33m.\u001b[0m\u001b[0mcontract\u001b[0m\u001b[1;33m.\u001b[0m\u001b[0mright\u001b[0m\u001b[1;33m,\u001b[0m\u001b[1;33m\u001b[0m\u001b[0m\n\u001b[0;32m      5\u001b[0m            ticker.bid, ticker.ask, ticker.close, ticker.modelGreeks.delta, ticker.modelGreeks.optPrice, ticker) \n\u001b[1;32m----> 6\u001b[1;33m           for ticker in tickers}).T.reset_index()\n\u001b[0m\u001b[0;32m      7\u001b[0m \u001b[1;33m\u001b[0m\u001b[0m\n\u001b[0;32m      8\u001b[0m \u001b[1;33m\u001b[0m\u001b[0m\n",
      "\u001b[1;31mAttributeError\u001b[0m: 'NoneType' object has no attribute 'delta'"
     ]
    }
   ],
   "source": [
    "# bid, ask and tickers for contracts\n",
    "df1 = pd.DataFrame({ticker.contract.conId: \n",
    "          (ticker.contract.lastTradeDateOrContractMonth, ticker.contract.strike, \n",
    "           ticker.contract.symbol, ticker.contract.right,\n",
    "           ticker.bid, ticker.ask, ticker.close, ticker.modelGreeks.delta, ticker.modelGreeks.optPrice, ticker) \n",
    "          for ticker in tickers}).T.reset_index()\n",
    "\n",
    "\n",
    "df1.columns=['conId', 'expiry', 'strike', 'ibSymbol', 'right', \n",
    "             'bid', 'ask', 'close', 'delta', 'modelPrice', 'ticker']\n",
    "\n",
    "# replace -1s in bid and ask with np.nan\n",
    "df1[['bid', 'ask']] = df1[['bid', 'ask']].replace({-1: np.nan})\n",
    "\n",
    "cols_to_use = df.columns.difference(df1.columns)\n",
    "df2 = pd.concat([df1, df[cols_to_use]], axis=1, join='inner')  # removes scrips without tickers"
   ]
  },
  {
   "cell_type": "code",
   "execution_count": null,
   "metadata": {},
   "outputs": [],
   "source": [
    "df2[df2.close != 0]"
   ]
  },
  {
   "cell_type": "code",
   "execution_count": 25,
   "metadata": {},
   "outputs": [
    {
     "data": {
      "text/plain": [
       "1507.15"
      ]
     },
     "execution_count": 25,
     "metadata": {},
     "output_type": "execute_result"
    }
   ],
   "source": [
    "undPrice"
   ]
  },
  {
   "cell_type": "code",
   "execution_count": 6,
   "metadata": {},
   "outputs": [
    {
     "data": {
      "text/plain": [
       "Ticker(contract=Contract(secType='OPT', conId=343974499, symbol='ACC', lastTradeDateOrContractMonth='20190228', strike=1220.0, right='P', multiplier='1', exchange='NSE', currency='INR', localSymbol='ACC19FEB1220PE', tradingClass='ACC'), time=datetime.datetime(2018, 12, 19, 10, 6, 59, 89207, tzinfo=datetime.timezone.utc), bid=-1.0, bidSize=0, ask=-1.0, askSize=0, close=7.7, ticks=[], tickByTicks=[], domBids=[], domAsks=[], domTicks=[])"
      ]
     },
     "execution_count": 6,
     "metadata": {},
     "output_type": "execute_result"
    }
   ],
   "source": [
    "ib.reqMktData(contract=contracts[57], genericTickList=456)"
   ]
  },
  {
   "cell_type": "code",
   "execution_count": null,
   "metadata": {},
   "outputs": [],
   "source": []
  }
 ],
 "metadata": {
  "kernelspec": {
   "display_name": "Python 3",
   "language": "python",
   "name": "python3"
  },
  "language_info": {
   "codemirror_mode": {
    "name": "ipython",
    "version": 3
   },
   "file_extension": ".py",
   "mimetype": "text/x-python",
   "name": "python",
   "nbconvert_exporter": "python",
   "pygments_lexer": "ipython3",
   "version": "3.6.6"
  }
 },
 "nbformat": 4,
 "nbformat_minor": 2
}
