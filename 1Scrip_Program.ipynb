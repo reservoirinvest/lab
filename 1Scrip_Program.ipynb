{
 "cells": [
  {
   "cell_type": "code",
   "execution_count": 1,
   "metadata": {},
   "outputs": [],
   "source": [
    "# Sample program for one scrip\n",
    "from ib_insync import *\n",
    "util.startLoop()\n",
    "ib=IB().connect('127.0.0.1', 7496, clientId=9)"
   ]
  },
  {
   "cell_type": "code",
   "execution_count": 39,
   "metadata": {},
   "outputs": [],
   "source": [
    "import numpy as np\n",
    "import pandas as pd\n",
    "\n",
    "#... prepare lot dataframe for underlying\n",
    "# from 5paisa\n",
    "paisaurl = \"https://www.5paisa.com/5pit/spma.asp\"\n",
    "df_paisa = pd.read_html(paisaurl, header=0)[1].drop_duplicates(subset='Symbol')\n",
    "\n",
    "# Rename Symbol and Margin fields\n",
    "df_paisa = df_paisa.rename(columns={'Symbol': 'nseSymbol', 'TotMgn%': 'marginpct'})\n",
    "\n",
    "# Convert columns to numeric and make margin to pct\n",
    "df_paisa = df_paisa.apply(pd.to_numeric, errors='ignore')\n",
    "df_paisa.marginpct = df_paisa.marginpct.div(100)\n",
    "\n",
    "# Truncate to 9 characters for ibSymbol\n",
    "df_paisa['ibSymbol'] = df_paisa.nseSymbol.str.slice(0,9)\n",
    "\n",
    "# nseSymbol to ibSymbol dictionary for conversion\n",
    "ntoi = {'M&M': 'MM', 'M&MFIN': 'MM', 'L&TFH': 'LTFH', 'NIFTY': 'NIFTY50'}\n",
    "\n",
    "# remap ibSymbol, based on the dictionary\n",
    "df_paisa.ibSymbol = df_paisa.ibSymbol.replace(ntoi)\n",
    "\n",
    "#... Get the scrip\n",
    "symbol = 'ACC'\n",
    "contract = Stock('ACC', 'NSE')\n",
    "ib.qualifyContracts(contract)\n",
    "\n",
    "#... Get the price from bar data \n",
    "# Last second's bar of historical with realtime updates\n",
    "undPrice = ib.reqHistoricalData(contract=contract, endDateTime='', \n",
    "                     durationStr='60 S', barSizeSetting='1 secs', \n",
    "                     whatToShow='TRADES', useRTH=True, \n",
    "                     formatDate=1, keepUpToDate=True)[-1].high\n",
    "\n",
    "#... Get the volatility\n",
    "duration = '12 M'\n",
    "size = '1 day'\n",
    "bars = ib.reqHistoricalData(contract=contract, endDateTime='', \n",
    "                     durationStr=duration, barSizeSetting=size, \n",
    "                     whatToShow='MIDPOINT', useRTH=True, \n",
    "                     formatDate=1, keepUpToDate=True)\n",
    "stDev = np.std(a=[b.high for b in bars], ddof=0)\n",
    "\n",
    "#... Get the lot\n",
    "lot = df_paisa.loc[df_paisa.ibSymbol == symbol, 'Mlot'].item()"
   ]
  },
  {
   "cell_type": "code",
   "execution_count": 42,
   "metadata": {},
   "outputs": [
    {
     "data": {
      "text/plain": [
       "[OptionChain(exchange='NSE', underlyingConId=44652144, tradingClass='ACC', multiplier='1', expirations={'20190228', '20190131', '20181227'}, strikes={1280.0, 1920.0, 1540.0, 1160.0, 1800.0, 1420.0, 1040.0, 1680.0, 1300.0, 1940.0, 1560.0, 1180.0, 1820.0, 1440.0, 1660.0, 1060.0, 1700.0, 1320.0, 1960.0, 940.0, 1580.0, 1200.0, 1840.0, 1460.0, 1080.0, 1720.0, 1340.0, 1980.0, 960.0, 1600.0, 1220.0, 1860.0, 1480.0, 1100.0, 1740.0, 1360.0, 980.0, 1620.0, 1240.0, 1880.0, 1500.0, 1120.0, 1760.0, 1380.0, 1000.0, 1640.0, 1260.0, 1900.0, 1520.0, 1140.0, 1780.0, 1400.0, 1020.0})]"
      ]
     },
     "execution_count": 42,
     "metadata": {},
     "output_type": "execute_result"
    },
    {
     "name": "stderr",
     "output_type": "stream",
     "text": [
      "ERROR:ib_insync.wrapper:Error 1100, reqId -1: Connectivity between IB and Trader Workstation has been lost.\n",
      "ERROR:ib_insync.wrapper:Error 1102, reqId -1: Connectivity between IB and Trader Workstation has been restored - data maintained.\n",
      "ERROR:ib_insync.wrapper:Error 10182, reqId 3570: Failed to request live updates (disconnected)\n",
      "ERROR:ib_insync.wrapper:Error 10182, reqId 3566: Failed to request live updates (disconnected)\n",
      "ERROR:ib_insync.wrapper:Error 10182, reqId 3564: Failed to request live updates (disconnected)\n",
      "ERROR:ib_insync.wrapper:Error 10182, reqId 3565: Failed to request live updates (disconnected)\n",
      "ERROR:ib_insync.wrapper:Error 10182, reqId 3571: Failed to request live updates (disconnected)\n",
      "ERROR:ib_insync.wrapper:Error 10182, reqId 3563: Failed to request live updates (disconnected)\n"
     ]
    }
   ],
   "source": [
    "#... Get the option chain\n",
    "ib.reqSecDefOptParams(underlyingSymbol=contract.symbol, \n",
    "                      futFopExchange='', \n",
    "                      underlyingConId=contract.conId, underlyingSecType=contract.secType)"
   ]
  },
  {
   "cell_type": "code",
   "execution_count": 38,
   "metadata": {},
   "outputs": [
    {
     "data": {
      "text/plain": [
       "0"
      ]
     },
     "execution_count": 38,
     "metadata": {},
     "output_type": "execute_result"
    }
   ],
   "source": [
    "contract.conId"
   ]
  },
  {
   "cell_type": "code",
   "execution_count": null,
   "metadata": {},
   "outputs": [],
   "source": []
  }
 ],
 "metadata": {
  "kernelspec": {
   "display_name": "Python 3",
   "language": "python",
   "name": "python3"
  },
  "language_info": {
   "codemirror_mode": {
    "name": "ipython",
    "version": 3
   },
   "file_extension": ".py",
   "mimetype": "text/x-python",
   "name": "python",
   "nbconvert_exporter": "python",
   "pygments_lexer": "ipython3",
   "version": "3.6.6"
  }
 },
 "nbformat": 4,
 "nbformat_minor": 2
}
