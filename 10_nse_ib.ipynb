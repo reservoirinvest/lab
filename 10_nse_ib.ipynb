{
 "cells": [
  {
   "cell_type": "code",
   "execution_count": 36,
   "metadata": {},
   "outputs": [],
   "source": [
    "# Attempt to rollup most of NSE programs into ONE\n",
    "\n",
    "# STATUS: Incomplete (Trial with index options)\n",
    "# Run-time: Unknown\n",
    "\n",
    "# Dependencies:\n",
    "#  - List of indexes and equities\n",
    "#  - underlying's ohlc history for standard deviation and Black Scholes\n",
    "\n",
    "#***          Start ib_insync (run once)       *****\n",
    "#_______________________________________________\n",
    "\n",
    "from ib_insync import *\n",
    "util.startLoop()\n",
    "ib = IB().connect('127.0.0.1', 7496, clientId=5) # kavi tws live\n",
    "# ib = IB().connect('127.0.0.1', 4001, clientId=5) # kavi IBG live\n",
    "# ib = IB().connect('127.0.0.1', 7499, clientId=5) # kavi tws paper-trade\n",
    "# ib = IB().connect('127.0.0.1', 4004, clientId=5) # kavi IBG paper-trade"
   ]
  },
  {
   "cell_type": "code",
   "execution_count": null,
   "metadata": {},
   "outputs": [],
   "source": [
    "%%time\n",
    "#***      Imports    *****\n",
    "import pandas as pd\n",
    "import numpy as np\n",
    "from itertools import product\n",
    "import utils\n",
    "\n",
    "#***    Paths and Variables    ***\n",
    "datapath = r'./zdata/'\n",
    "market = 'NSE'\n",
    "deletesym = ['USDINR']   #ibSymbols to be deleted\n",
    "\n",
    "#***    Get scrips from IBKR   ***\n",
    "df_ib = pd.DataFrame([]) # Initialize\n",
    "\n",
    "# from IBKR's symbols page\n",
    "url = \"https://www.interactivebrokers.com.hk/en/index.php?\"\n",
    "url = url+\"f=2222&exch=nse&showcategories=OPTGRP&page=\"\n",
    "\n",
    "for i in range(4):\n",
    "    df_ib = df_ib.append(df_ib.append(pd.read_html(url+str(i), header=0)[2]))\n",
    "\n",
    "# Exit program if dataframe is empty\n",
    "if df_ib.empty:\n",
    "    print('Interactive Brokers dataframe is empty!!!')\n",
    "    sys.exit(0)\n",
    "    \n",
    "df_ib = df_ib.drop_duplicates().reset_index(drop=True)\n",
    "all_symbols = list(df_ib['IB Symbol'])\n",
    "\n",
    "# Qualify Stock contracts\n",
    "stocks = [Stock(symbol=s, exchange=market) for s in all_symbols]\n",
    "stock_contracts = ib.qualifyContracts(*stocks)\n",
    "stock_symbols = [s.symbol for s in stock_contracts]\n",
    "\n",
    "# Qualify Index contracts\n",
    "idx_symbols = [a for a in all_symbols if a not in stock_symbols]\n",
    "\n",
    "indexes = [Index(symbol=s, exchange='NSE') for s in idx_symbols]\n",
    "index_contracts = ib.qualifyContracts(*indexes)\n",
    "index_symbols = [i.symbol for i in index_contracts]"
   ]
  },
  {
   "cell_type": "code",
   "execution_count": 11,
   "metadata": {},
   "outputs": [],
   "source": [
    "# All qualified symbols and contracts\n",
    "symbols = stock_symbols + index_symbols\n",
    "contracts = stock_contracts + index_contracts"
   ]
  },
  {
   "cell_type": "code",
   "execution_count": 2,
   "metadata": {},
   "outputs": [
    {
     "name": "stderr",
     "output_type": "stream",
     "text": [
      "Started to throttle requests\n",
      "Error 200, reqId 2651: No security definition has been found for the request, contract: Stock(symbol='BANKNIFTY', exchange='NSE')\n",
      "Stopped to throttle requests\n",
      "Error 200, reqId 2765: No security definition has been found for the request, contract: Stock(symbol='NIFTY50', exchange='NSE')\n",
      "Error 200, reqId 2826: No security definition has been found for the request, contract: Stock(symbol='USDINR', exchange='NSE')\n",
      "Unknown contract: Stock(symbol='BANKNIFTY', exchange='NSE')\n",
      "Unknown contract: Stock(symbol='NIFTY50', exchange='NSE')\n",
      "Unknown contract: Stock(symbol='USDINR', exchange='NSE')\n"
     ]
    },
    {
     "name": "stdout",
     "output_type": "stream",
     "text": [
      "Wall time: 31.4 s\n"
     ]
    }
   ],
   "source": [
    "#****     DATA LIMITER HERE   ****\n",
    "#_________________________________\n",
    "symbols = stock_symbols[0:2] + [index_symbols[0]] # DATA LIMITER!!\n",
    "contracts = stock_contracts[0:2] + [index_contracts[0]]"
   ]
  },
  {
   "cell_type": "code",
   "execution_count": null,
   "metadata": {},
   "outputs": [],
   "source": [
    "# import importlib\n",
    "# importlib.reload(utils)\n",
    "blk = 25\n",
    "[utils.getprice(contract=c, ib=ib) \n",
    " for i in range(0, len(contracts), blk) \n",
    " for c in contracts[i:i+blk]]"
   ]
  },
  {
   "cell_type": "code",
   "execution_count": 33,
   "metadata": {},
   "outputs": [
    {
     "name": "stderr",
     "output_type": "stream",
     "text": [
      "Error 162, reqId 2630: Historical Market Data Service error message:Historical data request pacing violation, contract: Stock(conId=44652144, symbol='ACC', exchange='NSE', primaryExchange='NSE', currency='INR', localSymbol='ACC', tradingClass='ACC')\n"
     ]
    },
    {
     "ename": "IndexError",
     "evalue": "list index out of range",
     "output_type": "error",
     "traceback": [
      "\u001b[1;31m---------------------------------------------------------------------------\u001b[0m",
      "\u001b[1;31mIndexError\u001b[0m                                Traceback (most recent call last)",
      "\u001b[1;32m<ipython-input-33-fec03e46b2c2>\u001b[0m in \u001b[0;36m<module>\u001b[1;34m\u001b[0m\n\u001b[0;32m      1\u001b[0m \u001b[1;32mfor\u001b[0m \u001b[0mi\u001b[0m \u001b[1;32min\u001b[0m \u001b[0mrange\u001b[0m\u001b[1;33m(\u001b[0m\u001b[1;36m0\u001b[0m\u001b[1;33m,\u001b[0m \u001b[0mlen\u001b[0m\u001b[1;33m(\u001b[0m\u001b[0mcontracts\u001b[0m\u001b[1;33m)\u001b[0m\u001b[1;33m,\u001b[0m \u001b[0mblk\u001b[0m\u001b[1;33m)\u001b[0m\u001b[1;33m:\u001b[0m\u001b[1;33m\u001b[0m\u001b[0m\n\u001b[0;32m      2\u001b[0m     \u001b[1;32mfor\u001b[0m \u001b[0mc\u001b[0m \u001b[1;32min\u001b[0m \u001b[0mcontracts\u001b[0m\u001b[1;33m[\u001b[0m\u001b[0mi\u001b[0m\u001b[1;33m:\u001b[0m\u001b[0mi\u001b[0m\u001b[1;33m+\u001b[0m\u001b[0mblk\u001b[0m\u001b[1;33m]\u001b[0m\u001b[1;33m:\u001b[0m\u001b[1;33m\u001b[0m\u001b[0m\n\u001b[1;32m----> 3\u001b[1;33m         \u001b[0mprint\u001b[0m\u001b[1;33m(\u001b[0m\u001b[0mutils\u001b[0m\u001b[1;33m.\u001b[0m\u001b[0mgetprice\u001b[0m\u001b[1;33m(\u001b[0m\u001b[0mcontract\u001b[0m\u001b[1;33m=\u001b[0m\u001b[0mc\u001b[0m\u001b[1;33m,\u001b[0m \u001b[0mib\u001b[0m\u001b[1;33m=\u001b[0m\u001b[0mib\u001b[0m\u001b[1;33m)\u001b[0m\u001b[1;33m)\u001b[0m\u001b[1;33m\u001b[0m\u001b[0m\n\u001b[0m\u001b[0;32m      4\u001b[0m         \u001b[0mib\u001b[0m\u001b[1;33m.\u001b[0m\u001b[0msleep\u001b[0m\u001b[1;33m(\u001b[0m\u001b[1;36m0.1\u001b[0m\u001b[1;33m)\u001b[0m\u001b[1;33m\u001b[0m\u001b[0m\n",
      "\u001b[1;32m~\\Documents\\python_scripts\\ibkr\\lab\\utils.py\u001b[0m in \u001b[0;36mgetprice\u001b[1;34m(ib, contract)\u001b[0m\n\u001b[0;32m    101\u001b[0m     \u001b[0mclose\u001b[0m \u001b[1;33m=\u001b[0m \u001b[1;33m[\u001b[0m\u001b[0mcatch\u001b[0m\u001b[1;33m(\u001b[0m\u001b[1;32mlambda\u001b[0m\u001b[1;33m:\u001b[0m \u001b[0mb\u001b[0m\u001b[1;33m.\u001b[0m\u001b[0mclose\u001b[0m\u001b[1;33m)\u001b[0m \u001b[1;32mfor\u001b[0m \u001b[0mb\u001b[0m \u001b[1;32min\u001b[0m \u001b[0mbars\u001b[0m\u001b[1;33m]\u001b[0m\u001b[1;33m\u001b[0m\u001b[0m\n\u001b[0;32m    102\u001b[0m \u001b[1;33m\u001b[0m\u001b[0m\n\u001b[1;32m--> 103\u001b[1;33m     \u001b[1;32mreturn\u001b[0m \u001b[0mclose\u001b[0m\u001b[1;33m[\u001b[0m\u001b[1;36m0\u001b[0m\u001b[1;33m]\u001b[0m\u001b[1;33m\u001b[0m\u001b[0m\n\u001b[0m",
      "\u001b[1;31mIndexError\u001b[0m: list index out of range"
     ]
    }
   ],
   "source": [
    "for i in range(0, len(contracts), blk):\n",
    "    for c in contracts[i:i+blk]:\n",
    "        print(utils.getprice(contract=c, ib=ib))\n",
    "        ib.sleep(0.1)"
   ]
  },
  {
   "cell_type": "code",
   "execution_count": 47,
   "metadata": {},
   "outputs": [
    {
     "name": "stderr",
     "output_type": "stream",
     "text": [
      "Error 162, reqId 2640: Historical Market Data Service error message:Historical data request pacing violation, contract: Stock(conId=44652144, symbol='ACC', exchange='NSE', primaryExchange='NSE', currency='INR', localSymbol='ACC', tradingClass='ACC')\n"
     ]
    },
    {
     "data": {
      "text/plain": [
       "[]"
      ]
     },
     "execution_count": 47,
     "metadata": {},
     "output_type": "execute_result"
    }
   ],
   "source": [
    "ib.reqHistoricalData(\n",
    "            contracts[0],\n",
    "            endDateTime='',\n",
    "            durationStr='60 S',\n",
    "            barSizeSetting='1 secs',\n",
    "            whatToShow='ASK',\n",
    "            useRTH=False,\n",
    "            formatDate=1,\n",
    "            keepUpToDate=True)"
   ]
  },
  {
   "cell_type": "code",
   "execution_count": 53,
   "metadata": {},
   "outputs": [
    {
     "ename": "AttributeError",
     "evalue": "'IB' object has no attribute 'flexreport'",
     "output_type": "error",
     "traceback": [
      "\u001b[1;31m---------------------------------------------------------------------------\u001b[0m",
      "\u001b[1;31mAttributeError\u001b[0m                            Traceback (most recent call last)",
      "\u001b[1;32m<ipython-input-53-b248254f02c7>\u001b[0m in \u001b[0;36m<module>\u001b[1;34m\u001b[0m\n\u001b[1;32m----> 1\u001b[1;33m \u001b[0mhelp\u001b[0m\u001b[1;33m(\u001b[0m\u001b[0mib\u001b[0m\u001b[1;33m.\u001b[0m\u001b[0mflexreport\u001b[0m\u001b[1;33m)\u001b[0m\u001b[1;33m\u001b[0m\u001b[0m\n\u001b[0m",
      "\u001b[1;31mAttributeError\u001b[0m: 'IB' object has no attribute 'flexreport'"
     ]
    }
   ],
   "source": [
    "help(ib.flexreport)"
   ]
  },
  {
   "cell_type": "code",
   "execution_count": null,
   "metadata": {},
   "outputs": [],
   "source": []
  },
  {
   "cell_type": "code",
   "execution_count": null,
   "metadata": {},
   "outputs": [],
   "source": [
    "df_q.contract.apply(get_price)"
   ]
  },
  {
   "cell_type": "code",
   "execution_count": null,
   "metadata": {},
   "outputs": [],
   "source": [
    "#***   Error catching for list comprehension ***\n",
    "import numpy as np\n",
    "def catch(func, handle=lambda e : e, *args, **kwargs):\n",
    "    '''List comprehension error catcher'''\n",
    "    try:\n",
    "        return func(*args, **kwargs)\n",
    "    except Exception as e:\n",
    "        np.nan\n",
    "df_q['closeprice'] = [catch(lambda: getprice(c)) for c in df_q.contract]"
   ]
  },
  {
   "cell_type": "code",
   "execution_count": null,
   "metadata": {},
   "outputs": [],
   "source": [
    "get_price(df_q.contract[3])"
   ]
  },
  {
   "cell_type": "code",
   "execution_count": null,
   "metadata": {},
   "outputs": [],
   "source": [
    "df_q['closeprice'] = [get_price(c) for c in df_q.contract]"
   ]
  },
  {
   "cell_type": "code",
   "execution_count": null,
   "metadata": {},
   "outputs": [],
   "source": [
    "# ***** Get list with Mlots + Margin% from 5paisa\n",
    "paisaurl = \"https://www.5paisa.com/5pit/spma.asp\"\n",
    "df_paisa = pd.read_html(paisaurl, header=0)[1].drop_duplicates(subset='Symbol')\n",
    "\n",
    "df_paisa1 = df_paisa[['Symbol', 'Mlot', 'TotMgn%']].sort_values('Symbol').reset_index(drop=True)\n",
    "\n",
    "# Rename Symbol and Margin fields\n",
    "df_paisa1 = df_paisa1.rename(columns={'Symbol': 'nseSymbol', 'TotMgn%': 'marginpct'})\n",
    "\n",
    "# Convert columns to numeric and make margin to pct\n",
    "df_paisa1 = df_paisa1.apply(pd.to_numeric, errors='ignore')\n",
    "df_paisa1.marginpct = df_paisa1.marginpct.div(100)"
   ]
  },
  {
   "cell_type": "code",
   "execution_count": null,
   "metadata": {},
   "outputs": [],
   "source": [
    "#***    make option chains and qualify   ***\n",
    "chains = {s: ib.reqSecDefOptParams(s.symbol, '', s.secType, s.conId) for s in symbols}\n",
    "chains\n",
    "\n",
    "df_und = util.df(chains) # dataframe of underlying chains\n",
    "\n",
    "tup_chains = [([k.symbol], tuple(i.expirations), tuple(i.strikes), ['P']) \n",
    " for k, v in chains.items() \n",
    " for i in v]\n",
    "\n",
    "# create options without USDINR scrip\n",
    "options = [Option(p[0], p[1], p[2], p[3], 'NSE') \n",
    "           for tup in tup_chains\n",
    "           for p in product(*tup)]\n",
    "\n",
    "# qualify the options\n",
    "nse_qo = [t for i in range(0, len(options), 25) for t in ib.qualifyContracts(*options[i: i+25])]\n",
    "\n",
    "df_qo = util.df(nse_qo) # dataframe for qualified options"
   ]
  },
  {
   "cell_type": "code",
   "execution_count": null,
   "metadata": {},
   "outputs": [],
   "source": []
  },
  {
   "cell_type": "code",
   "execution_count": null,
   "metadata": {},
   "outputs": [],
   "source": []
  },
  {
   "cell_type": "code",
   "execution_count": null,
   "metadata": {},
   "outputs": [],
   "source": [
    "contract = nse_qo[0]\n",
    "order = Order(action='SELL', orderType='MKT', totalQuantity=20)\n",
    "ib.whatIfOrder(contract, order)"
   ]
  },
  {
   "cell_type": "code",
   "execution_count": null,
   "metadata": {},
   "outputs": [],
   "source": [
    "ib.reqSecDefOptParams(futFopExchange='NSE', underlyingConId=337009725, underlyingSecType='IND', underlyingSymbol = 'BANKNIFTY')"
   ]
  },
  {
   "cell_type": "code",
   "execution_count": null,
   "metadata": {},
   "outputs": [],
   "source": [
    "ib.disconnect()"
   ]
  },
  {
   "cell_type": "markdown",
   "metadata": {},
   "source": [
    "# To-do\n",
    "* something is wrong in the qual_options. Fix it.\n",
    "* integration with standard deviation\n",
    "* remove unnecessary options (Put)\n",
    "* integration with black scholes\n",
    "* integration with lot and margin\n",
    "* generate orders\n",
    "* place orders (what-if) to check margins (duplicate)\n",
    "* check latest prices\n",
    "* screen most valueable RoM and PoP\n",
    "* place orders"
   ]
  },
  {
   "cell_type": "code",
   "execution_count": null,
   "metadata": {},
   "outputs": [],
   "source": []
  }
 ],
 "metadata": {
  "kernelspec": {
   "display_name": "Python 3",
   "language": "python",
   "name": "python3"
  },
  "language_info": {
   "codemirror_mode": {
    "name": "ipython",
    "version": 3
   },
   "file_extension": ".py",
   "mimetype": "text/x-python",
   "name": "python",
   "nbconvert_exporter": "python",
   "pygments_lexer": "ipython3",
   "version": "3.6.6"
  }
 },
 "nbformat": 4,
 "nbformat_minor": 2
}
