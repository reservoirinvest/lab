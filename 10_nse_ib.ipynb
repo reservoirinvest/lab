{
 "cells": [
  {
   "cell_type": "code",
   "execution_count": null,
   "metadata": {},
   "outputs": [],
   "source": [
    "# Attempt to rollup most of NSE programs into ONE\n",
    "\n",
    "# STATUS: Incomplete (Trial with index options)\n",
    "# Run-time: Unknown\n",
    "\n",
    "# Dependencies:\n",
    "#  - List of indexes and equities\n",
    "#  - underlying's ohlc history for standard deviation and Black Scholes\n",
    "\n",
    "#***          Start ib_insync (run once)       *****\n",
    "#_______________________________________________\n",
    "\n",
    "from ib_insync import *\n",
    "util.startLoop()\n",
    "ib = IB().connect('127.0.0.1', 7496, clientId=5) # kavi tws live\n",
    "# ib = IB().connect('127.0.0.1', 4001, clientId=5) # kavi IBG live\n",
    "# ib = IB().connect('127.0.0.1', 7499, clientId=5) # kavi tws paper-trade\n",
    "# ib = IB().connect('127.0.0.1', 4004, clientId=5) # kavi IBG paper-trade"
   ]
  },
  {
   "cell_type": "code",
   "execution_count": null,
   "metadata": {},
   "outputs": [],
   "source": [
    "%%time\n",
    "#***      Imports    *****\n",
    "import pandas as pd\n",
    "import numpy as np\n",
    "from itertools import product\n",
    "\n",
    "#***    Paths and Variables    ***\n",
    "datapath = r'./zdata/'\n",
    "market = 'NSE'\n",
    "deletesym = ['USDINR']   #ibSymbols to be deleted\n",
    "\n",
    "#***   Error catching for list comprehension ***\n",
    "def catch(func, handle=lambda e : e, *args, **kwargs):\n",
    "    '''List comprehension error catcher'''\n",
    "    try:\n",
    "        return func(*args, **kwargs)\n",
    "    except Exception as e:\n",
    "        np.nan\n",
    "\n",
    "#***    Get scrips from IBKR   ***\n",
    "df_ib = pd.DataFrame([]) # Initialize\n",
    "\n",
    "# from IBKR's symbols page\n",
    "url = \"https://www.interactivebrokers.com.hk/en/index.php?\"\n",
    "url = url+\"f=2222&exch=nse&showcategories=OPTGRP&page=\"\n",
    "\n",
    "for i in range(4):\n",
    "    df_ib = df_ib.append(df_ib.append(pd.read_html(url+str(i), header=0)[2]))\n",
    "\n",
    "# Exit program if dataframe is empty\n",
    "if df_ib.empty:\n",
    "    print('Interactive Brokers dataframe is empty!!!')\n",
    "    sys.exit(0)\n",
    "    \n",
    "df_ib = df_ib.drop_duplicates().reset_index(drop=True)\n",
    "\n",
    "# Qualify Stock contracts\n",
    "stocks = [Stock(symbol=s, exchange=market) for s in df_ib['IB Symbol']]\n",
    "nse_qs = ib.qualifyContracts(*stocks)\n",
    "\n",
    "df_qs = util.df(nse_qs) # data frame of qualified stocks\n",
    "\n",
    "# Get a df of indexes\n",
    "df_ix = df_ib[~df_ib['IB Symbol'].isin(df_qs.symbol)]\n",
    "\n",
    "# Qualify the indexes\n",
    "indexes = [Index(symbol=s, exchange='NSE') for s in df_ix['IB Symbol']]\n",
    "nse_qi = ib.qualifyContracts(*indexes)\n",
    "\n",
    "df_qi = util.df(nse_qi) # dataframe of qualified indexes\n",
    "\n",
    "symbols = nse_qi + nse_qs\n",
    "\n",
    "# symbols = nse_qi # DATA LIMITER!!!\n",
    "\n",
    "nse_q = [n for n in symbols if n.symbol not in deletesym]   # remove USDINR\n",
    "\n",
    "df_q = util.df(nse_q)  # dataframe of qualified stocks + indexes\n",
    "\n",
    "df_q['contract'] = pd.Series(nse_q)"
   ]
  },
  {
   "cell_type": "code",
   "execution_count": null,
   "metadata": {},
   "outputs": [],
   "source": [
    "#*** Get the volatilities\n",
    "def get_maxvol(contract):\n",
    "    '''Gets maximum volatailty\n",
    "       Arg: (contract) as object\n",
    "       Returns: maxvol as float - maximum of 12 month's HV and IV '''\n",
    "    bars1 = ib.reqHistoricalData(contract, endDateTime='', durationStr='12 M',\n",
    "            barSizeSetting='1 day', whatToShow='OPTION_IMPLIED_VOLATILITY', useRTH=True)\n",
    "    bars2 = ib.reqHistoricalData(contract, endDateTime='', durationStr='12 M',\n",
    "            barSizeSetting='1 day', whatToShow='HISTORICAL_VOLATILITY', useRTH=True)\n",
    "    maxvol = max([b.close for b in bars1]+[b.close for b in bars2])\n",
    "    return maxvol\n",
    "\n",
    "df_q['maxvol'] = df_q.contract.apply(get_maxvol)"
   ]
  },
  {
   "cell_type": "code",
   "execution_count": null,
   "metadata": {},
   "outputs": [],
   "source": [
    "#***  Get the underlying's price\n",
    "def get_price(contract):\n",
    "    '''Gets the price of the contract\n",
    "    Arg: (contract) as object\n",
    "    Returns: close priceas float'''\n",
    "    \n",
    "    bars = ib.reqHistoricalData(\n",
    "            contract,\n",
    "            endDateTime='',\n",
    "            durationStr='60 S',\n",
    "            barSizeSetting='1 secs',\n",
    "            whatToShow='TRADES',\n",
    "            useRTH=True,\n",
    "            formatDate=1,\n",
    "            keepUpToDate=True)[-1:]\n",
    "\n",
    "    close = [b.close for b in bars]\n",
    "    \n",
    "    return close[0]"
   ]
  },
  {
   "cell_type": "code",
   "execution_count": null,
   "metadata": {},
   "outputs": [],
   "source": [
    "# df_q.contract.apply(get_price)"
   ]
  },
  {
   "cell_type": "code",
   "execution_count": null,
   "metadata": {},
   "outputs": [],
   "source": [
    "#***   Error catching for list comprehension ***\n",
    "import numpy as np\n",
    "def catch(func, handle=lambda e : e, *args, **kwargs):\n",
    "    '''List comprehension error catcher'''\n",
    "    try:\n",
    "        return func(*args, **kwargs)\n",
    "    except Exception as e:\n",
    "        np.nan\n",
    "df_q['closeprice'] = [catch(lambda: getprice(c)) for c in df_q.contract]"
   ]
  },
  {
   "cell_type": "code",
   "execution_count": null,
   "metadata": {},
   "outputs": [],
   "source": [
    "get_price(df_q.contract[3])"
   ]
  },
  {
   "cell_type": "code",
   "execution_count": null,
   "metadata": {},
   "outputs": [],
   "source": [
    "df_q['closeprice'] = [get_price(c) for c in df_q.contract]"
   ]
  },
  {
   "cell_type": "code",
   "execution_count": null,
   "metadata": {},
   "outputs": [],
   "source": [
    "# ***** Get list with Mlots + Margin% from 5paisa\n",
    "paisaurl = \"https://www.5paisa.com/5pit/spma.asp\"\n",
    "df_paisa = pd.read_html(paisaurl, header=0)[1].drop_duplicates(subset='Symbol')\n",
    "\n",
    "df_paisa1 = df_paisa[['Symbol', 'Mlot', 'TotMgn%']].sort_values('Symbol').reset_index(drop=True)\n",
    "\n",
    "# Rename Symbol and Margin fields\n",
    "df_paisa1 = df_paisa1.rename(columns={'Symbol': 'nseSymbol', 'TotMgn%': 'marginpct'})\n",
    "\n",
    "# Convert columns to numeric and make margin to pct\n",
    "df_paisa1 = df_paisa1.apply(pd.to_numeric, errors='ignore')\n",
    "df_paisa1.marginpct = df_paisa1.marginpct.div(100)"
   ]
  },
  {
   "cell_type": "code",
   "execution_count": null,
   "metadata": {},
   "outputs": [],
   "source": [
    "#***    make option chains and qualify   ***\n",
    "chains = {s: ib.reqSecDefOptParams(s.symbol, '', s.secType, s.conId) for s in symbols}\n",
    "chains\n",
    "\n",
    "df_und = util.df(chains) # dataframe of underlying chains\n",
    "\n",
    "tup_chains = [([k.symbol], tuple(i.expirations), tuple(i.strikes), ['P']) \n",
    " for k, v in chains.items() \n",
    " for i in v]\n",
    "\n",
    "# create options without USDINR scrip\n",
    "options = [Option(p[0], p[1], p[2], p[3], 'NSE') \n",
    "           for tup in tup_chains\n",
    "           for p in product(*tup)]\n",
    "\n",
    "# qualify the options\n",
    "nse_qo = [t for i in range(0, len(options), 25) for t in ib.qualifyContracts(*options[i: i+25])]\n",
    "\n",
    "df_qo = util.df(nse_qo) # dataframe for qualified options"
   ]
  },
  {
   "cell_type": "code",
   "execution_count": null,
   "metadata": {},
   "outputs": [],
   "source": []
  },
  {
   "cell_type": "code",
   "execution_count": null,
   "metadata": {},
   "outputs": [],
   "source": []
  },
  {
   "cell_type": "code",
   "execution_count": null,
   "metadata": {},
   "outputs": [],
   "source": [
    "contract = nse_qo[0]\n",
    "order = Order(action='SELL', orderType='MKT', totalQuantity=20)\n",
    "ib.whatIfOrder(contract, order)"
   ]
  },
  {
   "cell_type": "code",
   "execution_count": null,
   "metadata": {},
   "outputs": [],
   "source": [
    "ib.reqSecDefOptParams(futFopExchange='NSE', underlyingConId=337009725, underlyingSecType='IND', underlyingSymbol = 'BANKNIFTY')"
   ]
  },
  {
   "cell_type": "code",
   "execution_count": null,
   "metadata": {},
   "outputs": [],
   "source": [
    "ib.disconnect()"
   ]
  },
  {
   "cell_type": "markdown",
   "metadata": {},
   "source": [
    "# To-do\n",
    "* something is wrong in the qual_options. Fix it.\n",
    "* integration with standard deviation\n",
    "* remove unnecessary options (Put)\n",
    "* integration with black scholes\n",
    "* integration with lot and margin\n",
    "* generate orders\n",
    "* place orders (what-if) to check margins (duplicate)\n",
    "* check latest prices\n",
    "* screen most valueable RoM and PoP\n",
    "* place orders"
   ]
  },
  {
   "cell_type": "code",
   "execution_count": null,
   "metadata": {},
   "outputs": [],
   "source": []
  }
 ],
 "metadata": {
  "kernelspec": {
   "display_name": "Python 3",
   "language": "python",
   "name": "python3"
  },
  "language_info": {
   "codemirror_mode": {
    "name": "ipython",
    "version": 3
   },
   "file_extension": ".py",
   "mimetype": "text/x-python",
   "name": "python",
   "nbconvert_exporter": "python",
   "pygments_lexer": "ipython3",
   "version": "3.6.6"
  }
 },
 "nbformat": 4,
 "nbformat_minor": 2
}
