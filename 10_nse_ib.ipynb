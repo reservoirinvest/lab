{
 "cells": [
  {
   "cell_type": "code",
   "execution_count": 1,
   "metadata": {},
   "outputs": [],
   "source": [
    "# Attempt to rollup most of NSE programs into ONE\n",
    "\n",
    "# STATUS: Incomplete (Trial with index options)\n",
    "# Run-time: Unknown\n",
    "\n",
    "# Dependencies:\n",
    "#  - List of indexes and equities\n",
    "#  - underlying's ohlc history for standard deviation and Black Scholes\n",
    "\n",
    "#***          Start ib_insync (run once)       *****\n",
    "#_______________________________________________\n",
    "\n",
    "from ib_insync import *\n",
    "util.startLoop()\n",
    "ib = IB().connect('127.0.0.1', 7496, clientId=5) # kavi tws live\n",
    "# ib = IB().connect('127.0.0.1', 4001, clientId=5) # kavi IBG live\n",
    "# ib = IB().connect('127.0.0.1', 7499, clientId=5) # kavi tws paper-trade\n",
    "# ib = IB().connect('127.0.0.1', 4004, clientId=5) # kavi IBG paper-trade"
   ]
  },
  {
   "cell_type": "code",
   "execution_count": 2,
   "metadata": {},
   "outputs": [
    {
     "name": "stderr",
     "output_type": "stream",
     "text": [
      "WARNING:ib_insync.client:Started to throttle requests\n",
      "ERROR:ib_insync.wrapper:Error 200, reqId 2651: No security definition has been found for the request, contract: Stock(symbol='BANKNIFTY', exchange='NSE')\n",
      "ERROR:ib_insync.wrapper:Error 200, reqId 2765: No security definition has been found for the request, contract: Stock(symbol='NIFTY50', exchange='NSE')\n",
      "ERROR:ib_insync.wrapper:Error 200, reqId 2826: No security definition has been found for the request, contract: Stock(symbol='USDINR', exchange='NSE')\n",
      "WARNING:ib_insync.client:Stopped to throttle requests\n",
      "ERROR:ib_insync.ib:Unknown contract: Stock(symbol='BANKNIFTY', exchange='NSE')\n",
      "ERROR:ib_insync.ib:Unknown contract: Stock(symbol='NIFTY50', exchange='NSE')\n",
      "ERROR:ib_insync.ib:Unknown contract: Stock(symbol='USDINR', exchange='NSE')\n"
     ]
    },
    {
     "name": "stdout",
     "output_type": "stream",
     "text": [
      "Wall time: 23.3 s\n"
     ]
    }
   ],
   "source": [
    "%%time\n",
    "#***      Imports    *****\n",
    "import pandas as pd\n",
    "import numpy as np\n",
    "from itertools import product\n",
    "import utils\n",
    "\n",
    "#***    Paths and Variables    ***\n",
    "datapath = r'./zdata/'\n",
    "market = 'NSE'\n",
    "deletesym = ['USDINR']   #ibSymbols to be deleted\n",
    "\n",
    "#***    Get scrips from IBKR   ***\n",
    "df_ib = pd.DataFrame([]) # Initialize\n",
    "\n",
    "# from IBKR's symbols page\n",
    "url = \"https://www.interactivebrokers.com.hk/en/index.php?\"\n",
    "url = url+\"f=2222&exch=nse&showcategories=OPTGRP&page=\"\n",
    "\n",
    "for i in range(4):\n",
    "    df_ib = df_ib.append(df_ib.append(pd.read_html(url+str(i), header=0)[2]))\n",
    "\n",
    "# Exit program if dataframe is empty\n",
    "if df_ib.empty:\n",
    "    print('Interactive Brokers dataframe is empty!!!')\n",
    "    sys.exit(0)\n",
    "    \n",
    "df_ib = df_ib.drop_duplicates().reset_index(drop=True)\n",
    "all_symbols = list(df_ib['IB Symbol'])\n",
    "\n",
    "# Qualify Stock contracts\n",
    "stocks = [Stock(symbol=s, exchange=market) for s in all_symbols]\n",
    "stock_contracts = ib.qualifyContracts(*stocks)\n",
    "stock_symbols = [s.symbol for s in stock_contracts]\n",
    "\n",
    "# Qualify Index contracts\n",
    "idx_symbols = [a for a in all_symbols if a not in stock_symbols]\n",
    "\n",
    "indexes = [Index(symbol=s, exchange='NSE') for s in idx_symbols]\n",
    "index_contracts = ib.qualifyContracts(*indexes)\n",
    "index_symbols = [i.symbol for i in index_contracts]\n",
    "\n",
    "# All qualified symbols and contracts\n",
    "symbols = stock_symbols + index_symbols\n",
    "contracts = stock_contracts + index_contracts\n",
    "\n",
    "#****     DATA LIMITER HERE   ****\n",
    "#_________________________________\n",
    "# symbols = stock_symbols[0:2] + [index_symbols[0]] # DATA LIMITER!!\n",
    "# contracts = stock_contracts[0:2] + [index_contracts[0]]"
   ]
  },
  {
   "cell_type": "code",
   "execution_count": null,
   "metadata": {},
   "outputs": [],
   "source": [
    "# import importlib\n",
    "# importlib.reload(utils)\n",
    "\n",
    "# [utils.getprice(contract=c, ib=ib) \n",
    "#  for i in range(0, len(contracts), blk) \n",
    "#  for c in contracts[i:i+blk]]"
   ]
  },
  {
   "cell_type": "code",
   "execution_count": 3,
   "metadata": {},
   "outputs": [
    {
     "name": "stderr",
     "output_type": "stream",
     "text": [
      "ERROR:ib_insync.wrapper:Error 162, reqId 2837: Historical Market Data Service error message:Historical data request pacing violation, contract: Stock(conId=44652144, symbol='ACC', exchange='NSE', primaryExchange='NSE', currency='INR', localSymbol='ACC', tradingClass='ACC')\n",
      "ERROR:ib_insync.wrapper:Error 162, reqId 2838: Historical Market Data Service error message:Historical data request pacing violation, contract: Stock(conId=56986798, symbol='ADANIENT', exchange='NSE', primaryExchange='NSE', currency='INR', localSymbol='ADANIENT', tradingClass='ADANIENT')\n",
      "ERROR:ib_insync.wrapper:Error 162, reqId 2839: Historical Market Data Service error message:Historical data request pacing violation, contract: Stock(conId=79403918, symbol='ADANIPORT', exchange='NSE', primaryExchange='NSE', currency='INR', localSymbol='ADANIPORTS', tradingClass='ADANIPORT')\n",
      "ERROR:ib_insync.wrapper:Error 162, reqId 2840: Historical Market Data Service error message:Historical data request pacing violation, contract: Stock(conId=70299711, symbol='ADANIPOWE', exchange='NSE', primaryExchange='NSE', currency='INR', localSymbol='ADANIPOWER', tradingClass='ADANIPOWE')\n",
      "ERROR:ib_insync.wrapper:Error 162, reqId 2841: Historical Market Data Service error message:Historical data request pacing violation, contract: Stock(conId=187395649, symbol='AJANTPHAR', exchange='NSE', primaryExchange='NSE', currency='INR', localSymbol='AJANTPHARM', tradingClass='AJANTPHAR')\n",
      "ERROR:ib_insync.wrapper:Error 162, reqId 2842: Historical Market Data Service error message:Historical data request pacing violation, contract: Stock(conId=56988229, symbol='ALBK', exchange='NSE', primaryExchange='NSE', currency='INR', localSymbol='ALBK', tradingClass='ALBK')\n",
      "ERROR:ib_insync.wrapper:Error 162, reqId 2843: Historical Market Data Service error message:Historical data request pacing violation, contract: Stock(conId=113744943, symbol='AMARAJABA', exchange='NSE', primaryExchange='NSE', currency='INR', localSymbol='AMARAJABAT', tradingClass='AMARAJABA')\n",
      "ERROR:ib_insync.wrapper:Error 162, reqId 2844: Historical Market Data Service error message:Historical data request pacing violation, contract: Stock(conId=44652129, symbol='AMBUJACEM', exchange='NSE', primaryExchange='NSE', currency='INR', localSymbol='AMBUJACEM', tradingClass='AMBUJACEM')\n",
      "ERROR:ib_insync.wrapper:Error 162, reqId 2845: Historical Market Data Service error message:Historical data request pacing violation, contract: Stock(conId=78607402, symbol='APOLLOHOS', exchange='NSE', primaryExchange='NSE', currency='INR', localSymbol='APOLLOHOSP', tradingClass='APOLLOHOS')\n",
      "ERROR:ib_insync.wrapper:Error 162, reqId 2846: Historical Market Data Service error message:Historical data request pacing violation, contract: Stock(conId=56988336, symbol='APOLLOTYR', exchange='NSE', primaryExchange='NSE', currency='INR', localSymbol='APOLLOTYRE', tradingClass='APOLLOTYR')\n",
      "ERROR:ib_insync.wrapper:Error 162, reqId 2847: Historical Market Data Service error message:Historical data request pacing violation, contract: Stock(conId=56988374, symbol='ARVIND', exchange='NSE', primaryExchange='NSE', currency='INR', localSymbol='ARVIND', tradingClass='ARVIND')\n",
      "ERROR:ib_insync.wrapper:Error 162, reqId 2848: Historical Market Data Service error message:Historical data request pacing violation, contract: Stock(conId=56988221, symbol='ASHOKLEY', exchange='NSE', primaryExchange='NSE', currency='INR', localSymbol='ASHOKLEY', tradingClass='ASHOKLEY')\n",
      "ERROR:ib_insync.wrapper:Error 162, reqId 2849: Historical Market Data Service error message:Historical data request pacing violation, contract: Stock(conId=132214022, symbol='ASIANPAIN', exchange='NSE', primaryExchange='NSE', currency='INR', localSymbol='ASIANPAINT', tradingClass='ASIANPAIN')\n",
      "ERROR:ib_insync.wrapper:Error 162, reqId 2850: Historical Market Data Service error message:Historical data request pacing violation, contract: Stock(conId=83937139, symbol='AUROPHARM', exchange='NSE', primaryExchange='NSE', currency='INR', localSymbol='AUROPHARMA', tradingClass='AUROPHARM')\n",
      "ERROR:ib_insync.wrapper:Error 162, reqId 2851: Historical Market Data Service error message:Historical data request pacing violation, contract: Stock(conId=162089869, symbol='AXISBANK', exchange='NSE', primaryExchange='NSE', currency='INR', localSymbol='AXISBANK', tradingClass='AXISBANK')\n",
      "ERROR:ib_insync.wrapper:Error 162, reqId 2852: Historical Market Data Service error message:Historical data request pacing violation, contract: Stock(conId=56987980, symbol='BAJAJ-AUT', exchange='NSE', primaryExchange='NSE', currency='INR', localSymbol='BAJAJ-AUTO', tradingClass='BAJAJ-AUT')\n",
      "ERROR:ib_insync.wrapper:Error 162, reqId 2853: Historical Market Data Service error message:Historical data request pacing violation, contract: Stock(conId=56987991, symbol='BAJAJFINS', exchange='NSE', primaryExchange='NSE', currency='INR', localSymbol='BAJAJFINSV', tradingClass='BAJAJFINS')\n",
      "ERROR:ib_insync.wrapper:Error 162, reqId 2854: Historical Market Data Service error message:Historical data request pacing violation, contract: Stock(conId=247227232, symbol='BAJFINANC', exchange='NSE', primaryExchange='NSE', currency='INR', localSymbol='BAJFINANCE', tradingClass='BAJFINANC')\n",
      "ERROR:ib_insync.wrapper:Error 162, reqId 2855: Historical Market Data Service error message:Historical data request pacing violation, contract: Stock(conId=81899870, symbol='BALKRISIN', exchange='NSE', primaryExchange='NSE', currency='INR', localSymbol='BALKRISIND', tradingClass='BALKRISIN')\n",
      "ERROR:ib_insync.wrapper:Error 162, reqId 2856: Historical Market Data Service error message:Historical data request pacing violation, contract: Stock(conId=180222138, symbol='BANKBAROD', exchange='NSE', primaryExchange='NSE', currency='INR', localSymbol='BANKBARODA', tradingClass='BANKBAROD')\n",
      "ERROR:ib_insync.wrapper:Error 162, reqId 2857: Historical Market Data Service error message:Historical data request pacing violation, contract: Stock(conId=56988052, symbol='BANKINDIA', exchange='NSE', primaryExchange='NSE', currency='INR', localSymbol='BANKINDIA', tradingClass='BANKINDIA')\n",
      "ERROR:ib_insync.wrapper:Error 162, reqId 2858: Historical Market Data Service error message:Historical data request pacing violation, contract: Stock(conId=208706811, symbol='BATAINDIA', exchange='NSE', primaryExchange='NSE', currency='INR', localSymbol='BATAINDIA', tradingClass='BATAINDIA')\n",
      "ERROR:ib_insync.wrapper:Error 162, reqId 2859: Historical Market Data Service error message:Historical data request pacing violation, contract: Stock(conId=269577540, symbol='BEL', exchange='NSE', primaryExchange='NSE', currency='INR', localSymbol='BEL', tradingClass='BEL')\n",
      "ERROR:ib_insync.wrapper:Error 162, reqId 2860: Historical Market Data Service error message:Historical data request pacing violation, contract: Stock(conId=56987900, symbol='BEML', exchange='NSE', primaryExchange='NSE', currency='INR', localSymbol='BEML', tradingClass='BEML')\n",
      "ERROR:ib_insync.wrapper:Error 162, reqId 2861: Historical Market Data Service error message:Historical data request pacing violation, contract: Stock(conId=179252695, symbol='BERGEPAIN', exchange='NSE', primaryExchange='NSE', currency='INR', localSymbol='BERGEPAINT', tradingClass='BERGEPAIN')\n",
      "ERROR:ib_insync.wrapper:Error 162, reqId 2862: Historical Market Data Service error message:Historical data request pacing violation, contract: Stock(conId=77953834, symbol='BHARATFIN', exchange='NSE', primaryExchange='NSE', currency='INR', localSymbol='BHARATFIN', tradingClass='BHARATFIN')\n",
      "ERROR:ib_insync.wrapper:Error 162, reqId 2863: Historical Market Data Service error message:Historical data request pacing violation, contract: Stock(conId=56987929, symbol='BHARATFOR', exchange='NSE', primaryExchange='NSE', currency='INR', localSymbol='BHARATFORG', tradingClass='BHARATFOR')\n",
      "ERROR:ib_insync.wrapper:Error 162, reqId 2864: Historical Market Data Service error message:Historical data request pacing violation, contract: Stock(conId=64769335, symbol='BHARTIART', exchange='NSE', primaryExchange='NSE', currency='INR', localSymbol='BHARTIARTL', tradingClass='BHARTIART')\n",
      "ERROR:ib_insync.wrapper:Error 162, reqId 2865: Historical Market Data Service error message:Historical data request pacing violation, contract: Stock(conId=95441327, symbol='BHEL', exchange='NSE', primaryExchange='NSE', currency='INR', localSymbol='BHEL', tradingClass='BHEL')\n"
     ]
    },
    {
     "name": "stderr",
     "output_type": "stream",
     "text": [
      "ERROR:ib_insync.wrapper:Error 162, reqId 2866: Historical Market Data Service error message:Historical data request pacing violation, contract: Stock(conId=56987974, symbol='BIOCON', exchange='NSE', primaryExchange='NSE', currency='INR', localSymbol='BIOCON', tradingClass='BIOCON')\n",
      "ERROR:ib_insync.wrapper:Error 162, reqId 2867: Historical Market Data Service error message:Historical data request pacing violation, contract: Stock(conId=56988066, symbol='BOSCHLTD', exchange='NSE', primaryExchange='NSE', currency='INR', localSymbol='BOSCHLTD', tradingClass='BOSCHLTD')\n",
      "ERROR:ib_insync.wrapper:Error 162, reqId 2868: Historical Market Data Service error message:Historical data request pacing violation, contract: Stock(conId=44652160, symbol='BPCL', exchange='NSE', primaryExchange='NSE', currency='INR', localSymbol='BPCL', tradingClass='BPCL')\n",
      "ERROR:ib_insync.wrapper:Error 162, reqId 2869: Historical Market Data Service error message:Historical data request pacing violation, contract: Stock(conId=343576985, symbol='BRITANNIA', exchange='NSE', primaryExchange='NSE', currency='INR', localSymbol='BRITANNIA', tradingClass='BRITANNIA')\n",
      "ERROR:ib_insync.wrapper:Error 162, reqId 2870: Historical Market Data Service error message:Historical data request pacing violation, contract: Stock(conId=208509801, symbol='CADILAHC', exchange='NSE', primaryExchange='NSE', currency='INR', localSymbol='CADILAHC', tradingClass='CADILAHC')\n",
      "ERROR:ib_insync.wrapper:Error 162, reqId 2871: Historical Market Data Service error message:Historical data request pacing violation, contract: Stock(conId=56985302, symbol='CANBK', exchange='NSE', primaryExchange='NSE', currency='INR', localSymbol='CANBK', tradingClass='CANBK')\n",
      "ERROR:ib_insync.wrapper:Error 162, reqId 2872: Historical Market Data Service error message:Historical data request pacing violation, contract: Stock(conId=291955611, symbol='CANFINHOM', exchange='NSE', primaryExchange='NSE', currency='INR', localSymbol='CANFINHOME', tradingClass='CANFINHOM')\n",
      "ERROR:ib_insync.wrapper:Error 162, reqId 2873: Historical Market Data Service error message:Historical data request pacing violation, contract: Stock(conId=56983523, symbol='CAPF', exchange='NSE', primaryExchange='NSE', currency='INR', localSymbol='CAPF', tradingClass='CAPF')\n",
      "ERROR:ib_insync.wrapper:Error 162, reqId 2874: Historical Market Data Service error message:Historical data request pacing violation, contract: Stock(conId=146063895, symbol='CASTROLIN', exchange='NSE', primaryExchange='NSE', currency='INR', localSymbol='CASTROLIND', tradingClass='CASTROLIN')\n",
      "ERROR:ib_insync.wrapper:Error 162, reqId 2875: Historical Market Data Service error message:Historical data request pacing violation, contract: Stock(conId=56985342, symbol='CEATLTD', exchange='NSE', primaryExchange='NSE', currency='INR', localSymbol='CEATLTD', tradingClass='CEATLTD')\n",
      "ERROR:ib_insync.wrapper:Error 162, reqId 2876: Historical Market Data Service error message:Historical data request pacing violation, contract: Stock(conId=56985354, symbol='CENTURYTE', exchange='NSE', primaryExchange='NSE', currency='INR', localSymbol='CENTURYTEX', tradingClass='CENTURYTE')\n",
      "ERROR:ib_insync.wrapper:Error 162, reqId 2877: Historical Market Data Service error message:Historical data request pacing violation, contract: Stock(conId=56985359, symbol='CESC', exchange='NSE', primaryExchange='NSE', currency='INR', localSymbol='CESC', tradingClass='CESC')\n",
      "ERROR:ib_insync.wrapper:Error 162, reqId 2878: Historical Market Data Service error message:Historical data request pacing violation, contract: Stock(conId=56985479, symbol='CGPOWER', exchange='NSE', primaryExchange='NSE', currency='INR', localSymbol='CGPOWER', tradingClass='CGPOWER')\n",
      "ERROR:ib_insync.wrapper:Error 162, reqId 2879: Historical Market Data Service error message:Historical data request pacing violation, contract: Stock(conId=56987345, symbol='CHENNPETR', exchange='NSE', primaryExchange='NSE', currency='INR', localSymbol='CHENNPETRO', tradingClass='CHENNPETR')\n",
      "ERROR:ib_insync.wrapper:Error 162, reqId 2880: Historical Market Data Service error message:Historical data request pacing violation, contract: Stock(conId=56985332, symbol='CHOLAFIN', exchange='NSE', primaryExchange='NSE', currency='INR', localSymbol='CHOLAFIN', tradingClass='CHOLAFIN')\n",
      "ERROR:ib_insync.wrapper:Error 162, reqId 2881: Historical Market Data Service error message:Historical data request pacing violation, contract: Stock(conId=44652139, symbol='CIPLA', exchange='NSE', primaryExchange='NSE', currency='INR', localSymbol='CIPLA', tradingClass='CIPLA')\n",
      "ERROR:ib_insync.wrapper:Error 162, reqId 2882: Historical Market Data Service error message:Historical data request pacing violation, contract: Stock(conId=80626626, symbol='COALINDIA', exchange='NSE', primaryExchange='NSE', currency='INR', localSymbol='COALINDIA', tradingClass='COALINDIA')\n",
      "ERROR:ib_insync.wrapper:Error 162, reqId 2883: Historical Market Data Service error message:Historical data request pacing violation, contract: Stock(conId=56985419, symbol='COLPAL', exchange='NSE', primaryExchange='NSE', currency='INR', localSymbol='COLPAL', tradingClass='COLPAL')\n",
      "ERROR:ib_insync.wrapper:Error 162, reqId 2884: Historical Market Data Service error message:Historical data request pacing violation, contract: Stock(conId=322790806, symbol='CONCOR', exchange='NSE', primaryExchange='NSE', currency='INR', localSymbol='CONCOR', tradingClass='CONCOR')\n",
      "ERROR:ib_insync.wrapper:Error 162, reqId 2885: Historical Market Data Service error message:Historical data request pacing violation, contract: Stock(conId=56985045, symbol='CUMMINSIN', exchange='NSE', primaryExchange='NSE', currency='INR', localSymbol='CUMMINSIND', tradingClass='CUMMINSIN')\n",
      "ERROR:ib_insync.wrapper:Error 162, reqId 2886: Historical Market Data Service error message:Historical data request pacing violation, contract: Stock(conId=44652199, symbol='DABUR', exchange='NSE', primaryExchange='NSE', currency='INR', localSymbol='DABUR', tradingClass='DABUR')\n",
      "ERROR:ib_insync.wrapper:Error 162, reqId 2887: Historical Market Data Service error message:Historical data request pacing violation, contract: Stock(conId=56984045, symbol='DCBBANK', exchange='NSE', primaryExchange='NSE', currency='INR', localSymbol='DCBBANK', tradingClass='DCBBANK')\n",
      "ERROR:ib_insync.wrapper:Error 162, reqId 2888: Historical Market Data Service error message:Historical data request pacing violation, contract: Stock(conId=56984051, symbol='DHFL', exchange='NSE', primaryExchange='NSE', currency='INR', localSymbol='DHFL', tradingClass='DHFL')\n",
      "ERROR:ib_insync.wrapper:Error 162, reqId 2889: Historical Market Data Service error message:Historical data request pacing violation, contract: Stock(conId=56984081, symbol='DISHTV', exchange='NSE', primaryExchange='NSE', currency='INR', localSymbol='DISHTV', tradingClass='DISHTV')\n",
      "ERROR:ib_insync.wrapper:Error 162, reqId 2890: Historical Market Data Service error message:Historical data request pacing violation, contract: Stock(conId=56984084, symbol='DIVISLAB', exchange='NSE', primaryExchange='NSE', currency='INR', localSymbol='DIVISLAB', tradingClass='DIVISLAB')\n",
      "ERROR:ib_insync.wrapper:Error 162, reqId 2891: Historical Market Data Service error message:Historical data request pacing violation, contract: Stock(conId=49982064, symbol='DLF', exchange='NSE', primaryExchange='NSE', currency='INR', localSymbol='DLF', tradingClass='DLF')\n",
      "ERROR:ib_insync.wrapper:Error 162, reqId 2892: Historical Market Data Service error message:Historical data request pacing violation, contract: Stock(conId=44652180, symbol='DRREDDY', exchange='NSE', primaryExchange='NSE', currency='INR', localSymbol='DRREDDY', tradingClass='DRREDDY')\n",
      "ERROR:ib_insync.wrapper:Error 162, reqId 2893: Historical Market Data Service error message:Historical data request pacing violation, contract: Stock(conId=56984334, symbol='EICHERMOT', exchange='NSE', primaryExchange='NSE', currency='INR', localSymbol='EICHERMOT', tradingClass='EICHERMOT')\n",
      "ERROR:ib_insync.wrapper:Error 162, reqId 2894: Historical Market Data Service error message:Historical data request pacing violation, contract: Stock(conId=75044888, symbol='ENGINERSI', exchange='NSE', primaryExchange='NSE', currency='INR', localSymbol='ENGINERSIN', tradingClass='ENGINERSI')\n"
     ]
    },
    {
     "name": "stderr",
     "output_type": "stream",
     "text": [
      "ERROR:ib_insync.wrapper:Error 162, reqId 2895: Historical Market Data Service error message:Historical data request pacing violation, contract: Stock(conId=230865250, symbol='EQUITAS', exchange='NSE', primaryExchange='NSE', currency='INR', localSymbol='EQUITAS', tradingClass='EQUITAS')\n",
      "ERROR:ib_insync.wrapper:Error 162, reqId 2896: Historical Market Data Service error message:Historical data request pacing violation, contract: Stock(conId=56984411, symbol='ESCORTS', exchange='NSE', primaryExchange='NSE', currency='INR', localSymbol='ESCORTS', tradingClass='ESCORTS')\n",
      "ERROR:ib_insync.wrapper:Error 162, reqId 2897: Historical Market Data Service error message:Historical data request pacing violation, contract: Stock(conId=56985401, symbol='EXIDEIND', exchange='NSE', primaryExchange='NSE', currency='INR', localSymbol='EXIDEIND', tradingClass='EXIDEIND')\n",
      "ERROR:ib_insync.wrapper:Error 162, reqId 2898: Historical Market Data Service error message:Historical data request pacing violation, contract: Stock(conId=136316474, symbol='FEDERALBN', exchange='NSE', primaryExchange='NSE', currency='INR', localSymbol='FEDERALBNK', tradingClass='FEDERALBN')\n",
      "ERROR:ib_insync.wrapper:Error 162, reqId 2899: Historical Market Data Service error message:Historical data request pacing violation, contract: Stock(conId=44652084, symbol='GAIL', exchange='NSE', primaryExchange='NSE', currency='INR', localSymbol='GAIL', tradingClass='GAIL')\n",
      "ERROR:ib_insync.wrapper:Error 162, reqId 2900: Historical Market Data Service error message:Historical data request pacing violation, contract: Stock(conId=56986291, symbol='GLENMARK', exchange='NSE', primaryExchange='NSE', currency='INR', localSymbol='GLENMARK', tradingClass='GLENMARK')\n",
      "ERROR:ib_insync.wrapper:Error 162, reqId 2901: Historical Market Data Service error message:Historical data request pacing violation, contract: Stock(conId=69237773, symbol='GMRINFRA', exchange='NSE', primaryExchange='NSE', currency='INR', localSymbol='GMRINFRA', tradingClass='GMRINFRA')\n",
      "ERROR:ib_insync.wrapper:Error 162, reqId 2902: Historical Market Data Service error message:Historical data request pacing violation, contract: Stock(conId=174961888, symbol='GODFRYPHL', exchange='NSE', primaryExchange='NSE', currency='INR', localSymbol='GODFRYPHLP', tradingClass='GODFRYPHL')\n",
      "ERROR:ib_insync.wrapper:Error 162, reqId 2903: Historical Market Data Service error message:Historical data request pacing violation, contract: Stock(conId=56986171, symbol='GODREJCP', exchange='NSE', primaryExchange='NSE', currency='INR', localSymbol='GODREJCP', tradingClass='GODREJCP')\n",
      "ERROR:ib_insync.wrapper:Error 162, reqId 2904: Historical Market Data Service error message:Historical data request pacing violation, contract: Stock(conId=56986182, symbol='GODREJIND', exchange='NSE', primaryExchange='NSE', currency='INR', localSymbol='GODREJIND', tradingClass='GODREJIND')\n",
      "ERROR:ib_insync.wrapper:Error 162, reqId 2905: Historical Market Data Service error message:Historical data request pacing violation, contract: Stock(conId=250071842, symbol='GRASIM', exchange='NSE', primaryExchange='NSE', currency='INR', localSymbol='GRASIM', tradingClass='GRASIM')\n",
      "ERROR:ib_insync.wrapper:Error 162, reqId 2906: Historical Market Data Service error message:Historical data request pacing violation, contract: Stock(conId=113787164, symbol='GSFC', exchange='NSE', primaryExchange='NSE', currency='INR', localSymbol='GSFC', tradingClass='GSFC')\n",
      "ERROR:ib_insync.wrapper:Error 162, reqId 2907: Historical Market Data Service error message:Historical data request pacing violation, contract: Stock(conId=164667099, symbol='HAVELLS', exchange='NSE', primaryExchange='NSE', currency='INR', localSymbol='HAVELLS', tradingClass='HAVELLS')\n",
      "ERROR:ib_insync.wrapper:Error 162, reqId 2908: Historical Market Data Service error message:Historical data request pacing violation, contract: Stock(conId=44652094, symbol='HCLTECH', exchange='NSE', primaryExchange='NSE', currency='INR', localSymbol='HCLTECH', tradingClass='HCLTECH')\n",
      "ERROR:ib_insync.wrapper:Error 162, reqId 2909: Historical Market Data Service error message:Historical data request pacing violation, contract: Stock(conId=77975259, symbol='HDFC', exchange='NSE', primaryExchange='NSE', currency='INR', localSymbol='HDFC', tradingClass='HDFC')\n",
      "ERROR:ib_insync.wrapper:Error 162, reqId 2910: Historical Market Data Service error message:Historical data request pacing violation, contract: Stock(conId=90825534, symbol='HDFCBANK', exchange='NSE', primaryExchange='NSE', currency='INR', localSymbol='HDFCBANK', tradingClass='HDFCBANK')\n",
      "ERROR:ib_insync.wrapper:Error 162, reqId 2911: Historical Market Data Service error message:Historical data request pacing violation, contract: Stock(conId=44652149, symbol='HEROMOTOC', exchange='NSE', primaryExchange='NSE', currency='INR', localSymbol='HEROMOTOCO', tradingClass='HEROMOTOC')\n",
      "ERROR:ib_insync.wrapper:Error 162, reqId 2912: Historical Market Data Service error message:Historical data request pacing violation, contract: Stock(conId=56983874, symbol='HEXAWARE', exchange='NSE', primaryExchange='NSE', currency='INR', localSymbol='HEXAWARE', tradingClass='HEXAWARE')\n",
      "ERROR:ib_insync.wrapper:Error 162, reqId 2913: Historical Market Data Service error message:Historical data request pacing violation, contract: Stock(conId=44652119, symbol='HINDALCO', exchange='NSE', primaryExchange='NSE', currency='INR', localSymbol='HINDALCO', tradingClass='HINDALCO')\n",
      "ERROR:ib_insync.wrapper:Error 162, reqId 2914: Historical Market Data Service error message:Historical data request pacing violation, contract: Stock(conId=44652194, symbol='HINDPETRO', exchange='NSE', primaryExchange='NSE', currency='INR', localSymbol='HINDPETRO', tradingClass='HINDPETRO')\n",
      "ERROR:ib_insync.wrapper:Error 162, reqId 2915: Historical Market Data Service error message:Historical data request pacing violation, contract: Stock(conId=44652060, symbol='HINDUNILV', exchange='NSE', primaryExchange='NSE', currency='INR', localSymbol='HINDUNILVR', tradingClass='HINDUNILV')\n",
      "ERROR:ib_insync.wrapper:Error 162, reqId 2916: Historical Market Data Service error message:Historical data request pacing violation, contract: Stock(conId=84948060, symbol='HINDZINC', exchange='NSE', primaryExchange='NSE', currency='INR', localSymbol='HINDZINC', tradingClass='HINDZINC')\n",
      "ERROR:ib_insync.wrapper:Error 162, reqId 2917: Historical Market Data Service error message:Historical data request pacing violation, contract: Stock(conId=125585152, symbol='IBULHSGFI', exchange='NSE', primaryExchange='NSE', currency='INR', localSymbol='IBULHSGFIN', tradingClass='IBULHSGFI')\n",
      "ERROR:ib_insync.wrapper:Error 162, reqId 2918: Historical Market Data Service error message:Historical data request pacing violation, contract: Stock(conId=175596029, symbol='ICICIBANK', exchange='NSE', primaryExchange='NSE', currency='INR', localSymbol='ICICIBANK', tradingClass='ICICIBANK')\n",
      "ERROR:ib_insync.wrapper:Error 162, reqId 2919: Historical Market Data Service error message:Historical data request pacing violation, contract: Stock(conId=249453974, symbol='ICICIPRUL', exchange='NSE', primaryExchange='NSE', currency='INR', localSymbol='ICICIPRULI', tradingClass='ICICIPRUL')\n",
      "ERROR:ib_insync.wrapper:Error 162, reqId 2920: Historical Market Data Service error message:Historical data request pacing violation, contract: Stock(conId=56985599, symbol='IDBI', exchange='NSE', primaryExchange='NSE', currency='INR', localSymbol='IDBI', tradingClass='IDBI')\n",
      "ERROR:ib_insync.wrapper:Error 162, reqId 2921: Historical Market Data Service error message:Historical data request pacing violation, contract: Stock(conId=50486121, symbol='IDEA', exchange='NSE', primaryExchange='NSE', currency='INR', localSymbol='IDEA', tradingClass='IDEA')\n",
      "ERROR:ib_insync.wrapper:Error 162, reqId 2922: Historical Market Data Service error message:Historical data request pacing violation, contract: Stock(conId=56985600, symbol='IDFC', exchange='NSE', primaryExchange='NSE', currency='INR', localSymbol='IDFC', tradingClass='IDFC')\n",
      "ERROR:ib_insync.wrapper:Error 162, reqId 2923: Historical Market Data Service error message:Historical data request pacing violation, contract: Stock(conId=209462790, symbol='IDFCBANK', exchange='NSE', primaryExchange='NSE', currency='INR', localSymbol='IDFCBANK', tradingClass='IDFCBANK')\n"
     ]
    },
    {
     "name": "stderr",
     "output_type": "stream",
     "text": [
      "ERROR:ib_insync.wrapper:Error 162, reqId 2924: Historical Market Data Service error message:Historical data request pacing violation, contract: Stock(conId=56985620, symbol='IFCI', exchange='NSE', primaryExchange='NSE', currency='INR', localSymbol='IFCI', tradingClass='IFCI')\n",
      "ERROR:ib_insync.wrapper:Error 162, reqId 2925: Historical Market Data Service error message:Historical data request pacing violation, contract: Stock(conId=294350643, symbol='IGL', exchange='NSE', primaryExchange='NSE', currency='INR', localSymbol='IGL', tradingClass='IGL')\n",
      "ERROR:ib_insync.wrapper:Error 162, reqId 2926: Historical Market Data Service error message:Historical data request pacing violation, contract: Stock(conId=56985582, symbol='INDIACEM', exchange='NSE', primaryExchange='NSE', currency='INR', localSymbol='INDIACEM', tradingClass='INDIACEM')\n",
      "ERROR:ib_insync.wrapper:Error 162, reqId 2927: Historical Market Data Service error message:Historical data request pacing violation, contract: Stock(conId=56985685, symbol='INDIANB', exchange='NSE', primaryExchange='NSE', currency='INR', localSymbol='INDIANB', tradingClass='INDIANB')\n",
      "ERROR:ib_insync.wrapper:Error 162, reqId 2928: Historical Market Data Service error message:Historical data request pacing violation, contract: Stock(conId=212126639, symbol='INDIGO', exchange='NSE', primaryExchange='NSE', currency='INR', localSymbol='INDIGO', tradingClass='INDIGO')\n",
      "ERROR:ib_insync.wrapper:Error 162, reqId 2929: Historical Market Data Service error message:Historical data request pacing violation, contract: Stock(conId=56985651, symbol='INDUSINDB', exchange='NSE', primaryExchange='NSE', currency='INR', localSymbol='INDUSINDBK', tradingClass='INDUSINDB')\n",
      "ERROR:ib_insync.wrapper:Error 162, reqId 2930: Historical Market Data Service error message:Historical data request pacing violation, contract: Stock(conId=287232453, symbol='INFIBEAM', exchange='NSE', primaryExchange='NSE', currency='INR', localSymbol='INFIBEAM', tradingClass='INFIBEAM')\n",
      "ERROR:ib_insync.wrapper:Error 162, reqId 2931: Historical Market Data Service error message:Historical data request pacing violation, contract: Stock(conId=119707173, symbol='INFRATEL', exchange='NSE', primaryExchange='NSE', currency='INR', localSymbol='INFRATEL', tradingClass='INFRATEL')\n",
      "ERROR:ib_insync.wrapper:Error 162, reqId 2932: Historical Market Data Service error message:Historical data request pacing violation, contract: Stock(conId=44652017, symbol='INFY', exchange='NSE', primaryExchange='NSE', currency='INR', localSymbol='INFY', tradingClass='INFY')\n",
      "ERROR:ib_insync.wrapper:Error 162, reqId 2933: Historical Market Data Service error message:Historical data request pacing violation, contract: Stock(conId=56985747, symbol='IOC', exchange='NSE', primaryExchange='NSE', currency='INR', localSymbol='IOC', tradingClass='IOC')\n",
      "ERROR:ib_insync.wrapper:Error 162, reqId 2934: Historical Market Data Service error message:Historical data request pacing violation, contract: Stock(conId=56985795, symbol='IRB', exchange='NSE', primaryExchange='NSE', currency='INR', localSymbol='IRB', tradingClass='IRB')\n",
      "ERROR:ib_insync.wrapper:Error 162, reqId 2935: Historical Market Data Service error message:Historical data request pacing violation, contract: Stock(conId=44652040, symbol='ITC', exchange='NSE', primaryExchange='NSE', currency='INR', localSymbol='ITC', tradingClass='ITC')\n",
      "ERROR:ib_insync.wrapper:Error 162, reqId 2936: Historical Market Data Service error message:Historical data request pacing violation, contract: Stock(conId=56984184, symbol='JETAIRWAY', exchange='NSE', primaryExchange='NSE', currency='INR', localSymbol='JETAIRWAYS', tradingClass='JETAIRWAY')\n",
      "ERROR:ib_insync.wrapper:Error 162, reqId 2937: Historical Market Data Service error message:Historical data request pacing violation, contract: Stock(conId=56984268, symbol='JINDALSTE', exchange='NSE', primaryExchange='NSE', currency='INR', localSymbol='JINDALSTEL', tradingClass='JINDALSTE')\n",
      "ERROR:ib_insync.wrapper:Error 162, reqId 2938: Historical Market Data Service error message:Historical data request pacing violation, contract: Stock(conId=80423707, symbol='JISLJALEQ', exchange='NSE', primaryExchange='NSE', currency='INR', localSymbol='JISLJALEQS', tradingClass='JISLJALEQ')\n",
      "ERROR:ib_insync.wrapper:Error 162, reqId 2939: Historical Market Data Service error message:Historical data request pacing violation, contract: Stock(conId=56984254, symbol='JPASSOCIA', exchange='NSE', primaryExchange='NSE', currency='INR', localSymbol='JPASSOCIAT', tradingClass='JPASSOCIA')\n",
      "ERROR:ib_insync.wrapper:Error 162, reqId 2940: Historical Market Data Service error message:Historical data request pacing violation, contract: Stock(conId=261024709, symbol='JSWSTEEL', exchange='NSE', primaryExchange='NSE', currency='INR', localSymbol='JSWSTEEL', tradingClass='JSWSTEEL')\n",
      "ERROR:ib_insync.wrapper:Error 162, reqId 2941: Historical Market Data Service error message:Historical data request pacing violation, contract: Stock(conId=72513009, symbol='JUBLFOOD', exchange='NSE', primaryExchange='NSE', currency='INR', localSymbol='JUBLFOOD', tradingClass='JUBLFOOD')\n",
      "ERROR:ib_insync.wrapper:Error 162, reqId 2942: Historical Market Data Service error message:Historical data request pacing violation, contract: Stock(conId=128882870, symbol='JUSTDIAL', exchange='NSE', primaryExchange='NSE', currency='INR', localSymbol='JUSTDIAL', tradingClass='JUSTDIAL')\n",
      "ERROR:ib_insync.wrapper:Error 162, reqId 2943: Historical Market Data Service error message:Historical data request pacing violation, contract: Stock(conId=250071823, symbol='KAJARIACE', exchange='NSE', primaryExchange='NSE', currency='INR', localSymbol='KAJARIACER', tradingClass='KAJARIACE')\n",
      "ERROR:ib_insync.wrapper:Error 162, reqId 2944: Historical Market Data Service error message:Historical data request pacing violation, contract: Stock(conId=78743661, symbol='KOTAKBANK', exchange='NSE', primaryExchange='NSE', currency='INR', localSymbol='KOTAKBANK', tradingClass='KOTAKBANK')\n",
      "ERROR:ib_insync.wrapper:Error 162, reqId 2945: Historical Market Data Service error message:Historical data request pacing violation, contract: Stock(conId=56985099, symbol='KPIT', exchange='NSE', primaryExchange='NSE', currency='INR', localSymbol='KPIT', tradingClass='KPIT')\n",
      "ERROR:ib_insync.wrapper:Error 162, reqId 2946: Historical Market Data Service error message:Historical data request pacing violation, contract: Stock(conId=143038370, symbol='KSCL', exchange='NSE', primaryExchange='NSE', currency='INR', localSymbol='KSCL', tradingClass='KSCL')\n",
      "ERROR:ib_insync.wrapper:Error 162, reqId 2947: Historical Market Data Service error message:Historical data request pacing violation, contract: Stock(conId=56984959, symbol='KTKBANK', exchange='NSE', primaryExchange='NSE', currency='INR', localSymbol='KTKBANK', tradingClass='KTKBANK')\n",
      "ERROR:ib_insync.wrapper:Error 162, reqId 2948: Historical Market Data Service error message:Historical data request pacing violation, contract: Stock(conId=82450876, symbol='LICHSGFIN', exchange='NSE', primaryExchange='NSE', currency='INR', localSymbol='LICHSGFIN', tradingClass='LICHSGFIN')\n",
      "ERROR:ib_insync.wrapper:Error 162, reqId 2949: Historical Market Data Service error message:Historical data request pacing violation, contract: Stock(conId=44652051, symbol='LT', exchange='NSE', primaryExchange='NSE', currency='INR', localSymbol='LT', tradingClass='LT')\n",
      "ERROR:ib_insync.wrapper:Error 162, reqId 2950: Historical Market Data Service error message:Historical data request pacing violation, contract: Stock(conId=92679222, symbol='LTFH', exchange='NSE', primaryExchange='NSE', currency='INR', localSymbol='L&TFH', tradingClass='LTFH')\n",
      "ERROR:ib_insync.wrapper:Error 162, reqId 2951: Historical Market Data Service error message:Historical data request pacing violation, contract: Stock(conId=78429379, symbol='LUPIN', exchange='NSE', primaryExchange='NSE', currency='INR', localSymbol='LUPIN', tradingClass='LUPIN')\n",
      "ERROR:ib_insync.wrapper:Error 162, reqId 2952: Historical Market Data Service error message:Historical data request pacing violation, contract: Stock(conId=74960455, symbol='MANAPPURA', exchange='NSE', primaryExchange='NSE', currency='INR', localSymbol='MANAPPURAM', tradingClass='MANAPPURA')\n"
     ]
    },
    {
     "name": "stderr",
     "output_type": "stream",
     "text": [
      "ERROR:ib_insync.wrapper:Error 162, reqId 2953: Historical Market Data Service error message:Historical data request pacing violation, contract: Stock(conId=56987333, symbol='MARICO', exchange='NSE', primaryExchange='NSE', currency='INR', localSymbol='MARICO', tradingClass='MARICO')\n",
      "ERROR:ib_insync.wrapper:Error 162, reqId 2954: Historical Market Data Service error message:Historical data request pacing violation, contract: Stock(conId=44652108, symbol='MARUTI', exchange='NSE', primaryExchange='NSE', currency='INR', localSymbol='MARUTI', tradingClass='MARUTI')\n",
      "ERROR:ib_insync.wrapper:Error 162, reqId 2955: Historical Market Data Service error message:Historical data request pacing violation, contract: Stock(conId=321318372, symbol='MCDOWELL-', exchange='NSE', primaryExchange='NSE', currency='INR', localSymbol='MCDOWELL-N', tradingClass='MCDOWELL-')\n",
      "ERROR:ib_insync.wrapper:Error 162, reqId 2956: Historical Market Data Service error message:Historical data request pacing violation, contract: Stock(conId=103853702, symbol='MCX', exchange='NSE', primaryExchange='NSE', currency='INR', localSymbol='MCX', tradingClass='MCX')\n",
      "ERROR:ib_insync.wrapper:Error 162, reqId 2957: Historical Market Data Service error message:Historical data request pacing violation, contract: Stock(conId=56987139, symbol='MFSL', exchange='NSE', primaryExchange='NSE', currency='INR', localSymbol='MFSL', tradingClass='MFSL')\n",
      "ERROR:ib_insync.wrapper:Error 162, reqId 2958: Historical Market Data Service error message:Historical data request pacing violation, contract: Stock(conId=239032762, symbol='MGL', exchange='NSE', primaryExchange='NSE', currency='INR', localSymbol='MGL', tradingClass='MGL')\n",
      "ERROR:ib_insync.wrapper:Error 162, reqId 2959: Historical Market Data Service error message:Historical data request pacing violation, contract: Stock(conId=56987628, symbol='MINDTREE', exchange='NSE', primaryExchange='NSE', currency='INR', localSymbol='MINDTREE', tradingClass='MINDTREE')\n",
      "ERROR:ib_insync.wrapper:Error 162, reqId 2960: Historical Market Data Service error message:Historical data request pacing violation, contract: Stock(conId=73894413, symbol='MM', exchange='NSE', primaryExchange='NSE', currency='INR', localSymbol='M&M', tradingClass='MM')\n",
      "ERROR:ib_insync.wrapper:Error 162, reqId 2961: Historical Market Data Service error message:Historical data request pacing violation, contract: Stock(conId=122139383, symbol='MMFIN', exchange='NSE', primaryExchange='NSE', currency='INR', localSymbol='M&MFIN', tradingClass='MMFIN')\n",
      "ERROR:ib_insync.wrapper:Error 162, reqId 2962: Historical Market Data Service error message:Historical data request pacing violation, contract: Stock(conId=56987580, symbol='MOTHERSUM', exchange='NSE', primaryExchange='NSE', currency='INR', localSymbol='MOTHERSUMI', tradingClass='MOTHERSUM')\n",
      "ERROR:ib_insync.wrapper:Error 162, reqId 2963: Historical Market Data Service error message:Historical data request pacing violation, contract: Stock(conId=56987338, symbol='MRF', exchange='NSE', primaryExchange='NSE', currency='INR', localSymbol='MRF', tradingClass='MRF')\n",
      "ERROR:ib_insync.wrapper:Error 162, reqId 2964: Historical Market Data Service error message:Historical data request pacing violation, contract: Stock(conId=56987368, symbol='MRPL', exchange='NSE', primaryExchange='NSE', currency='INR', localSymbol='MRPL', tradingClass='MRPL')\n",
      "ERROR:ib_insync.wrapper:Error 162, reqId 2965: Historical Market Data Service error message:Historical data request pacing violation, contract: Stock(conId=87790418, symbol='MUTHOOTFI', exchange='NSE', primaryExchange='NSE', currency='INR', localSymbol='MUTHOOTFIN', tradingClass='MUTHOOTFI')\n",
      "ERROR:ib_insync.wrapper:Error 162, reqId 2966: Historical Market Data Service error message:Historical data request pacing violation, contract: Stock(conId=85433002, symbol='NATIONALU', exchange='NSE', primaryExchange='NSE', currency='INR', localSymbol='NATIONALUM', tradingClass='NATIONALU')\n",
      "ERROR:ib_insync.wrapper:Error 162, reqId 2967: Historical Market Data Service error message:Historical data request pacing violation, contract: Stock(conId=315530281, symbol='NBCC', exchange='NSE', primaryExchange='NSE', currency='INR', localSymbol='NBCC', tradingClass='NBCC')\n",
      "ERROR:ib_insync.wrapper:Error 162, reqId 2968: Historical Market Data Service error message:Historical data request pacing violation, contract: Stock(conId=56984639, symbol='NCC', exchange='NSE', primaryExchange='NSE', currency='INR', localSymbol='NCC', tradingClass='NCC')\n",
      "ERROR:ib_insync.wrapper:Error 162, reqId 2969: Historical Market Data Service error message:Historical data request pacing violation, contract: Stock(conId=64687316, symbol='NESTLEIND', exchange='NSE', primaryExchange='NSE', currency='INR', localSymbol='NESTLEIND', tradingClass='NESTLEIND')\n",
      "ERROR:ib_insync.wrapper:Error 162, reqId 2970: Historical Market Data Service error message:Historical data request pacing violation, contract: Stock(conId=68324175, symbol='NHPC', exchange='NSE', primaryExchange='NSE', currency='INR', localSymbol='NHPC', tradingClass='NHPC')\n",
      "ERROR:ib_insync.wrapper:Error 162, reqId 2971: Historical Market Data Service error message:Historical data request pacing violation, contract: Stock(conId=56984634, symbol='NIITTECH', exchange='NSE', primaryExchange='NSE', currency='INR', localSymbol='NIITTECH', tradingClass='NIITTECH')\n",
      "ERROR:ib_insync.wrapper:Error 162, reqId 2972: Historical Market Data Service error message:Historical data request pacing violation, contract: Stock(conId=56984653, symbol='NMDC', exchange='NSE', primaryExchange='NSE', currency='INR', localSymbol='NMDC', tradingClass='NMDC')\n",
      "ERROR:ib_insync.wrapper:Error 162, reqId 2973: Historical Market Data Service error message:Historical data request pacing violation, contract: Stock(conId=49982069, symbol='NTPC', exchange='NSE', primaryExchange='NSE', currency='INR', localSymbol='NTPC', tradingClass='NTPC')\n",
      "ERROR:ib_insync.wrapper:Error 162, reqId 2974: Historical Market Data Service error message:Historical data request pacing violation, contract: Stock(conId=56983625, symbol='OFSS', exchange='NSE', primaryExchange='NSE', currency='INR', localSymbol='OFSS', tradingClass='OFSS')\n",
      "ERROR:ib_insync.wrapper:Error 162, reqId 2975: Historical Market Data Service error message:Historical data request pacing violation, contract: Stock(conId=69422667, symbol='OIL', exchange='NSE', primaryExchange='NSE', currency='INR', localSymbol='OIL', tradingClass='OIL')\n",
      "ERROR:ib_insync.wrapper:Error 162, reqId 2976: Historical Market Data Service error message:Historical data request pacing violation, contract: Stock(conId=83845926, symbol='ONGC', exchange='NSE', primaryExchange='NSE', currency='INR', localSymbol='ONGC', tradingClass='ONGC')\n",
      "ERROR:ib_insync.wrapper:Error 162, reqId 2977: Historical Market Data Service error message:Historical data request pacing violation, contract: Stock(conId=56983614, symbol='ORIENTBAN', exchange='NSE', primaryExchange='NSE', currency='INR', localSymbol='ORIENTBANK', tradingClass='ORIENTBAN')\n",
      "ERROR:ib_insync.wrapper:Error 162, reqId 2978: Historical Market Data Service error message:Historical data request pacing violation, contract: Stock(conId=56986688, symbol='PAGEIND', exchange='NSE', primaryExchange='NSE', currency='INR', localSymbol='PAGEIND', tradingClass='PAGEIND')\n",
      "ERROR:ib_insync.wrapper:Error 162, reqId 2979: Historical Market Data Service error message:Historical data request pacing violation, contract: Stock(conId=119653211, symbol='PCJEWELLE', exchange='NSE', primaryExchange='NSE', currency='INR', localSymbol='PCJEWELLER', tradingClass='PCJEWELLE')\n",
      "ERROR:ib_insync.wrapper:Error 162, reqId 2980: Historical Market Data Service error message:Historical data request pacing violation, contract: Stock(conId=56986920, symbol='PEL', exchange='NSE', primaryExchange='NSE', currency='INR', localSymbol='PEL', tradingClass='PEL')\n",
      "ERROR:ib_insync.wrapper:Error 162, reqId 2981: Historical Market Data Service error message:Historical data request pacing violation, contract: Stock(conId=56986960, symbol='PETRONET', exchange='NSE', primaryExchange='NSE', currency='INR', localSymbol='PETRONET', tradingClass='PETRONET')\n",
      "ERROR:ib_insync.wrapper:Error 162, reqId 2982: Historical Market Data Service error message:Historical data request pacing violation, contract: Stock(conId=56986985, symbol='PFC', exchange='NSE', primaryExchange='NSE', currency='INR', localSymbol='PFC', tradingClass='PFC')\n"
     ]
    },
    {
     "name": "stderr",
     "output_type": "stream",
     "text": [
      "ERROR:ib_insync.wrapper:Error 162, reqId 2983: Historical Market Data Service error message:Historical data request pacing violation, contract: Stock(conId=56986764, symbol='PIDILITIN', exchange='NSE', primaryExchange='NSE', currency='INR', localSymbol='PIDILITIND', tradingClass='PIDILITIN')\n",
      "ERROR:ib_insync.wrapper:Error 162, reqId 2984: Historical Market Data Service error message:Historical data request pacing violation, contract: Stock(conId=176235422, symbol='PNB', exchange='NSE', primaryExchange='NSE', currency='INR', localSymbol='PNB', tradingClass='PNB')\n",
      "ERROR:ib_insync.wrapper:Error 162, reqId 2985: Historical Market Data Service error message:Historical data request pacing violation, contract: Stock(conId=50486118, symbol='POWERGRID', exchange='NSE', primaryExchange='NSE', currency='INR', localSymbol='POWERGRID', tradingClass='POWERGRID')\n",
      "ERROR:ib_insync.wrapper:Error 162, reqId 2986: Historical Market Data Service error message:Historical data request pacing violation, contract: Stock(conId=56987070, symbol='PTC', exchange='NSE', primaryExchange='NSE', currency='INR', localSymbol='PTC', tradingClass='PTC')\n",
      "ERROR:ib_insync.wrapper:Error 162, reqId 2987: Historical Market Data Service error message:Historical data request pacing violation, contract: Stock(conId=56987108, symbol='PVR', exchange='NSE', primaryExchange='NSE', currency='INR', localSymbol='PVR', tradingClass='PVR')\n",
      "ERROR:ib_insync.wrapper:Error 162, reqId 2988: Historical Market Data Service error message:Historical data request pacing violation, contract: Stock(conId=56987148, symbol='RAMCOCEM', exchange='NSE', primaryExchange='NSE', currency='INR', localSymbol='RAMCOCEM', tradingClass='RAMCOCEM')\n",
      "ERROR:ib_insync.wrapper:Error 162, reqId 2989: Historical Market Data Service error message:Historical data request pacing violation, contract: Stock(conId=56984932, symbol='RAYMOND', exchange='NSE', primaryExchange='NSE', currency='INR', localSymbol='RAYMOND', tradingClass='RAYMOND')\n",
      "ERROR:ib_insync.wrapper:Error 162, reqId 2990: Historical Market Data Service error message:Historical data request pacing violation, contract: Stock(conId=246723708, symbol='RBLBANK', exchange='NSE', primaryExchange='NSE', currency='INR', localSymbol='RBLBANK', tradingClass='RBLBANK')\n",
      "ERROR:ib_insync.wrapper:Error 162, reqId 2991: Historical Market Data Service error message:Historical data request pacing violation, contract: Stock(conId=44652020, symbol='RCOM', exchange='NSE', primaryExchange='NSE', currency='INR', localSymbol='RCOM', tradingClass='RCOM')\n",
      "ERROR:ib_insync.wrapper:Error 162, reqId 2992: Historical Market Data Service error message:Historical data request pacing violation, contract: Stock(conId=56984788, symbol='RECLTD', exchange='NSE', primaryExchange='NSE', currency='INR', localSymbol='RECLTD', tradingClass='RECLTD')\n",
      "ERROR:ib_insync.wrapper:Error 162, reqId 2993: Historical Market Data Service error message:Historical data request pacing violation, contract: Stock(conId=56984773, symbol='RELCAPITA', exchange='NSE', primaryExchange='NSE', currency='INR', localSymbol='RELCAPITAL', tradingClass='RELCAPITA')\n",
      "ERROR:ib_insync.wrapper:Error 162, reqId 2994: Historical Market Data Service error message:Historical data request pacing violation, contract: Stock(conId=44652000, symbol='RELIANCE', exchange='NSE', primaryExchange='NSE', currency='INR', localSymbol='RELIANCE', tradingClass='RELIANCE')\n",
      "ERROR:ib_insync.wrapper:Error 162, reqId 2995: Historical Market Data Service error message:Historical data request pacing violation, contract: Stock(conId=44652170, symbol='RELINFRA', exchange='NSE', primaryExchange='NSE', currency='INR', localSymbol='RELINFRA', tradingClass='RELINFRA')\n",
      "ERROR:ib_insync.wrapper:Error 162, reqId 2996: Historical Market Data Service error message:Historical data request pacing violation, contract: Stock(conId=125203631, symbol='REPCOHOME', exchange='NSE', primaryExchange='NSE', currency='INR', localSymbol='REPCOHOME', tradingClass='REPCOHOME')\n",
      "ERROR:ib_insync.wrapper:Error 162, reqId 2997: Historical Market Data Service error message:Historical data request pacing violation, contract: Stock(conId=53680378, symbol='RPOWER', exchange='NSE', primaryExchange='NSE', currency='INR', localSymbol='RPOWER', tradingClass='RPOWER')\n",
      "ERROR:ib_insync.wrapper:Error 162, reqId 2998: Historical Market Data Service error message:Historical data request pacing violation, contract: Stock(conId=44652045, symbol='SAIL', exchange='NSE', primaryExchange='NSE', currency='INR', localSymbol='SAIL', tradingClass='SAIL')\n",
      "ERROR:ib_insync.wrapper:Error 162, reqId 2999: Historical Market Data Service error message:Historical data request pacing violation, contract: Stock(conId=173418084, symbol='SBIN', exchange='NSE', primaryExchange='NSE', currency='INR', localSymbol='SBIN', tradingClass='SBIN')\n",
      "ERROR:ib_insync.wrapper:Error 162, reqId 3000: Historical Market Data Service error message:Historical data request pacing violation, contract: Stock(conId=56989171, symbol='SHREECEM', exchange='NSE', primaryExchange='NSE', currency='INR', localSymbol='SHREECEM', tradingClass='SHREECEM')\n",
      "ERROR:ib_insync.wrapper:Error 162, reqId 3001: Historical Market Data Service error message:Historical data request pacing violation, contract: Stock(conId=44652105, symbol='SIEMENS', exchange='NSE', primaryExchange='NSE', currency='INR', localSymbol='SIEMENS', tradingClass='SIEMENS')\n",
      "ERROR:ib_insync.wrapper:Error 162, reqId 3002: Historical Market Data Service error message:Historical data request pacing violation, contract: Stock(conId=79403920, symbol='SOUTHBANK', exchange='NSE', primaryExchange='NSE', currency='INR', localSymbol='SOUTHBANK', tradingClass='SOUTHBANK')\n",
      "ERROR:ib_insync.wrapper:Error 162, reqId 3003: Historical Market Data Service error message:Historical data request pacing violation, contract: Stock(conId=56989177, symbol='SREINFRA', exchange='NSE', primaryExchange='NSE', currency='INR', localSymbol='SREINFRA', tradingClass='SREINFRA')\n",
      "ERROR:ib_insync.wrapper:Error 162, reqId 3004: Historical Market Data Service error message:Historical data request pacing violation, contract: Stock(conId=56989180, symbol='SRF', exchange='NSE', primaryExchange='NSE', currency='INR', localSymbol='SRF', tradingClass='SRF')\n",
      "ERROR:ib_insync.wrapper:Error 162, reqId 3005: Historical Market Data Service error message:Historical data request pacing violation, contract: Stock(conId=56988999, symbol='SRTRANSFI', exchange='NSE', primaryExchange='NSE', currency='INR', localSymbol='SRTRANSFIN', tradingClass='SRTRANSFI')\n",
      "ERROR:ib_insync.wrapper:Error 162, reqId 3006: Historical Market Data Service error message:Historical data request pacing violation, contract: Stock(conId=56989252, symbol='STAR', exchange='NSE', primaryExchange='NSE', currency='INR', localSymbol='STAR', tradingClass='STAR')\n",
      "ERROR:ib_insync.wrapper:Error 162, reqId 3007: Historical Market Data Service error message:Historical data request pacing violation, contract: Stock(conId=81351036, symbol='SUNPHARMA', exchange='NSE', primaryExchange='NSE', currency='INR', localSymbol='SUNPHARMA', tradingClass='SUNPHARMA')\n",
      "ERROR:ib_insync.wrapper:Error 162, reqId 3008: Historical Market Data Service error message:Historical data request pacing violation, contract: Stock(conId=56989289, symbol='SUNTV', exchange='NSE', primaryExchange='NSE', currency='INR', localSymbol='SUNTV', tradingClass='SUNTV')\n",
      "ERROR:ib_insync.wrapper:Error 162, reqId 3009: Historical Market Data Service error message:Historical data request pacing violation, contract: Stock(conId=51687627, symbol='SUZLON', exchange='NSE', primaryExchange='NSE', currency='INR', localSymbol='SUZLON', tradingClass='SUZLON')\n",
      "ERROR:ib_insync.wrapper:Error 162, reqId 3010: Historical Market Data Service error message:Historical data request pacing violation, contract: Stock(conId=56989087, symbol='SYNDIBANK', exchange='NSE', primaryExchange='NSE', currency='INR', localSymbol='SYNDIBANK', tradingClass='SYNDIBANK')\n",
      "ERROR:ib_insync.wrapper:Error 162, reqId 3011: Historical Market Data Service error message:Historical data request pacing violation, contract: Stock(conId=56986895, symbol='TATACHEM', exchange='NSE', primaryExchange='NSE', currency='INR', localSymbol='TATACHEM', tradingClass='TATACHEM')\n"
     ]
    },
    {
     "name": "stderr",
     "output_type": "stream",
     "text": [
      "ERROR:ib_insync.wrapper:Error 162, reqId 3012: Historical Market Data Service error message:Historical data request pacing violation, contract: Stock(conId=44652159, symbol='TATACOMM', exchange='NSE', primaryExchange='NSE', currency='INR', localSymbol='TATACOMM', tradingClass='TATACOMM')\n",
      "ERROR:ib_insync.wrapper:Error 162, reqId 3013: Historical Market Data Service error message:Historical data request pacing violation, contract: Stock(conId=56985222, symbol='TATAELXSI', exchange='NSE', primaryExchange='NSE', currency='INR', localSymbol='TATAELXSI', tradingClass='TATAELXSI')\n",
      "ERROR:ib_insync.wrapper:Error 162, reqId 3014: Historical Market Data Service error message:Historical data request pacing violation, contract: Stock(conId=76814483, symbol='TATAGLOBA', exchange='NSE', primaryExchange='NSE', currency='INR', localSymbol='TATAGLOBAL', tradingClass='TATAGLOBA')\n",
      "ERROR:ib_insync.wrapper:Error 162, reqId 3015: Historical Market Data Service error message:Historical data request pacing violation, contract: Stock(conId=94127580, symbol='TATAMOTOR', exchange='NSE', primaryExchange='NSE', currency='INR', localSymbol='TATAMOTORS', tradingClass='TATAMOTOR')\n",
      "ERROR:ib_insync.wrapper:Error 162, reqId 3016: Historical Market Data Service error message:Historical data request pacing violation, contract: Stock(conId=94127589, symbol='TATAMTRDV', exchange='NSE', primaryExchange='NSE', currency='INR', localSymbol='TATAMTRDVR', tradingClass='TATAMTRDV')\n",
      "ERROR:ib_insync.wrapper:Error 162, reqId 3017: Historical Market Data Service error message:Historical data request pacing violation, contract: Stock(conId=95168502, symbol='TATAPOWER', exchange='NSE', primaryExchange='NSE', currency='INR', localSymbol='TATAPOWER', tradingClass='TATAPOWER')\n",
      "ERROR:ib_insync.wrapper:Error 162, reqId 3018: Historical Market Data Service error message:Historical data request pacing violation, contract: Stock(conId=44652069, symbol='TATASTEEL', exchange='NSE', primaryExchange='NSE', currency='INR', localSymbol='TATASTEEL', tradingClass='TATASTEEL')\n",
      "ERROR:ib_insync.wrapper:Error 162, reqId 3019: Historical Market Data Service error message:Historical data request pacing violation, contract: Stock(conId=44652015, symbol='TCS', exchange='NSE', primaryExchange='NSE', currency='INR', localSymbol='TCS', tradingClass='TCS')\n",
      "ERROR:ib_insync.wrapper:Error 162, reqId 3020: Historical Market Data Service error message:Historical data request pacing violation, contract: Stock(conId=187395599, symbol='TECHM', exchange='NSE', primaryExchange='NSE', currency='INR', localSymbol='TECHM', tradingClass='TECHM')\n",
      "ERROR:ib_insync.wrapper:Error 162, reqId 3021: Historical Market Data Service error message:Historical data request pacing violation, contract: Stock(conId=90181242, symbol='TITAN', exchange='NSE', primaryExchange='NSE', currency='INR', localSymbol='TITAN', tradingClass='TITAN')\n",
      "ERROR:ib_insync.wrapper:Error 162, reqId 3022: Historical Market Data Service error message:Historical data request pacing violation, contract: Stock(conId=56986878, symbol='TORNTPHAR', exchange='NSE', primaryExchange='NSE', currency='INR', localSymbol='TORNTPHARM', tradingClass='TORNTPHAR')\n",
      "ERROR:ib_insync.wrapper:Error 162, reqId 3023: Historical Market Data Service error message:Historical data request pacing violation, contract: Stock(conId=56986853, symbol='TORNTPOWE', exchange='NSE', primaryExchange='NSE', currency='INR', localSymbol='TORNTPOWER', tradingClass='TORNTPOWE')\n",
      "ERROR:ib_insync.wrapper:Error 162, reqId 3024: Historical Market Data Service error message:Historical data request pacing violation, contract: Stock(conId=56985560, symbol='TV18BRDCS', exchange='NSE', primaryExchange='NSE', currency='INR', localSymbol='TV18BRDCST', tradingClass='TV18BRDCS')\n",
      "ERROR:ib_insync.wrapper:Error 162, reqId 3025: Historical Market Data Service error message:Historical data request pacing violation, contract: Stock(conId=56986838, symbol='TVSMOTOR', exchange='NSE', primaryExchange='NSE', currency='INR', localSymbol='TVSMOTOR', tradingClass='TVSMOTOR')\n",
      "ERROR:ib_insync.wrapper:Error 162, reqId 3026: Historical Market Data Service error message:Historical data request pacing violation, contract: Stock(conId=56983324, symbol='UBL', exchange='NSE', primaryExchange='NSE', currency='INR', localSymbol='UBL', tradingClass='UBL')\n",
      "ERROR:ib_insync.wrapper:Error 162, reqId 3027: Historical Market Data Service error message:Historical data request pacing violation, contract: Stock(conId=233076295, symbol='UJJIVAN', exchange='NSE', primaryExchange='NSE', currency='INR', localSymbol='UJJIVAN', tradingClass='UJJIVAN')\n",
      "ERROR:ib_insync.wrapper:Error 162, reqId 3028: Historical Market Data Service error message:Historical data request pacing violation, contract: Stock(conId=56983383, symbol='ULTRACEMC', exchange='NSE', primaryExchange='NSE', currency='INR', localSymbol='ULTRACEMCO', tradingClass='ULTRACEMC')\n",
      "ERROR:ib_insync.wrapper:Error 162, reqId 3029: Historical Market Data Service error message:Historical data request pacing violation, contract: Stock(conId=56983358, symbol='UNIONBANK', exchange='NSE', primaryExchange='NSE', currency='INR', localSymbol='UNIONBANK', tradingClass='UNIONBANK')\n",
      "ERROR:ib_insync.wrapper:Error 162, reqId 3030: Historical Market Data Service error message:Historical data request pacing violation, contract: Stock(conId=56983369, symbol='UPL', exchange='NSE', primaryExchange='NSE', currency='INR', localSymbol='UPL', tradingClass='UPL')\n",
      "ERROR:ib_insync.wrapper:Error 162, reqId 3031: Historical Market Data Service error message:Historical data request pacing violation, contract: Stock(conId=56988951, symbol='VEDL', exchange='NSE', primaryExchange='NSE', currency='INR', localSymbol='VEDL', tradingClass='VEDL')\n",
      "ERROR:ib_insync.wrapper:Error 162, reqId 3032: Historical Market Data Service error message:Historical data request pacing violation, contract: Stock(conId=245502600, symbol='VGUARD', exchange='NSE', primaryExchange='NSE', currency='INR', localSymbol='VGUARD', tradingClass='VGUARD')\n",
      "ERROR:ib_insync.wrapper:Error 162, reqId 3033: Historical Market Data Service error message:Historical data request pacing violation, contract: Stock(conId=56983785, symbol='VOLTAS', exchange='NSE', primaryExchange='NSE', currency='INR', localSymbol='VOLTAS', tradingClass='VOLTAS')\n",
      "ERROR:ib_insync.wrapper:Error 162, reqId 3034: Historical Market Data Service error message:Historical data request pacing violation, contract: Stock(conId=44652030, symbol='WIPRO', exchange='NSE', primaryExchange='NSE', currency='INR', localSymbol='WIPRO', tradingClass='WIPRO')\n",
      "ERROR:ib_insync.wrapper:Error 162, reqId 3035: Historical Market Data Service error message:Historical data request pacing violation, contract: Stock(conId=56983303, symbol='WOCKPHARM', exchange='NSE', primaryExchange='NSE', currency='INR', localSymbol='WOCKPHARMA', tradingClass='WOCKPHARM')\n",
      "ERROR:ib_insync.wrapper:Error 162, reqId 3036: Historical Market Data Service error message:Historical data request pacing violation, contract: Stock(conId=289165584, symbol='YESBANK', exchange='NSE', primaryExchange='NSE', currency='INR', localSymbol='YESBANK', tradingClass='YESBANK')\n",
      "ERROR:ib_insync.wrapper:Error 162, reqId 3037: Historical Market Data Service error message:Historical data request pacing violation, contract: Stock(conId=44652165, symbol='ZEEL', exchange='NSE', primaryExchange='NSE', currency='INR', localSymbol='ZEEL', tradingClass='ZEEL')\n",
      "ERROR:ib_insync.wrapper:Error 162, reqId 3038: Historical Market Data Service error message:Historical data request pacing violation, contract: Index(conId=56994300, symbol='BANKNIFTY', exchange='NSE', currency='INR', localSymbol='BANKNIFTY')\n",
      "ERROR:ib_insync.wrapper:Error 162, reqId 3039: Historical Market Data Service error message:Historical data request pacing violation, contract: Index(conId=51497778, symbol='NIFTY50', exchange='NSE', currency='INR', localSymbol='NIFTY50')\n",
      "ERROR:ib_insync.wrapper:Error 162, reqId 3040: Historical Market Data Service error message:Historical data request pacing violation, contract: Index(conId=74820202, symbol='USDINR', exchange='NSE', currency='INR', localSymbol='USDINR')\n"
     ]
    }
   ],
   "source": [
    "blk = 25\n",
    "optprice = [utils.getprice(contract=c, ib=ib) \n",
    "for i in range(0, len(contracts), blk) \n",
    "for c in contracts[i:i+blk]]"
   ]
  },
  {
   "cell_type": "code",
   "execution_count": null,
   "metadata": {},
   "outputs": [],
   "source": [
    "\n",
    "for i in range(0, len(contracts), blk):\n",
    "    for c in contracts[i:i+blk]:\n",
    "        print(utils.getprice(contract=c, ib=ib))\n",
    "        ib.sleep(0.1)"
   ]
  },
  {
   "cell_type": "code",
   "execution_count": null,
   "metadata": {},
   "outputs": [],
   "source": [
    "utils.getprice(contract=contracts[25], ib=ib)"
   ]
  },
  {
   "cell_type": "code",
   "execution_count": null,
   "metadata": {},
   "outputs": [],
   "source": [
    "ib.disconnect()"
   ]
  },
  {
   "cell_type": "code",
   "execution_count": null,
   "metadata": {},
   "outputs": [],
   "source": [
    "df_q.contract.apply(get_price)"
   ]
  },
  {
   "cell_type": "code",
   "execution_count": null,
   "metadata": {},
   "outputs": [],
   "source": [
    "#***   Error catching for list comprehension ***\n",
    "import numpy as np\n",
    "def catch(func, handle=lambda e : e, *args, **kwargs):\n",
    "    '''List comprehension error catcher'''\n",
    "    try:\n",
    "        return func(*args, **kwargs)\n",
    "    except Exception as e:\n",
    "        np.nan\n",
    "df_q['closeprice'] = [catch(lambda: getprice(c)) for c in df_q.contract]"
   ]
  },
  {
   "cell_type": "code",
   "execution_count": null,
   "metadata": {},
   "outputs": [],
   "source": [
    "get_price(df_q.contract[3])"
   ]
  },
  {
   "cell_type": "code",
   "execution_count": null,
   "metadata": {},
   "outputs": [],
   "source": [
    "df_q['closeprice'] = [get_price(c) for c in df_q.contract]"
   ]
  },
  {
   "cell_type": "code",
   "execution_count": null,
   "metadata": {},
   "outputs": [],
   "source": [
    "# ***** Get list with Mlots + Margin% from 5paisa\n",
    "paisaurl = \"https://www.5paisa.com/5pit/spma.asp\"\n",
    "df_paisa = pd.read_html(paisaurl, header=0)[1].drop_duplicates(subset='Symbol')\n",
    "\n",
    "df_paisa1 = df_paisa[['Symbol', 'Mlot', 'TotMgn%']].sort_values('Symbol').reset_index(drop=True)\n",
    "\n",
    "# Rename Symbol and Margin fields\n",
    "df_paisa1 = df_paisa1.rename(columns={'Symbol': 'nseSymbol', 'TotMgn%': 'marginpct'})\n",
    "\n",
    "# Convert columns to numeric and make margin to pct\n",
    "df_paisa1 = df_paisa1.apply(pd.to_numeric, errors='ignore')\n",
    "df_paisa1.marginpct = df_paisa1.marginpct.div(100)"
   ]
  },
  {
   "cell_type": "code",
   "execution_count": null,
   "metadata": {},
   "outputs": [],
   "source": [
    "#***    make option chains and qualify   ***\n",
    "chains = {s: ib.reqSecDefOptParams(s.symbol, '', s.secType, s.conId) for s in symbols}\n",
    "chains\n",
    "\n",
    "df_und = util.df(chains) # dataframe of underlying chains\n",
    "\n",
    "tup_chains = [([k.symbol], tuple(i.expirations), tuple(i.strikes), ['P']) \n",
    " for k, v in chains.items() \n",
    " for i in v]\n",
    "\n",
    "# create options without USDINR scrip\n",
    "options = [Option(p[0], p[1], p[2], p[3], 'NSE') \n",
    "           for tup in tup_chains\n",
    "           for p in product(*tup)]\n",
    "\n",
    "# qualify the options\n",
    "nse_qo = [t for i in range(0, len(options), 25) for t in ib.qualifyContracts(*options[i: i+25])]\n",
    "\n",
    "df_qo = util.df(nse_qo) # dataframe for qualified options"
   ]
  },
  {
   "cell_type": "code",
   "execution_count": null,
   "metadata": {},
   "outputs": [],
   "source": []
  },
  {
   "cell_type": "code",
   "execution_count": null,
   "metadata": {},
   "outputs": [],
   "source": []
  },
  {
   "cell_type": "code",
   "execution_count": null,
   "metadata": {},
   "outputs": [],
   "source": [
    "contract = nse_qo[0]\n",
    "order = Order(action='SELL', orderType='MKT', totalQuantity=20)\n",
    "ib.whatIfOrder(contract, order)"
   ]
  },
  {
   "cell_type": "code",
   "execution_count": null,
   "metadata": {},
   "outputs": [],
   "source": [
    "ib.reqSecDefOptParams(futFopExchange='NSE', underlyingConId=337009725, underlyingSecType='IND', underlyingSymbol = 'BANKNIFTY')"
   ]
  },
  {
   "cell_type": "code",
   "execution_count": null,
   "metadata": {},
   "outputs": [],
   "source": [
    "ib.disconnect()"
   ]
  },
  {
   "cell_type": "markdown",
   "metadata": {},
   "source": [
    "# To-do\n",
    "* something is wrong in the qual_options. Fix it.\n",
    "* integration with standard deviation\n",
    "* remove unnecessary options (Put)\n",
    "* integration with black scholes\n",
    "* integration with lot and margin\n",
    "* generate orders\n",
    "* place orders (what-if) to check margins (duplicate)\n",
    "* check latest prices\n",
    "* screen most valueable RoM and PoP\n",
    "* place orders"
   ]
  },
  {
   "cell_type": "code",
   "execution_count": null,
   "metadata": {},
   "outputs": [],
   "source": []
  }
 ],
 "metadata": {
  "kernelspec": {
   "display_name": "Python 3",
   "language": "python",
   "name": "python3"
  },
  "language_info": {
   "codemirror_mode": {
    "name": "ipython",
    "version": 3
   },
   "file_extension": ".py",
   "mimetype": "text/x-python",
   "name": "python",
   "nbconvert_exporter": "python",
   "pygments_lexer": "ipython3",
   "version": "3.6.6"
  }
 },
 "nbformat": 4,
 "nbformat_minor": 2
}
