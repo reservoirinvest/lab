{
 "cells": [
  {
   "cell_type": "code",
   "execution_count": 2,
   "metadata": {},
   "outputs": [
    {
     "name": "stdout",
     "output_type": "stream",
     "text": [
      "Wall time: 18min 11s\n"
     ]
    }
   ],
   "source": [
    "%%time\n",
    "\n",
    "# Expiry, symbol and option info extracted from NSE and pickled\n",
    "# Takes 4 minutes\n",
    "\n",
    "# STATUS: Complete\n",
    "\n",
    "import requests\n",
    "import lxml.html as lh\n",
    "import datetime as dt\n",
    "import pandas as pd\n",
    "import numpy as np\n",
    "import csv\n",
    "import os\n",
    "\n",
    "#******         Paths and variables         ****\n",
    "#_______________________________________________\n",
    "\n",
    "datapath = r'./zdata/'\n",
    "\n",
    "#******   Error catch in list comprehension  ****\n",
    "#________________________________________________\n",
    "\n",
    "def catch(func, handle=lambda e : e, *args, **kwargs):\n",
    "    '''List comprehension error catcher'''\n",
    "    try:\n",
    "        return func(*args, **kwargs)\n",
    "    except Exception as e:\n",
    "        pass\n",
    "\n",
    "#******               Symbols list          ****\n",
    "#________________________________________________\n",
    "eq_symbols = list(pd.read_pickle(datapath+'df_nse_eq_symbols.pkl').localSymbol.values)\n",
    "\n",
    "idx_symbols = list(pd.read_pickle(datapath+'df_nse_idx_symbols.pkl').localSymbol.values)\n",
    "\n",
    "symbols = eq_symbols + idx_symbols\n",
    "\n",
    "#****         Get Options and Expiries      ****\n",
    "#_______________________________________________\n",
    "\n",
    "# generic url for equity and index options\n",
    "url_base = \"https://nseindia.com/live_market/dynaContent/live_watch/option_chain/optionKeys.jsp?symbol=\"\n",
    "url_end = '&date='\n",
    "\n",
    "def get_opt_data(symbol):\n",
    "    '''Gets the options data\n",
    "    Arg: (symbol) as str\n",
    "    Returns: scraped dataframe'''\n",
    "    \n",
    "#     symbol = 'NIFTY'\n",
    "    url = url_base + symbol\n",
    "    \n",
    "    while_flag = True   # Flag to loop over expiries for a symbol\n",
    "    while_counter = 0   # Counter for expiry\n",
    "    expiry = ''         # Initialize expiry for first run\n",
    "    df = pd.DataFrame() # Initialize return dataframe\n",
    "\n",
    "    while while_flag:\n",
    "\n",
    "        # If it is not first run, append next expiry\n",
    "        if expiry != '':  # This is not the first run\n",
    "            try:\n",
    "                expiry = expiry[while_counter]\n",
    "                url = url_base+symbol+url_end+expiry  # Check to see if this works\n",
    "            except IndexError:\n",
    "                while_flag = True   # Get out of the while loop\n",
    "                break\n",
    "\n",
    "        # Get raw data from the url\n",
    "        page = requests.get(url)\n",
    "        doc = lh.fromstring(page.content)\n",
    "\n",
    "        #...    Get the Expiries ...#\n",
    "        #............................\n",
    "\n",
    "        the_path= \"//form\"   # Get the form content. There are two forms\n",
    "        expiries = doc.xpath(the_path)[0].text_content()\n",
    "        strip_chars = [ord('\\n'), ord('\\xa0'), ord('\\t'), ord('\\r')] # characters to be stripped\n",
    "        char_table = {s: ' ' for s in strip_chars} # table for translate to locate the chars\n",
    "\n",
    "        sym_exp = expiries.translate(char_table).split() # split converts the translated dict into list\n",
    "\n",
    "        # Get the expiries only, from the table\n",
    "        expiry = [sym_exp[k+i] \n",
    "         for k, v in enumerate(sym_exp) \n",
    "         if v in 'Select' \n",
    "         for i in range(len(sym_exp) - k)][1:]\n",
    "\n",
    "        # Convert expiry to datetime\n",
    "        expiry_dt = [dt.datetime.strptime(date, \"%d%b%Y\").date() for date in expiry]\n",
    "\n",
    "        #...   Get the Options Data .... #\n",
    "        #.................................\n",
    "\n",
    "        tbl_path = \"//*[@id='octable']\"  # xpath for the table\n",
    "\n",
    "        # The headers\n",
    "        opt_head = ['cOI', 'cChnginOI', 'cVolume', 'cIV', 'cLTP', \n",
    "                    'cNetChng', 'cBidQty', 'cBidPrice', 'cAskPrice', 'cAskQty', 'Strike', \n",
    "                    'pBidQty', 'pBidPrice', 'pAskPrice', 'pAskQty', 'pNetChng', 'pLTP', \n",
    "                    'pIV', 'pVolume', 'pChnginOI', 'pOI']\n",
    "\n",
    "#         # Extract the rows within the header in the table\n",
    "#         opt_data = [[tr.text_content().strip() \n",
    "#                     for table in doc.xpath(tbl_path)] \n",
    "#                     for th in table.xpath('//thead') \n",
    "#                     for tr in th.xpath('//tr')][5:]  # First 5 rows are junk\n",
    "\n",
    "#         df1 = pd.DataFrame(data=[a.translate(char_table).split() \n",
    "#                                     for d in opt_data for a in d], columns=opt_head)\n",
    "\n",
    "        opt_data = [tr.text_content() for table in doc.xpath(tbl_path) for tr in table[1:]]\n",
    "\n",
    "        df1 = pd.DataFrame([d.split() for d in opt_data], columns=opt_head)\n",
    "\n",
    "        df2 = df1.replace(',', '', regex=True) # Remove comma from numbers\n",
    "        df2 = df2.apply(pd.to_numeric, errors='coerce') # Convert to numeric\n",
    "        df2.insert(0, 'Expiry', expiry_dt[while_counter]) # Insert the Expiry column\n",
    "        df2.insert(0, 'Symbol', symbol) # Insert the Symbol\n",
    "\n",
    "        # Rearrange the columns\n",
    "        cols_beginning = ['Symbol', 'Expiry', 'Strike']\n",
    "        df2 = df2[cols_beginning + [c for c in df2 if c not in cols_beginning]]\n",
    "        while_counter = while_counter + 1\n",
    "        df = df.append(df2)\n",
    "        return df\n",
    "\n",
    "# %%time\n",
    "nse_options = [catch(lambda: get_opt_data(symbol)) for symbol in symbols]\n",
    "\n",
    "df_options = pd.concat(nse_options).reset_index(drop=True)\n",
    "\n",
    "#****        Closing tasks     ****\n",
    "#___________________________________\n",
    "\n",
    "# write to pickle file - for the next program   \n",
    "df_options.to_pickle('./zdata/df_nse_options.pkl')   # Pickle the dataframe for later use"
   ]
  },
  {
   "cell_type": "code",
   "execution_count": 3,
   "metadata": {},
   "outputs": [
    {
     "data": {
      "text/plain": [
       "199"
      ]
     },
     "execution_count": 3,
     "metadata": {},
     "output_type": "execute_result"
    }
   ],
   "source": [
    "len(df_options.Symbol.unique())"
   ]
  },
  {
   "cell_type": "code",
   "execution_count": 4,
   "metadata": {},
   "outputs": [
    {
     "data": {
      "text/plain": [
       "6861"
      ]
     },
     "execution_count": 4,
     "metadata": {},
     "output_type": "execute_result"
    }
   ],
   "source": [
    "len(df_options)"
   ]
  },
  {
   "cell_type": "code",
   "execution_count": null,
   "metadata": {},
   "outputs": [],
   "source": []
  }
 ],
 "metadata": {
  "kernelspec": {
   "display_name": "Python 3",
   "language": "python",
   "name": "python3"
  },
  "language_info": {
   "codemirror_mode": {
    "name": "ipython",
    "version": 3
   },
   "file_extension": ".py",
   "mimetype": "text/x-python",
   "name": "python",
   "nbconvert_exporter": "python",
   "pygments_lexer": "ipython3",
   "version": "3.5.6"
  }
 },
 "nbformat": 4,
 "nbformat_minor": 2
}
