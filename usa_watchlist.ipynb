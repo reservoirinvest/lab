{
 "cells": [
  {
   "cell_type": "code",
   "execution_count": 1,
   "metadata": {},
   "outputs": [],
   "source": [
    "# Start IBKR\n",
    "from ib_insync import *\n",
    "util.startLoop()\n",
    "ib = IB().connect('127.0.0.1', 7497, clientId=3) # rkv tws live\n",
    "\n",
    "import pandas as pd\n",
    "\n",
    "datapath = './zdata/'\n",
    "desktop = 'C:/Users/User/Desktop/'\n",
    "cols = ['des', 'ibSymbol', 'type', 'exchange']\n",
    "\n",
    "# Get the positions\n",
    "positions = ib.positions()\n",
    "pos_symbols = [p.contract.symbol for p in positions]\n",
    "\n",
    "# Get the targets\n",
    "targets = pd.read_csv(datapath+'us_targets.csv', header=None)\n",
    "targets.columns = cols\n",
    "\n",
    "# Eliminate pos_symbols from targets\n",
    "df = targets[~targets.ibSymbol.isin(pos_symbols)]\n",
    "\n",
    "# make the csv for watchlist\n",
    "df.to_csv(desktop+'us_watchlist.csv', header=None, index=None)\n",
    "\n",
    "# disconnect\n",
    "ib.disconnect()"
   ]
  },
  {
   "cell_type": "code",
   "execution_count": null,
   "metadata": {},
   "outputs": [],
   "source": []
  }
 ],
 "metadata": {
  "kernelspec": {
   "display_name": "Python 3",
   "language": "python",
   "name": "python3"
  },
  "language_info": {
   "codemirror_mode": {
    "name": "ipython",
    "version": 3
   },
   "file_extension": ".py",
   "mimetype": "text/x-python",
   "name": "python",
   "nbconvert_exporter": "python",
   "pygments_lexer": "ipython3",
   "version": "3.6.6"
  }
 },
 "nbformat": 4,
 "nbformat_minor": 2
}
